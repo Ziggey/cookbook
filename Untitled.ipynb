{
 "cells": [
  {
   "cell_type": "code",
   "execution_count": 1,
   "metadata": {},
   "outputs": [],
   "source": [
    "from odapi.connectors import Irceline"
   ]
  },
  {
   "cell_type": "code",
   "execution_count": 2,
   "metadata": {},
   "outputs": [
    {
     "name": "stderr",
     "output_type": "stream",
     "text": [
      "2020-06-26 11:27:53,620\todapi             \tgeneric     \tload        \tDEBUG \tLoad Settings C:\\Users\\jlanderc\\Anaconda3\\lib\\site-packages\\odapi-0.1.0-py3.7.egg\\odapi\\connectors\\opendata\\resources\\irceline.json\n"
     ]
    }
   ],
   "source": [
    "c = Irceline()"
   ]
  },
  {
   "cell_type": "code",
   "execution_count": 10,
   "metadata": {},
   "outputs": [
    {
     "name": "stderr",
     "output_type": "stream",
     "text": [
      "2020-06-26 11:30:31,305\todapi             \tapi         \tselect      \tDEBUG \tSelection Keys: {'measurekey': 'T$', 'sitekey': '41R001'}\n",
      "2020-06-26 11:30:31,318\todapi             \tapi         \tselect      \tDEBUG \tSelected 1 row(s): {'99917'}\n"
     ]
    }
   ],
   "source": [
    "s = c.select(measurekey='T$', sitekey='41R001')"
   ]
  },
  {
   "cell_type": "code",
   "execution_count": 11,
   "metadata": {},
   "outputs": [
    {
     "name": "stderr",
     "output_type": "stream",
     "text": [
      "2020-06-26 11:30:31,672\todapi             \ttimeseries  \tprepare_parameters\tDEBUG \tPARAM: {'identifiers': {'99917'}, 'stop': Timestamp('2020-06-26 09:30:00+0000', tz='UTC'), 'start': Timestamp('2020-06-12 09:30:00+0000', tz='UTC'), 'timerange': DatetimeIndex(['2020-06-12 09:30:00+00:00', '2020-06-12 00:00:00+00:00',\n",
      "               '2020-06-13 00:00:00+00:00', '2020-06-14 00:00:00+00:00',\n",
      "               '2020-06-15 00:00:00+00:00', '2020-06-16 00:00:00+00:00',\n",
      "               '2020-06-17 00:00:00+00:00', '2020-06-18 00:00:00+00:00',\n",
      "               '2020-06-19 00:00:00+00:00', '2020-06-20 00:00:00+00:00',\n",
      "               '2020-06-21 00:00:00+00:00', '2020-06-22 00:00:00+00:00',\n",
      "               '2020-06-23 00:00:00+00:00', '2020-06-24 00:00:00+00:00',\n",
      "               '2020-06-25 00:00:00+00:00', '2020-06-26 09:30:00+00:00'],\n",
      "              dtype='datetime64[ns, UTC]', freq=None)}\n",
      "2020-06-26 11:30:31,675\todapi             \ttimeseries  \tprepare_parameters\tDEBUG \tPARAM: {'identifiers': {'99917'}, 'stop': Timestamp('2020-06-26 09:30:00+0000', tz='UTC'), 'start': Timestamp('2020-06-12 10:30:00+0000', tz='UTC'), 'timerange': DatetimeIndex(['2020-06-12 10:30:00+00:00', '2020-06-26 09:30:00+00:00'], dtype='datetime64[ns, UTC]', freq=None)}\n",
      "2020-06-26 11:30:31,758\todapi             \tirceline    \tfetch       \tDEBUG \tGET [200]: http://geo.irceline.be/sos/api/v1/timeseries/99917/getData/?timespan=2020-06-12T10:30Z/2020-06-26T09:30Z&force_latest_values=true\n",
      "2020-06-26 11:30:31,770\todapi             \tirceline    \tget_records \tDEBUG \tFRAME: 335 record(s) fetched\n"
     ]
    },
    {
     "data": {
      "text/html": [
       "<div>\n",
       "<style scoped>\n",
       "    .dataframe tbody tr th:only-of-type {\n",
       "        vertical-align: middle;\n",
       "    }\n",
       "\n",
       "    .dataframe tbody tr th {\n",
       "        vertical-align: top;\n",
       "    }\n",
       "\n",
       "    .dataframe thead th {\n",
       "        text-align: right;\n",
       "    }\n",
       "</style>\n",
       "<table border=\"1\" class=\"dataframe\">\n",
       "  <thead>\n",
       "    <tr style=\"text-align: right;\">\n",
       "      <th></th>\n",
       "      <th>serieid</th>\n",
       "      <th>start</th>\n",
       "      <th>stop</th>\n",
       "      <th>value</th>\n",
       "    </tr>\n",
       "  </thead>\n",
       "  <tbody>\n",
       "    <tr>\n",
       "      <th>0</th>\n",
       "      <td>99917</td>\n",
       "      <td>2020-06-12 10:00:00+00:00</td>\n",
       "      <td>2020-06-12 11:00:00+00:00</td>\n",
       "      <td>21.70</td>\n",
       "    </tr>\n",
       "    <tr>\n",
       "      <th>1</th>\n",
       "      <td>99917</td>\n",
       "      <td>2020-06-12 11:00:00+00:00</td>\n",
       "      <td>2020-06-12 12:00:00+00:00</td>\n",
       "      <td>22.40</td>\n",
       "    </tr>\n",
       "    <tr>\n",
       "      <th>2</th>\n",
       "      <td>99917</td>\n",
       "      <td>2020-06-12 12:00:00+00:00</td>\n",
       "      <td>2020-06-12 13:00:00+00:00</td>\n",
       "      <td>22.20</td>\n",
       "    </tr>\n",
       "    <tr>\n",
       "      <th>3</th>\n",
       "      <td>99917</td>\n",
       "      <td>2020-06-12 13:00:00+00:00</td>\n",
       "      <td>2020-06-12 14:00:00+00:00</td>\n",
       "      <td>22.80</td>\n",
       "    </tr>\n",
       "    <tr>\n",
       "      <th>4</th>\n",
       "      <td>99917</td>\n",
       "      <td>2020-06-12 14:00:00+00:00</td>\n",
       "      <td>2020-06-12 15:00:00+00:00</td>\n",
       "      <td>21.80</td>\n",
       "    </tr>\n",
       "    <tr>\n",
       "      <th>...</th>\n",
       "      <td>...</td>\n",
       "      <td>...</td>\n",
       "      <td>...</td>\n",
       "      <td>...</td>\n",
       "    </tr>\n",
       "    <tr>\n",
       "      <th>330</th>\n",
       "      <td>99917</td>\n",
       "      <td>2020-06-26 04:00:00+00:00</td>\n",
       "      <td>2020-06-26 05:00:00+00:00</td>\n",
       "      <td>21.25</td>\n",
       "    </tr>\n",
       "    <tr>\n",
       "      <th>331</th>\n",
       "      <td>99917</td>\n",
       "      <td>2020-06-26 05:00:00+00:00</td>\n",
       "      <td>2020-06-26 06:00:00+00:00</td>\n",
       "      <td>22.25</td>\n",
       "    </tr>\n",
       "    <tr>\n",
       "      <th>332</th>\n",
       "      <td>99917</td>\n",
       "      <td>2020-06-26 06:00:00+00:00</td>\n",
       "      <td>2020-06-26 07:00:00+00:00</td>\n",
       "      <td>23.55</td>\n",
       "    </tr>\n",
       "    <tr>\n",
       "      <th>333</th>\n",
       "      <td>99917</td>\n",
       "      <td>2020-06-26 07:00:00+00:00</td>\n",
       "      <td>2020-06-26 08:00:00+00:00</td>\n",
       "      <td>25.20</td>\n",
       "    </tr>\n",
       "    <tr>\n",
       "      <th>334</th>\n",
       "      <td>99917</td>\n",
       "      <td>2020-06-26 08:00:00+00:00</td>\n",
       "      <td>2020-06-26 09:00:00+00:00</td>\n",
       "      <td>26.70</td>\n",
       "    </tr>\n",
       "  </tbody>\n",
       "</table>\n",
       "<p>335 rows × 4 columns</p>\n",
       "</div>"
      ],
      "text/plain": [
       "    serieid                     start                      stop  value\n",
       "0     99917 2020-06-12 10:00:00+00:00 2020-06-12 11:00:00+00:00  21.70\n",
       "1     99917 2020-06-12 11:00:00+00:00 2020-06-12 12:00:00+00:00  22.40\n",
       "2     99917 2020-06-12 12:00:00+00:00 2020-06-12 13:00:00+00:00  22.20\n",
       "3     99917 2020-06-12 13:00:00+00:00 2020-06-12 14:00:00+00:00  22.80\n",
       "4     99917 2020-06-12 14:00:00+00:00 2020-06-12 15:00:00+00:00  21.80\n",
       "..      ...                       ...                       ...    ...\n",
       "330   99917 2020-06-26 04:00:00+00:00 2020-06-26 05:00:00+00:00  21.25\n",
       "331   99917 2020-06-26 05:00:00+00:00 2020-06-26 06:00:00+00:00  22.25\n",
       "332   99917 2020-06-26 06:00:00+00:00 2020-06-26 07:00:00+00:00  23.55\n",
       "333   99917 2020-06-26 07:00:00+00:00 2020-06-26 08:00:00+00:00  25.20\n",
       "334   99917 2020-06-26 08:00:00+00:00 2020-06-26 09:00:00+00:00  26.70\n",
       "\n",
       "[335 rows x 4 columns]"
      ]
     },
     "execution_count": 11,
     "metadata": {},
     "output_type": "execute_result"
    }
   ],
   "source": [
    "c.get_records(s)"
   ]
  },
  {
   "cell_type": "code",
   "execution_count": null,
   "metadata": {},
   "outputs": [],
   "source": []
  }
 ],
 "metadata": {
  "kernelspec": {
   "display_name": "Python 3",
   "language": "python",
   "name": "python3"
  },
  "language_info": {
   "codemirror_mode": {
    "name": "ipython",
    "version": 3
   },
   "file_extension": ".py",
   "mimetype": "text/x-python",
   "name": "python",
   "nbconvert_exporter": "python",
   "pygments_lexer": "ipython3",
   "version": "3.7.6"
  }
 },
 "nbformat": 4,
 "nbformat_minor": 4
}
