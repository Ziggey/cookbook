{
 "cells": [
  {
   "cell_type": "code",
   "execution_count": 1,
   "metadata": {},
   "outputs": [],
   "source": [
    "import pathlib\n",
    "import json"
   ]
  },
  {
   "cell_type": "code",
   "execution_count": 2,
   "metadata": {},
   "outputs": [],
   "source": [
    "import influxdb\n",
    "import pandas as pd\n",
    "import requests"
   ]
  },
  {
   "cell_type": "code",
   "execution_count": 3,
   "metadata": {},
   "outputs": [],
   "source": [
    "from odapi.connectors import Irceline\n",
    "from odapi.settings import settings\n",
    "settings.logger.setLevel(50)"
   ]
  },
  {
   "cell_type": "markdown",
   "metadata": {},
   "source": [
    "## Parameters"
   ]
  },
  {
   "cell_type": "code",
   "execution_count": 4,
   "metadata": {},
   "outputs": [
    {
     "data": {
      "text/plain": [
       "Timestamp('2020-06-25 00:00:00+0000', tz='UTC')"
      ]
     },
     "execution_count": 4,
     "metadata": {},
     "output_type": "execute_result"
    }
   ],
   "source": [
    "t1 = pd.Timestamp.utcnow().floor('1D')\n",
    "t1"
   ]
  },
  {
   "cell_type": "code",
   "execution_count": 5,
   "metadata": {},
   "outputs": [],
   "source": [
    "t0 = pd.Timestamp('2020-06-20 18:00:00', tz='CET').tz_convert('UTC')\n",
    "t0 = t1 - pd.Timedelta('1D')"
   ]
  },
  {
   "cell_type": "markdown",
   "metadata": {},
   "source": [
    "## SDS Benchmark"
   ]
  },
  {
   "cell_type": "code",
   "execution_count": 6,
   "metadata": {},
   "outputs": [],
   "source": [
    "with pathlib.Path('C:/Users/admin/udlog/grafana.json').open() as fh:\n",
    "    creds = json.load(fh)"
   ]
  },
  {
   "cell_type": "code",
   "execution_count": 7,
   "metadata": {},
   "outputs": [],
   "source": [
    "rep = requests.get(\"http://helena.lan:3000/api/annotations\", headers={'Authorization': 'Bearer ' + creds[\"token\"]})"
   ]
  },
  {
   "cell_type": "code",
   "execution_count": 8,
   "metadata": {},
   "outputs": [
    {
     "data": {
      "text/html": [
       "<div>\n",
       "<style scoped>\n",
       "    .dataframe tbody tr th:only-of-type {\n",
       "        vertical-align: middle;\n",
       "    }\n",
       "\n",
       "    .dataframe tbody tr th {\n",
       "        vertical-align: top;\n",
       "    }\n",
       "\n",
       "    .dataframe thead th {\n",
       "        text-align: right;\n",
       "    }\n",
       "</style>\n",
       "<table border=\"1\" class=\"dataframe\">\n",
       "  <thead>\n",
       "    <tr style=\"text-align: right;\">\n",
       "      <th></th>\n",
       "      <th>id</th>\n",
       "      <th>time</th>\n",
       "      <th>timeEnd</th>\n",
       "      <th>text</th>\n",
       "      <th>tags</th>\n",
       "      <th>login</th>\n",
       "      <th>data</th>\n",
       "    </tr>\n",
       "  </thead>\n",
       "  <tbody>\n",
       "    <tr>\n",
       "      <th>66</th>\n",
       "      <td>67</td>\n",
       "      <td>2020-06-23 18:39:54.706</td>\n",
       "      <td>2020-06-23 18:39:54.706</td>\n",
       "      <td>Smoking alot</td>\n",
       "      <td>[]</td>\n",
       "      <td>admin</td>\n",
       "      <td>{}</td>\n",
       "    </tr>\n",
       "    <tr>\n",
       "      <th>67</th>\n",
       "      <td>68</td>\n",
       "      <td>2020-06-25 08:40:08.845</td>\n",
       "      <td>2020-06-25 08:40:08.845</td>\n",
       "      <td>Cigarette</td>\n",
       "      <td>[]</td>\n",
       "      <td>admin</td>\n",
       "      <td>{}</td>\n",
       "    </tr>\n",
       "    <tr>\n",
       "      <th>68</th>\n",
       "      <td>69</td>\n",
       "      <td>2020-06-25 10:44:12.914</td>\n",
       "      <td>2020-06-25 10:44:12.914</td>\n",
       "      <td>Cigarette</td>\n",
       "      <td>[]</td>\n",
       "      <td>admin</td>\n",
       "      <td>{}</td>\n",
       "    </tr>\n",
       "    <tr>\n",
       "      <th>69</th>\n",
       "      <td>70</td>\n",
       "      <td>2020-06-25 11:27:03.831</td>\n",
       "      <td>2020-06-25 11:27:03.831</td>\n",
       "      <td>Cigratte</td>\n",
       "      <td>[]</td>\n",
       "      <td>admin</td>\n",
       "      <td>{}</td>\n",
       "    </tr>\n",
       "    <tr>\n",
       "      <th>70</th>\n",
       "      <td>71</td>\n",
       "      <td>2020-06-25 14:36:00.813</td>\n",
       "      <td>2020-06-25 14:36:00.813</td>\n",
       "      <td>Cigarette</td>\n",
       "      <td>[]</td>\n",
       "      <td>admin</td>\n",
       "      <td>{}</td>\n",
       "    </tr>\n",
       "  </tbody>\n",
       "</table>\n",
       "</div>"
      ],
      "text/plain": [
       "    id                    time                 timeEnd          text tags  \\\n",
       "66  67 2020-06-23 18:39:54.706 2020-06-23 18:39:54.706  Smoking alot   []   \n",
       "67  68 2020-06-25 08:40:08.845 2020-06-25 08:40:08.845     Cigarette   []   \n",
       "68  69 2020-06-25 10:44:12.914 2020-06-25 10:44:12.914     Cigarette   []   \n",
       "69  70 2020-06-25 11:27:03.831 2020-06-25 11:27:03.831      Cigratte   []   \n",
       "70  71 2020-06-25 14:36:00.813 2020-06-25 14:36:00.813     Cigarette   []   \n",
       "\n",
       "    login data  \n",
       "66  admin   {}  \n",
       "67  admin   {}  \n",
       "68  admin   {}  \n",
       "69  admin   {}  \n",
       "70  admin   {}  "
      ]
     },
     "execution_count": 8,
     "metadata": {},
     "output_type": "execute_result"
    }
   ],
   "source": [
    "annot = pd.DataFrame(rep.json())\n",
    "annot['time'] = pd.to_datetime(annot['time'], origin='unix', unit='ms')\n",
    "annot['timeEnd'] = pd.to_datetime(annot['time'], origin='unix', unit='ms')\n",
    "annot = annot[['id', 'time', 'timeEnd', 'text', 'tags', 'login', 'data']]\n",
    "annot.tail()"
   ]
  },
  {
   "cell_type": "code",
   "execution_count": 9,
   "metadata": {},
   "outputs": [],
   "source": [
    "annot.to_pickle('data/events.pickle')"
   ]
  },
  {
   "cell_type": "code",
   "execution_count": null,
   "metadata": {},
   "outputs": [],
   "source": []
  },
  {
   "cell_type": "markdown",
   "metadata": {},
   "source": [
    "## Raw Data"
   ]
  },
  {
   "cell_type": "code",
   "execution_count": 10,
   "metadata": {},
   "outputs": [],
   "source": [
    "with pathlib.Path('C:/Users/admin/udlog/influx.json').open() as fh:\n",
    "    data = json.load(fh)\n",
    "    data[\"timeout\"] = 60.0\n",
    "    client = influxdb.InfluxDBClient(**data)"
   ]
  },
  {
   "cell_type": "code",
   "execution_count": 11,
   "metadata": {},
   "outputs": [
    {
     "data": {
      "text/plain": [
       "'1.8.0'"
      ]
     },
     "execution_count": 11,
     "metadata": {},
     "output_type": "execute_result"
    }
   ],
   "source": [
    "client.ping()"
   ]
  },
  {
   "cell_type": "code",
   "execution_count": 12,
   "metadata": {},
   "outputs": [
    {
     "name": "stdout",
     "output_type": "stream",
     "text": [
      "\n",
      "SELECT mean(pm25) AS pm25, mean(pm10) AS pm10\n",
      "FROM \"home\"\n",
      "WHERE time >= '2020-06-24T00:00:00+00:00' AND time < '2020-06-25T00:00:00+00:00'\n",
      "GROUP BY time(1s)\n",
      "\n"
     ]
    }
   ],
   "source": [
    "query = \"\"\"\n",
    "SELECT mean(pm25) AS pm25, mean(pm10) AS pm10\n",
    "FROM \"home\"\n",
    "WHERE time >= '{start:}' AND time < '{stop:}'\n",
    "GROUP BY time(1s)\n",
    "\"\"\".format(start=t0.isoformat(), stop=t1.isoformat())\n",
    "print(query)"
   ]
  },
  {
   "cell_type": "code",
   "execution_count": 13,
   "metadata": {},
   "outputs": [],
   "source": [
    "r = client.query(query).raw['series'][0]"
   ]
  },
  {
   "cell_type": "code",
   "execution_count": 14,
   "metadata": {},
   "outputs": [
    {
     "data": {
      "text/html": [
       "<div>\n",
       "<style scoped>\n",
       "    .dataframe tbody tr th:only-of-type {\n",
       "        vertical-align: middle;\n",
       "    }\n",
       "\n",
       "    .dataframe tbody tr th {\n",
       "        vertical-align: top;\n",
       "    }\n",
       "\n",
       "    .dataframe thead tr th {\n",
       "        text-align: left;\n",
       "    }\n",
       "\n",
       "    .dataframe thead tr:last-of-type th {\n",
       "        text-align: right;\n",
       "    }\n",
       "</style>\n",
       "<table border=\"1\" class=\"dataframe\">\n",
       "  <thead>\n",
       "    <tr>\n",
       "      <th></th>\n",
       "      <th>PM-2.5</th>\n",
       "      <th>PM-10.0</th>\n",
       "    </tr>\n",
       "    <tr>\n",
       "      <th></th>\n",
       "      <th>Home</th>\n",
       "      <th>Home</th>\n",
       "    </tr>\n",
       "    <tr>\n",
       "      <th></th>\n",
       "      <th>1</th>\n",
       "      <th>2</th>\n",
       "    </tr>\n",
       "    <tr>\n",
       "      <th>time</th>\n",
       "      <th></th>\n",
       "      <th></th>\n",
       "    </tr>\n",
       "  </thead>\n",
       "  <tbody>\n",
       "    <tr>\n",
       "      <th>2020-06-24 23:59:55+00:00</th>\n",
       "      <td>2.4</td>\n",
       "      <td>4.9</td>\n",
       "    </tr>\n",
       "    <tr>\n",
       "      <th>2020-06-24 23:59:56+00:00</th>\n",
       "      <td>2.4</td>\n",
       "      <td>5.0</td>\n",
       "    </tr>\n",
       "    <tr>\n",
       "      <th>2020-06-24 23:59:57+00:00</th>\n",
       "      <td>2.4</td>\n",
       "      <td>5.0</td>\n",
       "    </tr>\n",
       "    <tr>\n",
       "      <th>2020-06-24 23:59:58+00:00</th>\n",
       "      <td>2.4</td>\n",
       "      <td>4.9</td>\n",
       "    </tr>\n",
       "    <tr>\n",
       "      <th>2020-06-24 23:59:59+00:00</th>\n",
       "      <td>2.4</td>\n",
       "      <td>4.6</td>\n",
       "    </tr>\n",
       "  </tbody>\n",
       "</table>\n",
       "</div>"
      ],
      "text/plain": [
       "                          PM-2.5 PM-10.0\n",
       "                            Home    Home\n",
       "                               1       2\n",
       "time                                    \n",
       "2020-06-24 23:59:55+00:00    2.4     4.9\n",
       "2020-06-24 23:59:56+00:00    2.4     5.0\n",
       "2020-06-24 23:59:57+00:00    2.4     5.0\n",
       "2020-06-24 23:59:58+00:00    2.4     4.9\n",
       "2020-06-24 23:59:59+00:00    2.4     4.6"
      ]
     },
     "execution_count": 14,
     "metadata": {},
     "output_type": "execute_result"
    }
   ],
   "source": [
    "dsds = pd.DataFrame(r['values'], columns=r['columns'])\n",
    "dsds['time'] = pd.to_datetime(dsds['time'])\n",
    "dsds = dsds.set_index('time')\n",
    "dsds.columns = pd.MultiIndex.from_tuples([('PM-2.5', 'Home', '1'), ('PM-10.0', 'Home', '2')])\n",
    "dsds.tail()"
   ]
  },
  {
   "cell_type": "code",
   "execution_count": 15,
   "metadata": {},
   "outputs": [
    {
     "data": {
      "text/plain": [
       "<matplotlib.axes._subplots.AxesSubplot at 0x1b337847e08>"
      ]
     },
     "execution_count": 15,
     "metadata": {},
     "output_type": "execute_result"
    },
    {
     "data": {
      "image/png": "[encoded data removed]",
      "text/plain": [
       "<Figure size 432x288 with 1 Axes>"
      ]
     },
     "metadata": {
      "needs_background": "light"
     },
     "output_type": "display_data"
    }
   ],
   "source": [
    "dsds.plot()"
   ]
  },
  {
   "cell_type": "code",
   "execution_count": 16,
   "metadata": {},
   "outputs": [],
   "source": [
    "dsds.to_pickle(\"data/sds_backup_{:%Y-%m-%d}_{:%Y-%m-%d}.pickle\".format(t0, t1))"
   ]
  },
  {
   "cell_type": "code",
   "execution_count": null,
   "metadata": {},
   "outputs": [],
   "source": []
  }
 ],
 "metadata": {
  "kernelspec": {
   "display_name": "Python 3",
   "language": "python",
   "name": "python3"
  },
  "language_info": {
   "codemirror_mode": {
    "name": "ipython",
    "version": 3
   },
   "file_extension": ".py",
   "mimetype": "text/x-python",
   "name": "python",
   "nbconvert_exporter": "python",
   "pygments_lexer": "ipython3",
   "version": "3.7.6"
  }
 },
 "nbformat": 4,
 "nbformat_minor": 4
}
