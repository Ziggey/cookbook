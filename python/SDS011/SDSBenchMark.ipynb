{
 "cells": [
  {
   "cell_type": "code",
   "execution_count": 1,
   "metadata": {},
   "outputs": [],
   "source": [
    "import pathlib\n",
    "import json\n",
    "import re"
   ]
  },
  {
   "cell_type": "code",
   "execution_count": 2,
   "metadata": {},
   "outputs": [],
   "source": [
    "import influxdb\n",
    "import pandas as pd\n",
    "import matplotlib.pyplot as plt"
   ]
  },
  {
   "cell_type": "code",
   "execution_count": 3,
   "metadata": {},
   "outputs": [],
   "source": [
    "from odapi.connectors import Irceline\n",
    "from odapi.settings import settings\n",
    "settings.logger.setLevel(50)"
   ]
  },
  {
   "cell_type": "markdown",
   "metadata": {},
   "source": [
    "## Parameters"
   ]
  },
  {
   "cell_type": "code",
   "execution_count": 4,
   "metadata": {},
   "outputs": [
    {
     "data": {
      "text/plain": [
       "Timestamp('2020-06-22 11:00:00+0000', tz='UTC')"
      ]
     },
     "execution_count": 4,
     "metadata": {},
     "output_type": "execute_result"
    }
   ],
   "source": [
    "t0 = pd.Timestamp('2020-06-22 13:00:00', tz='CET').tz_convert('UTC')\n",
    "t0"
   ]
  },
  {
   "cell_type": "code",
   "execution_count": 5,
   "metadata": {},
   "outputs": [
    {
     "data": {
      "text/plain": [
       "Timestamp('2020-06-29 14:18:21.459946+0000', tz='UTC')"
      ]
     },
     "execution_count": 5,
     "metadata": {},
     "output_type": "execute_result"
    }
   ],
   "source": [
    "t1 = pd.Timestamp.utcnow()\n",
    "t1"
   ]
  },
  {
   "cell_type": "markdown",
   "metadata": {},
   "source": [
    "## Irceline Reference"
   ]
  },
  {
   "cell_type": "code",
   "execution_count": 6,
   "metadata": {},
   "outputs": [],
   "source": [
    "cref = Irceline()"
   ]
  },
  {
   "cell_type": "code",
   "execution_count": 7,
   "metadata": {},
   "outputs": [],
   "source": [
    "sel = cref.select(sitekey='41', measurekey='PM')"
   ]
  },
  {
   "cell_type": "code",
   "execution_count": 8,
   "metadata": {},
   "outputs": [
    {
     "data": {
      "text/plain": [
       "(11, 25)"
      ]
     },
     "execution_count": 8,
     "metadata": {},
     "output_type": "execute_result"
    }
   ],
   "source": [
    "sel.shape"
   ]
  },
  {
   "cell_type": "code",
   "execution_count": 9,
   "metadata": {},
   "outputs": [],
   "source": [
    "recs = cref.get_records(sel, start=t0, stop=t1)"
   ]
  },
  {
   "cell_type": "code",
   "execution_count": 10,
   "metadata": {},
   "outputs": [],
   "source": [
    "dref = recs.merge(sel[['serieid', 'seriekey']]).pivot_table(index='start', columns='seriekey', values='value')"
   ]
  },
  {
   "cell_type": "code",
   "execution_count": 11,
   "metadata": {},
   "outputs": [
    {
     "data": {
      "text/html": [
       "<div>\n",
       "<style scoped>\n",
       "    .dataframe tbody tr th:only-of-type {\n",
       "        vertical-align: middle;\n",
       "    }\n",
       "\n",
       "    .dataframe tbody tr th {\n",
       "        vertical-align: top;\n",
       "    }\n",
       "\n",
       "    .dataframe thead th {\n",
       "        text-align: right;\n",
       "    }\n",
       "</style>\n",
       "<table border=\"1\" class=\"dataframe\">\n",
       "  <thead>\n",
       "    <tr style=\"text-align: right;\">\n",
       "      <th>seriekey</th>\n",
       "      <th>PM-10.0/41B011 (µg/m³)</th>\n",
       "      <th>PM-10.0/41MEU1 (µg/m³)</th>\n",
       "      <th>PM-10.0/41N043 (µg/m³)</th>\n",
       "      <th>PM-10.0/41R001 (µg/m³)</th>\n",
       "      <th>PM-10.0/41R012 (µg/m³)</th>\n",
       "      <th>PM-10.0/41WOL1 (µg/m³)</th>\n",
       "      <th>PM-2.5/41B011 (µg/m³)</th>\n",
       "      <th>PM-2.5/41MEU1 (µg/m³)</th>\n",
       "      <th>PM-2.5/41N043 (µg/m³)</th>\n",
       "      <th>PM-2.5/41R001 (µg/m³)</th>\n",
       "      <th>PM-2.5/41R012 (µg/m³)</th>\n",
       "    </tr>\n",
       "    <tr>\n",
       "      <th>start</th>\n",
       "      <th></th>\n",
       "      <th></th>\n",
       "      <th></th>\n",
       "      <th></th>\n",
       "      <th></th>\n",
       "      <th></th>\n",
       "      <th></th>\n",
       "      <th></th>\n",
       "      <th></th>\n",
       "      <th></th>\n",
       "      <th></th>\n",
       "    </tr>\n",
       "  </thead>\n",
       "  <tbody>\n",
       "    <tr>\n",
       "      <th>2020-06-29 08:00:00+00:00</th>\n",
       "      <td>9.5</td>\n",
       "      <td>NaN</td>\n",
       "      <td>17.5</td>\n",
       "      <td>18.5</td>\n",
       "      <td>14.5</td>\n",
       "      <td>6.0</td>\n",
       "      <td>1.65</td>\n",
       "      <td>NaN</td>\n",
       "      <td>2.95</td>\n",
       "      <td>5.4</td>\n",
       "      <td>6.35</td>\n",
       "    </tr>\n",
       "    <tr>\n",
       "      <th>2020-06-29 09:00:00+00:00</th>\n",
       "      <td>9.5</td>\n",
       "      <td>NaN</td>\n",
       "      <td>NaN</td>\n",
       "      <td>15.0</td>\n",
       "      <td>16.0</td>\n",
       "      <td>NaN</td>\n",
       "      <td>0.85</td>\n",
       "      <td>NaN</td>\n",
       "      <td>NaN</td>\n",
       "      <td>5.4</td>\n",
       "      <td>5.80</td>\n",
       "    </tr>\n",
       "    <tr>\n",
       "      <th>2020-06-29 10:00:00+00:00</th>\n",
       "      <td>8.5</td>\n",
       "      <td>NaN</td>\n",
       "      <td>23.0</td>\n",
       "      <td>NaN</td>\n",
       "      <td>14.5</td>\n",
       "      <td>8.5</td>\n",
       "      <td>0.40</td>\n",
       "      <td>NaN</td>\n",
       "      <td>9.65</td>\n",
       "      <td>NaN</td>\n",
       "      <td>4.60</td>\n",
       "    </tr>\n",
       "    <tr>\n",
       "      <th>2020-06-29 11:00:00+00:00</th>\n",
       "      <td>NaN</td>\n",
       "      <td>25.5</td>\n",
       "      <td>24.0</td>\n",
       "      <td>NaN</td>\n",
       "      <td>NaN</td>\n",
       "      <td>10.0</td>\n",
       "      <td>NaN</td>\n",
       "      <td>13.15</td>\n",
       "      <td>8.75</td>\n",
       "      <td>NaN</td>\n",
       "      <td>NaN</td>\n",
       "    </tr>\n",
       "    <tr>\n",
       "      <th>2020-06-29 12:00:00+00:00</th>\n",
       "      <td>11.5</td>\n",
       "      <td>27.5</td>\n",
       "      <td>26.5</td>\n",
       "      <td>NaN</td>\n",
       "      <td>NaN</td>\n",
       "      <td>9.0</td>\n",
       "      <td>1.10</td>\n",
       "      <td>8.90</td>\n",
       "      <td>8.35</td>\n",
       "      <td>NaN</td>\n",
       "      <td>NaN</td>\n",
       "    </tr>\n",
       "  </tbody>\n",
       "</table>\n",
       "</div>"
      ],
      "text/plain": [
       "seriekey                   PM-10.0/41B011 (µg/m³)  PM-10.0/41MEU1 (µg/m³)  \\\n",
       "start                                                                       \n",
       "2020-06-29 08:00:00+00:00                     9.5                     NaN   \n",
       "2020-06-29 09:00:00+00:00                     9.5                     NaN   \n",
       "2020-06-29 10:00:00+00:00                     8.5                     NaN   \n",
       "2020-06-29 11:00:00+00:00                     NaN                    25.5   \n",
       "2020-06-29 12:00:00+00:00                    11.5                    27.5   \n",
       "\n",
       "seriekey                   PM-10.0/41N043 (µg/m³)  PM-10.0/41R001 (µg/m³)  \\\n",
       "start                                                                       \n",
       "2020-06-29 08:00:00+00:00                    17.5                    18.5   \n",
       "2020-06-29 09:00:00+00:00                     NaN                    15.0   \n",
       "2020-06-29 10:00:00+00:00                    23.0                     NaN   \n",
       "2020-06-29 11:00:00+00:00                    24.0                     NaN   \n",
       "2020-06-29 12:00:00+00:00                    26.5                     NaN   \n",
       "\n",
       "seriekey                   PM-10.0/41R012 (µg/m³)  PM-10.0/41WOL1 (µg/m³)  \\\n",
       "start                                                                       \n",
       "2020-06-29 08:00:00+00:00                    14.5                     6.0   \n",
       "2020-06-29 09:00:00+00:00                    16.0                     NaN   \n",
       "2020-06-29 10:00:00+00:00                    14.5                     8.5   \n",
       "2020-06-29 11:00:00+00:00                     NaN                    10.0   \n",
       "2020-06-29 12:00:00+00:00                     NaN                     9.0   \n",
       "\n",
       "seriekey                   PM-2.5/41B011 (µg/m³)  PM-2.5/41MEU1 (µg/m³)  \\\n",
       "start                                                                     \n",
       "2020-06-29 08:00:00+00:00                   1.65                    NaN   \n",
       "2020-06-29 09:00:00+00:00                   0.85                    NaN   \n",
       "2020-06-29 10:00:00+00:00                   0.40                    NaN   \n",
       "2020-06-29 11:00:00+00:00                    NaN                  13.15   \n",
       "2020-06-29 12:00:00+00:00                   1.10                   8.90   \n",
       "\n",
       "seriekey                   PM-2.5/41N043 (µg/m³)  PM-2.5/41R001 (µg/m³)  \\\n",
       "start                                                                     \n",
       "2020-06-29 08:00:00+00:00                   2.95                    5.4   \n",
       "2020-06-29 09:00:00+00:00                    NaN                    5.4   \n",
       "2020-06-29 10:00:00+00:00                   9.65                    NaN   \n",
       "2020-06-29 11:00:00+00:00                   8.75                    NaN   \n",
       "2020-06-29 12:00:00+00:00                   8.35                    NaN   \n",
       "\n",
       "seriekey                   PM-2.5/41R012 (µg/m³)  \n",
       "start                                             \n",
       "2020-06-29 08:00:00+00:00                   6.35  \n",
       "2020-06-29 09:00:00+00:00                   5.80  \n",
       "2020-06-29 10:00:00+00:00                   4.60  \n",
       "2020-06-29 11:00:00+00:00                    NaN  \n",
       "2020-06-29 12:00:00+00:00                    NaN  "
      ]
     },
     "execution_count": 11,
     "metadata": {},
     "output_type": "execute_result"
    }
   ],
   "source": [
    "dref.tail()"
   ]
  },
  {
   "cell_type": "markdown",
   "metadata": {},
   "source": [
    "## SDS Benchmark"
   ]
  },
  {
   "cell_type": "code",
   "execution_count": 12,
   "metadata": {},
   "outputs": [
    {
     "ename": "FileNotFoundError",
     "evalue": "[Errno 2] No such file or directory: 'C:\\\\Users\\\\admin\\\\udlog\\\\influx.json'",
     "output_type": "error",
     "traceback": [
      "\u001b[1;31m---------------------------------------------------------------------------\u001b[0m",
      "\u001b[1;31mFileNotFoundError\u001b[0m                         Traceback (most recent call last)",
      "\u001b[1;32m<ipython-input-12-91c5b07675f2>\u001b[0m in \u001b[0;36m<module>\u001b[1;34m\u001b[0m\n\u001b[1;32m----> 1\u001b[1;33m \u001b[1;32mwith\u001b[0m \u001b[0mpathlib\u001b[0m\u001b[1;33m.\u001b[0m\u001b[0mPath\u001b[0m\u001b[1;33m(\u001b[0m\u001b[1;34m'C:/Users/admin/udlog/influx.json'\u001b[0m\u001b[1;33m)\u001b[0m\u001b[1;33m.\u001b[0m\u001b[0mopen\u001b[0m\u001b[1;33m(\u001b[0m\u001b[1;33m)\u001b[0m \u001b[1;32mas\u001b[0m \u001b[0mfh\u001b[0m\u001b[1;33m:\u001b[0m\u001b[1;33m\u001b[0m\u001b[1;33m\u001b[0m\u001b[0m\n\u001b[0m\u001b[0;32m      2\u001b[0m     \u001b[0mclient\u001b[0m \u001b[1;33m=\u001b[0m \u001b[0minfluxdb\u001b[0m\u001b[1;33m.\u001b[0m\u001b[0mInfluxDBClient\u001b[0m\u001b[1;33m(\u001b[0m\u001b[1;33m**\u001b[0m\u001b[0mjson\u001b[0m\u001b[1;33m.\u001b[0m\u001b[0mload\u001b[0m\u001b[1;33m(\u001b[0m\u001b[0mfh\u001b[0m\u001b[1;33m)\u001b[0m\u001b[1;33m)\u001b[0m\u001b[1;33m\u001b[0m\u001b[1;33m\u001b[0m\u001b[0m\n",
      "\u001b[1;32m~\\Anaconda3\\lib\\pathlib.py\u001b[0m in \u001b[0;36mopen\u001b[1;34m(self, mode, buffering, encoding, errors, newline)\u001b[0m\n\u001b[0;32m   1201\u001b[0m             \u001b[0mself\u001b[0m\u001b[1;33m.\u001b[0m\u001b[0m_raise_closed\u001b[0m\u001b[1;33m(\u001b[0m\u001b[1;33m)\u001b[0m\u001b[1;33m\u001b[0m\u001b[1;33m\u001b[0m\u001b[0m\n\u001b[0;32m   1202\u001b[0m         return io.open(self, mode, buffering, encoding, errors, newline,\n\u001b[1;32m-> 1203\u001b[1;33m                        opener=self._opener)\n\u001b[0m\u001b[0;32m   1204\u001b[0m \u001b[1;33m\u001b[0m\u001b[0m\n\u001b[0;32m   1205\u001b[0m     \u001b[1;32mdef\u001b[0m \u001b[0mread_bytes\u001b[0m\u001b[1;33m(\u001b[0m\u001b[0mself\u001b[0m\u001b[1;33m)\u001b[0m\u001b[1;33m:\u001b[0m\u001b[1;33m\u001b[0m\u001b[1;33m\u001b[0m\u001b[0m\n",
      "\u001b[1;32m~\\Anaconda3\\lib\\pathlib.py\u001b[0m in \u001b[0;36m_opener\u001b[1;34m(self, name, flags, mode)\u001b[0m\n\u001b[0;32m   1056\u001b[0m     \u001b[1;32mdef\u001b[0m \u001b[0m_opener\u001b[0m\u001b[1;33m(\u001b[0m\u001b[0mself\u001b[0m\u001b[1;33m,\u001b[0m \u001b[0mname\u001b[0m\u001b[1;33m,\u001b[0m \u001b[0mflags\u001b[0m\u001b[1;33m,\u001b[0m \u001b[0mmode\u001b[0m\u001b[1;33m=\u001b[0m\u001b[1;36m0o666\u001b[0m\u001b[1;33m)\u001b[0m\u001b[1;33m:\u001b[0m\u001b[1;33m\u001b[0m\u001b[1;33m\u001b[0m\u001b[0m\n\u001b[0;32m   1057\u001b[0m         \u001b[1;31m# A stub for the opener argument to built-in open()\u001b[0m\u001b[1;33m\u001b[0m\u001b[1;33m\u001b[0m\u001b[1;33m\u001b[0m\u001b[0m\n\u001b[1;32m-> 1058\u001b[1;33m         \u001b[1;32mreturn\u001b[0m \u001b[0mself\u001b[0m\u001b[1;33m.\u001b[0m\u001b[0m_accessor\u001b[0m\u001b[1;33m.\u001b[0m\u001b[0mopen\u001b[0m\u001b[1;33m(\u001b[0m\u001b[0mself\u001b[0m\u001b[1;33m,\u001b[0m \u001b[0mflags\u001b[0m\u001b[1;33m,\u001b[0m \u001b[0mmode\u001b[0m\u001b[1;33m)\u001b[0m\u001b[1;33m\u001b[0m\u001b[1;33m\u001b[0m\u001b[0m\n\u001b[0m\u001b[0;32m   1059\u001b[0m \u001b[1;33m\u001b[0m\u001b[0m\n\u001b[0;32m   1060\u001b[0m     \u001b[1;32mdef\u001b[0m \u001b[0m_raw_open\u001b[0m\u001b[1;33m(\u001b[0m\u001b[0mself\u001b[0m\u001b[1;33m,\u001b[0m \u001b[0mflags\u001b[0m\u001b[1;33m,\u001b[0m \u001b[0mmode\u001b[0m\u001b[1;33m=\u001b[0m\u001b[1;36m0o777\u001b[0m\u001b[1;33m)\u001b[0m\u001b[1;33m:\u001b[0m\u001b[1;33m\u001b[0m\u001b[1;33m\u001b[0m\u001b[0m\n",
      "\u001b[1;31mFileNotFoundError\u001b[0m: [Errno 2] No such file or directory: 'C:\\\\Users\\\\admin\\\\udlog\\\\influx.json'"
     ]
    }
   ],
   "source": [
    "with pathlib.Path('C:/Users/admin/udlog/influx.json').open() as fh:\n",
    "    client = influxdb.InfluxDBClient(**json.load(fh))"
   ]
  },
  {
   "cell_type": "code",
   "execution_count": null,
   "metadata": {},
   "outputs": [],
   "source": [
    "client.ping()"
   ]
  },
  {
   "cell_type": "code",
   "execution_count": null,
   "metadata": {},
   "outputs": [],
   "source": [
    "query = \"\"\"\n",
    "SELECT mean(pm25) AS pm25, mean(pm10) AS pm10\n",
    "FROM \"home\"\n",
    "WHERE time >= '{start:}' AND time < '{stop:}'\n",
    "GROUP BY time(1h)\n",
    "\"\"\".format(start=t0.isoformat(), stop=t1.isoformat())\n",
    "print(query)"
   ]
  },
  {
   "cell_type": "code",
   "execution_count": null,
   "metadata": {},
   "outputs": [],
   "source": [
    "r = client.query(query).raw['series'][0]"
   ]
  },
  {
   "cell_type": "code",
   "execution_count": null,
   "metadata": {},
   "outputs": [],
   "source": [
    "dsds = pd.DataFrame(r['values'], columns=r['columns'])\n",
    "dsds['time'] = pd.to_datetime(dsds['time'])\n",
    "dsds = dsds.set_index('time')\n",
    "dsds.columns = ['PM-2.5/Home (µg/m³)', 'PM-10.0/Home (µg/m³)']\n",
    "dsds.tail()"
   ]
  },
  {
   "cell_type": "markdown",
   "metadata": {},
   "source": [
    "## Data Merge"
   ]
  },
  {
   "cell_type": "code",
   "execution_count": null,
   "metadata": {},
   "outputs": [],
   "source": [
    "df = pd.concat([dref, dsds], axis=1)\n",
    "df.tail()"
   ]
  },
  {
   "cell_type": "markdown",
   "metadata": {},
   "source": [
    "## Render"
   ]
  },
  {
   "cell_type": "code",
   "execution_count": null,
   "metadata": {},
   "outputs": [],
   "source": [
    "remeas = re.compile('([\\w\\-\\.]{2,8})/.*(\\(.*\\))')\n",
    "resite = re.compile('/([\\w]{4,6}) ')"
   ]
  },
  {
   "cell_type": "code",
   "execution_count": null,
   "metadata": {},
   "outputs": [],
   "source": []
  },
  {
   "cell_type": "code",
   "execution_count": null,
   "metadata": {},
   "outputs": [],
   "source": [
    "fig, axe = plt.subplots()\n",
    "axe = df.filter(regex='2.5').plot(ax=axe)\n",
    "axe.legend(bbox_to_anchor=(1,1))\n",
    "axe.set_ylim([0, 100])\n",
    "axe.grid()\n",
    "labels = [s.get_text() for s in axe.get_legend().get_texts()]\n",
    "axe.set_title(\"Concentration Time Series on [{:%Y-%m-%d}; {:%Y-%m-%d}]\".format(t0, t1))\n",
    "axe.set_xlabel(\"Time\")\n",
    "axe.set_ylabel('{} {}'.format(*remeas.search(labels[0]).groups()))\n",
    "_ = fig.text(0.92, 0.15, \"Sources: Irceline API\\nCredits: J. Landercy\", rotation=90)"
   ]
  },
  {
   "cell_type": "code",
   "execution_count": null,
   "metadata": {},
   "outputs": [],
   "source": [
    "fig, axe = plt.subplots()\n",
    "axe = df.filter(regex='10.0').plot(ax=axe)\n",
    "axe.legend(bbox_to_anchor=(1,1))\n",
    "axe.set_ylim([0, 100])\n",
    "axe.grid()\n",
    "labels = [s.get_text() for s in axe.get_legend().get_texts()]\n",
    "axe.set_title(\"Concentration Time Series on [{:%Y-%m-%d}; {:%Y-%m-%d}]\".format(t0, t1))\n",
    "axe.set_xlabel(\"Time\")\n",
    "axe.set_ylabel('{} {}'.format(*remeas.search(labels[0]).groups()))\n",
    "_ = fig.text(0.92, 0.15, \"Sources: Irceline API\\nCredits: J. Landercy\", rotation=90)"
   ]
  },
  {
   "cell_type": "code",
   "execution_count": null,
   "metadata": {},
   "outputs": [],
   "source": []
  },
  {
   "cell_type": "code",
   "execution_count": null,
   "metadata": {},
   "outputs": [],
   "source": [
    "fig, axe = plt.subplots()\n",
    "axe = df.filter(regex='10.0').boxplot(rot=90, ax=axe)\n",
    "axe.set_ylim([0, 50])\n",
    "labels = [s.get_text() for s in axe.get_xticklabels()]\n",
    "axe.set_xticklabels([resite.search(s).group(1) for s in labels])\n",
    "axe.set_title(\"Concentration Distributions on [{:%Y-%m-%d}; {:%Y-%m-%d}]\".format(t0, t1))\n",
    "axe.set_xlabel(\"Sites\")\n",
    "axe.set_ylabel('{} {}'.format(*remeas.search(labels[0]).groups()))\n",
    "_ = fig.text(0.92, 0.15, \"Sources: Irceline API\\nCredits: J. Landercy\", rotation=90)"
   ]
  },
  {
   "cell_type": "code",
   "execution_count": null,
   "metadata": {},
   "outputs": [],
   "source": [
    "fig, axe = plt.subplots()\n",
    "axe = df.filter(regex='2.5').boxplot(rot=90, ax=axe)\n",
    "axe.set_ylim([0, 50])\n",
    "labels = [s.get_text() for s in axe.get_xticklabels()]\n",
    "axe.set_xticklabels([resite.search(s).group(1) for s in labels])\n",
    "axe.set_title(\"Concentration Distributions on [{:%Y-%m-%d}; {:%Y-%m-%d}]\".format(t0, t1))\n",
    "axe.set_xlabel(\"Sites\")\n",
    "axe.set_ylabel('{} {}'.format(*remeas.search(labels[0]).groups()))\n",
    "_ = fig.text(0.92, 0.15, \"Sources: Irceline API\\nCredits: J. Landercy\", rotation=90)"
   ]
  },
  {
   "cell_type": "code",
   "execution_count": null,
   "metadata": {},
   "outputs": [],
   "source": []
  }
 ],
 "metadata": {
  "kernelspec": {
   "display_name": "Python 3",
   "language": "python",
   "name": "python3"
  },
  "language_info": {
   "codemirror_mode": {
    "name": "ipython",
    "version": 3
   },
   "file_extension": ".py",
   "mimetype": "text/x-python",
   "name": "python",
   "nbconvert_exporter": "python",
   "pygments_lexer": "ipython3",
   "version": "3.7.6"
  }
 },
 "nbformat": 4,
 "nbformat_minor": 4
}
