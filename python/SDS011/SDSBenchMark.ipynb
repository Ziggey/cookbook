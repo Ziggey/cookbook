{
 "cells": [
  {
   "cell_type": "code",
   "execution_count": 1,
   "metadata": {},
   "outputs": [],
   "source": [
    "import pathlib\n",
    "import json"
   ]
  },
  {
   "cell_type": "code",
   "execution_count": 2,
   "metadata": {},
   "outputs": [],
   "source": [
    "import influxdb\n",
    "import pandas as pd"
   ]
  },
  {
   "cell_type": "code",
   "execution_count": 3,
   "metadata": {},
   "outputs": [],
   "source": [
    "from odapi.connectors import Irceline\n",
    "from odapi.settings import settings\n",
    "settings.logger.setLevel(50)"
   ]
  },
  {
   "cell_type": "markdown",
   "metadata": {},
   "source": [
    "## Parameters"
   ]
  },
  {
   "cell_type": "code",
   "execution_count": 4,
   "metadata": {},
   "outputs": [
    {
     "data": {
      "text/plain": [
       "Timestamp('2020-06-20 10:45:00+0000', tz='UTC')"
      ]
     },
     "execution_count": 4,
     "metadata": {},
     "output_type": "execute_result"
    }
   ],
   "source": [
    "t0 = pd.Timestamp('2020-06-22 12:45:00', tz='CET').tz_convert('UTC')\n",
    "t0 = pd.Timestamp('2020-06-20 12:45:00', tz='CET').tz_convert('UTC')\n",
    "t0"
   ]
  },
  {
   "cell_type": "code",
   "execution_count": 5,
   "metadata": {},
   "outputs": [
    {
     "data": {
      "text/plain": [
       "Timestamp('2020-06-22 12:41:23.034079+0000', tz='UTC')"
      ]
     },
     "execution_count": 5,
     "metadata": {},
     "output_type": "execute_result"
    }
   ],
   "source": [
    "t1 = pd.Timestamp.utcnow()\n",
    "t1"
   ]
  },
  {
   "cell_type": "markdown",
   "metadata": {},
   "source": [
    "## Irceline Reference"
   ]
  },
  {
   "cell_type": "code",
   "execution_count": 6,
   "metadata": {},
   "outputs": [],
   "source": [
    "cref = Irceline()"
   ]
  },
  {
   "cell_type": "code",
   "execution_count": 7,
   "metadata": {},
   "outputs": [],
   "source": [
    "sel = cref.select(sitekey='41', measurekey='PM')"
   ]
  },
  {
   "cell_type": "code",
   "execution_count": 8,
   "metadata": {},
   "outputs": [
    {
     "data": {
      "text/plain": [
       "(11, 25)"
      ]
     },
     "execution_count": 8,
     "metadata": {},
     "output_type": "execute_result"
    }
   ],
   "source": [
    "sel.shape"
   ]
  },
  {
   "cell_type": "code",
   "execution_count": 9,
   "metadata": {},
   "outputs": [],
   "source": [
    "recs = cref.get_records(sel, start=t0, stop=t1)"
   ]
  },
  {
   "cell_type": "code",
   "execution_count": 10,
   "metadata": {},
   "outputs": [],
   "source": [
    "keys = ['measurekey', 'sitekey', 'serieid']"
   ]
  },
  {
   "cell_type": "code",
   "execution_count": 11,
   "metadata": {},
   "outputs": [],
   "source": [
    "dref = recs.merge(sel[keys]).pivot_table(index='start', columns=keys, values='value')"
   ]
  },
  {
   "cell_type": "code",
   "execution_count": 12,
   "metadata": {},
   "outputs": [
    {
     "data": {
      "text/html": [
       "<div>\n",
       "<style scoped>\n",
       "    .dataframe tbody tr th:only-of-type {\n",
       "        vertical-align: middle;\n",
       "    }\n",
       "\n",
       "    .dataframe tbody tr th {\n",
       "        vertical-align: top;\n",
       "    }\n",
       "\n",
       "    .dataframe thead tr th {\n",
       "        text-align: left;\n",
       "    }\n",
       "\n",
       "    .dataframe thead tr:last-of-type th {\n",
       "        text-align: right;\n",
       "    }\n",
       "</style>\n",
       "<table border=\"1\" class=\"dataframe\">\n",
       "  <thead>\n",
       "    <tr>\n",
       "      <th>measurekey</th>\n",
       "      <th colspan=\"6\" halign=\"left\">PM-10.0</th>\n",
       "      <th colspan=\"5\" halign=\"left\">PM-2.5</th>\n",
       "    </tr>\n",
       "    <tr>\n",
       "      <th>sitekey</th>\n",
       "      <th>41B011</th>\n",
       "      <th>41MEU1</th>\n",
       "      <th>41N043</th>\n",
       "      <th>41R001</th>\n",
       "      <th>41R012</th>\n",
       "      <th>41WOL1</th>\n",
       "      <th>41B011</th>\n",
       "      <th>41MEU1</th>\n",
       "      <th>41N043</th>\n",
       "      <th>41R001</th>\n",
       "      <th>41R012</th>\n",
       "    </tr>\n",
       "    <tr>\n",
       "      <th>serieid</th>\n",
       "      <th>6531</th>\n",
       "      <th>6552</th>\n",
       "      <th>6563</th>\n",
       "      <th>6578</th>\n",
       "      <th>6626</th>\n",
       "      <th>6643</th>\n",
       "      <th>6532</th>\n",
       "      <th>6553</th>\n",
       "      <th>6564</th>\n",
       "      <th>6579</th>\n",
       "      <th>6627</th>\n",
       "    </tr>\n",
       "    <tr>\n",
       "      <th>start</th>\n",
       "      <th></th>\n",
       "      <th></th>\n",
       "      <th></th>\n",
       "      <th></th>\n",
       "      <th></th>\n",
       "      <th></th>\n",
       "      <th></th>\n",
       "      <th></th>\n",
       "      <th></th>\n",
       "      <th></th>\n",
       "      <th></th>\n",
       "    </tr>\n",
       "  </thead>\n",
       "  <tbody>\n",
       "    <tr>\n",
       "      <th>2020-06-22 07:00:00+00:00</th>\n",
       "      <td>NaN</td>\n",
       "      <td>21.0</td>\n",
       "      <td>34.5</td>\n",
       "      <td>22.5</td>\n",
       "      <td>25.0</td>\n",
       "      <td>23.0</td>\n",
       "      <td>NaN</td>\n",
       "      <td>12.5</td>\n",
       "      <td>15.85</td>\n",
       "      <td>7.45</td>\n",
       "      <td>11.6</td>\n",
       "    </tr>\n",
       "    <tr>\n",
       "      <th>2020-06-22 08:00:00+00:00</th>\n",
       "      <td>NaN</td>\n",
       "      <td>22.0</td>\n",
       "      <td>31.0</td>\n",
       "      <td>22.0</td>\n",
       "      <td>NaN</td>\n",
       "      <td>19.0</td>\n",
       "      <td>NaN</td>\n",
       "      <td>10.9</td>\n",
       "      <td>15.90</td>\n",
       "      <td>8.65</td>\n",
       "      <td>NaN</td>\n",
       "    </tr>\n",
       "    <tr>\n",
       "      <th>2020-06-22 09:00:00+00:00</th>\n",
       "      <td>12.0</td>\n",
       "      <td>13.0</td>\n",
       "      <td>23.0</td>\n",
       "      <td>19.0</td>\n",
       "      <td>18.0</td>\n",
       "      <td>14.5</td>\n",
       "      <td>4.60</td>\n",
       "      <td>11.3</td>\n",
       "      <td>10.60</td>\n",
       "      <td>9.05</td>\n",
       "      <td>7.6</td>\n",
       "    </tr>\n",
       "    <tr>\n",
       "      <th>2020-06-22 10:00:00+00:00</th>\n",
       "      <td>11.5</td>\n",
       "      <td>16.0</td>\n",
       "      <td>19.5</td>\n",
       "      <td>16.0</td>\n",
       "      <td>NaN</td>\n",
       "      <td>15.5</td>\n",
       "      <td>4.45</td>\n",
       "      <td>8.1</td>\n",
       "      <td>8.15</td>\n",
       "      <td>7.25</td>\n",
       "      <td>NaN</td>\n",
       "    </tr>\n",
       "    <tr>\n",
       "      <th>2020-06-22 11:00:00+00:00</th>\n",
       "      <td>NaN</td>\n",
       "      <td>20.0</td>\n",
       "      <td>25.0</td>\n",
       "      <td>18.5</td>\n",
       "      <td>19.0</td>\n",
       "      <td>14.0</td>\n",
       "      <td>NaN</td>\n",
       "      <td>15.9</td>\n",
       "      <td>10.95</td>\n",
       "      <td>7.25</td>\n",
       "      <td>9.7</td>\n",
       "    </tr>\n",
       "  </tbody>\n",
       "</table>\n",
       "</div>"
      ],
      "text/plain": [
       "measurekey                PM-10.0                                    PM-2.5  \\\n",
       "sitekey                    41B011 41MEU1 41N043 41R001 41R012 41WOL1 41B011   \n",
       "serieid                      6531   6552   6563   6578   6626   6643   6532   \n",
       "start                                                                         \n",
       "2020-06-22 07:00:00+00:00     NaN   21.0   34.5   22.5   25.0   23.0    NaN   \n",
       "2020-06-22 08:00:00+00:00     NaN   22.0   31.0   22.0    NaN   19.0    NaN   \n",
       "2020-06-22 09:00:00+00:00    12.0   13.0   23.0   19.0   18.0   14.5   4.60   \n",
       "2020-06-22 10:00:00+00:00    11.5   16.0   19.5   16.0    NaN   15.5   4.45   \n",
       "2020-06-22 11:00:00+00:00     NaN   20.0   25.0   18.5   19.0   14.0    NaN   \n",
       "\n",
       "measurekey                                             \n",
       "sitekey                   41MEU1 41N043 41R001 41R012  \n",
       "serieid                     6553   6564   6579   6627  \n",
       "start                                                  \n",
       "2020-06-22 07:00:00+00:00   12.5  15.85   7.45   11.6  \n",
       "2020-06-22 08:00:00+00:00   10.9  15.90   8.65    NaN  \n",
       "2020-06-22 09:00:00+00:00   11.3  10.60   9.05    7.6  \n",
       "2020-06-22 10:00:00+00:00    8.1   8.15   7.25    NaN  \n",
       "2020-06-22 11:00:00+00:00   15.9  10.95   7.25    9.7  "
      ]
     },
     "execution_count": 12,
     "metadata": {},
     "output_type": "execute_result"
    }
   ],
   "source": [
    "dref.tail()"
   ]
  },
  {
   "cell_type": "markdown",
   "metadata": {},
   "source": [
    "## SDS Benchmark"
   ]
  },
  {
   "cell_type": "code",
   "execution_count": 13,
   "metadata": {},
   "outputs": [],
   "source": [
    "with pathlib.Path('C:/Users/admin/udlog/influx.json').open() as fh:\n",
    "    client = influxdb.InfluxDBClient(**json.load(fh))"
   ]
  },
  {
   "cell_type": "code",
   "execution_count": 14,
   "metadata": {},
   "outputs": [
    {
     "data": {
      "text/plain": [
       "'1.8.0'"
      ]
     },
     "execution_count": 14,
     "metadata": {},
     "output_type": "execute_result"
    }
   ],
   "source": [
    "client.ping()"
   ]
  },
  {
   "cell_type": "code",
   "execution_count": 15,
   "metadata": {},
   "outputs": [
    {
     "name": "stdout",
     "output_type": "stream",
     "text": [
      "\n",
      "SELECT mean(pm25) AS pm25, mean(pm10) AS pm10\n",
      "FROM \"home\"\n",
      "WHERE time >= '2020-06-20T10:45:00+00:00' AND time < '2020-06-22T12:41:23.034079+00:00'\n",
      "GROUP BY time(1h)\n",
      "\n"
     ]
    }
   ],
   "source": [
    "query = \"\"\"\n",
    "SELECT mean(pm25) AS pm25, mean(pm10) AS pm10\n",
    "FROM \"home\"\n",
    "WHERE time >= '{start:}' AND time < '{stop:}'\n",
    "GROUP BY time(1h)\n",
    "\"\"\".format(start=t0.isoformat(), stop=t1.isoformat())\n",
    "print(query)"
   ]
  },
  {
   "cell_type": "code",
   "execution_count": 16,
   "metadata": {},
   "outputs": [],
   "source": [
    "r = client.query(query).raw['series'][0]"
   ]
  },
  {
   "cell_type": "code",
   "execution_count": 17,
   "metadata": {},
   "outputs": [
    {
     "data": {
      "text/html": [
       "<div>\n",
       "<style scoped>\n",
       "    .dataframe tbody tr th:only-of-type {\n",
       "        vertical-align: middle;\n",
       "    }\n",
       "\n",
       "    .dataframe tbody tr th {\n",
       "        vertical-align: top;\n",
       "    }\n",
       "\n",
       "    .dataframe thead tr th {\n",
       "        text-align: left;\n",
       "    }\n",
       "\n",
       "    .dataframe thead tr:last-of-type th {\n",
       "        text-align: right;\n",
       "    }\n",
       "</style>\n",
       "<table border=\"1\" class=\"dataframe\">\n",
       "  <thead>\n",
       "    <tr>\n",
       "      <th></th>\n",
       "      <th>PM-2.5</th>\n",
       "      <th>PM-10.0</th>\n",
       "    </tr>\n",
       "    <tr>\n",
       "      <th></th>\n",
       "      <th>Home</th>\n",
       "      <th>Home</th>\n",
       "    </tr>\n",
       "    <tr>\n",
       "      <th></th>\n",
       "      <th>1</th>\n",
       "      <th>2</th>\n",
       "    </tr>\n",
       "    <tr>\n",
       "      <th>time</th>\n",
       "      <th></th>\n",
       "      <th></th>\n",
       "    </tr>\n",
       "  </thead>\n",
       "  <tbody>\n",
       "    <tr>\n",
       "      <th>2020-06-22 08:00:00+00:00</th>\n",
       "      <td>NaN</td>\n",
       "      <td>NaN</td>\n",
       "    </tr>\n",
       "    <tr>\n",
       "      <th>2020-06-22 09:00:00+00:00</th>\n",
       "      <td>14.055760</td>\n",
       "      <td>26.623656</td>\n",
       "    </tr>\n",
       "    <tr>\n",
       "      <th>2020-06-22 10:00:00+00:00</th>\n",
       "      <td>75.963322</td>\n",
       "      <td>140.174151</td>\n",
       "    </tr>\n",
       "    <tr>\n",
       "      <th>2020-06-22 11:00:00+00:00</th>\n",
       "      <td>6.081676</td>\n",
       "      <td>17.273886</td>\n",
       "    </tr>\n",
       "    <tr>\n",
       "      <th>2020-06-22 12:00:00+00:00</th>\n",
       "      <td>5.506470</td>\n",
       "      <td>18.668095</td>\n",
       "    </tr>\n",
       "  </tbody>\n",
       "</table>\n",
       "</div>"
      ],
      "text/plain": [
       "                              PM-2.5     PM-10.0\n",
       "                                Home        Home\n",
       "                                   1           2\n",
       "time                                            \n",
       "2020-06-22 08:00:00+00:00        NaN         NaN\n",
       "2020-06-22 09:00:00+00:00  14.055760   26.623656\n",
       "2020-06-22 10:00:00+00:00  75.963322  140.174151\n",
       "2020-06-22 11:00:00+00:00   6.081676   17.273886\n",
       "2020-06-22 12:00:00+00:00   5.506470   18.668095"
      ]
     },
     "execution_count": 17,
     "metadata": {},
     "output_type": "execute_result"
    }
   ],
   "source": [
    "dsds = pd.DataFrame(r['values'], columns=r['columns'])\n",
    "dsds['time'] = pd.to_datetime(dsds['time'])\n",
    "dsds = dsds.set_index('time')\n",
    "dsds.columns = pd.MultiIndex.from_tuples([('PM-2.5', 'Home', '1'), ('PM-10.0', 'Home', '2')])\n",
    "dsds.tail()"
   ]
  },
  {
   "cell_type": "markdown",
   "metadata": {},
   "source": [
    "## Data Merge"
   ]
  },
  {
   "cell_type": "code",
   "execution_count": 18,
   "metadata": {},
   "outputs": [
    {
     "data": {
      "text/html": [
       "<div>\n",
       "<style scoped>\n",
       "    .dataframe tbody tr th:only-of-type {\n",
       "        vertical-align: middle;\n",
       "    }\n",
       "\n",
       "    .dataframe tbody tr th {\n",
       "        vertical-align: top;\n",
       "    }\n",
       "\n",
       "    .dataframe thead tr th {\n",
       "        text-align: left;\n",
       "    }\n",
       "</style>\n",
       "<table border=\"1\" class=\"dataframe\">\n",
       "  <thead>\n",
       "    <tr>\n",
       "      <th>measurekey</th>\n",
       "      <th colspan=\"6\" halign=\"left\">PM-10.0</th>\n",
       "      <th colspan=\"6\" halign=\"left\">PM-2.5</th>\n",
       "      <th>PM-10.0</th>\n",
       "    </tr>\n",
       "    <tr>\n",
       "      <th>sitekey</th>\n",
       "      <th>41B011</th>\n",
       "      <th>41MEU1</th>\n",
       "      <th>41N043</th>\n",
       "      <th>41R001</th>\n",
       "      <th>41R012</th>\n",
       "      <th>41WOL1</th>\n",
       "      <th>41B011</th>\n",
       "      <th>41MEU1</th>\n",
       "      <th>41N043</th>\n",
       "      <th>41R001</th>\n",
       "      <th>41R012</th>\n",
       "      <th>Home</th>\n",
       "      <th>Home</th>\n",
       "    </tr>\n",
       "    <tr>\n",
       "      <th>serieid</th>\n",
       "      <th>6531</th>\n",
       "      <th>6552</th>\n",
       "      <th>6563</th>\n",
       "      <th>6578</th>\n",
       "      <th>6626</th>\n",
       "      <th>6643</th>\n",
       "      <th>6532</th>\n",
       "      <th>6553</th>\n",
       "      <th>6564</th>\n",
       "      <th>6579</th>\n",
       "      <th>6627</th>\n",
       "      <th>1</th>\n",
       "      <th>2</th>\n",
       "    </tr>\n",
       "  </thead>\n",
       "  <tbody>\n",
       "    <tr>\n",
       "      <th>2020-06-22 08:00:00+00:00</th>\n",
       "      <td>NaN</td>\n",
       "      <td>22.0</td>\n",
       "      <td>31.0</td>\n",
       "      <td>22.0</td>\n",
       "      <td>NaN</td>\n",
       "      <td>19.0</td>\n",
       "      <td>NaN</td>\n",
       "      <td>10.9</td>\n",
       "      <td>15.90</td>\n",
       "      <td>8.65</td>\n",
       "      <td>NaN</td>\n",
       "      <td>NaN</td>\n",
       "      <td>NaN</td>\n",
       "    </tr>\n",
       "    <tr>\n",
       "      <th>2020-06-22 09:00:00+00:00</th>\n",
       "      <td>12.0</td>\n",
       "      <td>13.0</td>\n",
       "      <td>23.0</td>\n",
       "      <td>19.0</td>\n",
       "      <td>18.0</td>\n",
       "      <td>14.5</td>\n",
       "      <td>4.60</td>\n",
       "      <td>11.3</td>\n",
       "      <td>10.60</td>\n",
       "      <td>9.05</td>\n",
       "      <td>7.6</td>\n",
       "      <td>14.055760</td>\n",
       "      <td>26.623656</td>\n",
       "    </tr>\n",
       "    <tr>\n",
       "      <th>2020-06-22 10:00:00+00:00</th>\n",
       "      <td>11.5</td>\n",
       "      <td>16.0</td>\n",
       "      <td>19.5</td>\n",
       "      <td>16.0</td>\n",
       "      <td>NaN</td>\n",
       "      <td>15.5</td>\n",
       "      <td>4.45</td>\n",
       "      <td>8.1</td>\n",
       "      <td>8.15</td>\n",
       "      <td>7.25</td>\n",
       "      <td>NaN</td>\n",
       "      <td>75.963322</td>\n",
       "      <td>140.174151</td>\n",
       "    </tr>\n",
       "    <tr>\n",
       "      <th>2020-06-22 11:00:00+00:00</th>\n",
       "      <td>NaN</td>\n",
       "      <td>20.0</td>\n",
       "      <td>25.0</td>\n",
       "      <td>18.5</td>\n",
       "      <td>19.0</td>\n",
       "      <td>14.0</td>\n",
       "      <td>NaN</td>\n",
       "      <td>15.9</td>\n",
       "      <td>10.95</td>\n",
       "      <td>7.25</td>\n",
       "      <td>9.7</td>\n",
       "      <td>6.081676</td>\n",
       "      <td>17.273886</td>\n",
       "    </tr>\n",
       "    <tr>\n",
       "      <th>2020-06-22 12:00:00+00:00</th>\n",
       "      <td>NaN</td>\n",
       "      <td>NaN</td>\n",
       "      <td>NaN</td>\n",
       "      <td>NaN</td>\n",
       "      <td>NaN</td>\n",
       "      <td>NaN</td>\n",
       "      <td>NaN</td>\n",
       "      <td>NaN</td>\n",
       "      <td>NaN</td>\n",
       "      <td>NaN</td>\n",
       "      <td>NaN</td>\n",
       "      <td>5.506470</td>\n",
       "      <td>18.668095</td>\n",
       "    </tr>\n",
       "  </tbody>\n",
       "</table>\n",
       "</div>"
      ],
      "text/plain": [
       "measurekey                PM-10.0                                    PM-2.5  \\\n",
       "sitekey                    41B011 41MEU1 41N043 41R001 41R012 41WOL1 41B011   \n",
       "serieid                      6531   6552   6563   6578   6626   6643   6532   \n",
       "2020-06-22 08:00:00+00:00     NaN   22.0   31.0   22.0    NaN   19.0    NaN   \n",
       "2020-06-22 09:00:00+00:00    12.0   13.0   23.0   19.0   18.0   14.5   4.60   \n",
       "2020-06-22 10:00:00+00:00    11.5   16.0   19.5   16.0    NaN   15.5   4.45   \n",
       "2020-06-22 11:00:00+00:00     NaN   20.0   25.0   18.5   19.0   14.0    NaN   \n",
       "2020-06-22 12:00:00+00:00     NaN    NaN    NaN    NaN    NaN    NaN    NaN   \n",
       "\n",
       "measurekey                                                           PM-10.0  \n",
       "sitekey                   41MEU1 41N043 41R001 41R012       Home        Home  \n",
       "serieid                     6553   6564   6579   6627          1           2  \n",
       "2020-06-22 08:00:00+00:00   10.9  15.90   8.65    NaN        NaN         NaN  \n",
       "2020-06-22 09:00:00+00:00   11.3  10.60   9.05    7.6  14.055760   26.623656  \n",
       "2020-06-22 10:00:00+00:00    8.1   8.15   7.25    NaN  75.963322  140.174151  \n",
       "2020-06-22 11:00:00+00:00   15.9  10.95   7.25    9.7   6.081676   17.273886  \n",
       "2020-06-22 12:00:00+00:00    NaN    NaN    NaN    NaN   5.506470   18.668095  "
      ]
     },
     "execution_count": 18,
     "metadata": {},
     "output_type": "execute_result"
    }
   ],
   "source": [
    "df = pd.concat([dref, dsds], axis=1)\n",
    "df.tail()"
   ]
  },
  {
   "cell_type": "code",
   "execution_count": 19,
   "metadata": {},
   "outputs": [
    {
     "data": {
      "image/png": "[encoded data removed]",
      "text/plain": [
       "<Figure size 432x288 with 1 Axes>"
      ]
     },
     "metadata": {
      "needs_background": "light"
     },
     "output_type": "display_data"
    }
   ],
   "source": [
    "axe = df.filter(regex='2.5').plot()\n",
    "axe.legend(bbox_to_anchor=(1,1))\n",
    "axe.grid()"
   ]
  },
  {
   "cell_type": "code",
   "execution_count": 20,
   "metadata": {},
   "outputs": [
    {
     "data": {
      "image/png": "[encoded data removed]",
      "text/plain": [
       "<Figure size 432x288 with 1 Axes>"
      ]
     },
     "metadata": {
      "needs_background": "light"
     },
     "output_type": "display_data"
    }
   ],
   "source": [
    "axe = df.filter(regex='10.0').plot()\n",
    "axe.legend(bbox_to_anchor=(1,1))\n",
    "axe.grid()"
   ]
  },
  {
   "cell_type": "code",
   "execution_count": 21,
   "metadata": {},
   "outputs": [
    {
     "data": {
      "image/png": "[encoded data removed]",
      "text/plain": [
       "<Figure size 432x288 with 1 Axes>"
      ]
     },
     "metadata": {
      "needs_background": "light"
     },
     "output_type": "display_data"
    }
   ],
   "source": [
    "axe = df.filter(regex='10.0').droplevel([0,-1], axis=1).boxplot(rot=90)"
   ]
  },
  {
   "cell_type": "code",
   "execution_count": 22,
   "metadata": {},
   "outputs": [
    {
     "data": {
      "image/png": "[encoded data removed]",
      "text/plain": [
       "<Figure size 432x288 with 1 Axes>"
      ]
     },
     "metadata": {
      "needs_background": "light"
     },
     "output_type": "display_data"
    }
   ],
   "source": [
    "axe = df.filter(regex='2.5').droplevel([0,-1], axis=1).boxplot(rot=90)"
   ]
  },
  {
   "cell_type": "code",
   "execution_count": null,
   "metadata": {},
   "outputs": [],
   "source": []
  }
 ],
 "metadata": {
  "kernelspec": {
   "display_name": "Python 3",
   "language": "python",
   "name": "python3"
  },
  "language_info": {
   "codemirror_mode": {
    "name": "ipython",
    "version": 3
   },
   "file_extension": ".py",
   "mimetype": "text/x-python",
   "name": "python",
   "nbconvert_exporter": "python",
   "pygments_lexer": "ipython3",
   "version": "3.7.6"
  }
 },
 "nbformat": 4,
 "nbformat_minor": 4
}
