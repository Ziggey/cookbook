{
 "cells": [
  {
   "cell_type": "code",
   "execution_count": 1,
   "metadata": {},
   "outputs": [],
   "source": [
    "import pathlib\n",
    "import json\n",
    "import re"
   ]
  },
  {
   "cell_type": "code",
   "execution_count": 2,
   "metadata": {},
   "outputs": [],
   "source": [
    "import influxdb\n",
    "import pandas as pd\n",
    "import matplotlib.pyplot as plt"
   ]
  },
  {
   "cell_type": "code",
   "execution_count": 3,
   "metadata": {},
   "outputs": [],
   "source": [
    "from odapi.connectors import Irceline\n",
    "from odapi.settings import settings\n",
    "settings.logger.setLevel(50)"
   ]
  },
  {
   "cell_type": "markdown",
   "metadata": {},
   "source": [
    "## Parameters"
   ]
  },
  {
   "cell_type": "code",
   "execution_count": 4,
   "metadata": {},
   "outputs": [
    {
     "data": {
      "text/plain": [
       "Timestamp('2020-06-22 11:00:00+0000', tz='UTC')"
      ]
     },
     "execution_count": 4,
     "metadata": {},
     "output_type": "execute_result"
    }
   ],
   "source": [
    "t0 = pd.Timestamp('2020-06-22 13:00:00', tz='CET').tz_convert('UTC')\n",
    "t0"
   ]
  },
  {
   "cell_type": "code",
   "execution_count": 5,
   "metadata": {},
   "outputs": [
    {
     "data": {
      "text/plain": [
       "Timestamp('2020-06-22 19:41:37.897821+0000', tz='UTC')"
      ]
     },
     "execution_count": 5,
     "metadata": {},
     "output_type": "execute_result"
    }
   ],
   "source": [
    "t1 = pd.Timestamp.utcnow()\n",
    "t1"
   ]
  },
  {
   "cell_type": "markdown",
   "metadata": {},
   "source": [
    "## Irceline Reference"
   ]
  },
  {
   "cell_type": "code",
   "execution_count": 6,
   "metadata": {},
   "outputs": [],
   "source": [
    "cref = Irceline()"
   ]
  },
  {
   "cell_type": "code",
   "execution_count": 7,
   "metadata": {},
   "outputs": [],
   "source": [
    "sel = cref.select(sitekey='41', measurekey='PM')"
   ]
  },
  {
   "cell_type": "code",
   "execution_count": 8,
   "metadata": {},
   "outputs": [
    {
     "data": {
      "text/plain": [
       "(11, 25)"
      ]
     },
     "execution_count": 8,
     "metadata": {},
     "output_type": "execute_result"
    }
   ],
   "source": [
    "sel.shape"
   ]
  },
  {
   "cell_type": "code",
   "execution_count": 9,
   "metadata": {},
   "outputs": [],
   "source": [
    "recs = cref.get_records(sel, start=t0, stop=t1)"
   ]
  },
  {
   "cell_type": "code",
   "execution_count": 10,
   "metadata": {},
   "outputs": [],
   "source": [
    "dref = recs.merge(sel[['serieid', 'seriekey']]).pivot_table(index='start', columns='seriekey', values='value')"
   ]
  },
  {
   "cell_type": "code",
   "execution_count": 11,
   "metadata": {},
   "outputs": [
    {
     "data": {
      "text/html": [
       "<div>\n",
       "<style scoped>\n",
       "    .dataframe tbody tr th:only-of-type {\n",
       "        vertical-align: middle;\n",
       "    }\n",
       "\n",
       "    .dataframe tbody tr th {\n",
       "        vertical-align: top;\n",
       "    }\n",
       "\n",
       "    .dataframe thead th {\n",
       "        text-align: right;\n",
       "    }\n",
       "</style>\n",
       "<table border=\"1\" class=\"dataframe\">\n",
       "  <thead>\n",
       "    <tr style=\"text-align: right;\">\n",
       "      <th>seriekey</th>\n",
       "      <th>PM-10.0/41B011 (µg/m³)</th>\n",
       "      <th>PM-10.0/41MEU1 (µg/m³)</th>\n",
       "      <th>PM-10.0/41N043 (µg/m³)</th>\n",
       "      <th>PM-10.0/41R001 (µg/m³)</th>\n",
       "      <th>PM-10.0/41R012 (µg/m³)</th>\n",
       "      <th>PM-10.0/41WOL1 (µg/m³)</th>\n",
       "      <th>PM-2.5/41B011 (µg/m³)</th>\n",
       "      <th>PM-2.5/41MEU1 (µg/m³)</th>\n",
       "      <th>PM-2.5/41N043 (µg/m³)</th>\n",
       "      <th>PM-2.5/41R001 (µg/m³)</th>\n",
       "      <th>PM-2.5/41R012 (µg/m³)</th>\n",
       "    </tr>\n",
       "    <tr>\n",
       "      <th>start</th>\n",
       "      <th></th>\n",
       "      <th></th>\n",
       "      <th></th>\n",
       "      <th></th>\n",
       "      <th></th>\n",
       "      <th></th>\n",
       "      <th></th>\n",
       "      <th></th>\n",
       "      <th></th>\n",
       "      <th></th>\n",
       "      <th></th>\n",
       "    </tr>\n",
       "  </thead>\n",
       "  <tbody>\n",
       "    <tr>\n",
       "      <th>2020-06-22 14:00:00+00:00</th>\n",
       "      <td>11.0</td>\n",
       "      <td>14.5</td>\n",
       "      <td>23.5</td>\n",
       "      <td>19.0</td>\n",
       "      <td>20.0</td>\n",
       "      <td>16.0</td>\n",
       "      <td>3.00</td>\n",
       "      <td>12.45</td>\n",
       "      <td>8.40</td>\n",
       "      <td>8.65</td>\n",
       "      <td>10.65</td>\n",
       "    </tr>\n",
       "    <tr>\n",
       "      <th>2020-06-22 15:00:00+00:00</th>\n",
       "      <td>13.0</td>\n",
       "      <td>NaN</td>\n",
       "      <td>20.5</td>\n",
       "      <td>20.0</td>\n",
       "      <td>23.5</td>\n",
       "      <td>13.5</td>\n",
       "      <td>6.15</td>\n",
       "      <td>NaN</td>\n",
       "      <td>10.00</td>\n",
       "      <td>8.30</td>\n",
       "      <td>12.90</td>\n",
       "    </tr>\n",
       "    <tr>\n",
       "      <th>2020-06-22 16:00:00+00:00</th>\n",
       "      <td>13.5</td>\n",
       "      <td>NaN</td>\n",
       "      <td>21.0</td>\n",
       "      <td>18.0</td>\n",
       "      <td>15.5</td>\n",
       "      <td>13.5</td>\n",
       "      <td>6.80</td>\n",
       "      <td>NaN</td>\n",
       "      <td>9.95</td>\n",
       "      <td>6.45</td>\n",
       "      <td>7.65</td>\n",
       "    </tr>\n",
       "    <tr>\n",
       "      <th>2020-06-22 17:00:00+00:00</th>\n",
       "      <td>13.5</td>\n",
       "      <td>NaN</td>\n",
       "      <td>18.5</td>\n",
       "      <td>20.5</td>\n",
       "      <td>26.5</td>\n",
       "      <td>15.5</td>\n",
       "      <td>7.05</td>\n",
       "      <td>NaN</td>\n",
       "      <td>9.00</td>\n",
       "      <td>8.50</td>\n",
       "      <td>13.15</td>\n",
       "    </tr>\n",
       "    <tr>\n",
       "      <th>2020-06-22 18:00:00+00:00</th>\n",
       "      <td>11.5</td>\n",
       "      <td>NaN</td>\n",
       "      <td>23.0</td>\n",
       "      <td>19.0</td>\n",
       "      <td>28.0</td>\n",
       "      <td>16.0</td>\n",
       "      <td>4.35</td>\n",
       "      <td>10.55</td>\n",
       "      <td>14.05</td>\n",
       "      <td>7.85</td>\n",
       "      <td>15.85</td>\n",
       "    </tr>\n",
       "  </tbody>\n",
       "</table>\n",
       "</div>"
      ],
      "text/plain": [
       "seriekey                   PM-10.0/41B011 (µg/m³)  PM-10.0/41MEU1 (µg/m³)  \\\n",
       "start                                                                       \n",
       "2020-06-22 14:00:00+00:00                    11.0                    14.5   \n",
       "2020-06-22 15:00:00+00:00                    13.0                     NaN   \n",
       "2020-06-22 16:00:00+00:00                    13.5                     NaN   \n",
       "2020-06-22 17:00:00+00:00                    13.5                     NaN   \n",
       "2020-06-22 18:00:00+00:00                    11.5                     NaN   \n",
       "\n",
       "seriekey                   PM-10.0/41N043 (µg/m³)  PM-10.0/41R001 (µg/m³)  \\\n",
       "start                                                                       \n",
       "2020-06-22 14:00:00+00:00                    23.5                    19.0   \n",
       "2020-06-22 15:00:00+00:00                    20.5                    20.0   \n",
       "2020-06-22 16:00:00+00:00                    21.0                    18.0   \n",
       "2020-06-22 17:00:00+00:00                    18.5                    20.5   \n",
       "2020-06-22 18:00:00+00:00                    23.0                    19.0   \n",
       "\n",
       "seriekey                   PM-10.0/41R012 (µg/m³)  PM-10.0/41WOL1 (µg/m³)  \\\n",
       "start                                                                       \n",
       "2020-06-22 14:00:00+00:00                    20.0                    16.0   \n",
       "2020-06-22 15:00:00+00:00                    23.5                    13.5   \n",
       "2020-06-22 16:00:00+00:00                    15.5                    13.5   \n",
       "2020-06-22 17:00:00+00:00                    26.5                    15.5   \n",
       "2020-06-22 18:00:00+00:00                    28.0                    16.0   \n",
       "\n",
       "seriekey                   PM-2.5/41B011 (µg/m³)  PM-2.5/41MEU1 (µg/m³)  \\\n",
       "start                                                                     \n",
       "2020-06-22 14:00:00+00:00                   3.00                  12.45   \n",
       "2020-06-22 15:00:00+00:00                   6.15                    NaN   \n",
       "2020-06-22 16:00:00+00:00                   6.80                    NaN   \n",
       "2020-06-22 17:00:00+00:00                   7.05                    NaN   \n",
       "2020-06-22 18:00:00+00:00                   4.35                  10.55   \n",
       "\n",
       "seriekey                   PM-2.5/41N043 (µg/m³)  PM-2.5/41R001 (µg/m³)  \\\n",
       "start                                                                     \n",
       "2020-06-22 14:00:00+00:00                   8.40                   8.65   \n",
       "2020-06-22 15:00:00+00:00                  10.00                   8.30   \n",
       "2020-06-22 16:00:00+00:00                   9.95                   6.45   \n",
       "2020-06-22 17:00:00+00:00                   9.00                   8.50   \n",
       "2020-06-22 18:00:00+00:00                  14.05                   7.85   \n",
       "\n",
       "seriekey                   PM-2.5/41R012 (µg/m³)  \n",
       "start                                             \n",
       "2020-06-22 14:00:00+00:00                  10.65  \n",
       "2020-06-22 15:00:00+00:00                  12.90  \n",
       "2020-06-22 16:00:00+00:00                   7.65  \n",
       "2020-06-22 17:00:00+00:00                  13.15  \n",
       "2020-06-22 18:00:00+00:00                  15.85  "
      ]
     },
     "execution_count": 11,
     "metadata": {},
     "output_type": "execute_result"
    }
   ],
   "source": [
    "dref.tail()"
   ]
  },
  {
   "cell_type": "markdown",
   "metadata": {},
   "source": [
    "## SDS Benchmark"
   ]
  },
  {
   "cell_type": "code",
   "execution_count": 12,
   "metadata": {},
   "outputs": [],
   "source": [
    "with pathlib.Path('C:/Users/admin/udlog/influx.json').open() as fh:\n",
    "    client = influxdb.InfluxDBClient(**json.load(fh))"
   ]
  },
  {
   "cell_type": "code",
   "execution_count": 13,
   "metadata": {},
   "outputs": [
    {
     "data": {
      "text/plain": [
       "'1.8.0'"
      ]
     },
     "execution_count": 13,
     "metadata": {},
     "output_type": "execute_result"
    }
   ],
   "source": [
    "client.ping()"
   ]
  },
  {
   "cell_type": "code",
   "execution_count": 14,
   "metadata": {},
   "outputs": [
    {
     "name": "stdout",
     "output_type": "stream",
     "text": [
      "\n",
      "SELECT mean(pm25) AS pm25, mean(pm10) AS pm10\n",
      "FROM \"home\"\n",
      "WHERE time >= '2020-06-22T11:00:00+00:00' AND time < '2020-06-22T19:41:37.897821+00:00'\n",
      "GROUP BY time(1h)\n",
      "\n"
     ]
    }
   ],
   "source": [
    "query = \"\"\"\n",
    "SELECT mean(pm25) AS pm25, mean(pm10) AS pm10\n",
    "FROM \"home\"\n",
    "WHERE time >= '{start:}' AND time < '{stop:}'\n",
    "GROUP BY time(1h)\n",
    "\"\"\".format(start=t0.isoformat(), stop=t1.isoformat())\n",
    "print(query)"
   ]
  },
  {
   "cell_type": "code",
   "execution_count": 15,
   "metadata": {},
   "outputs": [],
   "source": [
    "r = client.query(query).raw['series'][0]"
   ]
  },
  {
   "cell_type": "code",
   "execution_count": 16,
   "metadata": {},
   "outputs": [
    {
     "data": {
      "text/html": [
       "<div>\n",
       "<style scoped>\n",
       "    .dataframe tbody tr th:only-of-type {\n",
       "        vertical-align: middle;\n",
       "    }\n",
       "\n",
       "    .dataframe tbody tr th {\n",
       "        vertical-align: top;\n",
       "    }\n",
       "\n",
       "    .dataframe thead th {\n",
       "        text-align: right;\n",
       "    }\n",
       "</style>\n",
       "<table border=\"1\" class=\"dataframe\">\n",
       "  <thead>\n",
       "    <tr style=\"text-align: right;\">\n",
       "      <th></th>\n",
       "      <th>PM-2.5/Home (µg/m³)</th>\n",
       "      <th>PM-10.0/Home (µg/m³)</th>\n",
       "    </tr>\n",
       "    <tr>\n",
       "      <th>time</th>\n",
       "      <th></th>\n",
       "      <th></th>\n",
       "    </tr>\n",
       "  </thead>\n",
       "  <tbody>\n",
       "    <tr>\n",
       "      <th>2020-06-22 15:00:00+00:00</th>\n",
       "      <td>10.145073</td>\n",
       "      <td>22.236008</td>\n",
       "    </tr>\n",
       "    <tr>\n",
       "      <th>2020-06-22 16:00:00+00:00</th>\n",
       "      <td>4.691492</td>\n",
       "      <td>17.103264</td>\n",
       "    </tr>\n",
       "    <tr>\n",
       "      <th>2020-06-22 17:00:00+00:00</th>\n",
       "      <td>4.602457</td>\n",
       "      <td>17.092630</td>\n",
       "    </tr>\n",
       "    <tr>\n",
       "      <th>2020-06-22 18:00:00+00:00</th>\n",
       "      <td>4.308759</td>\n",
       "      <td>15.580612</td>\n",
       "    </tr>\n",
       "    <tr>\n",
       "      <th>2020-06-22 19:00:00+00:00</th>\n",
       "      <td>3.997399</td>\n",
       "      <td>14.456481</td>\n",
       "    </tr>\n",
       "  </tbody>\n",
       "</table>\n",
       "</div>"
      ],
      "text/plain": [
       "                           PM-2.5/Home (µg/m³)  PM-10.0/Home (µg/m³)\n",
       "time                                                                \n",
       "2020-06-22 15:00:00+00:00            10.145073             22.236008\n",
       "2020-06-22 16:00:00+00:00             4.691492             17.103264\n",
       "2020-06-22 17:00:00+00:00             4.602457             17.092630\n",
       "2020-06-22 18:00:00+00:00             4.308759             15.580612\n",
       "2020-06-22 19:00:00+00:00             3.997399             14.456481"
      ]
     },
     "execution_count": 16,
     "metadata": {},
     "output_type": "execute_result"
    }
   ],
   "source": [
    "dsds = pd.DataFrame(r['values'], columns=r['columns'])\n",
    "dsds['time'] = pd.to_datetime(dsds['time'])\n",
    "dsds = dsds.set_index('time')\n",
    "dsds.columns = ['PM-2.5/Home (µg/m³)', 'PM-10.0/Home (µg/m³)']\n",
    "dsds.tail()"
   ]
  },
  {
   "cell_type": "markdown",
   "metadata": {},
   "source": [
    "## Data Merge"
   ]
  },
  {
   "cell_type": "code",
   "execution_count": 17,
   "metadata": {},
   "outputs": [
    {
     "data": {
      "text/html": [
       "<div>\n",
       "<style scoped>\n",
       "    .dataframe tbody tr th:only-of-type {\n",
       "        vertical-align: middle;\n",
       "    }\n",
       "\n",
       "    .dataframe tbody tr th {\n",
       "        vertical-align: top;\n",
       "    }\n",
       "\n",
       "    .dataframe thead th {\n",
       "        text-align: right;\n",
       "    }\n",
       "</style>\n",
       "<table border=\"1\" class=\"dataframe\">\n",
       "  <thead>\n",
       "    <tr style=\"text-align: right;\">\n",
       "      <th></th>\n",
       "      <th>PM-10.0/41B011 (µg/m³)</th>\n",
       "      <th>PM-10.0/41MEU1 (µg/m³)</th>\n",
       "      <th>PM-10.0/41N043 (µg/m³)</th>\n",
       "      <th>PM-10.0/41R001 (µg/m³)</th>\n",
       "      <th>PM-10.0/41R012 (µg/m³)</th>\n",
       "      <th>PM-10.0/41WOL1 (µg/m³)</th>\n",
       "      <th>PM-2.5/41B011 (µg/m³)</th>\n",
       "      <th>PM-2.5/41MEU1 (µg/m³)</th>\n",
       "      <th>PM-2.5/41N043 (µg/m³)</th>\n",
       "      <th>PM-2.5/41R001 (µg/m³)</th>\n",
       "      <th>PM-2.5/41R012 (µg/m³)</th>\n",
       "      <th>PM-2.5/Home (µg/m³)</th>\n",
       "      <th>PM-10.0/Home (µg/m³)</th>\n",
       "    </tr>\n",
       "  </thead>\n",
       "  <tbody>\n",
       "    <tr>\n",
       "      <th>2020-06-22 15:00:00+00:00</th>\n",
       "      <td>13.0</td>\n",
       "      <td>NaN</td>\n",
       "      <td>20.5</td>\n",
       "      <td>20.0</td>\n",
       "      <td>23.5</td>\n",
       "      <td>13.5</td>\n",
       "      <td>6.15</td>\n",
       "      <td>NaN</td>\n",
       "      <td>10.00</td>\n",
       "      <td>8.30</td>\n",
       "      <td>12.90</td>\n",
       "      <td>10.145073</td>\n",
       "      <td>22.236008</td>\n",
       "    </tr>\n",
       "    <tr>\n",
       "      <th>2020-06-22 16:00:00+00:00</th>\n",
       "      <td>13.5</td>\n",
       "      <td>NaN</td>\n",
       "      <td>21.0</td>\n",
       "      <td>18.0</td>\n",
       "      <td>15.5</td>\n",
       "      <td>13.5</td>\n",
       "      <td>6.80</td>\n",
       "      <td>NaN</td>\n",
       "      <td>9.95</td>\n",
       "      <td>6.45</td>\n",
       "      <td>7.65</td>\n",
       "      <td>4.691492</td>\n",
       "      <td>17.103264</td>\n",
       "    </tr>\n",
       "    <tr>\n",
       "      <th>2020-06-22 17:00:00+00:00</th>\n",
       "      <td>13.5</td>\n",
       "      <td>NaN</td>\n",
       "      <td>18.5</td>\n",
       "      <td>20.5</td>\n",
       "      <td>26.5</td>\n",
       "      <td>15.5</td>\n",
       "      <td>7.05</td>\n",
       "      <td>NaN</td>\n",
       "      <td>9.00</td>\n",
       "      <td>8.50</td>\n",
       "      <td>13.15</td>\n",
       "      <td>4.602457</td>\n",
       "      <td>17.092630</td>\n",
       "    </tr>\n",
       "    <tr>\n",
       "      <th>2020-06-22 18:00:00+00:00</th>\n",
       "      <td>11.5</td>\n",
       "      <td>NaN</td>\n",
       "      <td>23.0</td>\n",
       "      <td>19.0</td>\n",
       "      <td>28.0</td>\n",
       "      <td>16.0</td>\n",
       "      <td>4.35</td>\n",
       "      <td>10.55</td>\n",
       "      <td>14.05</td>\n",
       "      <td>7.85</td>\n",
       "      <td>15.85</td>\n",
       "      <td>4.308759</td>\n",
       "      <td>15.580612</td>\n",
       "    </tr>\n",
       "    <tr>\n",
       "      <th>2020-06-22 19:00:00+00:00</th>\n",
       "      <td>NaN</td>\n",
       "      <td>NaN</td>\n",
       "      <td>NaN</td>\n",
       "      <td>NaN</td>\n",
       "      <td>NaN</td>\n",
       "      <td>NaN</td>\n",
       "      <td>NaN</td>\n",
       "      <td>NaN</td>\n",
       "      <td>NaN</td>\n",
       "      <td>NaN</td>\n",
       "      <td>NaN</td>\n",
       "      <td>3.997399</td>\n",
       "      <td>14.456481</td>\n",
       "    </tr>\n",
       "  </tbody>\n",
       "</table>\n",
       "</div>"
      ],
      "text/plain": [
       "                           PM-10.0/41B011 (µg/m³)  PM-10.0/41MEU1 (µg/m³)  \\\n",
       "2020-06-22 15:00:00+00:00                    13.0                     NaN   \n",
       "2020-06-22 16:00:00+00:00                    13.5                     NaN   \n",
       "2020-06-22 17:00:00+00:00                    13.5                     NaN   \n",
       "2020-06-22 18:00:00+00:00                    11.5                     NaN   \n",
       "2020-06-22 19:00:00+00:00                     NaN                     NaN   \n",
       "\n",
       "                           PM-10.0/41N043 (µg/m³)  PM-10.0/41R001 (µg/m³)  \\\n",
       "2020-06-22 15:00:00+00:00                    20.5                    20.0   \n",
       "2020-06-22 16:00:00+00:00                    21.0                    18.0   \n",
       "2020-06-22 17:00:00+00:00                    18.5                    20.5   \n",
       "2020-06-22 18:00:00+00:00                    23.0                    19.0   \n",
       "2020-06-22 19:00:00+00:00                     NaN                     NaN   \n",
       "\n",
       "                           PM-10.0/41R012 (µg/m³)  PM-10.0/41WOL1 (µg/m³)  \\\n",
       "2020-06-22 15:00:00+00:00                    23.5                    13.5   \n",
       "2020-06-22 16:00:00+00:00                    15.5                    13.5   \n",
       "2020-06-22 17:00:00+00:00                    26.5                    15.5   \n",
       "2020-06-22 18:00:00+00:00                    28.0                    16.0   \n",
       "2020-06-22 19:00:00+00:00                     NaN                     NaN   \n",
       "\n",
       "                           PM-2.5/41B011 (µg/m³)  PM-2.5/41MEU1 (µg/m³)  \\\n",
       "2020-06-22 15:00:00+00:00                   6.15                    NaN   \n",
       "2020-06-22 16:00:00+00:00                   6.80                    NaN   \n",
       "2020-06-22 17:00:00+00:00                   7.05                    NaN   \n",
       "2020-06-22 18:00:00+00:00                   4.35                  10.55   \n",
       "2020-06-22 19:00:00+00:00                    NaN                    NaN   \n",
       "\n",
       "                           PM-2.5/41N043 (µg/m³)  PM-2.5/41R001 (µg/m³)  \\\n",
       "2020-06-22 15:00:00+00:00                  10.00                   8.30   \n",
       "2020-06-22 16:00:00+00:00                   9.95                   6.45   \n",
       "2020-06-22 17:00:00+00:00                   9.00                   8.50   \n",
       "2020-06-22 18:00:00+00:00                  14.05                   7.85   \n",
       "2020-06-22 19:00:00+00:00                    NaN                    NaN   \n",
       "\n",
       "                           PM-2.5/41R012 (µg/m³)  PM-2.5/Home (µg/m³)  \\\n",
       "2020-06-22 15:00:00+00:00                  12.90            10.145073   \n",
       "2020-06-22 16:00:00+00:00                   7.65             4.691492   \n",
       "2020-06-22 17:00:00+00:00                  13.15             4.602457   \n",
       "2020-06-22 18:00:00+00:00                  15.85             4.308759   \n",
       "2020-06-22 19:00:00+00:00                    NaN             3.997399   \n",
       "\n",
       "                           PM-10.0/Home (µg/m³)  \n",
       "2020-06-22 15:00:00+00:00             22.236008  \n",
       "2020-06-22 16:00:00+00:00             17.103264  \n",
       "2020-06-22 17:00:00+00:00             17.092630  \n",
       "2020-06-22 18:00:00+00:00             15.580612  \n",
       "2020-06-22 19:00:00+00:00             14.456481  "
      ]
     },
     "execution_count": 17,
     "metadata": {},
     "output_type": "execute_result"
    }
   ],
   "source": [
    "df = pd.concat([dref, dsds], axis=1)\n",
    "df.tail()"
   ]
  },
  {
   "cell_type": "markdown",
   "metadata": {},
   "source": [
    "## Render"
   ]
  },
  {
   "cell_type": "code",
   "execution_count": 18,
   "metadata": {},
   "outputs": [],
   "source": [
    "remeas = re.compile('([\\w\\-\\.]{2,8})/.*(\\(.*\\))')\n",
    "resite = re.compile('/([\\w]{4,6}) ')"
   ]
  },
  {
   "cell_type": "code",
   "execution_count": null,
   "metadata": {},
   "outputs": [],
   "source": []
  },
  {
   "cell_type": "code",
   "execution_count": 19,
   "metadata": {},
   "outputs": [
    {
     "data": {
      "image/png": "[encoded data removed]",
      "text/plain": [
       "<Figure size 432x288 with 1 Axes>"
      ]
     },
     "metadata": {
      "needs_background": "light"
     },
     "output_type": "display_data"
    }
   ],
   "source": [
    "fig, axe = plt.subplots()\n",
    "axe = df.filter(regex='2.5').plot(ax=axe)\n",
    "axe.legend(bbox_to_anchor=(1,1))\n",
    "axe.set_ylim([0, 100])\n",
    "axe.grid()\n",
    "labels = [s.get_text() for s in axe.get_legend().get_texts()]\n",
    "axe.set_title(\"Concentration Time Series on [{:%Y-%m-%d}; {:%Y-%m-%d}]\".format(t0, t1))\n",
    "axe.set_xlabel(\"Time\")\n",
    "axe.set_ylabel('{} {}'.format(*remeas.search(labels[0]).groups()))\n",
    "_ = fig.text(0.92, 0.15, \"Sources: Irceline API\\nCredits: J. Landercy\", rotation=90)"
   ]
  },
  {
   "cell_type": "code",
   "execution_count": 20,
   "metadata": {},
   "outputs": [
    {
     "data": {
      "image/png": "[encoded data removed]",
      "text/plain": [
       "<Figure size 432x288 with 1 Axes>"
      ]
     },
     "metadata": {
      "needs_background": "light"
     },
     "output_type": "display_data"
    }
   ],
   "source": [
    "fig, axe = plt.subplots()\n",
    "axe = df.filter(regex='10.0').plot(ax=axe)\n",
    "axe.legend(bbox_to_anchor=(1,1))\n",
    "axe.set_ylim([0, 100])\n",
    "axe.grid()\n",
    "labels = [s.get_text() for s in axe.get_legend().get_texts()]\n",
    "axe.set_title(\"Concentration Time Series on [{:%Y-%m-%d}; {:%Y-%m-%d}]\".format(t0, t1))\n",
    "axe.set_xlabel(\"Time\")\n",
    "axe.set_ylabel('{} {}'.format(*remeas.search(labels[0]).groups()))\n",
    "_ = fig.text(0.92, 0.15, \"Sources: Irceline API\\nCredits: J. Landercy\", rotation=90)"
   ]
  },
  {
   "cell_type": "code",
   "execution_count": null,
   "metadata": {},
   "outputs": [],
   "source": []
  },
  {
   "cell_type": "code",
   "execution_count": 21,
   "metadata": {},
   "outputs": [
    {
     "data": {
      "image/png": "[encoded data removed]",
      "text/plain": [
       "<Figure size 432x288 with 1 Axes>"
      ]
     },
     "metadata": {
      "needs_background": "light"
     },
     "output_type": "display_data"
    }
   ],
   "source": [
    "fig, axe = plt.subplots()\n",
    "axe = df.filter(regex='10.0').boxplot(rot=90, ax=axe)\n",
    "axe.set_ylim([0, 50])\n",
    "labels = [s.get_text() for s in axe.get_xticklabels()]\n",
    "axe.set_xticklabels([resite.search(s).group(1) for s in labels])\n",
    "axe.set_title(\"Concentration Distributions on [{:%Y-%m-%d}; {:%Y-%m-%d}]\".format(t0, t1))\n",
    "axe.set_xlabel(\"Sites\")\n",
    "axe.set_ylabel('{} {}'.format(*remeas.search(labels[0]).groups()))\n",
    "_ = fig.text(0.92, 0.15, \"Sources: Irceline API\\nCredits: J. Landercy\", rotation=90)"
   ]
  },
  {
   "cell_type": "code",
   "execution_count": 22,
   "metadata": {},
   "outputs": [
    {
     "data": {
      "image/png": "[encoded data removed]",
      "text/plain": [
       "<Figure size 432x288 with 1 Axes>"
      ]
     },
     "metadata": {
      "needs_background": "light"
     },
     "output_type": "display_data"
    }
   ],
   "source": [
    "fig, axe = plt.subplots()\n",
    "axe = df.filter(regex='2.5').boxplot(rot=90, ax=axe)\n",
    "axe.set_ylim([0, 50])\n",
    "labels = [s.get_text() for s in axe.get_xticklabels()]\n",
    "axe.set_xticklabels([resite.search(s).group(1) for s in labels])\n",
    "axe.set_title(\"Concentration Distributions on [{:%Y-%m-%d}; {:%Y-%m-%d}]\".format(t0, t1))\n",
    "axe.set_xlabel(\"Sites\")\n",
    "axe.set_ylabel('{} {}'.format(*remeas.search(labels[0]).groups()))\n",
    "_ = fig.text(0.92, 0.15, \"Sources: Irceline API\\nCredits: J. Landercy\", rotation=90)"
   ]
  },
  {
   "cell_type": "code",
   "execution_count": null,
   "metadata": {},
   "outputs": [],
   "source": []
  }
 ],
 "metadata": {
  "kernelspec": {
   "display_name": "Python 3",
   "language": "python",
   "name": "python3"
  },
  "language_info": {
   "codemirror_mode": {
    "name": "ipython",
    "version": 3
   },
   "file_extension": ".py",
   "mimetype": "text/x-python",
   "name": "python",
   "nbconvert_exporter": "python",
   "pygments_lexer": "ipython3",
   "version": "3.7.6"
  }
 },
 "nbformat": 4,
 "nbformat_minor": 4
}
