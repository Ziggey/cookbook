{
 "cells": [
  {
   "cell_type": "code",
   "execution_count": 1,
   "metadata": {},
   "outputs": [],
   "source": [
    "import requests\n",
    "import pandas as pd\n",
    "import pprint"
   ]
  },
  {
   "cell_type": "code",
   "execution_count": 2,
   "metadata": {},
   "outputs": [],
   "source": [
    "keytrans = {\n",
    "    'id': 'serieid',\n",
    "    'uom': 'serieunits',\n",
    "    'station.properties.id': 'siteid',\n",
    "    'station.properties.label': 'sitekey',\n",
    "    'station.geometry.coordinates': 'geom',\n",
    "    'firstValue.timestamp': 'start',\n",
    "    'lastValue.timestamp': 'stop',\n",
    "    #'parameters.feature.id': 'featureid',\n",
    "    #'parameters.feature.label': 'featurekey',\n",
    "    'parameters.phenomenon.id': 'measureid',\n",
    "    'parameters.phenomenon.label': 'measurekey',\n",
    "    #'parameters.category.id': 'categoryid',\n",
    "    #'parameters.category.label': 'categorykey',\n",
    "    #'statusIntervals': 'status'\n",
    "}"
   ]
  },
  {
   "cell_type": "code",
   "execution_count": 3,
   "metadata": {},
   "outputs": [],
   "source": [
    "def getMeta():\n",
    "    # Download Timeserie Metadata:\n",
    "    url = \"https://geo.irceline.be/sos/api/v1/{target:}/?expanded=true\"\n",
    "    rep = requests.get(url.format(target='timeseries'))\n",
    "    df = pd.io.json.json_normalize(rep.json())\n",
    "    # Clean columns:\n",
    "    df = df.loc[:,keytrans.keys()].rename(columns=keytrans)\n",
    "    # Casts & postprocessing\n",
    "    df['start'] = pd.to_datetime(df['start'], origin='unix', unit='ms')\n",
    "    df['stop'] = pd.to_datetime(df['stop'], origin='unix', unit='ms')\n",
    "    df['sitename'] = df['sitekey'].apply(lambda x: \"-\".join(x.split('-')[1:]))\n",
    "    df['sitekey'] = df['sitekey'].apply(lambda x: x.split('-')[0].strip())\n",
    "    df['lat'] = df['geom'].apply(lambda x: x[0])\n",
    "    df['lon'] = df['geom'].apply(lambda x: x[1])\n",
    "    return df.loc[:,['serieid', 'siteid', 'measureid', 'serieunits', 'measurekey', 'sitekey',\n",
    "                     'sitename', 'lat', 'lon', 'start', 'stop']]"
   ]
  },
  {
   "cell_type": "code",
   "execution_count": null,
   "metadata": {},
   "outputs": [],
   "source": [
    "meta = getMeta()\n",
    "meta.sample(5)"
   ]
  },
  {
   "cell_type": "code",
   "execution_count": null,
   "metadata": {},
   "outputs": [],
   "source": []
  },
  {
   "cell_type": "code",
   "execution_count": null,
   "metadata": {},
   "outputs": [],
   "source": []
  }
 ],
 "metadata": {
  "kernelspec": {
   "display_name": "Python 3",
   "language": "python",
   "name": "python3"
  },
  "language_info": {
   "codemirror_mode": {
    "name": "ipython",
    "version": 3
   },
   "file_extension": ".py",
   "mimetype": "text/x-python",
   "name": "python",
   "nbconvert_exporter": "python",
   "pygments_lexer": "ipython3",
   "version": "3.7.3"
  }
 },
 "nbformat": 4,
 "nbformat_minor": 2
}
