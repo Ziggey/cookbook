{
 "cells": [
  {
   "cell_type": "markdown",
   "metadata": {},
   "source": [
    "# Carbon Assessment of Business Travels (Data Correction)"
   ]
  },
  {
   "cell_type": "code",
   "execution_count": 1,
   "metadata": {},
   "outputs": [],
   "source": [
    "import pathlib\n",
    "import pandas as pd\n",
    "import geopandas as gpd\n",
    "from geopy.distance import geodesic\n",
    "import matplotlib.pyplot as plt\n",
    "import seaborn as sns\n",
    "from scipy import stats\n",
    "%matplotlib inline"
   ]
  },
  {
   "cell_type": "code",
   "execution_count": 2,
   "metadata": {},
   "outputs": [],
   "source": [
    "import warnings\n",
    "warnings.simplefilter(\"ignore\")"
   ]
  },
  {
   "cell_type": "markdown",
   "metadata": {},
   "source": [
    "## Forewords\n",
    "\n",
    "### Disclaimer\n",
    "\n",
    " > Data insights provided in this notebook are not validated and may certainly contain errors. They are shared for feedback only with no warranty or liability of any kind.\n",
    "\n",
    "### Credits\n",
    "\n",
    "Please refer (citation) to this preliminary report as follow:\n",
    "\n",
    " > Report [not validated]: *Carbon Assessment of Business Travels (Data Insights)*, Jean Landercy (SmartCampus), 2020-03-20\n",
    "\n",
    "Additionally, also cite sources listed below.\n",
    "\n",
    "### History\n",
    "\n",
    " - 2020-03-18: Started to explore Missions Dataset provided by ULB/DTAS/BEP;\n",
    " - 2020-03-20: First version of this report submitted to review;\n",
    "\n",
    "### Sources\n",
    "\n",
    " - ULB/Faculty, Faculty mission: anonymized administrative forms (CSV);\n",
    " - ULB/DTAS/BEP, Travel Types Carbon Coefficient (Excel);\n",
    " - ArgGIS Hub, Country of the World (GeoJSON);\n",
    " - OSM, Nominatim Geocoding API (JSON);\n",
    " - OSM, Map Web Interface;\n",
    "  "
   ]
  },
  {
   "cell_type": "markdown",
   "metadata": {},
   "source": [
    "## Load datasets"
   ]
  },
  {
   "cell_type": "code",
   "execution_count": 3,
   "metadata": {},
   "outputs": [],
   "source": [
    "travels = pd.read_excel('data/travels.xlsx')"
   ]
  },
  {
   "cell_type": "code",
   "execution_count": 4,
   "metadata": {},
   "outputs": [
    {
     "data": {
      "text/plain": [
       "Index(['travel_id', 'mission_id', 'from_geocodeid', 'from_citycleansed',\n",
       "       'from_ISO2', 'from_city', 'from_lat', 'from_lon', 'from_accuracy',\n",
       "       'from_confidence', 'to_geocodeid', 'to_citycleansed', 'to_ISO2',\n",
       "       'to_city', 'to_lat', 'to_lon', 'to_accuracy', 'to_confidence', 'start',\n",
       "       'stop', 'travel_type', 'acronym', 'faculty', 'elapsed', 'distance'],\n",
       "      dtype='object')"
      ]
     },
     "execution_count": 4,
     "metadata": {},
     "output_type": "execute_result"
    }
   ],
   "source": [
    "travels.columns"
   ]
  },
  {
   "cell_type": "markdown",
   "metadata": {},
   "source": [
    "### Tortuosity assessment"
   ]
  },
  {
   "cell_type": "raw",
   "metadata": {},
   "source": [
    "crook = travels.groupby(['from_geocodeid', 'to_geocodeid', \"from_city\", \"to_city\"])['distance'].agg(['count', 'mean']).sort_values(\"count\", ascending=False).reset_index()\n",
    "dup = crook.loc[:,['from_geocodeid', 'to_geocodeid']].apply(lambda r: tuple(sorted(r)), axis = 1).duplicated()\n",
    "crook = crook.loc[~dup,:]\n",
    "crook.to_excel(\"crookness.xlsx\", index=False)"
   ]
  },
  {
   "cell_type": "code",
   "execution_count": 5,
   "metadata": {},
   "outputs": [],
   "source": [
    "crook = pd.read_excel(\"data/crookness.xlsx\").rename(columns={'mean': 'direct'})\n",
    "crook = crook.dropna().drop(['from_city', 'to_city'], axis=1)"
   ]
  },
  {
   "cell_type": "code",
   "execution_count": 6,
   "metadata": {},
   "outputs": [
    {
     "data": {
      "text/plain": [
       "<matplotlib.axes._subplots.AxesSubplot at 0x1b619de96d8>"
      ]
     },
     "execution_count": 6,
     "metadata": {},
     "output_type": "execute_result"
    },
    {
     "data": {
      "image/png": "[encoded data removed]",
      "text/plain": [
       "<Figure size 432x288 with 1 Axes>"
      ]
     },
     "metadata": {
      "needs_background": "light"
     },
     "output_type": "display_data"
    }
   ],
   "source": [
    "sns.scatterplot(x='direct', y='car', size='count', data=crook)"
   ]
  },
  {
   "cell_type": "code",
   "execution_count": 7,
   "metadata": {},
   "outputs": [
    {
     "data": {
      "text/plain": [
       "(1.2381117602818152, -1.737580003270267)"
      ]
     },
     "execution_count": 7,
     "metadata": {},
     "output_type": "execute_result"
    }
   ],
   "source": [
    "res1 = stats.siegelslopes(crook['car'], crook['direct'])\n",
    "res1"
   ]
  },
  {
   "cell_type": "code",
   "execution_count": 8,
   "metadata": {},
   "outputs": [
    {
     "data": {
      "text/plain": [
       "(1.2349523906804416,\n",
       " -5.2392289157743335,\n",
       " 1.2177128860829995,\n",
       " 1.2553971811374136)"
      ]
     },
     "execution_count": 8,
     "metadata": {},
     "output_type": "execute_result"
    }
   ],
   "source": [
    "res2 = stats.theilslopes(crook['car'], crook['direct'], 0.90)\n",
    "res2"
   ]
  },
  {
   "cell_type": "code",
   "execution_count": 9,
   "metadata": {},
   "outputs": [
    {
     "data": {
      "text/plain": [
       "LinregressResult(slope=1.2436894229514046, intercept=-3.1998439019467924, rvalue=0.9814827889315498, pvalue=2.639451484349886e-56, stderr=0.027842318489030245)"
      ]
     },
     "execution_count": 9,
     "metadata": {},
     "output_type": "execute_result"
    }
   ],
   "source": [
    "res3 = stats.linregress(crook['direct'], crook['car'])\n",
    "res3"
   ]
  },
  {
   "cell_type": "markdown",
   "metadata": {},
   "source": [
    "### Travel Type Classifier"
   ]
  },
  {
   "cell_type": "code",
   "execution_count": 10,
   "metadata": {},
   "outputs": [
    {
     "data": {
      "text/html": [
       "<div>\n",
       "<style scoped>\n",
       "    .dataframe tbody tr th:only-of-type {\n",
       "        vertical-align: middle;\n",
       "    }\n",
       "\n",
       "    .dataframe tbody tr th {\n",
       "        vertical-align: top;\n",
       "    }\n",
       "\n",
       "    .dataframe thead th {\n",
       "        text-align: right;\n",
       "    }\n",
       "</style>\n",
       "<table border=\"1\" class=\"dataframe\">\n",
       "  <thead>\n",
       "    <tr style=\"text-align: right;\">\n",
       "      <th></th>\n",
       "      <th>mission_id</th>\n",
       "      <th>acronym</th>\n",
       "      <th>faculty</th>\n",
       "      <th>start</th>\n",
       "      <th>stop</th>\n",
       "      <th>elapsed</th>\n",
       "      <th>travel_type</th>\n",
       "      <th>from_ISO2</th>\n",
       "      <th>to_ISO2</th>\n",
       "      <th>distance</th>\n",
       "      <th>speed</th>\n",
       "      <th>to_ISO2-1</th>\n",
       "    </tr>\n",
       "  </thead>\n",
       "  <tbody>\n",
       "    <tr>\n",
       "      <th>0</th>\n",
       "      <td>0</td>\n",
       "      <td>DECA</td>\n",
       "      <td>LTC</td>\n",
       "      <td>2010-05-28</td>\n",
       "      <td>2010-06-01</td>\n",
       "      <td>5</td>\n",
       "      <td>unknown</td>\n",
       "      <td>BE</td>\n",
       "      <td>[GB, GB, BE]</td>\n",
       "      <td>810.745964</td>\n",
       "      <td>6.756216</td>\n",
       "      <td>GB</td>\n",
       "    </tr>\n",
       "    <tr>\n",
       "      <th>1</th>\n",
       "      <td>1</td>\n",
       "      <td>SIC</td>\n",
       "      <td>LTC</td>\n",
       "      <td>2010-06-22</td>\n",
       "      <td>2010-07-08</td>\n",
       "      <td>17</td>\n",
       "      <td>unknown</td>\n",
       "      <td>BE</td>\n",
       "      <td>[GB, BE]</td>\n",
       "      <td>645.698894</td>\n",
       "      <td>1.582595</td>\n",
       "      <td>GB</td>\n",
       "    </tr>\n",
       "    <tr>\n",
       "      <th>2</th>\n",
       "      <td>2</td>\n",
       "      <td>SIC</td>\n",
       "      <td>LTC</td>\n",
       "      <td>2010-06-22</td>\n",
       "      <td>2010-07-08</td>\n",
       "      <td>17</td>\n",
       "      <td>unknown</td>\n",
       "      <td>BE</td>\n",
       "      <td>[GB, BE]</td>\n",
       "      <td>645.698894</td>\n",
       "      <td>1.582595</td>\n",
       "      <td>GB</td>\n",
       "    </tr>\n",
       "    <tr>\n",
       "      <th>3</th>\n",
       "      <td>3</td>\n",
       "      <td>SIC</td>\n",
       "      <td>LTC</td>\n",
       "      <td>2010-07-12</td>\n",
       "      <td>2010-07-17</td>\n",
       "      <td>6</td>\n",
       "      <td>unknown</td>\n",
       "      <td>BE</td>\n",
       "      <td>[GB, BE]</td>\n",
       "      <td>645.698894</td>\n",
       "      <td>4.484020</td>\n",
       "      <td>GB</td>\n",
       "    </tr>\n",
       "    <tr>\n",
       "      <th>4</th>\n",
       "      <td>4</td>\n",
       "      <td>SIC</td>\n",
       "      <td>LTC</td>\n",
       "      <td>2010-05-31</td>\n",
       "      <td>2010-06-01</td>\n",
       "      <td>2</td>\n",
       "      <td>unknown</td>\n",
       "      <td>BE</td>\n",
       "      <td>[FR, BE]</td>\n",
       "      <td>528.587028</td>\n",
       "      <td>11.012230</td>\n",
       "      <td>FR</td>\n",
       "    </tr>\n",
       "    <tr>\n",
       "      <th>...</th>\n",
       "      <td>...</td>\n",
       "      <td>...</td>\n",
       "      <td>...</td>\n",
       "      <td>...</td>\n",
       "      <td>...</td>\n",
       "      <td>...</td>\n",
       "      <td>...</td>\n",
       "      <td>...</td>\n",
       "      <td>...</td>\n",
       "      <td>...</td>\n",
       "      <td>...</td>\n",
       "      <td>...</td>\n",
       "    </tr>\n",
       "    <tr>\n",
       "      <th>6125</th>\n",
       "      <td>6125</td>\n",
       "      <td>DECS</td>\n",
       "      <td>SBS</td>\n",
       "      <td>2020-02-20</td>\n",
       "      <td>2020-02-20</td>\n",
       "      <td>1</td>\n",
       "      <td>train</td>\n",
       "      <td>BE</td>\n",
       "      <td>[GB, BE]</td>\n",
       "      <td>645.698894</td>\n",
       "      <td>26.904121</td>\n",
       "      <td>GB</td>\n",
       "    </tr>\n",
       "    <tr>\n",
       "      <th>6126</th>\n",
       "      <td>6126</td>\n",
       "      <td>DECS</td>\n",
       "      <td>SBS</td>\n",
       "      <td>2020-02-23</td>\n",
       "      <td>2020-02-28</td>\n",
       "      <td>6</td>\n",
       "      <td>train</td>\n",
       "      <td>BE</td>\n",
       "      <td>[FR, FR, FR, BE]</td>\n",
       "      <td>1923.612609</td>\n",
       "      <td>13.358421</td>\n",
       "      <td>FR</td>\n",
       "    </tr>\n",
       "    <tr>\n",
       "      <th>6127</th>\n",
       "      <td>6127</td>\n",
       "      <td>L&amp;L</td>\n",
       "      <td>LTC</td>\n",
       "      <td>2020-02-16</td>\n",
       "      <td>2020-02-18</td>\n",
       "      <td>3</td>\n",
       "      <td>train</td>\n",
       "      <td>BE</td>\n",
       "      <td>[FR, BE]</td>\n",
       "      <td>1536.399657</td>\n",
       "      <td>21.338884</td>\n",
       "      <td>FR</td>\n",
       "    </tr>\n",
       "    <tr>\n",
       "      <th>6128</th>\n",
       "      <td>6128</td>\n",
       "      <td>DECS</td>\n",
       "      <td>SBS</td>\n",
       "      <td>2020-03-02</td>\n",
       "      <td>2020-03-03</td>\n",
       "      <td>2</td>\n",
       "      <td>train</td>\n",
       "      <td>NL</td>\n",
       "      <td>[FR, NL]</td>\n",
       "      <td>860.923418</td>\n",
       "      <td>17.935905</td>\n",
       "      <td>FR</td>\n",
       "    </tr>\n",
       "    <tr>\n",
       "      <th>6129</th>\n",
       "      <td>6129</td>\n",
       "      <td>L&amp;L</td>\n",
       "      <td>LTC</td>\n",
       "      <td>2020-01-28</td>\n",
       "      <td>2020-02-06</td>\n",
       "      <td>10</td>\n",
       "      <td>plane/eco</td>\n",
       "      <td>BE</td>\n",
       "      <td>[US, US, BE]</td>\n",
       "      <td>13199.124760</td>\n",
       "      <td>54.996353</td>\n",
       "      <td>US</td>\n",
       "    </tr>\n",
       "  </tbody>\n",
       "</table>\n",
       "<p>6130 rows × 12 columns</p>\n",
       "</div>"
      ],
      "text/plain": [
       "      mission_id acronym faculty      start       stop  elapsed travel_type  \\\n",
       "0              0    DECA     LTC 2010-05-28 2010-06-01        5     unknown   \n",
       "1              1     SIC     LTC 2010-06-22 2010-07-08       17     unknown   \n",
       "2              2     SIC     LTC 2010-06-22 2010-07-08       17     unknown   \n",
       "3              3     SIC     LTC 2010-07-12 2010-07-17        6     unknown   \n",
       "4              4     SIC     LTC 2010-05-31 2010-06-01        2     unknown   \n",
       "...          ...     ...     ...        ...        ...      ...         ...   \n",
       "6125        6125    DECS     SBS 2020-02-20 2020-02-20        1       train   \n",
       "6126        6126    DECS     SBS 2020-02-23 2020-02-28        6       train   \n",
       "6127        6127     L&L     LTC 2020-02-16 2020-02-18        3       train   \n",
       "6128        6128    DECS     SBS 2020-03-02 2020-03-03        2       train   \n",
       "6129        6129     L&L     LTC 2020-01-28 2020-02-06       10   plane/eco   \n",
       "\n",
       "     from_ISO2           to_ISO2      distance      speed to_ISO2-1  \n",
       "0           BE      [GB, GB, BE]    810.745964   6.756216        GB  \n",
       "1           BE          [GB, BE]    645.698894   1.582595        GB  \n",
       "2           BE          [GB, BE]    645.698894   1.582595        GB  \n",
       "3           BE          [GB, BE]    645.698894   4.484020        GB  \n",
       "4           BE          [FR, BE]    528.587028  11.012230        FR  \n",
       "...        ...               ...           ...        ...       ...  \n",
       "6125        BE          [GB, BE]    645.698894  26.904121        GB  \n",
       "6126        BE  [FR, FR, FR, BE]   1923.612609  13.358421        FR  \n",
       "6127        BE          [FR, BE]   1536.399657  21.338884        FR  \n",
       "6128        NL          [FR, NL]    860.923418  17.935905        FR  \n",
       "6129        BE      [US, US, BE]  13199.124760  54.996353        US  \n",
       "\n",
       "[6130 rows x 12 columns]"
      ]
     },
     "execution_count": 10,
     "metadata": {},
     "output_type": "execute_result"
    }
   ],
   "source": [
    "missions = travels.groupby('mission_id').agg({\n",
    "    'acronym': 'first', 'faculty': 'first',\n",
    "    'start': 'first', 'stop':'first', 'elapsed': 'first', 'travel_type': 'first',\n",
    "    'from_ISO2': 'first', 'to_ISO2': list, 'distance': 'sum',\n",
    "}).reset_index()\n",
    "missions['speed'] = missions['distance']/(24*missions['elapsed'])\n",
    "missions['travel_type'] = missions['travel_type'].fillna('unknown')\n",
    "missions['to_ISO2-1'] = missions['to_ISO2'].apply(lambda x: x[0])\n",
    "missions"
   ]
  },
  {
   "cell_type": "code",
   "execution_count": 11,
   "metadata": {},
   "outputs": [],
   "source": [
    "train  = missions.loc[~(missions['travel_type']=='unknown'),:]"
   ]
  },
  {
   "cell_type": "code",
   "execution_count": 12,
   "metadata": {},
   "outputs": [],
   "source": [
    "tttrans = {\n",
    "    'plane/short': 'plane',\n",
    "    'plane/eco': 'plane',\n",
    "    'car/gas': 'car',\n",
    "    'car/diesel': 'car',\n",
    "    'bus': 'car',\n",
    "    'plane/first': 'plane'\n",
    "}\n",
    "train['travel_type'] = train['travel_type'].replace(tttrans)"
   ]
  },
  {
   "cell_type": "code",
   "execution_count": 13,
   "metadata": {},
   "outputs": [],
   "source": [
    "train.loc[(train['travel_type']=='train')&(train['distance']>2000),'travel_type'] = 'plane'\n",
    "train.loc[(train['travel_type']=='car')&(train['distance']>70),'travel_type'] = 'plane'"
   ]
  },
  {
   "cell_type": "code",
   "execution_count": null,
   "metadata": {},
   "outputs": [],
   "source": []
  },
  {
   "cell_type": "code",
   "execution_count": 14,
   "metadata": {},
   "outputs": [
    {
     "data": {
      "image/png": "[encoded data removed]",
      "text/plain": [
       "<Figure size 432x288 with 1 Axes>"
      ]
     },
     "metadata": {
      "needs_background": "light"
     },
     "output_type": "display_data"
    }
   ],
   "source": [
    "axe = sns.scatterplot(x='speed', y='distance', hue='travel_type', data=train)\n",
    "axe.set_title(\"Mission Mechanical Quantities Scatter Plot\")\n",
    "axe.set_xlabel(r\"Global Speed, $v$ $[\\mathrm{km\\cdot h^{-1}}]$\")\n",
    "axe.set_ylabel(r\"Distance, $d$ $[\\mathrm{km}]$\")\n",
    "axe.legend(bbox_to_anchor=(1,1), loc='upper left')\n",
    "axe.grid()"
   ]
  },
  {
   "cell_type": "code",
   "execution_count": 15,
   "metadata": {},
   "outputs": [],
   "source": [
    "import numpy as np\n",
    "from sklearn.model_selection import train_test_split\n",
    "from sklearn.preprocessing import StandardScaler\n",
    "from sklearn.neighbors import KNeighborsClassifier"
   ]
  },
  {
   "cell_type": "code",
   "execution_count": 16,
   "metadata": {},
   "outputs": [],
   "source": [
    "tkey = ['distance', 'speed', 'travel_type']\n",
    "X = train[tkey]"
   ]
  },
  {
   "cell_type": "code",
   "execution_count": 17,
   "metadata": {},
   "outputs": [],
   "source": [
    "y = pd.Categorical(X.pop(\"travel_type\"))"
   ]
  },
  {
   "cell_type": "code",
   "execution_count": 18,
   "metadata": {},
   "outputs": [],
   "source": [
    "X_train, X_test, y_train, y_test = train_test_split(X, y.codes, test_size=0.25, random_state=20)"
   ]
  },
  {
   "cell_type": "raw",
   "metadata": {},
   "source": [
    "sc = StandardScaler()\n",
    "sc.fit(X_train)\n",
    "X_train = sc.transform(X_train)\n",
    "X_test = sc.transform(X_test)"
   ]
  },
  {
   "cell_type": "code",
   "execution_count": 19,
   "metadata": {},
   "outputs": [],
   "source": [
    "X_combined_std = np.vstack((X_train, X_test))\n",
    "y_combined = np.hstack((y_train, y_test))"
   ]
  },
  {
   "cell_type": "code",
   "execution_count": 20,
   "metadata": {},
   "outputs": [
    {
     "data": {
      "text/plain": [
       "KNeighborsClassifier(algorithm='auto', leaf_size=30, metric='minkowski',\n",
       "           metric_params=None, n_jobs=None, n_neighbors=5, p=2,\n",
       "           weights='uniform')"
      ]
     },
     "execution_count": 20,
     "metadata": {},
     "output_type": "execute_result"
    }
   ],
   "source": [
    "knn = KNeighborsClassifier(n_neighbors=5, p=2, metric='minkowski')\n",
    "knn.fit(X_train, y_train)"
   ]
  },
  {
   "cell_type": "code",
   "execution_count": 21,
   "metadata": {},
   "outputs": [
    {
     "data": {
      "text/plain": [
       "0.8911070780399274"
      ]
     },
     "execution_count": 21,
     "metadata": {},
     "output_type": "execute_result"
    }
   ],
   "source": [
    "knn.score(X_train, y_train)"
   ]
  },
  {
   "cell_type": "code",
   "execution_count": 22,
   "metadata": {},
   "outputs": [
    {
     "data": {
      "text/plain": [
       "0.8206521739130435"
      ]
     },
     "execution_count": 22,
     "metadata": {},
     "output_type": "execute_result"
    }
   ],
   "source": [
    "knn.score(X_test, y_test)"
   ]
  },
  {
   "cell_type": "code",
   "execution_count": 23,
   "metadata": {},
   "outputs": [
    {
     "data": {
      "text/plain": [
       "array([0, 1, 2], dtype=int8)"
      ]
     },
     "execution_count": 23,
     "metadata": {},
     "output_type": "execute_result"
    }
   ],
   "source": [
    "plab = knn.predict(missions.loc[missions['travel_type']=='unknown',tkey].drop('travel_type', axis=1))\n",
    "np.unique(plab)"
   ]
  },
  {
   "cell_type": "code",
   "execution_count": 24,
   "metadata": {},
   "outputs": [],
   "source": [
    "q = missions['travel_type']=='unknown'\n",
    "missions.loc[q,'travel_code'] = plab\n",
    "missions.loc[~q,'travel_code'] = y.codes\n",
    "missions['travel_code'] = missions['travel_code'].astype(int).replace({0: 'car', 1: 'plane', 2: 'train'})"
   ]
  },
  {
   "cell_type": "code",
   "execution_count": 25,
   "metadata": {},
   "outputs": [
    {
     "data": {
      "text/html": [
       "<div>\n",
       "<style scoped>\n",
       "    .dataframe tbody tr th:only-of-type {\n",
       "        vertical-align: middle;\n",
       "    }\n",
       "\n",
       "    .dataframe tbody tr th {\n",
       "        vertical-align: top;\n",
       "    }\n",
       "\n",
       "    .dataframe thead th {\n",
       "        text-align: right;\n",
       "    }\n",
       "</style>\n",
       "<table border=\"1\" class=\"dataframe\">\n",
       "  <thead>\n",
       "    <tr style=\"text-align: right;\">\n",
       "      <th></th>\n",
       "      <th>mission_id</th>\n",
       "      <th>acronym</th>\n",
       "      <th>faculty</th>\n",
       "      <th>start</th>\n",
       "      <th>stop</th>\n",
       "      <th>elapsed</th>\n",
       "      <th>travel_type</th>\n",
       "      <th>from_ISO2</th>\n",
       "      <th>to_ISO2</th>\n",
       "      <th>distance</th>\n",
       "      <th>speed</th>\n",
       "      <th>to_ISO2-1</th>\n",
       "      <th>travel_code</th>\n",
       "    </tr>\n",
       "  </thead>\n",
       "  <tbody>\n",
       "    <tr>\n",
       "      <th>0</th>\n",
       "      <td>0</td>\n",
       "      <td>DECA</td>\n",
       "      <td>LTC</td>\n",
       "      <td>2010-05-28</td>\n",
       "      <td>2010-06-01</td>\n",
       "      <td>5</td>\n",
       "      <td>unknown</td>\n",
       "      <td>BE</td>\n",
       "      <td>[GB, GB, BE]</td>\n",
       "      <td>810.745964</td>\n",
       "      <td>6.756216</td>\n",
       "      <td>GB</td>\n",
       "      <td>train</td>\n",
       "    </tr>\n",
       "    <tr>\n",
       "      <th>1</th>\n",
       "      <td>1</td>\n",
       "      <td>SIC</td>\n",
       "      <td>LTC</td>\n",
       "      <td>2010-06-22</td>\n",
       "      <td>2010-07-08</td>\n",
       "      <td>17</td>\n",
       "      <td>unknown</td>\n",
       "      <td>BE</td>\n",
       "      <td>[GB, BE]</td>\n",
       "      <td>645.698894</td>\n",
       "      <td>1.582595</td>\n",
       "      <td>GB</td>\n",
       "      <td>train</td>\n",
       "    </tr>\n",
       "    <tr>\n",
       "      <th>2</th>\n",
       "      <td>2</td>\n",
       "      <td>SIC</td>\n",
       "      <td>LTC</td>\n",
       "      <td>2010-06-22</td>\n",
       "      <td>2010-07-08</td>\n",
       "      <td>17</td>\n",
       "      <td>unknown</td>\n",
       "      <td>BE</td>\n",
       "      <td>[GB, BE]</td>\n",
       "      <td>645.698894</td>\n",
       "      <td>1.582595</td>\n",
       "      <td>GB</td>\n",
       "      <td>train</td>\n",
       "    </tr>\n",
       "    <tr>\n",
       "      <th>3</th>\n",
       "      <td>3</td>\n",
       "      <td>SIC</td>\n",
       "      <td>LTC</td>\n",
       "      <td>2010-07-12</td>\n",
       "      <td>2010-07-17</td>\n",
       "      <td>6</td>\n",
       "      <td>unknown</td>\n",
       "      <td>BE</td>\n",
       "      <td>[GB, BE]</td>\n",
       "      <td>645.698894</td>\n",
       "      <td>4.484020</td>\n",
       "      <td>GB</td>\n",
       "      <td>train</td>\n",
       "    </tr>\n",
       "    <tr>\n",
       "      <th>4</th>\n",
       "      <td>4</td>\n",
       "      <td>SIC</td>\n",
       "      <td>LTC</td>\n",
       "      <td>2010-05-31</td>\n",
       "      <td>2010-06-01</td>\n",
       "      <td>2</td>\n",
       "      <td>unknown</td>\n",
       "      <td>BE</td>\n",
       "      <td>[FR, BE]</td>\n",
       "      <td>528.587028</td>\n",
       "      <td>11.012230</td>\n",
       "      <td>FR</td>\n",
       "      <td>train</td>\n",
       "    </tr>\n",
       "    <tr>\n",
       "      <th>...</th>\n",
       "      <td>...</td>\n",
       "      <td>...</td>\n",
       "      <td>...</td>\n",
       "      <td>...</td>\n",
       "      <td>...</td>\n",
       "      <td>...</td>\n",
       "      <td>...</td>\n",
       "      <td>...</td>\n",
       "      <td>...</td>\n",
       "      <td>...</td>\n",
       "      <td>...</td>\n",
       "      <td>...</td>\n",
       "      <td>...</td>\n",
       "    </tr>\n",
       "    <tr>\n",
       "      <th>6125</th>\n",
       "      <td>6125</td>\n",
       "      <td>DECS</td>\n",
       "      <td>SBS</td>\n",
       "      <td>2020-02-20</td>\n",
       "      <td>2020-02-20</td>\n",
       "      <td>1</td>\n",
       "      <td>train</td>\n",
       "      <td>BE</td>\n",
       "      <td>[GB, BE]</td>\n",
       "      <td>645.698894</td>\n",
       "      <td>26.904121</td>\n",
       "      <td>GB</td>\n",
       "      <td>train</td>\n",
       "    </tr>\n",
       "    <tr>\n",
       "      <th>6126</th>\n",
       "      <td>6126</td>\n",
       "      <td>DECS</td>\n",
       "      <td>SBS</td>\n",
       "      <td>2020-02-23</td>\n",
       "      <td>2020-02-28</td>\n",
       "      <td>6</td>\n",
       "      <td>train</td>\n",
       "      <td>BE</td>\n",
       "      <td>[FR, FR, FR, BE]</td>\n",
       "      <td>1923.612609</td>\n",
       "      <td>13.358421</td>\n",
       "      <td>FR</td>\n",
       "      <td>train</td>\n",
       "    </tr>\n",
       "    <tr>\n",
       "      <th>6127</th>\n",
       "      <td>6127</td>\n",
       "      <td>L&amp;L</td>\n",
       "      <td>LTC</td>\n",
       "      <td>2020-02-16</td>\n",
       "      <td>2020-02-18</td>\n",
       "      <td>3</td>\n",
       "      <td>train</td>\n",
       "      <td>BE</td>\n",
       "      <td>[FR, BE]</td>\n",
       "      <td>1536.399657</td>\n",
       "      <td>21.338884</td>\n",
       "      <td>FR</td>\n",
       "      <td>train</td>\n",
       "    </tr>\n",
       "    <tr>\n",
       "      <th>6128</th>\n",
       "      <td>6128</td>\n",
       "      <td>DECS</td>\n",
       "      <td>SBS</td>\n",
       "      <td>2020-03-02</td>\n",
       "      <td>2020-03-03</td>\n",
       "      <td>2</td>\n",
       "      <td>train</td>\n",
       "      <td>NL</td>\n",
       "      <td>[FR, NL]</td>\n",
       "      <td>860.923418</td>\n",
       "      <td>17.935905</td>\n",
       "      <td>FR</td>\n",
       "      <td>train</td>\n",
       "    </tr>\n",
       "    <tr>\n",
       "      <th>6129</th>\n",
       "      <td>6129</td>\n",
       "      <td>L&amp;L</td>\n",
       "      <td>LTC</td>\n",
       "      <td>2020-01-28</td>\n",
       "      <td>2020-02-06</td>\n",
       "      <td>10</td>\n",
       "      <td>plane/eco</td>\n",
       "      <td>BE</td>\n",
       "      <td>[US, US, BE]</td>\n",
       "      <td>13199.124760</td>\n",
       "      <td>54.996353</td>\n",
       "      <td>US</td>\n",
       "      <td>plane</td>\n",
       "    </tr>\n",
       "  </tbody>\n",
       "</table>\n",
       "<p>6130 rows × 13 columns</p>\n",
       "</div>"
      ],
      "text/plain": [
       "      mission_id acronym faculty      start       stop  elapsed travel_type  \\\n",
       "0              0    DECA     LTC 2010-05-28 2010-06-01        5     unknown   \n",
       "1              1     SIC     LTC 2010-06-22 2010-07-08       17     unknown   \n",
       "2              2     SIC     LTC 2010-06-22 2010-07-08       17     unknown   \n",
       "3              3     SIC     LTC 2010-07-12 2010-07-17        6     unknown   \n",
       "4              4     SIC     LTC 2010-05-31 2010-06-01        2     unknown   \n",
       "...          ...     ...     ...        ...        ...      ...         ...   \n",
       "6125        6125    DECS     SBS 2020-02-20 2020-02-20        1       train   \n",
       "6126        6126    DECS     SBS 2020-02-23 2020-02-28        6       train   \n",
       "6127        6127     L&L     LTC 2020-02-16 2020-02-18        3       train   \n",
       "6128        6128    DECS     SBS 2020-03-02 2020-03-03        2       train   \n",
       "6129        6129     L&L     LTC 2020-01-28 2020-02-06       10   plane/eco   \n",
       "\n",
       "     from_ISO2           to_ISO2      distance      speed to_ISO2-1  \\\n",
       "0           BE      [GB, GB, BE]    810.745964   6.756216        GB   \n",
       "1           BE          [GB, BE]    645.698894   1.582595        GB   \n",
       "2           BE          [GB, BE]    645.698894   1.582595        GB   \n",
       "3           BE          [GB, BE]    645.698894   4.484020        GB   \n",
       "4           BE          [FR, BE]    528.587028  11.012230        FR   \n",
       "...        ...               ...           ...        ...       ...   \n",
       "6125        BE          [GB, BE]    645.698894  26.904121        GB   \n",
       "6126        BE  [FR, FR, FR, BE]   1923.612609  13.358421        FR   \n",
       "6127        BE          [FR, BE]   1536.399657  21.338884        FR   \n",
       "6128        NL          [FR, NL]    860.923418  17.935905        FR   \n",
       "6129        BE      [US, US, BE]  13199.124760  54.996353        US   \n",
       "\n",
       "     travel_code  \n",
       "0          train  \n",
       "1          train  \n",
       "2          train  \n",
       "3          train  \n",
       "4          train  \n",
       "...          ...  \n",
       "6125       train  \n",
       "6126       train  \n",
       "6127       train  \n",
       "6128       train  \n",
       "6129       plane  \n",
       "\n",
       "[6130 rows x 13 columns]"
      ]
     },
     "execution_count": 25,
     "metadata": {},
     "output_type": "execute_result"
    }
   ],
   "source": [
    "missions"
   ]
  },
  {
   "cell_type": "code",
   "execution_count": 26,
   "metadata": {},
   "outputs": [
    {
     "data": {
      "text/html": [
       "<div>\n",
       "<style scoped>\n",
       "    .dataframe tbody tr th:only-of-type {\n",
       "        vertical-align: middle;\n",
       "    }\n",
       "\n",
       "    .dataframe tbody tr th {\n",
       "        vertical-align: top;\n",
       "    }\n",
       "\n",
       "    .dataframe thead th {\n",
       "        text-align: right;\n",
       "    }\n",
       "</style>\n",
       "<table border=\"1\" class=\"dataframe\">\n",
       "  <thead>\n",
       "    <tr style=\"text-align: right;\">\n",
       "      <th></th>\n",
       "      <th>travel_code_id</th>\n",
       "      <th>travel_code</th>\n",
       "      <th>crookness_coef</th>\n",
       "      <th>carbon_coef</th>\n",
       "    </tr>\n",
       "  </thead>\n",
       "  <tbody>\n",
       "    <tr>\n",
       "      <th>0</th>\n",
       "      <td>0</td>\n",
       "      <td>car</td>\n",
       "      <td>1.24</td>\n",
       "      <td>0.170000</td>\n",
       "    </tr>\n",
       "    <tr>\n",
       "      <th>1</th>\n",
       "      <td>1</td>\n",
       "      <td>plane</td>\n",
       "      <td>1.00</td>\n",
       "      <td>0.116391</td>\n",
       "    </tr>\n",
       "    <tr>\n",
       "      <th>2</th>\n",
       "      <td>2</td>\n",
       "      <td>train</td>\n",
       "      <td>1.15</td>\n",
       "      <td>0.031076</td>\n",
       "    </tr>\n",
       "  </tbody>\n",
       "</table>\n",
       "</div>"
      ],
      "text/plain": [
       "   travel_code_id travel_code  crookness_coef  carbon_coef\n",
       "0               0         car            1.24     0.170000\n",
       "1               1       plane            1.00     0.116391\n",
       "2               2       train            1.15     0.031076"
      ]
     },
     "execution_count": 26,
     "metadata": {},
     "output_type": "execute_result"
    }
   ],
   "source": [
    "coef = pd.read_excel(\"data/carbon.xlsx\", sheet_name=\"Aggregated\")\n",
    "coef"
   ]
  },
  {
   "cell_type": "code",
   "execution_count": 27,
   "metadata": {},
   "outputs": [],
   "source": [
    "final = missions.merge(coef)"
   ]
  },
  {
   "cell_type": "code",
   "execution_count": 28,
   "metadata": {},
   "outputs": [],
   "source": [
    "final['cdistance'] = final['distance']*final['crookness_coef']\n",
    "final['CO2'] = final['distance']*final['carbon_coef']"
   ]
  },
  {
   "cell_type": "code",
   "execution_count": 29,
   "metadata": {},
   "outputs": [],
   "source": [
    "final = final.sort_values(\"mission_id\")"
   ]
  },
  {
   "cell_type": "code",
   "execution_count": 30,
   "metadata": {},
   "outputs": [],
   "source": [
    "final.to_excel(\"data/missions_ai.xlsx\", index=False)"
   ]
  },
  {
   "cell_type": "code",
   "execution_count": null,
   "metadata": {},
   "outputs": [],
   "source": []
  },
  {
   "cell_type": "code",
   "execution_count": null,
   "metadata": {},
   "outputs": [],
   "source": []
  },
  {
   "cell_type": "code",
   "execution_count": null,
   "metadata": {},
   "outputs": [],
   "source": []
  }
 ],
 "metadata": {
  "kernelspec": {
   "display_name": "Python 3",
   "language": "python",
   "name": "python3"
  },
  "language_info": {
   "codemirror_mode": {
    "name": "ipython",
    "version": 3
   },
   "file_extension": ".py",
   "mimetype": "text/x-python",
   "name": "python",
   "nbconvert_exporter": "python",
   "pygments_lexer": "ipython3",
   "version": "3.7.3"
  }
 },
 "nbformat": 4,
 "nbformat_minor": 2
}
