{
 "cells": [
  {
   "cell_type": "markdown",
   "metadata": {},
   "source": [
    "# Carbon Assessment of Business Travels (Data Insights)"
   ]
  },
  {
   "cell_type": "code",
   "execution_count": 16,
   "metadata": {},
   "outputs": [],
   "source": [
    "import pathlib\n",
    "import pandas as pd\n",
    "import geopandas as gpd\n",
    "from geopy.distance import geodesic\n",
    "import matplotlib.pyplot as plt\n",
    "import seaborn as sns\n",
    "from scipy import stats\n",
    "%matplotlib inline"
   ]
  },
  {
   "cell_type": "code",
   "execution_count": 2,
   "metadata": {},
   "outputs": [],
   "source": [
    "import warnings\n",
    "warnings.simplefilter(\"ignore\")"
   ]
  },
  {
   "cell_type": "markdown",
   "metadata": {},
   "source": [
    "## Forewords\n",
    "\n",
    "### Disclaimer\n",
    "\n",
    " > Data insights provided in this notebook are not validated and may certainly contain errors. They are shared for feedback only with no warranty or liability of any kind.\n",
    "\n",
    "### Credits\n",
    "\n",
    "Please refer (citation) to this preliminary report as follow:\n",
    "\n",
    " > Report [not validated]: *Carbon Assessment of Business Travels (Data Insights)*, Jean Landercy (SmartCampus), 2020-03-20\n",
    "\n",
    "Additionally, also cite sources listed below.\n",
    "\n",
    "### History\n",
    "\n",
    " - 2020-03-18: Started to explore Missions Dataset provided by ULB/DTAS/BEP;\n",
    " - 2020-03-20: First version of this report submitted to review;\n",
    "\n",
    "### Sources\n",
    "\n",
    " - ULB/Faculty, Faculty mission: anonymized administrative forms (CSV);\n",
    " - ULB/DTAS/BEP, Travel Types Carbon Coefficient (Excel);\n",
    " - ArgGIS Hub, Country of the World (GeoJSON);\n",
    " - OSM, Nominatim Geocoding API (JSON);\n",
    "  "
   ]
  },
  {
   "cell_type": "markdown",
   "metadata": {},
   "source": [
    "## Load datasets"
   ]
  },
  {
   "cell_type": "code",
   "execution_count": 3,
   "metadata": {},
   "outputs": [],
   "source": [
    "travels = pd.read_excel('data/travels.xlsx')"
   ]
  },
  {
   "cell_type": "code",
   "execution_count": 4,
   "metadata": {},
   "outputs": [
    {
     "data": {
      "text/plain": [
       "Index(['travel_id', 'mission_id', 'from_geocodeid', 'from_citycleansed',\n",
       "       'from_ISO2', 'from_city', 'from_lat', 'from_lon', 'from_accuracy',\n",
       "       'from_confidence', 'to_geocodeid', 'to_citycleansed', 'to_ISO2',\n",
       "       'to_city', 'to_lat', 'to_lon', 'to_accuracy', 'to_confidence', 'start',\n",
       "       'stop', 'travel_type', 'acronym', 'faculty', 'elapsed', 'distance'],\n",
       "      dtype='object')"
      ]
     },
     "execution_count": 4,
     "metadata": {},
     "output_type": "execute_result"
    }
   ],
   "source": [
    "travels.columns"
   ]
  },
  {
   "cell_type": "raw",
   "metadata": {},
   "source": [
    "crook = travels.groupby(['from_geocodeid', 'to_geocodeid', \"from_city\", \"to_city\"])['distance'].agg(['count', 'mean']).sort_values(\"count\", ascending=False).reset_index()\n",
    "dup = crook.loc[:,['from_geocodeid', 'to_geocodeid']].apply(lambda r: tuple(sorted(r)), axis = 1).duplicated()\n",
    "crook = crook.loc[~dup,:]\n",
    "crook.to_excel(\"crookness.xlsx\", index=False)"
   ]
  },
  {
   "cell_type": "code",
   "execution_count": 12,
   "metadata": {},
   "outputs": [],
   "source": [
    "crook = pd.read_excel(\"data/crookness.xlsx\").rename(columns={'mean': 'direct'})\n",
    "crook = crook.dropna().drop(['from_city', 'to_city'], axis=1)"
   ]
  },
  {
   "cell_type": "code",
   "execution_count": 14,
   "metadata": {},
   "outputs": [
    {
     "data": {
      "text/plain": [
       "<matplotlib.axes._subplots.AxesSubplot at 0x21e7d8a2048>"
      ]
     },
     "execution_count": 14,
     "metadata": {},
     "output_type": "execute_result"
    },
    {
     "data": {
      "image/png": "[encoded data removed]",
      "text/plain": [
       "<Figure size 432x288 with 1 Axes>"
      ]
     },
     "metadata": {
      "needs_background": "light"
     },
     "output_type": "display_data"
    }
   ],
   "source": [
    "sns.scatterplot(x='direct', y='car', size='count', data=crook)"
   ]
  },
  {
   "cell_type": "code",
   "execution_count": 19,
   "metadata": {},
   "outputs": [
    {
     "data": {
      "text/plain": [
       "(1.2381117602818152, -1.737580003270267)"
      ]
     },
     "execution_count": 19,
     "metadata": {},
     "output_type": "execute_result"
    }
   ],
   "source": [
    "res1 = stats.siegelslopes(crook['car'], crook['direct'])\n",
    "res1"
   ]
  },
  {
   "cell_type": "code",
   "execution_count": 23,
   "metadata": {},
   "outputs": [
    {
     "data": {
      "text/plain": [
       "(1.2349523906804416,\n",
       " -5.2392289157743335,\n",
       " 1.2177128860829995,\n",
       " 1.2553971811374136)"
      ]
     },
     "execution_count": 23,
     "metadata": {},
     "output_type": "execute_result"
    }
   ],
   "source": [
    "res2 = stats.theilslopes(crook['car'], crook['direct'], 0.90)\n",
    "res2"
   ]
  },
  {
   "cell_type": "code",
   "execution_count": 24,
   "metadata": {},
   "outputs": [
    {
     "data": {
      "text/plain": [
       "LinregressResult(slope=1.2436894229514046, intercept=-3.1998439019467924, rvalue=0.9814827889315498, pvalue=2.639451484349886e-56, stderr=0.027842318489030245)"
      ]
     },
     "execution_count": 24,
     "metadata": {},
     "output_type": "execute_result"
    }
   ],
   "source": [
    "res3 = stats.linregress(crook['direct'], crook['car'])\n",
    "res3"
   ]
  },
  {
   "cell_type": "code",
   "execution_count": null,
   "metadata": {},
   "outputs": [],
   "source": []
  }
 ],
 "metadata": {
  "kernelspec": {
   "display_name": "Python 3",
   "language": "python",
   "name": "python3"
  },
  "language_info": {
   "codemirror_mode": {
    "name": "ipython",
    "version": 3
   },
   "file_extension": ".py",
   "mimetype": "text/x-python",
   "name": "python",
   "nbconvert_exporter": "python",
   "pygments_lexer": "ipython3",
   "version": "3.7.3"
  }
 },
 "nbformat": 4,
 "nbformat_minor": 2
}
