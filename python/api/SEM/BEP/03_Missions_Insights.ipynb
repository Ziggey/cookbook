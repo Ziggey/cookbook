{
 "cells": [
  {
   "cell_type": "markdown",
   "metadata": {},
   "source": [
    "# SC/BEP Data Insights"
   ]
  },
  {
   "cell_type": "code",
   "execution_count": 1,
   "metadata": {},
   "outputs": [],
   "source": [
    "import pathlib\n",
    "import pandas as pd\n",
    "import geopandas as gpd\n",
    "from geopy.distance import geodesic\n",
    "import matplotlib.pyplot as plt\n",
    "import seaborn as sns\n",
    "%matplotlib inline"
   ]
  },
  {
   "cell_type": "code",
   "execution_count": 2,
   "metadata": {},
   "outputs": [],
   "source": [
    "import warnings\n",
    "warnings.simplefilter(\"ignore\")"
   ]
  },
  {
   "cell_type": "markdown",
   "metadata": {},
   "source": [
    "## Forewords\n",
    "\n",
    "### Disclaimer\n",
    "\n",
    " > Data insights provided in this notebook are not validated and may certainly contain errors. They are shared for feedback only with no warranty or liability of any kind.\n",
    "\n",
    "\n",
    "\n",
    "### Sources\n",
    "\n",
    " - ULB/Faculty, Faculty mission: anonymized administrative forms (CSV);\n",
    " - ULB/DTAS/BEP, Travel Types Carbon Coefficient (Excel);\n",
    " - ArgGIS Hub, Country of the World (GeoJSON);\n",
    " - OSM, Nominatim Geocoding API (JSON);\n",
    " \n",
    "### Methodology\n",
    "\n",
    " - Add index to mission records;\n",
    " - Permute reversed timestamps;\n",
    " - First cleansing of city names;\n",
    " - Split multiple destinations (origin is assumed to be unique): mission becomes travel;\n",
    " - Expand destinations;\n",
    " - Second cleansing of all city names;\n",
    " - Fill missing origin using Brussels as default;\n",
    " - Manually correct about 100 mispelled cities;\n",
    " - Geocode cleansed city names;\n",
    " - Add index to travel records;\n",
    " - Building geometries with Coordinate Reference System EPSG:4326;\n",
    " - Computing Geodesic Distance in km between geometries using WGS-84 ellipsoid as reference;\n",
    "\n",
    "### To do\n",
    "\n",
    " - Fill missing travel types and merge with carbon coefficients;\n",
    " - Assess magnitude of different errors affecting distance and time to see where most of the effort should be spent;\n",
    " - Sequence travel with multiple destinations instead of considering as multiple distinct travels;\n",
    " - Do we double distance as agent must return (how do we know if it has already returned?);\n",
    " - Precisly define how long mission are handled;\n",
    " - Precisly define how mission with multiple destination are handled;\n",
    " - Check long distance around 18000 km are relevant (eg. Australia: has Vincity algorithm converged?);\n",
    " - Find Flight Distance table if any available;\n",
    " - How do we fill travel type when information lacks (distance criterion?);\n",
    " - Compute insightful metrics such as distance/elasped\n",
    " - Does PHILA stand for PHILO (typo)? \n",
    " "
   ]
  },
  {
   "cell_type": "markdown",
   "metadata": {},
   "source": [
    "## Load datasets"
   ]
  },
  {
   "cell_type": "code",
   "execution_count": 3,
   "metadata": {},
   "outputs": [],
   "source": [
    "country = gpd.read_file(pathlib.Path(\"data/country.geojson\").open().read())"
   ]
  },
  {
   "cell_type": "code",
   "execution_count": 4,
   "metadata": {},
   "outputs": [],
   "source": [
    "travels = pd.read_excel('data/travels.xlsx')"
   ]
  },
  {
   "cell_type": "code",
   "execution_count": 5,
   "metadata": {},
   "outputs": [
    {
     "data": {
      "text/plain": [
       "Index(['travel_id', 'mission_id', 'from_geocodeid', 'from_citycleansed',\n",
       "       'from_ISO2', 'from_city', 'from_lat', 'from_lon', 'from_accuracy',\n",
       "       'from_confidence', 'to_geocodeid', 'to_citycleansed', 'to_ISO2',\n",
       "       'to_city', 'to_lat', 'to_lon', 'to_accuracy', 'to_confidence', 'start',\n",
       "       'stop', 'travel_type', 'acronym', 'faculty', 'elapsed', 'distance'],\n",
       "      dtype='object')"
      ]
     },
     "execution_count": 5,
     "metadata": {},
     "output_type": "execute_result"
    }
   ],
   "source": [
    "travels.columns"
   ]
  },
  {
   "cell_type": "markdown",
   "metadata": {},
   "source": [
    "### Aggregate Travels to Missions"
   ]
  },
  {
   "cell_type": "code",
   "execution_count": 6,
   "metadata": {},
   "outputs": [
    {
     "data": {
      "text/html": [
       "<div>\n",
       "<style scoped>\n",
       "    .dataframe tbody tr th:only-of-type {\n",
       "        vertical-align: middle;\n",
       "    }\n",
       "\n",
       "    .dataframe tbody tr th {\n",
       "        vertical-align: top;\n",
       "    }\n",
       "\n",
       "    .dataframe thead th {\n",
       "        text-align: right;\n",
       "    }\n",
       "</style>\n",
       "<table border=\"1\" class=\"dataframe\">\n",
       "  <thead>\n",
       "    <tr style=\"text-align: right;\">\n",
       "      <th></th>\n",
       "      <th>mission_id</th>\n",
       "      <th>acronym</th>\n",
       "      <th>faculty</th>\n",
       "      <th>start</th>\n",
       "      <th>stop</th>\n",
       "      <th>elapsed</th>\n",
       "      <th>from_ISO2</th>\n",
       "      <th>to_ISO2</th>\n",
       "      <th>distance</th>\n",
       "      <th>speed</th>\n",
       "      <th>year</th>\n",
       "    </tr>\n",
       "    <tr>\n",
       "      <th>mission_id</th>\n",
       "      <th></th>\n",
       "      <th></th>\n",
       "      <th></th>\n",
       "      <th></th>\n",
       "      <th></th>\n",
       "      <th></th>\n",
       "      <th></th>\n",
       "      <th></th>\n",
       "      <th></th>\n",
       "      <th></th>\n",
       "      <th></th>\n",
       "    </tr>\n",
       "  </thead>\n",
       "  <tbody>\n",
       "    <tr>\n",
       "      <th>0</th>\n",
       "      <td>0</td>\n",
       "      <td>DECA</td>\n",
       "      <td>LTC</td>\n",
       "      <td>2010-05-28</td>\n",
       "      <td>2010-06-01</td>\n",
       "      <td>5</td>\n",
       "      <td>BE</td>\n",
       "      <td>[GB, GB, BE]</td>\n",
       "      <td>810.745964</td>\n",
       "      <td>6.756216</td>\n",
       "      <td>2010</td>\n",
       "    </tr>\n",
       "    <tr>\n",
       "      <th>1</th>\n",
       "      <td>1</td>\n",
       "      <td>SIC</td>\n",
       "      <td>LTC</td>\n",
       "      <td>2010-06-22</td>\n",
       "      <td>2010-07-08</td>\n",
       "      <td>17</td>\n",
       "      <td>BE</td>\n",
       "      <td>[GB, BE]</td>\n",
       "      <td>645.698894</td>\n",
       "      <td>1.582595</td>\n",
       "      <td>2010</td>\n",
       "    </tr>\n",
       "    <tr>\n",
       "      <th>2</th>\n",
       "      <td>2</td>\n",
       "      <td>SIC</td>\n",
       "      <td>LTC</td>\n",
       "      <td>2010-06-22</td>\n",
       "      <td>2010-07-08</td>\n",
       "      <td>17</td>\n",
       "      <td>BE</td>\n",
       "      <td>[GB, BE]</td>\n",
       "      <td>645.698894</td>\n",
       "      <td>1.582595</td>\n",
       "      <td>2010</td>\n",
       "    </tr>\n",
       "    <tr>\n",
       "      <th>3</th>\n",
       "      <td>3</td>\n",
       "      <td>SIC</td>\n",
       "      <td>LTC</td>\n",
       "      <td>2010-07-12</td>\n",
       "      <td>2010-07-17</td>\n",
       "      <td>6</td>\n",
       "      <td>BE</td>\n",
       "      <td>[GB, BE]</td>\n",
       "      <td>645.698894</td>\n",
       "      <td>4.484020</td>\n",
       "      <td>2010</td>\n",
       "    </tr>\n",
       "    <tr>\n",
       "      <th>4</th>\n",
       "      <td>4</td>\n",
       "      <td>SIC</td>\n",
       "      <td>LTC</td>\n",
       "      <td>2010-05-31</td>\n",
       "      <td>2010-06-01</td>\n",
       "      <td>2</td>\n",
       "      <td>BE</td>\n",
       "      <td>[FR, BE]</td>\n",
       "      <td>528.587028</td>\n",
       "      <td>11.012230</td>\n",
       "      <td>2010</td>\n",
       "    </tr>\n",
       "    <tr>\n",
       "      <th>...</th>\n",
       "      <td>...</td>\n",
       "      <td>...</td>\n",
       "      <td>...</td>\n",
       "      <td>...</td>\n",
       "      <td>...</td>\n",
       "      <td>...</td>\n",
       "      <td>...</td>\n",
       "      <td>...</td>\n",
       "      <td>...</td>\n",
       "      <td>...</td>\n",
       "      <td>...</td>\n",
       "    </tr>\n",
       "    <tr>\n",
       "      <th>6125</th>\n",
       "      <td>6125</td>\n",
       "      <td>DECS</td>\n",
       "      <td>SBS</td>\n",
       "      <td>2020-02-20</td>\n",
       "      <td>2020-02-20</td>\n",
       "      <td>1</td>\n",
       "      <td>BE</td>\n",
       "      <td>[GB, BE]</td>\n",
       "      <td>645.698894</td>\n",
       "      <td>26.904121</td>\n",
       "      <td>2020</td>\n",
       "    </tr>\n",
       "    <tr>\n",
       "      <th>6126</th>\n",
       "      <td>6126</td>\n",
       "      <td>DECS</td>\n",
       "      <td>SBS</td>\n",
       "      <td>2020-02-23</td>\n",
       "      <td>2020-02-28</td>\n",
       "      <td>6</td>\n",
       "      <td>BE</td>\n",
       "      <td>[FR, FR, FR, BE]</td>\n",
       "      <td>1923.612609</td>\n",
       "      <td>13.358421</td>\n",
       "      <td>2020</td>\n",
       "    </tr>\n",
       "    <tr>\n",
       "      <th>6127</th>\n",
       "      <td>6127</td>\n",
       "      <td>L&amp;L</td>\n",
       "      <td>LTC</td>\n",
       "      <td>2020-02-16</td>\n",
       "      <td>2020-02-18</td>\n",
       "      <td>3</td>\n",
       "      <td>BE</td>\n",
       "      <td>[FR, BE]</td>\n",
       "      <td>1536.399657</td>\n",
       "      <td>21.338884</td>\n",
       "      <td>2020</td>\n",
       "    </tr>\n",
       "    <tr>\n",
       "      <th>6128</th>\n",
       "      <td>6128</td>\n",
       "      <td>DECS</td>\n",
       "      <td>SBS</td>\n",
       "      <td>2020-03-02</td>\n",
       "      <td>2020-03-03</td>\n",
       "      <td>2</td>\n",
       "      <td>NL</td>\n",
       "      <td>[FR, NL]</td>\n",
       "      <td>860.923418</td>\n",
       "      <td>17.935905</td>\n",
       "      <td>2020</td>\n",
       "    </tr>\n",
       "    <tr>\n",
       "      <th>6129</th>\n",
       "      <td>6129</td>\n",
       "      <td>L&amp;L</td>\n",
       "      <td>LTC</td>\n",
       "      <td>2020-01-28</td>\n",
       "      <td>2020-02-06</td>\n",
       "      <td>10</td>\n",
       "      <td>BE</td>\n",
       "      <td>[US, US, BE]</td>\n",
       "      <td>13199.124760</td>\n",
       "      <td>54.996353</td>\n",
       "      <td>2020</td>\n",
       "    </tr>\n",
       "  </tbody>\n",
       "</table>\n",
       "<p>6130 rows × 11 columns</p>\n",
       "</div>"
      ],
      "text/plain": [
       "            mission_id acronym faculty      start       stop  elapsed  \\\n",
       "mission_id                                                              \n",
       "0                    0    DECA     LTC 2010-05-28 2010-06-01        5   \n",
       "1                    1     SIC     LTC 2010-06-22 2010-07-08       17   \n",
       "2                    2     SIC     LTC 2010-06-22 2010-07-08       17   \n",
       "3                    3     SIC     LTC 2010-07-12 2010-07-17        6   \n",
       "4                    4     SIC     LTC 2010-05-31 2010-06-01        2   \n",
       "...                ...     ...     ...        ...        ...      ...   \n",
       "6125              6125    DECS     SBS 2020-02-20 2020-02-20        1   \n",
       "6126              6126    DECS     SBS 2020-02-23 2020-02-28        6   \n",
       "6127              6127     L&L     LTC 2020-02-16 2020-02-18        3   \n",
       "6128              6128    DECS     SBS 2020-03-02 2020-03-03        2   \n",
       "6129              6129     L&L     LTC 2020-01-28 2020-02-06       10   \n",
       "\n",
       "           from_ISO2           to_ISO2      distance      speed  year  \n",
       "mission_id                                                             \n",
       "0                 BE      [GB, GB, BE]    810.745964   6.756216  2010  \n",
       "1                 BE          [GB, BE]    645.698894   1.582595  2010  \n",
       "2                 BE          [GB, BE]    645.698894   1.582595  2010  \n",
       "3                 BE          [GB, BE]    645.698894   4.484020  2010  \n",
       "4                 BE          [FR, BE]    528.587028  11.012230  2010  \n",
       "...              ...               ...           ...        ...   ...  \n",
       "6125              BE          [GB, BE]    645.698894  26.904121  2020  \n",
       "6126              BE  [FR, FR, FR, BE]   1923.612609  13.358421  2020  \n",
       "6127              BE          [FR, BE]   1536.399657  21.338884  2020  \n",
       "6128              NL          [FR, NL]    860.923418  17.935905  2020  \n",
       "6129              BE      [US, US, BE]  13199.124760  54.996353  2020  \n",
       "\n",
       "[6130 rows x 11 columns]"
      ]
     },
     "execution_count": 6,
     "metadata": {},
     "output_type": "execute_result"
    }
   ],
   "source": [
    "missions = travels.groupby('mission_id').agg({\n",
    "    'mission_id': 'first', 'acronym': 'first', 'faculty': 'first',\n",
    "    'start': 'first', 'stop':'first', 'elapsed': 'first',\n",
    "    'from_ISO2': 'first', 'to_ISO2': list, 'distance': 'sum',\n",
    "})\n",
    "missions['speed'] = missions['distance']/(24*missions['elapsed'])\n",
    "missions['year'] = missions['start'].dt.year\n",
    "missions"
   ]
  },
  {
   "cell_type": "code",
   "execution_count": 7,
   "metadata": {},
   "outputs": [],
   "source": [
    "missions = missions.loc[missions['elapsed']<31,:]"
   ]
  },
  {
   "cell_type": "code",
   "execution_count": 8,
   "metadata": {},
   "outputs": [
    {
     "data": {
      "image/png": "[encoded data removed]",
      "text/plain": [
       "<Figure size 432x288 with 1 Axes>"
      ]
     },
     "metadata": {
      "needs_background": "light"
     },
     "output_type": "display_data"
    }
   ],
   "source": [
    "mc = missions.groupby(['year', 'acronym'])['mission_id'].count().unstack()\n",
    "axe = mc.plot(kind='bar', stacked=True)"
   ]
  },
  {
   "cell_type": "code",
   "execution_count": 9,
   "metadata": {},
   "outputs": [
    {
     "data": {
      "image/png": "[encoded data removed]",
      "text/plain": [
       "<Figure size 432x288 with 1 Axes>"
      ]
     },
     "metadata": {
      "needs_background": "light"
     },
     "output_type": "display_data"
    }
   ],
   "source": [
    "mc = missions.groupby(['year', 'acronym'])['distance'].sum().unstack()\n",
    "axe = mc.plot(kind='bar', stacked=True)"
   ]
  },
  {
   "cell_type": "code",
   "execution_count": 10,
   "metadata": {},
   "outputs": [
    {
     "data": {
      "image/png": "[encoded data removed]",
      "text/plain": [
       "<Figure size 432x288 with 1 Axes>"
      ]
     },
     "metadata": {
      "needs_background": "light"
     },
     "output_type": "display_data"
    }
   ],
   "source": [
    "mc = missions.groupby(['year', 'acronym'])['elapsed'].sum().unstack()\n",
    "axe = mc.plot(kind='bar', stacked=True)"
   ]
  },
  {
   "cell_type": "code",
   "execution_count": 11,
   "metadata": {},
   "outputs": [
    {
     "data": {
      "text/plain": [
       "<matplotlib.axes._subplots.AxesSubplot at 0x18685a9c198>"
      ]
     },
     "execution_count": 11,
     "metadata": {},
     "output_type": "execute_result"
    },
    {
     "data": {
      "image/png": "[encoded data removed]",
      "text/plain": [
       "<Figure size 432x288 with 1 Axes>"
      ]
     },
     "metadata": {
      "needs_background": "light"
     },
     "output_type": "display_data"
    }
   ],
   "source": [
    "missions['distance'].plot(kind='hist', bins=50)"
   ]
  },
  {
   "cell_type": "code",
   "execution_count": 13,
   "metadata": {},
   "outputs": [
    {
     "data": {
      "text/plain": [
       "<matplotlib.axes._subplots.AxesSubplot at 0x18685c52dd8>"
      ]
     },
     "execution_count": 13,
     "metadata": {},
     "output_type": "execute_result"
    },
    {
     "data": {
      "image/png": "[encoded data removed]",
      "text/plain": [
       "<Figure size 432x288 with 1 Axes>"
      ]
     },
     "metadata": {
      "needs_background": "light"
     },
     "output_type": "display_data"
    }
   ],
   "source": [
    "missions['elapsed'].plot(kind='hist', bins=20)"
   ]
  },
  {
   "cell_type": "code",
   "execution_count": 17,
   "metadata": {},
   "outputs": [],
   "source": [
    "#sns.kdeplot(missions['distance'], missions['elapsed'])"
   ]
  },
  {
   "cell_type": "code",
   "execution_count": null,
   "metadata": {},
   "outputs": [],
   "source": []
  }
 ],
 "metadata": {
  "kernelspec": {
   "display_name": "Python 3",
   "language": "python",
   "name": "python3"
  },
  "language_info": {
   "codemirror_mode": {
    "name": "ipython",
    "version": 3
   },
   "file_extension": ".py",
   "mimetype": "text/x-python",
   "name": "python",
   "nbconvert_exporter": "python",
   "pygments_lexer": "ipython3",
   "version": "3.7.3"
  }
 },
 "nbformat": 4,
 "nbformat_minor": 2
}
