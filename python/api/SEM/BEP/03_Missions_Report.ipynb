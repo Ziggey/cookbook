{
 "cells": [
  {
   "cell_type": "markdown",
   "metadata": {},
   "source": [
    "# SC/BEP Data Insights"
   ]
  },
  {
   "cell_type": "code",
   "execution_count": 1,
   "metadata": {},
   "outputs": [],
   "source": [
    "import pathlib\n",
    "import pandas as pd\n",
    "import geopandas as gpd\n",
    "from geopy.distance import geodesic\n",
    "import matplotlib.pyplot as plt\n",
    "import seaborn as sns\n",
    "%matplotlib inline"
   ]
  },
  {
   "cell_type": "code",
   "execution_count": 2,
   "metadata": {},
   "outputs": [],
   "source": [
    "import warnings\n",
    "warnings.simplefilter(\"ignore\")"
   ]
  },
  {
   "cell_type": "markdown",
   "metadata": {},
   "source": [
    "## Forewords\n",
    "\n",
    "### Disclaimer\n",
    "\n",
    " > Data insights provided in this notebook are not validated and may certainly contain errors. They are shared for feedback only with no warranty or liability of any kind.\n",
    "\n",
    "\n",
    "\n",
    "### Sources\n",
    "\n",
    " - ULB/Faculty, Faculty mission: anonymized administrative forms (CSV);\n",
    " - ULB/DTAS/BEP, Travel Types Carbon Coefficient (Excel);\n",
    " - ArgGIS Hub, Country of the World (GeoJSON);\n",
    " - OSM, Nominatim Geocoding API (JSON);\n",
    " \n",
    "### Methodology\n",
    "\n",
    " - Add index to mission records;\n",
    " - Permute reversed timestamps;\n",
    " - First cleansing of city names;\n",
    " - Split multiple destinations (origin is assumed to be unique): mission becomes travel;\n",
    " - Expand destinations;\n",
    " - Second cleansing of all city names;\n",
    " - Fill missing origin using Brussels as default;\n",
    " - Manually correct about 100 mispelled cities;\n",
    " - Geocode cleansed city names;\n",
    " - Add index to travel records;\n",
    " - Building geometries with Coordinate Reference System EPSG:4326;\n",
    " - Computing Geodesic Distance in km between geometries using WGS-84 ellipsoid as reference;\n",
    "\n",
    "### To do\n",
    "\n",
    " - Fill missing travel types and merge with carbon coefficients;\n",
    " - Assess magnitude of different errors affecting distance and time to see where most of the effort should be spent;\n",
    " - Sequence travel with multiple destinations instead of considering as multiple distinct travels;\n",
    " - Do we double distance as agent must return (how do we know if it has already returned?);\n",
    " - Precisly define how long mission are handled;\n",
    " - Precisly define how mission with multiple destination are handled;\n",
    " - Check long distance around 18000 km are relevant (eg. Australia: has Vincity algorithm converged?);\n",
    " - Find Flight Distance table if any available;\n",
    " - How do we fill travel type when information lacks (distance criterion?);\n",
    " - Compute insightful metrics such as distance/elasped\n",
    " - Does PHILA stand for PHILO (typo)? \n",
    " "
   ]
  },
  {
   "cell_type": "markdown",
   "metadata": {},
   "source": [
    "## Load datasets"
   ]
  },
  {
   "cell_type": "code",
   "execution_count": 3,
   "metadata": {},
   "outputs": [],
   "source": [
    "country = gpd.read_file(pathlib.Path(\"data/country.geojson\").open().read())"
   ]
  },
  {
   "cell_type": "code",
   "execution_count": 4,
   "metadata": {},
   "outputs": [],
   "source": [
    "travel = pd.read_excel('data/travels.xlsx')"
   ]
  },
  {
   "cell_type": "code",
   "execution_count": null,
   "metadata": {},
   "outputs": [],
   "source": []
  }
 ],
 "metadata": {
  "kernelspec": {
   "display_name": "Python 3",
   "language": "python",
   "name": "python3"
  },
  "language_info": {
   "codemirror_mode": {
    "name": "ipython",
    "version": 3
   },
   "file_extension": ".py",
   "mimetype": "text/x-python",
   "name": "python",
   "nbconvert_exporter": "python",
   "pygments_lexer": "ipython3",
   "version": "3.7.3"
  }
 },
 "nbformat": 4,
 "nbformat_minor": 2
}
