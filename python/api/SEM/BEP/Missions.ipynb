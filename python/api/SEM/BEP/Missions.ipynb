{
 "cells": [
  {
   "cell_type": "markdown",
   "metadata": {},
   "source": [
    "# SC/BEP First Analysis"
   ]
  },
  {
   "cell_type": "code",
   "execution_count": 1,
   "metadata": {},
   "outputs": [],
   "source": [
    "import sys\n",
    "import time\n",
    "import pathlib\n",
    "import pandas as pd\n",
    "import geopandas as gpd\n",
    "import geocoder\n",
    "#from fuzzymatcher import link_table, fuzzy_left_join\n",
    "%matplotlib inline\n",
    "pd.set_option('display.max_rows', 300)"
   ]
  },
  {
   "cell_type": "markdown",
   "metadata": {},
   "source": [
    "## Load datasets"
   ]
  },
  {
   "cell_type": "code",
   "execution_count": 2,
   "metadata": {},
   "outputs": [],
   "source": [
    "country = gpd.read_file(pathlib.Path(\"country.geojson\").open().read())"
   ]
  },
  {
   "cell_type": "code",
   "execution_count": 3,
   "metadata": {},
   "outputs": [
    {
     "data": {
      "text/html": [
       "<div>\n",
       "<style scoped>\n",
       "    .dataframe tbody tr th:only-of-type {\n",
       "        vertical-align: middle;\n",
       "    }\n",
       "\n",
       "    .dataframe tbody tr th {\n",
       "        vertical-align: top;\n",
       "    }\n",
       "\n",
       "    .dataframe thead th {\n",
       "        text-align: right;\n",
       "    }\n",
       "</style>\n",
       "<table border=\"1\" class=\"dataframe\">\n",
       "  <thead>\n",
       "    <tr style=\"text-align: right;\">\n",
       "      <th></th>\n",
       "      <th>index</th>\n",
       "      <th>debut</th>\n",
       "      <th>fin</th>\n",
       "      <th>pays_origine</th>\n",
       "      <th>ville_origine</th>\n",
       "      <th>pays</th>\n",
       "      <th>ville</th>\n",
       "      <th>lieu</th>\n",
       "      <th>mode_deplacement</th>\n",
       "      <th>acronyme</th>\n",
       "      <th>libelle</th>\n",
       "      <th>faculte</th>\n",
       "    </tr>\n",
       "  </thead>\n",
       "  <tbody>\n",
       "    <tr>\n",
       "      <th>2829</th>\n",
       "      <td>2829</td>\n",
       "      <td>2017-03-08</td>\n",
       "      <td>2017-06-09</td>\n",
       "      <td>NaN</td>\n",
       "      <td>NaN</td>\n",
       "      <td>Taiwan R.O.C.</td>\n",
       "      <td>Taipei</td>\n",
       "      <td>National Taiwan Normal University</td>\n",
       "      <td>NaN</td>\n",
       "      <td>L&amp;L</td>\n",
       "      <td>Département de Langues et Lettres</td>\n",
       "      <td>LTC</td>\n",
       "    </tr>\n",
       "    <tr>\n",
       "      <th>452</th>\n",
       "      <td>452</td>\n",
       "      <td>2011-11-21</td>\n",
       "      <td>2011-11-22</td>\n",
       "      <td>NaN</td>\n",
       "      <td>NaN</td>\n",
       "      <td>Espagne</td>\n",
       "      <td>Barcelone</td>\n",
       "      <td>Fundació i2CAT, Internet i Innovació Digital a...</td>\n",
       "      <td>NaN</td>\n",
       "      <td>SIC</td>\n",
       "      <td>Département des Sciences de l'information et d...</td>\n",
       "      <td>LTC</td>\n",
       "    </tr>\n",
       "    <tr>\n",
       "      <th>2339</th>\n",
       "      <td>2339</td>\n",
       "      <td>2016-07-03</td>\n",
       "      <td>2016-07-07</td>\n",
       "      <td>NaN</td>\n",
       "      <td>NaN</td>\n",
       "      <td>France</td>\n",
       "      <td>Rennes</td>\n",
       "      <td>Institut d'études politiques de Rennes</td>\n",
       "      <td>NaN</td>\n",
       "      <td>ScPOL</td>\n",
       "      <td>Département de Sciences Politiques</td>\n",
       "      <td>PHILOSCSOC</td>\n",
       "    </tr>\n",
       "    <tr>\n",
       "      <th>2575</th>\n",
       "      <td>2575</td>\n",
       "      <td>2016-09-05</td>\n",
       "      <td>2016-09-13</td>\n",
       "      <td>NaN</td>\n",
       "      <td>NaN</td>\n",
       "      <td>Belgique</td>\n",
       "      <td>Hasselt</td>\n",
       "      <td>Hasselt Universiteit</td>\n",
       "      <td>NaN</td>\n",
       "      <td>ScPOL</td>\n",
       "      <td>Département de Sciences Politiques</td>\n",
       "      <td>PHILOSCSOC</td>\n",
       "    </tr>\n",
       "    <tr>\n",
       "      <th>5353</th>\n",
       "      <td>5353</td>\n",
       "      <td>2019-06-02</td>\n",
       "      <td>2019-06-05</td>\n",
       "      <td>Belgique</td>\n",
       "      <td>Bruxelles</td>\n",
       "      <td>France</td>\n",
       "      <td>Paris</td>\n",
       "      <td>Université de Paris Dauphine</td>\n",
       "      <td>train</td>\n",
       "      <td>DECS</td>\n",
       "      <td>Dean's Office - Solvay Brussels School of Econ...</td>\n",
       "      <td>SBS</td>\n",
       "    </tr>\n",
       "  </tbody>\n",
       "</table>\n",
       "</div>"
      ],
      "text/plain": [
       "      index      debut        fin pays_origine ville_origine           pays  \\\n",
       "2829   2829 2017-03-08 2017-06-09          NaN           NaN  Taiwan R.O.C.   \n",
       "452     452 2011-11-21 2011-11-22          NaN           NaN        Espagne   \n",
       "2339   2339 2016-07-03 2016-07-07          NaN           NaN         France   \n",
       "2575   2575 2016-09-05 2016-09-13          NaN           NaN       Belgique   \n",
       "5353   5353 2019-06-02 2019-06-05     Belgique     Bruxelles         France   \n",
       "\n",
       "          ville                                               lieu  \\\n",
       "2829     Taipei                  National Taiwan Normal University   \n",
       "452   Barcelone  Fundació i2CAT, Internet i Innovació Digital a...   \n",
       "2339     Rennes             Institut d'études politiques de Rennes   \n",
       "2575    Hasselt                               Hasselt Universiteit   \n",
       "5353      Paris                       Université de Paris Dauphine   \n",
       "\n",
       "     mode_deplacement acronyme  \\\n",
       "2829              NaN      L&L   \n",
       "452               NaN      SIC   \n",
       "2339              NaN    ScPOL   \n",
       "2575              NaN    ScPOL   \n",
       "5353            train     DECS   \n",
       "\n",
       "                                                libelle     faculte  \n",
       "2829                  Département de Langues et Lettres         LTC  \n",
       "452   Département des Sciences de l'information et d...         LTC  \n",
       "2339                 Département de Sciences Politiques  PHILOSCSOC  \n",
       "2575                 Département de Sciences Politiques  PHILOSCSOC  \n",
       "5353  Dean's Office - Solvay Brussels School of Econ...         SBS  "
      ]
     },
     "execution_count": 3,
     "metadata": {},
     "output_type": "execute_result"
    }
   ],
   "source": [
    "df = pd.read_csv(\"missions.csv\", sep=';', header=0, encoding='cp1250', parse_dates=['debut', 'fin'])\n",
    "df = df.reset_index()\n",
    "df.sample(5)"
   ]
  },
  {
   "cell_type": "markdown",
   "metadata": {},
   "source": [
    "## Data Cleansing\n",
    "\n",
    "### Swap inverted timestamps"
   ]
  },
  {
   "cell_type": "code",
   "execution_count": 4,
   "metadata": {},
   "outputs": [],
   "source": [
    "df['elapsed'] = (df['fin'] - df['debut']).dt.days\n",
    "df.loc[df['elapsed']<0,'fin'] = df.loc[df['elapsed']<0,'debut'].values\n",
    "df.loc[df['elapsed']<0,'debut'] = df.loc[df['elapsed']<0,'fin'].values\n",
    "df['elapsed'] = (df['fin'] - df['debut']).dt.days"
   ]
  },
  {
   "cell_type": "markdown",
   "metadata": {},
   "source": [
    "### Normalize country names"
   ]
  },
  {
   "cell_type": "code",
   "execution_count": 5,
   "metadata": {},
   "outputs": [],
   "source": [
    "def norm(x, fromkey, tokey):\n",
    "    x[tokey] = x[fromkey].str.normalize('NFKD')\\\n",
    "                         .str.encode('ascii', errors='ignore').str.decode('utf-8')\\\n",
    "                         .str.strip().str.lower()"
   ]
  },
  {
   "cell_type": "code",
   "execution_count": 6,
   "metadata": {},
   "outputs": [],
   "source": [
    "def unique(x, columns):\n",
    "    keys = set()\n",
    "    for k in columns:\n",
    "        keys.update(x[k].dropna().unique())\n",
    "    return keys"
   ]
  },
  {
   "cell_type": "code",
   "execution_count": 7,
   "metadata": {},
   "outputs": [],
   "source": [
    "norm(df, 'pays_origine', 'from_country')\n",
    "norm(df, 'pays', 'dest_country')"
   ]
  },
  {
   "cell_type": "code",
   "execution_count": 8,
   "metadata": {},
   "outputs": [],
   "source": [
    "norm(df, 'ville_origine', 'from_city')\n",
    "norm(df, 'ville', 'dest_city')"
   ]
  },
  {
   "cell_type": "markdown",
   "metadata": {},
   "source": [
    "### Cleanse & split normalized city names"
   ]
  },
  {
   "cell_type": "code",
   "execution_count": null,
   "metadata": {},
   "outputs": [],
   "source": [
    "regreplace = r\"\\((.*?)\\)\"\n",
    "regsplit = r'/|,|\\&| et | puis |\\+| and | - |;'\n",
    "df['dest_city'] = df['dest_city'].str.replace(regreplace,\"\").str.split(regsplit)\n",
    "df = df.explode('dest_city')\n",
    "df['dest_city'] = df['dest_city'].str.replace(\"\\d\", \"\")\n",
    "df['dest_city'] = df['dest_city'].str.strip()"
   ]
  },
  {
   "cell_type": "code",
   "execution_count": null,
   "metadata": {},
   "outputs": [],
   "source": [
    "#df['dest_city'].sample(30)"
   ]
  },
  {
   "cell_type": "markdown",
   "metadata": {},
   "source": [
    "### Geocode city names"
   ]
  },
  {
   "cell_type": "markdown",
   "metadata": {},
   "source": [
    "https://operations.osmfoundation.org/policies/nominatim/"
   ]
  },
  {
   "cell_type": "code",
   "execution_count": null,
   "metadata": {},
   "outputs": [],
   "source": [
    "def geocode(x, keys=['country_code', 'city', 'lat', 'lng', 'accuracy', 'confidence']):\n",
    "    res = geocoder.osm(x).json\n",
    "    time.sleep(2.0)\n",
    "    return {k: (res or {}).get(k) for k in keys}"
   ]
  },
  {
   "cell_type": "code",
   "execution_count": null,
   "metadata": {},
   "outputs": [
    {
     "data": {
      "text/plain": [
       "array(['amiens', 'reading', 'bamberg', 'leeds', 'japan', 'munster',\n",
       "       'agder', 'ramillies', 'tafileh', 'wellington', 'bloomington',\n",
       "       'new delhi', 'reus', 'sheffield', 'le cap', 'arlon', 'innsbruck',\n",
       "       'ljubljana', 'luang prabang', 'lodz', 'ville davray', 'montreal',\n",
       "       'lannion', 'tourtour', 'dc', 'roma', 'la gacilly', 'pekin',\n",
       "       'amman petra', 'le mans'], dtype=object)"
      ]
     },
     "execution_count": 12,
     "metadata": {},
     "output_type": "execute_result"
    }
   ],
   "source": [
    "city = pd.DataFrame(list(df['from_city'].dropna().unique()) + list(df['dest_city'].unique()), columns=['city'])\n",
    "city['city'].sample(30).values"
   ]
  },
  {
   "cell_type": "code",
   "execution_count": null,
   "metadata": {},
   "outputs": [
    {
     "data": {
      "text/plain": [
       "RangeIndex(start=0, stop=1268, step=1)"
      ]
     },
     "execution_count": 13,
     "metadata": {},
     "output_type": "execute_result"
    }
   ],
   "source": [
    "city.index"
   ]
  },
  {
   "cell_type": "code",
   "execution_count": null,
   "metadata": {},
   "outputs": [],
   "source": [
    "citygc = city['city'].apply(geocode).apply(pd.Series)\n",
    "citygc.to_pickle('geocoded.pickle')"
   ]
  },
  {
   "cell_type": "code",
   "execution_count": null,
   "metadata": {},
   "outputs": [],
   "source": []
  },
  {
   "cell_type": "raw",
   "metadata": {},
   "source": []
  },
  {
   "cell_type": "code",
   "execution_count": null,
   "metadata": {},
   "outputs": [],
   "source": []
  },
  {
   "cell_type": "raw",
   "metadata": {},
   "source": [
    "from geopy.geocoders import Nominatim\n",
    "geolocator = Nominatim(user_agent=\"Mission\")\n",
    "location = geolocator.geocode(\"brussels\")"
   ]
  },
  {
   "cell_type": "code",
   "execution_count": null,
   "metadata": {},
   "outputs": [],
   "source": []
  },
  {
   "cell_type": "code",
   "execution_count": null,
   "metadata": {},
   "outputs": [],
   "source": []
  }
 ],
 "metadata": {
  "kernelspec": {
   "display_name": "Python 3",
   "language": "python",
   "name": "python3"
  },
  "language_info": {
   "codemirror_mode": {
    "name": "ipython",
    "version": 3
   },
   "file_extension": ".py",
   "mimetype": "text/x-python",
   "name": "python",
   "nbconvert_exporter": "python",
   "pygments_lexer": "ipython3",
   "version": "3.7.3"
  }
 },
 "nbformat": 4,
 "nbformat_minor": 2
}
