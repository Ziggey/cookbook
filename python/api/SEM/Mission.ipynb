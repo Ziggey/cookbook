{
 "cells": [
  {
   "cell_type": "markdown",
   "metadata": {},
   "source": [
    "# SC/BEP First Analysis"
   ]
  },
  {
   "cell_type": "code",
   "execution_count": 1,
   "metadata": {},
   "outputs": [],
   "source": [
    "import pathlib\n",
    "import pandas as pd\n",
    "import geopandas as gpd\n",
    "import geocoder\n",
    "#from fuzzymatcher import link_table, fuzzy_left_join\n",
    "%matplotlib inline\n",
    "pd.set_option('display.max_rows', 300)"
   ]
  },
  {
   "cell_type": "markdown",
   "metadata": {},
   "source": [
    "## Load datasets"
   ]
  },
  {
   "cell_type": "code",
   "execution_count": 2,
   "metadata": {},
   "outputs": [],
   "source": [
    "country = gpd.read_file(pathlib.Path(\"country.geojson\").open().read())"
   ]
  },
  {
   "cell_type": "code",
   "execution_count": 3,
   "metadata": {},
   "outputs": [
    {
     "data": {
      "text/html": [
       "<div>\n",
       "<style scoped>\n",
       "    .dataframe tbody tr th:only-of-type {\n",
       "        vertical-align: middle;\n",
       "    }\n",
       "\n",
       "    .dataframe tbody tr th {\n",
       "        vertical-align: top;\n",
       "    }\n",
       "\n",
       "    .dataframe thead th {\n",
       "        text-align: right;\n",
       "    }\n",
       "</style>\n",
       "<table border=\"1\" class=\"dataframe\">\n",
       "  <thead>\n",
       "    <tr style=\"text-align: right;\">\n",
       "      <th></th>\n",
       "      <th>index</th>\n",
       "      <th>debut</th>\n",
       "      <th>fin</th>\n",
       "      <th>pays_origine</th>\n",
       "      <th>ville_origine</th>\n",
       "      <th>pays</th>\n",
       "      <th>ville</th>\n",
       "      <th>lieu</th>\n",
       "      <th>mode_deplacement</th>\n",
       "      <th>acronyme</th>\n",
       "      <th>libelle</th>\n",
       "      <th>faculte</th>\n",
       "    </tr>\n",
       "  </thead>\n",
       "  <tbody>\n",
       "    <tr>\n",
       "      <th>4446</th>\n",
       "      <td>4446</td>\n",
       "      <td>2018-11-07</td>\n",
       "      <td>2018-11-11</td>\n",
       "      <td>Belgique</td>\n",
       "      <td>Bruxelles</td>\n",
       "      <td>Suisse</td>\n",
       "      <td>lausanne</td>\n",
       "      <td>Business and Hotel Management School [CH]</td>\n",
       "      <td>train</td>\n",
       "      <td>PHILO</td>\n",
       "      <td>Département de Philosophie et de Sciences des ...</td>\n",
       "      <td>PHILOSCSOC</td>\n",
       "    </tr>\n",
       "    <tr>\n",
       "      <th>3162</th>\n",
       "      <td>3162</td>\n",
       "      <td>2017-06-19</td>\n",
       "      <td>2017-06-28</td>\n",
       "      <td>NaN</td>\n",
       "      <td>NaN</td>\n",
       "      <td>Colombie</td>\n",
       "      <td>Bogota et al.</td>\n",
       "      <td>/</td>\n",
       "      <td>NaN</td>\n",
       "      <td>HAA</td>\n",
       "      <td>Département d'Histoire, arts et archéologie</td>\n",
       "      <td>PHILOSCSOC</td>\n",
       "    </tr>\n",
       "    <tr>\n",
       "      <th>4831</th>\n",
       "      <td>4831</td>\n",
       "      <td>2019-01-24</td>\n",
       "      <td>2019-01-26</td>\n",
       "      <td>Belgique</td>\n",
       "      <td>Bruxelles</td>\n",
       "      <td>Royaume-Uni</td>\n",
       "      <td>Oxford</td>\n",
       "      <td>University of Oxford [GB]</td>\n",
       "      <td>train</td>\n",
       "      <td>DECS</td>\n",
       "      <td>Dean's Office - Solvay Brussels School of Econ...</td>\n",
       "      <td>SBS</td>\n",
       "    </tr>\n",
       "    <tr>\n",
       "      <th>3764</th>\n",
       "      <td>3764</td>\n",
       "      <td>2018-03-30</td>\n",
       "      <td>2018-05-06</td>\n",
       "      <td>Royaume-Uni</td>\n",
       "      <td>Londres</td>\n",
       "      <td>Royaume-Uni</td>\n",
       "      <td>Londres</td>\n",
       "      <td>Institue of Historical Research, University of...</td>\n",
       "      <td>NaN</td>\n",
       "      <td>HAA</td>\n",
       "      <td>Département d'Histoire, arts et archéologie</td>\n",
       "      <td>PHILOSCSOC</td>\n",
       "    </tr>\n",
       "    <tr>\n",
       "      <th>4143</th>\n",
       "      <td>4143</td>\n",
       "      <td>2018-09-04</td>\n",
       "      <td>2018-09-09</td>\n",
       "      <td>Belgique</td>\n",
       "      <td>Bruxelles</td>\n",
       "      <td>Suisse</td>\n",
       "      <td>Lausanne</td>\n",
       "      <td>IDHEAP</td>\n",
       "      <td>avion_courte_distance</td>\n",
       "      <td>ScPOL</td>\n",
       "      <td>Département de Sciences Politiques</td>\n",
       "      <td>PHILOSCSOC</td>\n",
       "    </tr>\n",
       "  </tbody>\n",
       "</table>\n",
       "</div>"
      ],
      "text/plain": [
       "      index      debut        fin pays_origine ville_origine         pays  \\\n",
       "4446   4446 2018-11-07 2018-11-11     Belgique     Bruxelles       Suisse   \n",
       "3162   3162 2017-06-19 2017-06-28          NaN           NaN     Colombie   \n",
       "4831   4831 2019-01-24 2019-01-26     Belgique     Bruxelles  Royaume-Uni   \n",
       "3764   3764 2018-03-30 2018-05-06  Royaume-Uni       Londres  Royaume-Uni   \n",
       "4143   4143 2018-09-04 2018-09-09     Belgique     Bruxelles       Suisse   \n",
       "\n",
       "              ville                                               lieu  \\\n",
       "4446       lausanne          Business and Hotel Management School [CH]   \n",
       "3162  Bogota et al.                                                  /   \n",
       "4831         Oxford                          University of Oxford [GB]   \n",
       "3764        Londres  Institue of Historical Research, University of...   \n",
       "4143       Lausanne                                             IDHEAP   \n",
       "\n",
       "           mode_deplacement acronyme  \\\n",
       "4446                  train    PHILO   \n",
       "3162                    NaN      HAA   \n",
       "4831                  train     DECS   \n",
       "3764                    NaN      HAA   \n",
       "4143  avion_courte_distance    ScPOL   \n",
       "\n",
       "                                                libelle     faculte  \n",
       "4446  Département de Philosophie et de Sciences des ...  PHILOSCSOC  \n",
       "3162        Département d'Histoire, arts et archéologie  PHILOSCSOC  \n",
       "4831  Dean's Office - Solvay Brussels School of Econ...         SBS  \n",
       "3764        Département d'Histoire, arts et archéologie  PHILOSCSOC  \n",
       "4143                 Département de Sciences Politiques  PHILOSCSOC  "
      ]
     },
     "execution_count": 3,
     "metadata": {},
     "output_type": "execute_result"
    }
   ],
   "source": [
    "df = pd.read_csv(\"missions.csv\", sep=';', header=0, encoding='cp1250', parse_dates=['debut', 'fin'])\n",
    "df = df.reset_index()\n",
    "df.sample(5)"
   ]
  },
  {
   "cell_type": "markdown",
   "metadata": {},
   "source": [
    "## Data Cleansing\n",
    "\n",
    "### Swap inverted timestamps"
   ]
  },
  {
   "cell_type": "code",
   "execution_count": 4,
   "metadata": {},
   "outputs": [],
   "source": [
    "df['elapsed'] = (df['fin'] - df['debut']).dt.days\n",
    "df.loc[df['elapsed']<0,'fin'] = df.loc[df['elapsed']<0,'debut'].values\n",
    "df.loc[df['elapsed']<0,'debut'] = df.loc[df['elapsed']<0,'fin'].values\n",
    "df['elapsed'] = (df['fin'] - df['debut']).dt.days"
   ]
  },
  {
   "cell_type": "code",
   "execution_count": null,
   "metadata": {},
   "outputs": [],
   "source": []
  },
  {
   "cell_type": "markdown",
   "metadata": {},
   "source": [
    "### Normalize country names"
   ]
  },
  {
   "cell_type": "code",
   "execution_count": 5,
   "metadata": {},
   "outputs": [],
   "source": [
    "def norm(x, fromkey, tokey):\n",
    "    x[tokey] = x[fromkey].str.normalize('NFKD')\\\n",
    "                         .str.encode('ascii', errors='ignore').str.decode('utf-8')\\\n",
    "                         .str.strip().str.lower()"
   ]
  },
  {
   "cell_type": "code",
   "execution_count": 6,
   "metadata": {},
   "outputs": [],
   "source": [
    "def unique(x, columns):\n",
    "    keys = set()\n",
    "    for k in columns:\n",
    "        keys.update(x[k].dropna().unique())\n",
    "    return keys"
   ]
  },
  {
   "cell_type": "code",
   "execution_count": 7,
   "metadata": {},
   "outputs": [],
   "source": [
    "norm(df, 'pays_origine', 'from_country')\n",
    "norm(df, 'pays', 'dest_country')"
   ]
  },
  {
   "cell_type": "code",
   "execution_count": 8,
   "metadata": {},
   "outputs": [],
   "source": [
    "norm(df, 'ville_origine', 'from_city')\n",
    "norm(df, 'ville', 'dest_city')"
   ]
  },
  {
   "cell_type": "markdown",
   "metadata": {},
   "source": [
    "### Cleanse & split city names"
   ]
  },
  {
   "cell_type": "code",
   "execution_count": 10,
   "metadata": {},
   "outputs": [],
   "source": [
    "regreplace = r\"\\((.*?)\\)\"\n",
    "regsplit = r'/|,|\\&| et | puis |\\+| and | - |;'\n",
    "df['dest_city'] = df['dest_city'].str.replace(regreplace,\"\").str.split(regsplit)\n",
    "df = df.explode('dest_city')\n",
    "df['dest_city'] = df['dest_city'].str.replace(\"\\d\", \"\")\n",
    "df['dest_city'] = df['dest_city'].str.strip()"
   ]
  },
  {
   "cell_type": "code",
   "execution_count": 17,
   "metadata": {},
   "outputs": [],
   "source": [
    "#df['dest_city'].sample(30)"
   ]
  },
  {
   "cell_type": "markdown",
   "metadata": {},
   "source": [
    "### Geocode city names"
   ]
  },
  {
   "cell_type": "code",
   "execution_count": 12,
   "metadata": {},
   "outputs": [],
   "source": [
    "import time\n",
    "def geocode(x, keys=['country_code', 'city', 'lat', 'lng', 'accuracy', 'confidence']):\n",
    "    res = geocoder.osm(x).json\n",
    "    time.sleep(2)\n",
    "    return {k: (res or {}).get(k) for k in keys}"
   ]
  },
  {
   "cell_type": "code",
   "execution_count": 16,
   "metadata": {},
   "outputs": [
    {
     "data": {
      "text/plain": [
       "array(['calgary', 'tangers', 'valladolid', 'st pertersbourg', 'jerusalem',\n",
       "       'mcze', 'carleton', 'ville davray', 'paris', 'sherbrooke',\n",
       "       'copenhague', 'briuxelles', 'tanger', 'olloy-sur-viroin', 'apamee',\n",
       "       'arras', 'monastir', 'goteborg', 'agrigente', 'sapporo',\n",
       "       'louvain-la-neuve', 'loughborough', 'milan', 'kinshasa', 'al.',\n",
       "       'ramillies', 'loveno di menaggio', 'tourcoing', 'binche',\n",
       "       'karlsruhe'], dtype=object)"
      ]
     },
     "execution_count": 16,
     "metadata": {},
     "output_type": "execute_result"
    }
   ],
   "source": [
    "city = pd.DataFrame(list(df['from_city'].dropna().unique()) + list(df['dest_city'].unique()), columns=['city'])\n",
    "city['city'].sample(30).values"
   ]
  },
  {
   "cell_type": "raw",
   "metadata": {},
   "source": [
    "citygc = city.loc[:10,'city'].apply(geocode).apply(pd.Series)\n",
    "citygc"
   ]
  },
  {
   "cell_type": "code",
   "execution_count": null,
   "metadata": {},
   "outputs": [],
   "source": []
  },
  {
   "cell_type": "raw",
   "metadata": {},
   "source": [
    "from geopy.geocoders import Nominatim\n",
    "geolocator = Nominatim(user_agent=\"Mission\")\n",
    "location = geolocator.geocode(\"brussels\")"
   ]
  },
  {
   "cell_type": "code",
   "execution_count": null,
   "metadata": {},
   "outputs": [],
   "source": []
  },
  {
   "cell_type": "code",
   "execution_count": null,
   "metadata": {},
   "outputs": [],
   "source": []
  }
 ],
 "metadata": {
  "kernelspec": {
   "display_name": "Python 3",
   "language": "python",
   "name": "python3"
  },
  "language_info": {
   "codemirror_mode": {
    "name": "ipython",
    "version": 3
   },
   "file_extension": ".py",
   "mimetype": "text/x-python",
   "name": "python",
   "nbconvert_exporter": "python",
   "pygments_lexer": "ipython3",
   "version": "3.7.3"
  }
 },
 "nbformat": 4,
 "nbformat_minor": 2
}
