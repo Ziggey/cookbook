{
 "cells": [
  {
   "cell_type": "code",
   "execution_count": 1,
   "metadata": {
    "ExecuteTime": {
     "end_time": "2020-08-23T15:53:54.417681Z",
     "start_time": "2020-08-23T15:53:52.080717Z"
    }
   },
   "outputs": [],
   "source": [
    "from odapi.connectors import Irceline\n",
    "from odapi.toolbox.statistics import StatisticalTest \n",
    "from odapi.settings import settings\n",
    "settings.logger.setLevel(50)"
   ]
  },
  {
   "cell_type": "code",
   "execution_count": 2,
   "metadata": {
    "ExecuteTime": {
     "end_time": "2020-08-23T15:53:54.438033Z",
     "start_time": "2020-08-23T15:53:54.428862Z"
    }
   },
   "outputs": [],
   "source": [
    "client = Irceline()"
   ]
  },
  {
   "cell_type": "code",
   "execution_count": 3,
   "metadata": {
    "ExecuteTime": {
     "end_time": "2020-08-23T15:53:56.576330Z",
     "start_time": "2020-08-23T15:53:54.445582Z"
    }
   },
   "outputs": [
    {
     "data": {
      "text/html": [
       "<div>\n",
       "<style scoped>\n",
       "    .dataframe tbody tr th:only-of-type {\n",
       "        vertical-align: middle;\n",
       "    }\n",
       "\n",
       "    .dataframe tbody tr th {\n",
       "        vertical-align: top;\n",
       "    }\n",
       "\n",
       "    .dataframe thead th {\n",
       "        text-align: right;\n",
       "    }\n",
       "</style>\n",
       "<table border=\"1\" class=\"dataframe\">\n",
       "  <thead>\n",
       "    <tr style=\"text-align: right;\">\n",
       "      <th></th>\n",
       "      <th>serieid</th>\n",
       "      <th>seriekey</th>\n",
       "    </tr>\n",
       "  </thead>\n",
       "  <tbody>\n",
       "    <tr>\n",
       "      <th>0</th>\n",
       "      <td>6522</td>\n",
       "      <td>OXL/41B006 (µg/m³)</td>\n",
       "    </tr>\n",
       "    <tr>\n",
       "      <th>4</th>\n",
       "      <td>6519</td>\n",
       "      <td>BZN/41B006 (µg/m³)</td>\n",
       "    </tr>\n",
       "    <tr>\n",
       "      <th>14</th>\n",
       "      <td>10607</td>\n",
       "      <td>BC/41R012 (µg/m³)</td>\n",
       "    </tr>\n",
       "    <tr>\n",
       "      <th>17</th>\n",
       "      <td>10693</td>\n",
       "      <td>BC/41N043 (µg/m³)</td>\n",
       "    </tr>\n",
       "    <tr>\n",
       "      <th>30</th>\n",
       "      <td>6569</td>\n",
       "      <td>BC/41R001 (µg/m³)</td>\n",
       "    </tr>\n",
       "  </tbody>\n",
       "</table>\n",
       "</div>"
      ],
      "text/plain": [
       "   serieid            seriekey\n",
       "0     6522  OXL/41B006 (µg/m³)\n",
       "4     6519  BZN/41B006 (µg/m³)\n",
       "14   10607   BC/41R012 (µg/m³)\n",
       "17   10693   BC/41N043 (µg/m³)\n",
       "30    6569   BC/41R001 (µg/m³)"
      ]
     },
     "execution_count": 3,
     "metadata": {},
     "output_type": "execute_result"
    }
   ],
   "source": [
    "sel = client.select(sitekey=\"41\")[[\"serieid\", \"seriekey\"]]\n",
    "sel.head()"
   ]
  },
  {
   "cell_type": "code",
   "execution_count": 4,
   "metadata": {
    "ExecuteTime": {
     "end_time": "2020-08-23T15:53:56.592993Z",
     "start_time": "2020-08-23T15:53:56.587944Z"
    }
   },
   "outputs": [],
   "source": [
    "t0 = \"2018-01-01\"\n",
    "t1 = \"2019-01-01\""
   ]
  },
  {
   "cell_type": "code",
   "execution_count": 5,
   "metadata": {
    "ExecuteTime": {
     "end_time": "2020-08-23T15:55:01.495139Z",
     "start_time": "2020-08-23T15:53:56.597647Z"
    }
   },
   "outputs": [],
   "source": [
    "rec = client.get_records(sel, start=t0, stop=t1)"
   ]
  },
  {
   "cell_type": "code",
   "execution_count": 6,
   "metadata": {
    "ExecuteTime": {
     "end_time": "2020-08-23T15:55:02.632838Z",
     "start_time": "2020-08-23T15:55:01.510777Z"
    }
   },
   "outputs": [],
   "source": [
    "data = rec.merge(sel).pivot_table(index=\"start\", columns=\"seriekey\", values=\"value\")"
   ]
  },
  {
   "cell_type": "code",
   "execution_count": 7,
   "metadata": {
    "ExecuteTime": {
     "end_time": "2020-08-23T15:55:02.679691Z",
     "start_time": "2020-08-23T15:55:02.641960Z"
    }
   },
   "outputs": [],
   "source": [
    "data.to_pickle(\"./data/2018-2019.pickle\")"
   ]
  },
  {
   "cell_type": "code",
   "execution_count": null,
   "metadata": {
    "ExecuteTime": {
     "end_time": "2020-08-23T15:27:27.298163Z",
     "start_time": "2020-08-23T15:27:27.173598Z"
    }
   },
   "outputs": [],
   "source": []
  },
  {
   "cell_type": "code",
   "execution_count": null,
   "metadata": {},
   "outputs": [],
   "source": []
  }
 ],
 "metadata": {
  "hide_input": false,
  "kernelspec": {
   "display_name": "Python 3",
   "language": "python",
   "name": "python3"
  },
  "language_info": {
   "codemirror_mode": {
    "name": "ipython",
    "version": 3
   },
   "file_extension": ".py",
   "mimetype": "text/x-python",
   "name": "python",
   "nbconvert_exporter": "python",
   "pygments_lexer": "ipython3",
   "version": "3.6.9"
  },
  "toc": {
   "base_numbering": 1,
   "nav_menu": {},
   "number_sections": true,
   "sideBar": true,
   "skip_h1_title": false,
   "title_cell": "Table of Contents",
   "title_sidebar": "Contents",
   "toc_cell": false,
   "toc_position": {},
   "toc_section_display": true,
   "toc_window_display": false
  },
  "varInspector": {
   "cols": {
    "lenName": 16,
    "lenType": 16,
    "lenVar": 40
   },
   "kernels_config": {
    "python": {
     "delete_cmd_postfix": "",
     "delete_cmd_prefix": "del ",
     "library": "var_list.py",
     "varRefreshCmd": "print(var_dic_list())"
    },
    "r": {
     "delete_cmd_postfix": ") ",
     "delete_cmd_prefix": "rm(",
     "library": "var_list.r",
     "varRefreshCmd": "cat(var_dic_list()) "
    }
   },
   "types_to_exclude": [
    "module",
    "function",
    "builtin_function_or_method",
    "instance",
    "_Feature"
   ],
   "window_display": false
  }
 },
 "nbformat": 4,
 "nbformat_minor": 4
}
