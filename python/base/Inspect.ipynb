{
 "cells": [
  {
   "cell_type": "markdown",
   "metadata": {},
   "source": [
    "# Inspect live objects\n",
    "\n",
    "This notebook illustrates the powerful package [`inspect`][1] from the PSL which allows user to inspect live objects. This package can help developpers to:\n",
    "\n",
    " - better understand internal Python mechanics;\n",
    " - explore modules developped by others whether the source is available or not;\n",
    " - be very creative and hack a lot.\n",
    "\n",
    "[1]: https://docs.python.org/3/library/inspect.html#module-inspect"
   ]
  },
  {
   "cell_type": "code",
   "execution_count": 1,
   "metadata": {},
   "outputs": [],
   "source": [
    "import inspect"
   ]
  },
  {
   "cell_type": "markdown",
   "metadata": {},
   "source": [
    "## Trial Package\n",
    "\n",
    "We will explore the Pandas package in order to illustrate the power of `inspect` package. First we import it:"
   ]
  },
  {
   "cell_type": "code",
   "execution_count": 2,
   "metadata": {},
   "outputs": [
    {
     "data": {
      "text/plain": [
       "'0.23.0'"
      ]
     },
     "execution_count": 2,
     "metadata": {},
     "output_type": "execute_result"
    }
   ],
   "source": [
    "import pandas as pd\n",
    "pd.__version__"
   ]
  },
  {
   "cell_type": "markdown",
   "metadata": {},
   "source": [
    "Now the variable `pd` points towards a module object:"
   ]
  },
  {
   "cell_type": "code",
   "execution_count": 3,
   "metadata": {},
   "outputs": [
    {
     "data": {
      "text/plain": [
       "<module 'pandas' from 'C:\\\\ProgramData\\\\Anaconda3\\\\lib\\\\site-packages\\\\pandas\\\\__init__.py'>"
      ]
     },
     "execution_count": 3,
     "metadata": {},
     "output_type": "execute_result"
    }
   ],
   "source": [
    "pd"
   ]
  },
  {
   "cell_type": "markdown",
   "metadata": {},
   "source": [
    "And this is confirmed by inpsection:"
   ]
  },
  {
   "cell_type": "code",
   "execution_count": 4,
   "metadata": {},
   "outputs": [
    {
     "data": {
      "text/plain": [
       "True"
      ]
     },
     "execution_count": 4,
     "metadata": {},
     "output_type": "execute_result"
    }
   ],
   "source": [
    "inspect.ismodule(pd)"
   ]
  },
  {
   "cell_type": "markdown",
   "metadata": {},
   "source": [
    "Even more useful, we can find out in which file the module resides, with no suprises, it belongs to `__init__.py`:"
   ]
  },
  {
   "cell_type": "code",
   "execution_count": 5,
   "metadata": {},
   "outputs": [
    {
     "data": {
      "text/plain": [
       "'C:\\\\ProgramData\\\\Anaconda3\\\\lib\\\\site-packages\\\\pandas\\\\__init__.py'"
      ]
     },
     "execution_count": 5,
     "metadata": {},
     "output_type": "execute_result"
    }
   ],
   "source": [
    "inspect.getfile(pd)"
   ]
  },
  {
   "cell_type": "markdown",
   "metadata": {},
   "source": [
    "This method is quite handy when you need to find out in which file a source code resides."
   ]
  },
  {
   "cell_type": "markdown",
   "metadata": {},
   "source": [
    "## List objects\n",
    "\n",
    "Function [`getmembers`][1] returns a list of 2-tuples (respectively object name and the object itself, so it can be directly converted into dict using the constructor) that are held by the inspected object. Performing this method on a module returns a lot of objects, this list can be refined using a predicate function to filter out specififc objects.\n",
    "\n",
    "We select available classes and functions within the pandas root module:\n",
    "\n",
    "[1]: https://docs.python.org/3/library/inspect.html#inspect.getmembers"
   ]
  },
  {
   "cell_type": "code",
   "execution_count": 6,
   "metadata": {},
   "outputs": [],
   "source": [
    "objects = dict(inspect.getmembers(pd, inspect.isclass))\n",
    "functions = dict(inspect.getmembers(pd, inspect.isfunction))"
   ]
  },
  {
   "cell_type": "markdown",
   "metadata": {},
   "source": [
    "We can see that Pandas package initialization maps a lot of objects spread among many submodules:"
   ]
  },
  {
   "cell_type": "code",
   "execution_count": 7,
   "metadata": {},
   "outputs": [
    {
     "data": {
      "text/plain": [
       "{'Categorical': pandas.core.arrays.categorical.Categorical,\n",
       " 'CategoricalIndex': pandas.core.indexes.category.CategoricalIndex,\n",
       " 'DataFrame': pandas.core.frame.DataFrame,\n",
       " 'DateOffset': pandas.tseries.offsets.DateOffset,\n",
       " 'DatetimeIndex': pandas.core.indexes.datetimes.DatetimeIndex,\n",
       " 'ExcelFile': pandas.io.excel.ExcelFile,\n",
       " 'ExcelWriter': pandas.io.excel.ExcelWriter,\n",
       " 'Float64Index': pandas.core.indexes.numeric.Float64Index,\n",
       " 'Grouper': pandas.core.groupby.groupby.Grouper,\n",
       " 'HDFStore': pandas.io.pytables.HDFStore,\n",
       " 'Index': pandas.core.indexes.base.Index,\n",
       " 'Int64Index': pandas.core.indexes.numeric.Int64Index,\n",
       " 'Interval': pandas._libs.interval.Interval,\n",
       " 'IntervalIndex': pandas.core.indexes.interval.IntervalIndex,\n",
       " 'MultiIndex': pandas.core.indexes.multi.MultiIndex,\n",
       " 'Panel': pandas.core.panel.Panel,\n",
       " 'Period': pandas._libs.tslibs.period.Period,\n",
       " 'PeriodIndex': pandas.core.indexes.period.PeriodIndex,\n",
       " 'RangeIndex': pandas.core.indexes.range.RangeIndex,\n",
       " 'Series': pandas.core.series.Series,\n",
       " 'SparseArray': pandas.core.sparse.array.SparseArray,\n",
       " 'SparseDataFrame': pandas.core.sparse.frame.SparseDataFrame,\n",
       " 'SparseSeries': pandas.core.sparse.series.SparseSeries,\n",
       " 'TimeGrouper': pandas.core.api.TimeGrouper,\n",
       " 'Timedelta': pandas._libs.tslibs.timedeltas.Timedelta,\n",
       " 'TimedeltaIndex': pandas.core.indexes.timedeltas.TimedeltaIndex,\n",
       " 'Timestamp': pandas._libs.tslibs.timestamps.Timestamp,\n",
       " 'UInt64Index': pandas.core.indexes.numeric.UInt64Index,\n",
       " 'WidePanel': pandas.core.panel.WidePanel,\n",
       " '_DeprecatedModule': pandas.util._depr_module._DeprecatedModule,\n",
       " 'datetime': datetime.datetime,\n",
       " 'option_context': pandas.core.config.option_context}"
      ]
     },
     "execution_count": 7,
     "metadata": {},
     "output_type": "execute_result"
    }
   ],
   "source": [
    "objects"
   ]
  },
  {
   "cell_type": "markdown",
   "metadata": {},
   "source": [
    "There are a lot of useful functions directly available:"
   ]
  },
  {
   "cell_type": "code",
   "execution_count": 8,
   "metadata": {},
   "outputs": [
    {
     "data": {
      "text/plain": [
       "dict_keys(['Expr', 'Term', 'bdate_range', 'concat', 'crosstab', 'cut', 'date_range', 'eval', 'factorize', 'get_dummies', 'get_store', 'groupby', 'infer_freq', 'interval_range', 'isna', 'isnull', 'lreshape', 'match', 'melt', 'merge', 'merge_asof', 'merge_ordered', 'notna', 'notnull', 'period_range', 'pivot', 'pivot_table', 'pnow', 'qcut', 'read_clipboard', 'read_csv', 'read_excel', 'read_feather', 'read_fwf', 'read_gbq', 'read_hdf', 'read_html', 'read_json', 'read_msgpack', 'read_parquet', 'read_pickle', 'read_sas', 'read_sql', 'read_sql_query', 'read_sql_table', 'read_stata', 'read_table', 'scatter_matrix', 'set_eng_float_format', 'show_versions', 'test', 'timedelta_range', 'to_datetime', 'to_msgpack', 'to_numeric', 'to_pickle', 'to_timedelta', 'unique', 'value_counts', 'wide_to_long'])"
      ]
     },
     "execution_count": 8,
     "metadata": {},
     "output_type": "execute_result"
    }
   ],
   "source": [
    "functions.keys()"
   ]
  },
  {
   "cell_type": "markdown",
   "metadata": {},
   "source": [
    "## Explore object\n",
    "\n",
    "Now we will explore a specific object, we pick up the famous `DataFrame`:"
   ]
  },
  {
   "cell_type": "code",
   "execution_count": 9,
   "metadata": {},
   "outputs": [
    {
     "data": {
      "text/plain": [
       "True"
      ]
     },
     "execution_count": 9,
     "metadata": {},
     "output_type": "execute_result"
    }
   ],
   "source": [
    "inspect.isclass(pd.DataFrame)"
   ]
  },
  {
   "cell_type": "markdown",
   "metadata": {},
   "source": [
    "### Find the source code"
   ]
  },
  {
   "cell_type": "code",
   "execution_count": 10,
   "metadata": {},
   "outputs": [
    {
     "data": {
      "text/plain": [
       "'C:\\\\ProgramData\\\\Anaconda3\\\\lib\\\\site-packages\\\\pandas\\\\core\\\\frame.py'"
      ]
     },
     "execution_count": 10,
     "metadata": {},
     "output_type": "execute_result"
    }
   ],
   "source": [
    "inspect.getfile(pd.DataFrame)"
   ]
  },
  {
   "cell_type": "code",
   "execution_count": 11,
   "metadata": {},
   "outputs": [
    {
     "data": {
      "text/plain": [
       "'C:\\\\ProgramData\\\\Anaconda3\\\\lib\\\\site-packages\\\\pandas\\\\core\\\\frame.py'"
      ]
     },
     "execution_count": 11,
     "metadata": {},
     "output_type": "execute_result"
    }
   ],
   "source": [
    "inspect.getsourcefile(pd.DataFrame)"
   ]
  },
  {
   "cell_type": "code",
   "execution_count": 12,
   "metadata": {},
   "outputs": [
    {
     "data": {
      "text/plain": [
       "<module 'pandas.core.frame' from 'C:\\\\ProgramData\\\\Anaconda3\\\\lib\\\\site-packages\\\\pandas\\\\core\\\\frame.py'>"
      ]
     },
     "execution_count": 12,
     "metadata": {},
     "output_type": "execute_result"
    }
   ],
   "source": [
    "inspect.getmodule(pd.DataFrame)"
   ]
  },
  {
   "cell_type": "code",
   "execution_count": 13,
   "metadata": {},
   "outputs": [
    {
     "data": {
      "text/plain": [
       "'frame'"
      ]
     },
     "execution_count": 13,
     "metadata": {},
     "output_type": "execute_result"
    }
   ],
   "source": [
    "inspect.getmodulename(inspect.getsourcefile(pd.DataFrame))"
   ]
  },
  {
   "cell_type": "code",
   "execution_count": 14,
   "metadata": {},
   "outputs": [
    {
     "data": {
      "text/plain": [
       "248"
      ]
     },
     "execution_count": 14,
     "metadata": {},
     "output_type": "execute_result"
    }
   ],
   "source": [
    "inspect.getsourcelines(pd.DataFrame)[-1]"
   ]
  },
  {
   "cell_type": "markdown",
   "metadata": {},
   "source": [
    "Those information are really helpful because it help us to find out where the actual code resides. For instance, the definition of `DataFrame` class in version `0.23.0` is located in `pandas/core/frame.py` at the line `248`.\n",
    "\n",
    "So it can be retrived easily from GitHub and spare us the time of browsing hundred source code files: \n",
    "\n",
    " - https://github.com/pandas-dev/pandas/blob/0.23.x/pandas/core/frame.py#L248"
   ]
  },
  {
   "cell_type": "code",
   "execution_count": 15,
   "metadata": {},
   "outputs": [
    {
     "name": "stdout",
     "output_type": "stream",
     "text": [
      "class DataFrame(NDFrame):\n",
      "    \"\"\" Two-dimensional size-mutable, potentially heterogeneous tabular data\n",
      "    structure with labeled axes (rows and columns). Arithmetic operations\n",
      "    align on both row and column labels. Can be thought of as a dict-li\n"
     ]
    }
   ],
   "source": [
    "print(inspect.getsource(pd.DataFrame)[:248])"
   ]
  },
  {
   "cell_type": "code",
   "execution_count": 16,
   "metadata": {},
   "outputs": [
    {
     "name": "stdout",
     "output_type": "stream",
     "text": [
      "Two-dimensional size-mutable, potentially heterogeneous tabular data\n",
      "structure with labeled axes (rows and columns). Arithmetic operations\n",
      "align on both row and column labels. Can be thought of as a dict-like\n",
      "container for Series objects. The prima\n"
     ]
    }
   ],
   "source": [
    "print(inspect.getdoc(pd.DataFrame)[:248])"
   ]
  },
  {
   "cell_type": "code",
   "execution_count": 17,
   "metadata": {},
   "outputs": [
    {
     "name": "stdout",
     "output_type": "stream",
     "text": [
      "None\n"
     ]
    }
   ],
   "source": [
    "print(inspect.getcomments(pd.DataFrame))"
   ]
  },
  {
   "cell_type": "code",
   "execution_count": null,
   "metadata": {},
   "outputs": [],
   "source": []
  },
  {
   "cell_type": "code",
   "execution_count": null,
   "metadata": {},
   "outputs": [],
   "source": []
  }
 ],
 "metadata": {
  "kernelspec": {
   "display_name": "Python 3",
   "language": "python",
   "name": "python3"
  },
  "language_info": {
   "codemirror_mode": {
    "name": "ipython",
    "version": 3
   },
   "file_extension": ".py",
   "mimetype": "text/x-python",
   "name": "python",
   "nbconvert_exporter": "python",
   "pygments_lexer": "ipython3",
   "version": "3.6.5"
  }
 },
 "nbformat": 4,
 "nbformat_minor": 2
}
