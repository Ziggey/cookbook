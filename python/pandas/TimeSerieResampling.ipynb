{
 "cells": [
  {
   "cell_type": "markdown",
   "metadata": {},
   "source": [
    "# Time Serie Resampling\n",
    "\n",
    "## Introduction\n",
    "\n",
    "When dealing with Time Series we are often facing different Time Conventions and AveragingMethodology. This notebook provides useful insight to answer:\n",
    "\n",
    "> &laquo;&nbsp;How can we correlate Time Series computed from Sample?&nbsp;&raquo;\n",
    "\n",
    "In this notebook we show capabilities of Pandas in dealing with this issue and how to handle it properly.\n",
    "Also see [Time Serie Synchronization][1].\n",
    "\n",
    "[1]: ./TimeSerieSynchronization.ipynb\n",
    "\n",
    "## Imports\n",
    "\n",
    "Only `pandas` is required in this notebook, `matplotlib` and `numpy` are invoked for convenience only."
   ]
  },
  {
   "cell_type": "code",
   "execution_count": 1,
   "metadata": {},
   "outputs": [],
   "source": [
    "import numpy as np\n",
    "%matplotlib inline\n",
    "import matplotlib as mpl\n",
    "import matplotlib.pyplot as plt\n",
    "mpl.rcParams['figure.figsize'] = 0.75*np.array(mpl.rcParams['figure.figsize'])\n",
    "import pandas as pd"
   ]
  },
  {
   "cell_type": "code",
   "execution_count": 2,
   "metadata": {},
   "outputs": [],
   "source": [
    "import random\n",
    "seed = 28\n",
    "random.seed(seed)\n",
    "np.random.seed(seed)"
   ]
  },
  {
   "cell_type": "markdown",
   "metadata": {},
   "source": [
    "## Methdology\n",
    "\n",
    "We need to compare Time Series from several datasets with different granularities to asses:\n",
    "\n",
    " - Synchronization: Do Timestamps in series remain correct through the datafrlow?\n",
    " - Averaging Methodology: Does Averaging Methodology change?\n",
    " \n",
    "For this purpose, we will define an objective criterion.\n",
    "\n",
    "### Shifted Relative Error Test\n",
    "\n",
    "First we define a dimensionless quantity $r$ we call *Shifted Relative Error* to compare records among datasets. We define this quantity as follow:\n",
    "\n",
    "$$r_{s,\\lambda}(t) = \\frac{x_{s,\\mathrm{exp}}(t + \\lambda \\Delta t_x) - x_{s,\\mathrm{ref}}(t)}{x_{s,\\mathrm{ref}}(t)}\n",
    " \\quad \\forall s \\in S, \\, \\forall t \\in [t_\\min,t_\\max], \\, \\lambda \\in \\mathbb{Z}$$\n",
    "\n",
    "Where:\n",
    "\n",
    " - $s$ is the measurement site in the universe of sites $S$;\n",
    " - $t$ is the time over the considered period $[t_\\min,t_\\max]$;\n",
    " - $x_s(t)$ is the value of the averaged observable for some site $s$ at the time $t$;\n",
    " - $\\lambda$ is the average shift index;\n",
    " - $\\Delta t_x$ is the averaging period (or granularity) of the observable.\n",
    " - Indice `ref` stands for the reference dataset;\n",
    " - Indice `exp` stands for the trial dataset.\n",
    "\n",
    "This methodology is suitable to anwser both of above questions. Notice than *Shifted Relative Error* as we haved defined it, exhibits some intersting properties:\n",
    "\n",
    " - Finding a $\\lambda \\neq 0$ that makes $\\left|r_{s,\\lambda}\\right| \\to 0, \\,\\forall t,\\, \\forall s$ over a defined period does not prove but will strongly suggest the existence of a time shift;\n",
    " - If a time shift exists without change of averaging methodology, it must be identified in both side of the **critical time** (Timestamp when time shift occurs) with two consecutive value of $\\lambda$ and $\\lambda + 1$;\n",
    "\n",
    "### Shifted Sampling Relative Error\n",
    "\n",
    "We slightly modify the definition above to detect a shift of averaging window instead of an average shift, the quantity becomes:\n",
    "\n",
    "\n",
    "$$r_{s,\\gamma}(t) = \\frac{\\frac{1}{n} \\sum\\limits_{i=\\gamma}^{\\gamma + n} z_{s,\\mathrm{exp}}(t + i \\Delta t_z) - x_{s,\\mathrm{ref}}(t)}{x_{s,\\mathrm{ref}}(t)} \\quad \\Delta t_x = n \\Delta t_x,\\, n \\in \\mathbb{N}_0, \\gamma \\in \\mathbb{Z}$$\n",
    "\n",
    "\n",
    "Where:\n",
    "\n",
    " - $\\gamma$ is the sample shift index;\n",
    " - $z_s(t)$ is the value of the observable (sample used for average);\n",
    " - $\\Delta t_z$ is the sampling period (or granularity) of the sample value, we only consider equally spaced sample;\n",
    " - $n$ is the number of sample in the averaging period.\n",
    "\n",
    "The latter definition is a generalization of the former. When $\\gamma = n \\lambda$, both formula are equal. Observations made on the first definition can be extended to:\n",
    "\n",
    " - Finding a $\\gamma \\neq 0$ that makes $\\left|r_{s,\\gamma}\\right| \\to 0, \\,\\forall t,\\, \\forall s$ over a defined period does not prove but will strongly suggest the existence of a time shift;\n",
    " - Average shift from either side should occur for $\\lambda$ and $\\lambda + n$, corrolary is $\\gamma = n \\lambda$ must hold;\n",
    " - If $\\gamma = n \\lambda$ does not hold, then windows are not synchronized across the Critical Time.\n",
    "\n",
    "### Implementation\n",
    "\n",
    "Both definitions above have been implemented in a single function using shifting and resampling methods.\n",
    "It is available in the AirPy project in package `airpy.scientific.compare` as `shiftedRelativeError` method.\n",
    "\n",
    "Below the current code of the function:"
   ]
  },
  {
   "cell_type": "code",
   "execution_count": 3,
   "metadata": {},
   "outputs": [],
   "source": [
    "from airpy.scientific import compare"
   ]
  },
  {
   "cell_type": "code",
   "execution_count": null,
   "metadata": {},
   "outputs": [],
   "source": []
  },
  {
   "cell_type": "markdown",
   "metadata": {},
   "source": [
    "## Trial datasets\n",
    "\n",
    "### Raw Records\n",
    "\n",
    "We create a trial DataFrame with random numbers with 10 channels during a month sampled with 5 minutes period.\n",
    "Data are stored using the closed to the right convention:"
   ]
  },
  {
   "cell_type": "code",
   "execution_count": 4,
   "metadata": {},
   "outputs": [
    {
     "data": {
      "text/html": [
       "<div>\n",
       "<style scoped>\n",
       "    .dataframe tbody tr th:only-of-type {\n",
       "        vertical-align: middle;\n",
       "    }\n",
       "\n",
       "    .dataframe tbody tr th {\n",
       "        vertical-align: top;\n",
       "    }\n",
       "\n",
       "    .dataframe thead th {\n",
       "        text-align: right;\n",
       "    }\n",
       "</style>\n",
       "<table border=\"1\" class=\"dataframe\">\n",
       "  <thead>\n",
       "    <tr style=\"text-align: right;\">\n",
       "      <th></th>\n",
       "      <th>0</th>\n",
       "      <th>1</th>\n",
       "      <th>2</th>\n",
       "      <th>3</th>\n",
       "      <th>4</th>\n",
       "    </tr>\n",
       "  </thead>\n",
       "  <tbody>\n",
       "    <tr>\n",
       "      <th>2010-01-01 00:05:00</th>\n",
       "      <td>0.446332</td>\n",
       "      <td>1.669120</td>\n",
       "      <td>-0.264280</td>\n",
       "      <td>-0.967835</td>\n",
       "      <td>0.059188</td>\n",
       "    </tr>\n",
       "    <tr>\n",
       "      <th>2010-01-01 00:10:00</th>\n",
       "      <td>1.514620</td>\n",
       "      <td>0.336870</td>\n",
       "      <td>-0.302369</td>\n",
       "      <td>-0.838642</td>\n",
       "      <td>-0.517731</td>\n",
       "    </tr>\n",
       "    <tr>\n",
       "      <th>2010-01-01 00:15:00</th>\n",
       "      <td>0.253508</td>\n",
       "      <td>-2.484704</td>\n",
       "      <td>-0.651420</td>\n",
       "      <td>-1.775469</td>\n",
       "      <td>0.234286</td>\n",
       "    </tr>\n",
       "    <tr>\n",
       "      <th>2010-01-01 00:20:00</th>\n",
       "      <td>1.239400</td>\n",
       "      <td>-0.650334</td>\n",
       "      <td>-0.266215</td>\n",
       "      <td>-0.538720</td>\n",
       "      <td>0.420741</td>\n",
       "    </tr>\n",
       "    <tr>\n",
       "      <th>2010-01-01 00:25:00</th>\n",
       "      <td>-0.095286</td>\n",
       "      <td>-0.769876</td>\n",
       "      <td>-0.183725</td>\n",
       "      <td>0.176809</td>\n",
       "      <td>0.737056</td>\n",
       "    </tr>\n",
       "  </tbody>\n",
       "</table>\n",
       "</div>"
      ],
      "text/plain": [
       "                            0         1         2         3         4\n",
       "2010-01-01 00:05:00  0.446332  1.669120 -0.264280 -0.967835  0.059188\n",
       "2010-01-01 00:10:00  1.514620  0.336870 -0.302369 -0.838642 -0.517731\n",
       "2010-01-01 00:15:00  0.253508 -2.484704 -0.651420 -1.775469  0.234286\n",
       "2010-01-01 00:20:00  1.239400 -0.650334 -0.266215 -0.538720  0.420741\n",
       "2010-01-01 00:25:00 -0.095286 -0.769876 -0.183725  0.176809  0.737056"
      ]
     },
     "execution_count": 4,
     "metadata": {},
     "output_type": "execute_result"
    }
   ],
   "source": [
    "nC = 5\n",
    "t0 = pd.date_range(start='2010-01-01 00:00:00', end='2010-02-01 00:00:00', freq='5T', closed='right')\n",
    "x0 = np.random.randn(t0.size, nC)\n",
    "raw = pd.DataFrame(x0, index=t0)\n",
    "raw.iloc[:5,:]"
   ]
  },
  {
   "cell_type": "markdown",
   "metadata": {},
   "source": [
    "Now, we will create half hourly means for all channels with the requirement to keep time convention."
   ]
  },
  {
   "cell_type": "markdown",
   "metadata": {},
   "source": [
    "### Aggregated Records\n",
    "\n",
    "#### Synchronized Mean\n",
    "We create an aggregated 30 minutes mean with same time convention:"
   ]
  },
  {
   "cell_type": "code",
   "execution_count": 5,
   "metadata": {},
   "outputs": [
    {
     "data": {
      "text/html": [
       "<div>\n",
       "<style scoped>\n",
       "    .dataframe tbody tr th:only-of-type {\n",
       "        vertical-align: middle;\n",
       "    }\n",
       "\n",
       "    .dataframe tbody tr th {\n",
       "        vertical-align: top;\n",
       "    }\n",
       "\n",
       "    .dataframe thead th {\n",
       "        text-align: right;\n",
       "    }\n",
       "</style>\n",
       "<table border=\"1\" class=\"dataframe\">\n",
       "  <thead>\n",
       "    <tr style=\"text-align: right;\">\n",
       "      <th></th>\n",
       "      <th>0</th>\n",
       "      <th>1</th>\n",
       "      <th>2</th>\n",
       "      <th>3</th>\n",
       "      <th>4</th>\n",
       "    </tr>\n",
       "  </thead>\n",
       "  <tbody>\n",
       "    <tr>\n",
       "      <th>2010-01-01 00:30:00</th>\n",
       "      <td>0.675406</td>\n",
       "      <td>-0.452409</td>\n",
       "      <td>-0.213388</td>\n",
       "      <td>-0.639553</td>\n",
       "      <td>0.103160</td>\n",
       "    </tr>\n",
       "    <tr>\n",
       "      <th>2010-01-01 01:00:00</th>\n",
       "      <td>-0.142859</td>\n",
       "      <td>-0.043982</td>\n",
       "      <td>0.247526</td>\n",
       "      <td>0.369549</td>\n",
       "      <td>0.158189</td>\n",
       "    </tr>\n",
       "    <tr>\n",
       "      <th>2010-01-01 01:30:00</th>\n",
       "      <td>0.534679</td>\n",
       "      <td>-0.567000</td>\n",
       "      <td>-0.652909</td>\n",
       "      <td>-0.246096</td>\n",
       "      <td>0.138693</td>\n",
       "    </tr>\n",
       "    <tr>\n",
       "      <th>2010-01-01 02:00:00</th>\n",
       "      <td>0.441195</td>\n",
       "      <td>0.047251</td>\n",
       "      <td>-0.196375</td>\n",
       "      <td>-0.527124</td>\n",
       "      <td>0.541175</td>\n",
       "    </tr>\n",
       "    <tr>\n",
       "      <th>2010-01-01 02:30:00</th>\n",
       "      <td>-0.000140</td>\n",
       "      <td>0.345938</td>\n",
       "      <td>-0.525335</td>\n",
       "      <td>0.542621</td>\n",
       "      <td>0.198279</td>\n",
       "    </tr>\n",
       "  </tbody>\n",
       "</table>\n",
       "</div>"
      ],
      "text/plain": [
       "                            0         1         2         3         4\n",
       "2010-01-01 00:30:00  0.675406 -0.452409 -0.213388 -0.639553  0.103160\n",
       "2010-01-01 01:00:00 -0.142859 -0.043982  0.247526  0.369549  0.158189\n",
       "2010-01-01 01:30:00  0.534679 -0.567000 -0.652909 -0.246096  0.138693\n",
       "2010-01-01 02:00:00  0.441195  0.047251 -0.196375 -0.527124  0.541175\n",
       "2010-01-01 02:30:00 -0.000140  0.345938 -0.525335  0.542621  0.198279"
      ]
     },
     "execution_count": 5,
     "metadata": {},
     "output_type": "execute_result"
    }
   ],
   "source": [
    "agg0 = raw.resample('30T', closed='right', label='right').mean()\n",
    "agg0.iloc[:5,:]"
   ]
  },
  {
   "cell_type": "markdown",
   "metadata": {},
   "source": [
    "#### Shifted Average"
   ]
  },
  {
   "cell_type": "code",
   "execution_count": 6,
   "metadata": {},
   "outputs": [
    {
     "data": {
      "text/html": [
       "<div>\n",
       "<style scoped>\n",
       "    .dataframe tbody tr th:only-of-type {\n",
       "        vertical-align: middle;\n",
       "    }\n",
       "\n",
       "    .dataframe tbody tr th {\n",
       "        vertical-align: top;\n",
       "    }\n",
       "\n",
       "    .dataframe thead th {\n",
       "        text-align: right;\n",
       "    }\n",
       "</style>\n",
       "<table border=\"1\" class=\"dataframe\">\n",
       "  <thead>\n",
       "    <tr style=\"text-align: right;\">\n",
       "      <th></th>\n",
       "      <th>0</th>\n",
       "      <th>1</th>\n",
       "      <th>2</th>\n",
       "      <th>3</th>\n",
       "      <th>4</th>\n",
       "    </tr>\n",
       "  </thead>\n",
       "  <tbody>\n",
       "    <tr>\n",
       "      <th>2010-01-31 22:00:00</th>\n",
       "      <td>0.475626</td>\n",
       "      <td>-0.036286</td>\n",
       "      <td>0.563465</td>\n",
       "      <td>0.203187</td>\n",
       "      <td>0.817863</td>\n",
       "    </tr>\n",
       "    <tr>\n",
       "      <th>2010-01-31 22:30:00</th>\n",
       "      <td>-0.143553</td>\n",
       "      <td>-0.306606</td>\n",
       "      <td>1.005748</td>\n",
       "      <td>0.562050</td>\n",
       "      <td>0.184797</td>\n",
       "    </tr>\n",
       "    <tr>\n",
       "      <th>2010-01-31 23:00:00</th>\n",
       "      <td>0.845937</td>\n",
       "      <td>-0.640141</td>\n",
       "      <td>0.621105</td>\n",
       "      <td>-0.622346</td>\n",
       "      <td>-0.044123</td>\n",
       "    </tr>\n",
       "    <tr>\n",
       "      <th>2010-01-31 23:30:00</th>\n",
       "      <td>NaN</td>\n",
       "      <td>NaN</td>\n",
       "      <td>NaN</td>\n",
       "      <td>NaN</td>\n",
       "      <td>NaN</td>\n",
       "    </tr>\n",
       "    <tr>\n",
       "      <th>2010-02-01 00:00:00</th>\n",
       "      <td>NaN</td>\n",
       "      <td>NaN</td>\n",
       "      <td>NaN</td>\n",
       "      <td>NaN</td>\n",
       "      <td>NaN</td>\n",
       "    </tr>\n",
       "  </tbody>\n",
       "</table>\n",
       "</div>"
      ],
      "text/plain": [
       "                            0         1         2         3         4\n",
       "2010-01-31 22:00:00  0.475626 -0.036286  0.563465  0.203187  0.817863\n",
       "2010-01-31 22:30:00 -0.143553 -0.306606  1.005748  0.562050  0.184797\n",
       "2010-01-31 23:00:00  0.845937 -0.640141  0.621105 -0.622346 -0.044123\n",
       "2010-01-31 23:30:00       NaN       NaN       NaN       NaN       NaN\n",
       "2010-02-01 00:00:00       NaN       NaN       NaN       NaN       NaN"
      ]
     },
     "execution_count": 6,
     "metadata": {},
     "output_type": "execute_result"
    }
   ],
   "source": [
    "agg1 = raw.resample('30T', closed='right', label='right').mean().shift(-2)\n",
    "agg1.iloc[-5:,:]"
   ]
  },
  {
   "cell_type": "markdown",
   "metadata": {},
   "source": [
    "#### Shifted Averaging Window\n",
    "\n",
    "And a shifted records average:"
   ]
  },
  {
   "cell_type": "code",
   "execution_count": 7,
   "metadata": {},
   "outputs": [
    {
     "data": {
      "text/html": [
       "<div>\n",
       "<style scoped>\n",
       "    .dataframe tbody tr th:only-of-type {\n",
       "        vertical-align: middle;\n",
       "    }\n",
       "\n",
       "    .dataframe tbody tr th {\n",
       "        vertical-align: top;\n",
       "    }\n",
       "\n",
       "    .dataframe thead th {\n",
       "        text-align: right;\n",
       "    }\n",
       "</style>\n",
       "<table border=\"1\" class=\"dataframe\">\n",
       "  <thead>\n",
       "    <tr style=\"text-align: right;\">\n",
       "      <th></th>\n",
       "      <th>0</th>\n",
       "      <th>1</th>\n",
       "      <th>2</th>\n",
       "      <th>3</th>\n",
       "      <th>4</th>\n",
       "    </tr>\n",
       "  </thead>\n",
       "  <tbody>\n",
       "    <tr>\n",
       "      <th>2010-01-01 00:30:00</th>\n",
       "      <td>0.390673</td>\n",
       "      <td>-0.878319</td>\n",
       "      <td>0.113646</td>\n",
       "      <td>-0.095822</td>\n",
       "      <td>0.045996</td>\n",
       "    </tr>\n",
       "    <tr>\n",
       "      <th>2010-01-01 01:00:00</th>\n",
       "      <td>-0.037140</td>\n",
       "      <td>0.081848</td>\n",
       "      <td>-0.159529</td>\n",
       "      <td>0.325786</td>\n",
       "      <td>0.381592</td>\n",
       "    </tr>\n",
       "    <tr>\n",
       "      <th>2010-01-01 01:30:00</th>\n",
       "      <td>0.751006</td>\n",
       "      <td>-0.386310</td>\n",
       "      <td>-0.652545</td>\n",
       "      <td>-0.815657</td>\n",
       "      <td>0.098360</td>\n",
       "    </tr>\n",
       "    <tr>\n",
       "      <th>2010-01-01 02:00:00</th>\n",
       "      <td>0.164105</td>\n",
       "      <td>0.103048</td>\n",
       "      <td>-0.008424</td>\n",
       "      <td>0.024587</td>\n",
       "      <td>0.420831</td>\n",
       "    </tr>\n",
       "    <tr>\n",
       "      <th>2010-01-01 02:30:00</th>\n",
       "      <td>-0.228739</td>\n",
       "      <td>0.804657</td>\n",
       "      <td>-0.468524</td>\n",
       "      <td>0.462305</td>\n",
       "      <td>0.375905</td>\n",
       "    </tr>\n",
       "  </tbody>\n",
       "</table>\n",
       "</div>"
      ],
      "text/plain": [
       "                            0         1         2         3         4\n",
       "2010-01-01 00:30:00  0.390673 -0.878319  0.113646 -0.095822  0.045996\n",
       "2010-01-01 01:00:00 -0.037140  0.081848 -0.159529  0.325786  0.381592\n",
       "2010-01-01 01:30:00  0.751006 -0.386310 -0.652545 -0.815657  0.098360\n",
       "2010-01-01 02:00:00  0.164105  0.103048 -0.008424  0.024587  0.420831\n",
       "2010-01-01 02:30:00 -0.228739  0.804657 -0.468524  0.462305  0.375905"
      ]
     },
     "execution_count": 7,
     "metadata": {},
     "output_type": "execute_result"
    }
   ],
   "source": [
    "agg2 = raw.shift(-2).resample('30T', closed='right', label='right').mean()\n",
    "agg2.iloc[:5,:]"
   ]
  },
  {
   "cell_type": "markdown",
   "metadata": {},
   "source": [
    "#### Shifted Averaging Window with corrupted means "
   ]
  },
  {
   "cell_type": "code",
   "execution_count": 8,
   "metadata": {},
   "outputs": [
    {
     "data": {
      "text/html": [
       "<div>\n",
       "<style scoped>\n",
       "    .dataframe tbody tr th:only-of-type {\n",
       "        vertical-align: middle;\n",
       "    }\n",
       "\n",
       "    .dataframe tbody tr th {\n",
       "        vertical-align: top;\n",
       "    }\n",
       "\n",
       "    .dataframe thead th {\n",
       "        text-align: right;\n",
       "    }\n",
       "</style>\n",
       "<table border=\"1\" class=\"dataframe\">\n",
       "  <thead>\n",
       "    <tr style=\"text-align: right;\">\n",
       "      <th></th>\n",
       "      <th>0</th>\n",
       "      <th>1</th>\n",
       "      <th>2</th>\n",
       "      <th>3</th>\n",
       "      <th>4</th>\n",
       "    </tr>\n",
       "  </thead>\n",
       "  <tbody>\n",
       "    <tr>\n",
       "      <th>2010-01-01 00:30:00</th>\n",
       "      <td>0.390673</td>\n",
       "      <td>-0.878319</td>\n",
       "      <td>0.113646</td>\n",
       "      <td>-0.095822</td>\n",
       "      <td>0.045996</td>\n",
       "    </tr>\n",
       "    <tr>\n",
       "      <th>2010-01-01 01:00:00</th>\n",
       "      <td>-0.037140</td>\n",
       "      <td>0.081848</td>\n",
       "      <td>-0.159529</td>\n",
       "      <td>0.325786</td>\n",
       "      <td>0.381592</td>\n",
       "    </tr>\n",
       "    <tr>\n",
       "      <th>2010-01-01 01:30:00</th>\n",
       "      <td>0.751006</td>\n",
       "      <td>-0.386310</td>\n",
       "      <td>-0.652545</td>\n",
       "      <td>-0.815657</td>\n",
       "      <td>0.098360</td>\n",
       "    </tr>\n",
       "    <tr>\n",
       "      <th>2010-01-01 02:00:00</th>\n",
       "      <td>0.164105</td>\n",
       "      <td>0.103048</td>\n",
       "      <td>-0.008424</td>\n",
       "      <td>0.024587</td>\n",
       "      <td>0.420831</td>\n",
       "    </tr>\n",
       "    <tr>\n",
       "      <th>2010-01-01 02:30:00</th>\n",
       "      <td>-0.228739</td>\n",
       "      <td>0.804657</td>\n",
       "      <td>-0.468524</td>\n",
       "      <td>0.462305</td>\n",
       "      <td>0.375905</td>\n",
       "    </tr>\n",
       "  </tbody>\n",
       "</table>\n",
       "</div>"
      ],
      "text/plain": [
       "                            0         1         2         3         4\n",
       "2010-01-01 00:30:00  0.390673 -0.878319  0.113646 -0.095822  0.045996\n",
       "2010-01-01 01:00:00 -0.037140  0.081848 -0.159529  0.325786  0.381592\n",
       "2010-01-01 01:30:00  0.751006 -0.386310 -0.652545 -0.815657  0.098360\n",
       "2010-01-01 02:00:00  0.164105  0.103048 -0.008424  0.024587  0.420831\n",
       "2010-01-01 02:30:00 -0.228739  0.804657 -0.468524  0.462305  0.375905"
      ]
     },
     "execution_count": 8,
     "metadata": {},
     "output_type": "execute_result"
    }
   ],
   "source": [
    "mask = np.random.choice(np.arange(10)<1, size=agg2.shape)\n",
    "agg3 = agg2.mask(mask, 0.05)\n",
    "agg3.iloc[:5,:]"
   ]
  },
  {
   "cell_type": "markdown",
   "metadata": {},
   "source": [
    "## Results & Discussion\n",
    "\n",
    "First we define a shortcut for our settings (series closed to the right, mean is the aggregate, return full checks):"
   ]
  },
  {
   "cell_type": "code",
   "execution_count": 9,
   "metadata": {},
   "outputs": [],
   "source": [
    "shifter = lambda x, y, k: compare.shiftedRelativeError(x, y, shift=k, closed='right', label='right', agg='mean', mode='all', checks=True)"
   ]
  },
  {
   "cell_type": "markdown",
   "metadata": {},
   "source": [
    "### Identity\n",
    "\n",
    "First we will check that comparing the same dataset with function returns the correct result:"
   ]
  },
  {
   "cell_type": "code",
   "execution_count": 10,
   "metadata": {},
   "outputs": [],
   "source": [
    "res = shifter(raw, raw, 0)"
   ]
  },
  {
   "cell_type": "markdown",
   "metadata": {},
   "source": [
    "We see $\\left|r_{s,\\lambda}\\right| \\leq \\epsilon$"
   ]
  },
  {
   "cell_type": "code",
   "execution_count": 11,
   "metadata": {},
   "outputs": [
    {
     "data": {
      "text/plain": [
       "True"
      ]
     },
     "execution_count": 11,
     "metadata": {},
     "output_type": "execute_result"
    }
   ],
   "source": [
    "res['checks']['allnull']"
   ]
  },
  {
   "cell_type": "code",
   "execution_count": 20,
   "metadata": {
    "scrolled": false
   },
   "outputs": [
    {
     "data": {
      "text/plain": [
       "array([<matplotlib.axes._subplots.AxesSubplot object at 0x7fcdcc6be5c0>,\n",
       "       <matplotlib.axes._subplots.AxesSubplot object at 0x7fcdcc571cc0>], dtype=object)"
      ]
     },
     "execution_count": 20,
     "metadata": {},
     "output_type": "execute_result"
    },
    {
     "data": {
      "image/png": "[encoded data removed]",
      "text/plain": [
       "<matplotlib.figure.Figure at 0x7fcdcc6d4390>"
      ]
     },
     "metadata": {},
     "output_type": "display_data"
    }
   ],
   "source": [
    "extent = np.arange(-13, -10)\n",
    "stats = compare.exploreShifts(raw, agg1, extent, plot=False, ylim=[-5, 5], xmarkers=[])\n",
    "stats['synthesis'].plot(kind='bar', subplots=True)"
   ]
  },
  {
   "cell_type": "code",
   "execution_count": 13,
   "metadata": {},
   "outputs": [
    {
     "name": "stdout",
     "output_type": "stream",
     "text": [
      "[0.98869448183041719, 0.0, 0.98964357767316746]\n"
     ]
    },
    {
     "data": {
      "text/plain": [
       "<matplotlib.axes._subplots.AxesSubplot at 0x7fcdcc6bce48>"
      ]
     },
     "execution_count": 13,
     "metadata": {},
     "output_type": "execute_result"
    },
    {
     "data": {
      "image/png": "[encoded data removed]",
      "text/plain": [
       "<matplotlib.figure.Figure at 0x7fcdcc6bc7f0>"
      ]
     },
     "metadata": {},
     "output_type": "display_data"
    }
   ],
   "source": [
    "x = [stats[k]['checks']['badcellratio'] for k in extent]\n",
    "print(x)\n",
    "error = pd.DataFrame(x, index=extent)\n",
    "error.plot(kind=\"bar\")"
   ]
  },
  {
   "cell_type": "code",
   "execution_count": null,
   "metadata": {},
   "outputs": [],
   "source": []
  },
  {
   "cell_type": "code",
   "execution_count": 14,
   "metadata": {
    "scrolled": false
   },
   "outputs": [],
   "source": [
    "#_ = exploreShifts(raw, agg0, np.arange(-1, 2), plot=True, ylim=[-5, 5], xmarkers=[])"
   ]
  },
  {
   "cell_type": "code",
   "execution_count": 15,
   "metadata": {
    "scrolled": false
   },
   "outputs": [],
   "source": [
    "#_ = exploreShifts(raw, agg2, np.arange(-3, 0), plot=True, ylim=[-5, 5], xmarkers=[])"
   ]
  },
  {
   "cell_type": "code",
   "execution_count": 16,
   "metadata": {},
   "outputs": [],
   "source": [
    "#_ = exploreShifts(raw, agg2, np.arange(-3, 0), plot=True, ylim=[-5, 5], xmarkers=[])"
   ]
  },
  {
   "cell_type": "code",
   "execution_count": 17,
   "metadata": {},
   "outputs": [],
   "source": [
    "#_ = exploreShifts(raw, agg3, np.arange(-3, 0), plot=True, ylim=[-5, 5], xmarkers=[])"
   ]
  },
  {
   "cell_type": "code",
   "execution_count": null,
   "metadata": {},
   "outputs": [],
   "source": []
  }
 ],
 "metadata": {
  "kernelspec": {
   "display_name": "Python 3",
   "language": "python",
   "name": "python3"
  },
  "language_info": {
   "codemirror_mode": {
    "name": "ipython",
    "version": 3
   },
   "file_extension": ".py",
   "mimetype": "text/x-python",
   "name": "python",
   "nbconvert_exporter": "python",
   "pygments_lexer": "ipython3",
   "version": "3.6.5"
  }
 },
 "nbformat": 4,
 "nbformat_minor": 2
}
