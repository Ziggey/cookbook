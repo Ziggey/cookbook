{
 "cells": [
  {
   "cell_type": "markdown",
   "metadata": {},
   "source": [
    " - https://stackoverflow.com/questions/24856643/unexpected-results-converting-timezones-in-python/25390097#25390097\n",
    " - https://stackoverflow.com/questions/52217506/why-does-datetime-give-different-timezone-formats-for-the-same-timezone\n",
    " - https://stackoverflow.com/questions/59466936/convert-naive-time-jst-to-time-zone-aware-time"
   ]
  },
  {
   "cell_type": "code",
   "execution_count": 1,
   "metadata": {},
   "outputs": [],
   "source": [
    "import datetime\n",
    "import pytz"
   ]
  },
  {
   "cell_type": "code",
   "execution_count": 2,
   "metadata": {},
   "outputs": [
    {
     "data": {
      "text/plain": [
       "datetime.datetime(2019, 12, 24, 12, 33, 45, 641887, tzinfo=<UTC>)"
      ]
     },
     "execution_count": 2,
     "metadata": {},
     "output_type": "execute_result"
    }
   ],
   "source": [
    "d0 = datetime.datetime.now(pytz.utc)\n",
    "d0"
   ]
  },
  {
   "cell_type": "code",
   "execution_count": 3,
   "metadata": {},
   "outputs": [
    {
     "data": {
      "text/plain": [
       "<DstTzInfo 'Asia/Tokyo' LMT+9:19:00 STD>"
      ]
     },
     "execution_count": 3,
     "metadata": {},
     "output_type": "execute_result"
    }
   ],
   "source": [
    "jst = pytz.timezone('Asia/Tokyo')\n",
    "jst"
   ]
  },
  {
   "cell_type": "code",
   "execution_count": 4,
   "metadata": {},
   "outputs": [
    {
     "data": {
      "text/plain": [
       "datetime.datetime(2019, 12, 24, 12, 33, 45, 641887, tzinfo=<DstTzInfo 'Asia/Tokyo' LMT+9:19:00 STD>)"
      ]
     },
     "execution_count": 4,
     "metadata": {},
     "output_type": "execute_result"
    }
   ],
   "source": [
    "d0.replace(tzinfo=pytz.timezone('Asia/Tokyo'))"
   ]
  },
  {
   "cell_type": "code",
   "execution_count": 5,
   "metadata": {},
   "outputs": [
    {
     "data": {
      "text/plain": [
       "datetime.datetime(2019, 12, 24, 21, 33, 45, 641887, tzinfo=<DstTzInfo 'Asia/Tokyo' JST+9:00:00 STD>)"
      ]
     },
     "execution_count": 5,
     "metadata": {},
     "output_type": "execute_result"
    }
   ],
   "source": [
    "jst.normalize(d0)"
   ]
  },
  {
   "cell_type": "code",
   "execution_count": 6,
   "metadata": {},
   "outputs": [
    {
     "data": {
      "text/plain": [
       "datetime.time(1, 0, tzinfo=<UTC>)"
      ]
     },
     "execution_count": 6,
     "metadata": {},
     "output_type": "execute_result"
    }
   ],
   "source": [
    "t0 = datetime.time(1, 0, tzinfo=pytz.utc)\n",
    "t0"
   ]
  },
  {
   "cell_type": "code",
   "execution_count": 7,
   "metadata": {},
   "outputs": [],
   "source": [
    "t1 = t0.replace(tzinfo=jst)"
   ]
  },
  {
   "cell_type": "code",
   "execution_count": 8,
   "metadata": {},
   "outputs": [
    {
     "data": {
      "text/plain": [
       "datetime.time(1, 0, tzinfo=<DstTzInfo 'Asia/Tokyo' LMT+9:19:00 STD>)"
      ]
     },
     "execution_count": 8,
     "metadata": {},
     "output_type": "execute_result"
    }
   ],
   "source": [
    "t1"
   ]
  },
  {
   "cell_type": "code",
   "execution_count": 9,
   "metadata": {},
   "outputs": [],
   "source": [
    "t1.utcoffset()"
   ]
  },
  {
   "cell_type": "code",
   "execution_count": 10,
   "metadata": {},
   "outputs": [
    {
     "data": {
      "text/plain": [
       "datetime.timedelta(seconds=32400)"
      ]
     },
     "execution_count": 10,
     "metadata": {},
     "output_type": "execute_result"
    }
   ],
   "source": [
    "jst.normalize(d0).utcoffset()"
   ]
  },
  {
   "cell_type": "code",
   "execution_count": 11,
   "metadata": {},
   "outputs": [],
   "source": [
    "t = datetime.time(1, 0, tzinfo=jst)"
   ]
  },
  {
   "cell_type": "code",
   "execution_count": 12,
   "metadata": {},
   "outputs": [
    {
     "data": {
      "text/plain": [
       "<DstTzInfo 'Asia/Tokyo' LMT+9:19:00 STD>"
      ]
     },
     "execution_count": 12,
     "metadata": {},
     "output_type": "execute_result"
    }
   ],
   "source": [
    "t.tzinfo"
   ]
  },
  {
   "cell_type": "code",
   "execution_count": 13,
   "metadata": {},
   "outputs": [],
   "source": [
    "t.tzinfo.utcoffset(None)"
   ]
  },
  {
   "cell_type": "code",
   "execution_count": 14,
   "metadata": {},
   "outputs": [
    {
     "data": {
      "text/plain": [
       "<DstTzInfo 'Asia/Tokyo' LMT+9:19:00 STD>"
      ]
     },
     "execution_count": 14,
     "metadata": {},
     "output_type": "execute_result"
    }
   ],
   "source": [
    "jst"
   ]
  },
  {
   "cell_type": "code",
   "execution_count": 15,
   "metadata": {},
   "outputs": [],
   "source": [
    "naive_time = datetime.time(1, 0)\n",
    "\n",
    "date = datetime.date(2019, 12, 24)\n",
    "comb_time = datetime.datetime.combine(date, naive_time)\n",
    "\n",
    "tz = pytz.timezone('Asia/Tokyo')\n",
    "loc_time = tz.localize(comb_time)"
   ]
  },
  {
   "cell_type": "code",
   "execution_count": 16,
   "metadata": {},
   "outputs": [
    {
     "data": {
      "text/plain": [
       "datetime.datetime(2019, 12, 24, 1, 0, tzinfo=<DstTzInfo 'Asia/Tokyo' JST+9:00:00 STD>)"
      ]
     },
     "execution_count": 16,
     "metadata": {},
     "output_type": "execute_result"
    }
   ],
   "source": [
    "loc_time"
   ]
  },
  {
   "cell_type": "code",
   "execution_count": null,
   "metadata": {},
   "outputs": [],
   "source": []
  },
  {
   "cell_type": "code",
   "execution_count": null,
   "metadata": {},
   "outputs": [],
   "source": []
  },
  {
   "cell_type": "code",
   "execution_count": null,
   "metadata": {},
   "outputs": [],
   "source": []
  },
  {
   "cell_type": "code",
   "execution_count": 36,
   "metadata": {},
   "outputs": [],
   "source": [
    "import pandas as pd"
   ]
  },
  {
   "cell_type": "code",
   "execution_count": 37,
   "metadata": {},
   "outputs": [
    {
     "data": {
      "text/plain": [
       "DatetimeIndex(['2014-08-01 09:00:00+00:00', '2014-08-01 10:00:00+00:00',\n",
       "               '2014-08-01 11:00:00+00:00'],\n",
       "              dtype='datetime64[ns, UTC]', freq='H')"
      ]
     },
     "execution_count": 37,
     "metadata": {},
     "output_type": "execute_result"
    }
   ],
   "source": [
    "t = pd.date_range(start='2014-08-01 09:00', freq='H', periods=3, tz='UTC')\n",
    "t"
   ]
  },
  {
   "cell_type": "code",
   "execution_count": 38,
   "metadata": {},
   "outputs": [
    {
     "data": {
      "text/plain": [
       "DatetimeIndex(['2014-08-01 11:00:00+02:00', '2014-08-01 12:00:00+02:00',\n",
       "               '2014-08-01 13:00:00+02:00'],\n",
       "              dtype='datetime64[ns, CET]', freq='H')"
      ]
     },
     "execution_count": 38,
     "metadata": {},
     "output_type": "execute_result"
    }
   ],
   "source": [
    "t.tz_convert('CET')"
   ]
  },
  {
   "cell_type": "code",
   "execution_count": 39,
   "metadata": {},
   "outputs": [
    {
     "data": {
      "text/plain": [
       "DatetimeIndex(['2019-10-26 20:00:00+00:00', '2019-10-26 21:00:00+00:00',\n",
       "               '2019-10-26 22:00:00+00:00', '2019-10-26 23:00:00+00:00',\n",
       "               '2019-10-27 00:00:00+00:00', '2019-10-27 01:00:00+00:00',\n",
       "               '2019-10-27 02:00:00+00:00', '2019-10-27 03:00:00+00:00',\n",
       "               '2019-10-27 04:00:00+00:00', '2019-10-27 05:00:00+00:00',\n",
       "               '2019-10-27 06:00:00+00:00'],\n",
       "              dtype='datetime64[ns, UTC]', freq='H')"
      ]
     },
     "execution_count": 39,
     "metadata": {},
     "output_type": "execute_result"
    }
   ],
   "source": [
    "t = pd.date_range(start='2019-10-26 20:00', end='2019-10-27 06:00', freq='H', tz='UTC')\n",
    "t"
   ]
  },
  {
   "cell_type": "code",
   "execution_count": 28,
   "metadata": {},
   "outputs": [
    {
     "data": {
      "text/plain": [
       "DatetimeIndex(['2019-10-26 22:00:00+02:00', '2019-10-26 23:00:00+02:00',\n",
       "               '2019-10-27 00:00:00+02:00', '2019-10-27 01:00:00+02:00',\n",
       "               '2019-10-27 02:00:00+02:00', '2019-10-27 02:00:00+01:00',\n",
       "               '2019-10-27 03:00:00+01:00', '2019-10-27 04:00:00+01:00',\n",
       "               '2019-10-27 05:00:00+01:00', '2019-10-27 06:00:00+01:00',\n",
       "               '2019-10-27 07:00:00+01:00'],\n",
       "              dtype='datetime64[ns, CET]', freq='H')"
      ]
     },
     "execution_count": 28,
     "metadata": {},
     "output_type": "execute_result"
    }
   ],
   "source": [
    "t.tz_convert('CET')"
   ]
  },
  {
   "cell_type": "code",
   "execution_count": null,
   "metadata": {},
   "outputs": [],
   "source": []
  },
  {
   "cell_type": "code",
   "execution_count": 33,
   "metadata": {},
   "outputs": [
    {
     "data": {
      "text/plain": [
       "DatetimeIndex(['2020-03-28 20:00:00+00:00', '2020-03-28 21:00:00+00:00',\n",
       "               '2020-03-28 22:00:00+00:00', '2020-03-28 23:00:00+00:00',\n",
       "               '2020-03-29 00:00:00+00:00', '2020-03-29 01:00:00+00:00',\n",
       "               '2020-03-29 02:00:00+00:00', '2020-03-29 03:00:00+00:00',\n",
       "               '2020-03-29 04:00:00+00:00', '2020-03-29 05:00:00+00:00',\n",
       "               '2020-03-29 06:00:00+00:00'],\n",
       "              dtype='datetime64[ns, UTC]', freq='H')"
      ]
     },
     "execution_count": 33,
     "metadata": {},
     "output_type": "execute_result"
    }
   ],
   "source": [
    "t = pd.date_range(start='2020-03-28 20:00', end='2020-03-29 06:00', freq='H', tz='UTC')\n",
    "t"
   ]
  },
  {
   "cell_type": "code",
   "execution_count": 34,
   "metadata": {},
   "outputs": [
    {
     "data": {
      "text/plain": [
       "DatetimeIndex(['2020-03-28 21:00:00+01:00', '2020-03-28 22:00:00+01:00',\n",
       "               '2020-03-28 23:00:00+01:00', '2020-03-29 00:00:00+01:00',\n",
       "               '2020-03-29 01:00:00+01:00', '2020-03-29 03:00:00+02:00',\n",
       "               '2020-03-29 04:00:00+02:00', '2020-03-29 05:00:00+02:00',\n",
       "               '2020-03-29 06:00:00+02:00', '2020-03-29 07:00:00+02:00',\n",
       "               '2020-03-29 08:00:00+02:00'],\n",
       "              dtype='datetime64[ns, CET]', freq='H')"
      ]
     },
     "execution_count": 34,
     "metadata": {},
     "output_type": "execute_result"
    }
   ],
   "source": [
    "t.tz_convert('CET')"
   ]
  },
  {
   "cell_type": "code",
   "execution_count": null,
   "metadata": {},
   "outputs": [],
   "source": []
  }
 ],
 "metadata": {
  "kernelspec": {
   "display_name": "Python 3",
   "language": "python",
   "name": "python3"
  },
  "language_info": {
   "codemirror_mode": {
    "name": "ipython",
    "version": 3
   },
   "file_extension": ".py",
   "mimetype": "text/x-python",
   "name": "python",
   "nbconvert_exporter": "python",
   "pygments_lexer": "ipython3",
   "version": "3.7.4"
  }
 },
 "nbformat": 4,
 "nbformat_minor": 2
}
