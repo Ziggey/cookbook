{
 "cells": [
  {
   "cell_type": "code",
   "execution_count": 1,
   "metadata": {
    "collapsed": true
   },
   "outputs": [],
   "source": [
    "import pathlib\n",
    "import numpy as np\n",
    "import pandas as pd"
   ]
  },
  {
   "cell_type": "markdown",
   "metadata": {},
   "source": [
    "## Trial Data\n",
    "First we load some trial data (eg. car fleet count from Brussels Region in 2015)."
   ]
  },
  {
   "cell_type": "code",
   "execution_count": 2,
   "metadata": {},
   "outputs": [
    {
     "data": {
      "text/plain": [
       "PosixPath('data/regexp.csv')"
      ]
     },
     "execution_count": 2,
     "metadata": {},
     "output_type": "execute_result"
    }
   ],
   "source": [
    "path = pathlib.Path('data/regexp.csv')\n",
    "path"
   ]
  },
  {
   "cell_type": "code",
   "execution_count": 3,
   "metadata": {},
   "outputs": [
    {
     "data": {
      "text/plain": [
       "Sector         object\n",
       "Subsector      object\n",
       "Fuel           object\n",
       "Technology     object\n",
       "Count         float64\n",
       "dtype: object"
      ]
     },
     "execution_count": 3,
     "metadata": {},
     "output_type": "execute_result"
    }
   ],
   "source": [
    "df = pd.read_csv(str(path), sep=';', thousands=' ').rename(columns={'2015': 'Count'}).dropna(axis=0, how='all')\n",
    "df.dtypes"
   ]
  },
  {
   "cell_type": "markdown",
   "metadata": {},
   "source": [
    "Dataframe exhibits some useful structured text colums"
   ]
  },
  {
   "cell_type": "code",
   "execution_count": 4,
   "metadata": {},
   "outputs": [
    {
     "data": {
      "text/html": [
       "<div>\n",
       "<style>\n",
       "    .dataframe thead tr:only-child th {\n",
       "        text-align: right;\n",
       "    }\n",
       "\n",
       "    .dataframe thead th {\n",
       "        text-align: left;\n",
       "    }\n",
       "\n",
       "    .dataframe tbody tr th {\n",
       "        vertical-align: top;\n",
       "    }\n",
       "</style>\n",
       "<table border=\"1\" class=\"dataframe\">\n",
       "  <thead>\n",
       "    <tr style=\"text-align: right;\">\n",
       "      <th></th>\n",
       "      <th>Sector</th>\n",
       "      <th>Subsector</th>\n",
       "      <th>Fuel</th>\n",
       "      <th>Technology</th>\n",
       "      <th>Count</th>\n",
       "    </tr>\n",
       "  </thead>\n",
       "  <tbody>\n",
       "    <tr>\n",
       "      <th>0</th>\n",
       "      <td>Passenger Cars</td>\n",
       "      <td>Gasoline &lt;0,8 l</td>\n",
       "      <td>Gasoline</td>\n",
       "      <td>PC Euro 4 - 98/69/EC Stage2005</td>\n",
       "      <td>945.0</td>\n",
       "    </tr>\n",
       "    <tr>\n",
       "      <th>1</th>\n",
       "      <td>Passenger Cars</td>\n",
       "      <td>Gasoline &lt;0,8 l</td>\n",
       "      <td>Gasoline</td>\n",
       "      <td>PC Euro 5 - EC 715/2007</td>\n",
       "      <td>33.0</td>\n",
       "    </tr>\n",
       "    <tr>\n",
       "      <th>2</th>\n",
       "      <td>Passenger Cars</td>\n",
       "      <td>Gasoline &lt;0,8 l</td>\n",
       "      <td>Gasoline</td>\n",
       "      <td>PC Euro 6 - EC 715/2007</td>\n",
       "      <td>1.0</td>\n",
       "    </tr>\n",
       "    <tr>\n",
       "      <th>3</th>\n",
       "      <td>Passenger Cars</td>\n",
       "      <td>Gasoline 0,8 - 1,4 l</td>\n",
       "      <td>Gasoline</td>\n",
       "      <td>PRE ECE</td>\n",
       "      <td>6774.0</td>\n",
       "    </tr>\n",
       "    <tr>\n",
       "      <th>4</th>\n",
       "      <td>Passenger Cars</td>\n",
       "      <td>Gasoline 0,8 - 1,4 l</td>\n",
       "      <td>Gasoline</td>\n",
       "      <td>ECE 15/00-01</td>\n",
       "      <td>1020.0</td>\n",
       "    </tr>\n",
       "    <tr>\n",
       "      <th>5</th>\n",
       "      <td>Passenger Cars</td>\n",
       "      <td>Gasoline 0,8 - 1,4 l</td>\n",
       "      <td>Gasoline</td>\n",
       "      <td>ECE 15/02</td>\n",
       "      <td>2698.0</td>\n",
       "    </tr>\n",
       "    <tr>\n",
       "      <th>6</th>\n",
       "      <td>Passenger Cars</td>\n",
       "      <td>Gasoline 0,8 - 1,4 l</td>\n",
       "      <td>Gasoline</td>\n",
       "      <td>ECE 15/03</td>\n",
       "      <td>1768.0</td>\n",
       "    </tr>\n",
       "    <tr>\n",
       "      <th>7</th>\n",
       "      <td>Passenger Cars</td>\n",
       "      <td>Gasoline 0,8 - 1,4 l</td>\n",
       "      <td>Gasoline</td>\n",
       "      <td>ECE 15/04</td>\n",
       "      <td>1756.0</td>\n",
       "    </tr>\n",
       "    <tr>\n",
       "      <th>8</th>\n",
       "      <td>Passenger Cars</td>\n",
       "      <td>Gasoline 0,8 - 1,4 l</td>\n",
       "      <td>Gasoline</td>\n",
       "      <td>PC Euro 1 - 91/441/EEC</td>\n",
       "      <td>2694.0</td>\n",
       "    </tr>\n",
       "    <tr>\n",
       "      <th>9</th>\n",
       "      <td>Passenger Cars</td>\n",
       "      <td>Gasoline 0,8 - 1,4 l</td>\n",
       "      <td>Gasoline</td>\n",
       "      <td>PC Euro 2 - 94/12/EEC</td>\n",
       "      <td>5458.0</td>\n",
       "    </tr>\n",
       "  </tbody>\n",
       "</table>\n",
       "</div>"
      ],
      "text/plain": [
       "           Sector             Subsector      Fuel  \\\n",
       "0  Passenger Cars       Gasoline <0,8 l  Gasoline   \n",
       "1  Passenger Cars       Gasoline <0,8 l  Gasoline   \n",
       "2  Passenger Cars       Gasoline <0,8 l  Gasoline   \n",
       "3  Passenger Cars  Gasoline 0,8 - 1,4 l  Gasoline   \n",
       "4  Passenger Cars  Gasoline 0,8 - 1,4 l  Gasoline   \n",
       "5  Passenger Cars  Gasoline 0,8 - 1,4 l  Gasoline   \n",
       "6  Passenger Cars  Gasoline 0,8 - 1,4 l  Gasoline   \n",
       "7  Passenger Cars  Gasoline 0,8 - 1,4 l  Gasoline   \n",
       "8  Passenger Cars  Gasoline 0,8 - 1,4 l  Gasoline   \n",
       "9  Passenger Cars  Gasoline 0,8 - 1,4 l  Gasoline   \n",
       "\n",
       "                       Technology   Count  \n",
       "0  PC Euro 4 - 98/69/EC Stage2005   945.0  \n",
       "1         PC Euro 5 - EC 715/2007    33.0  \n",
       "2         PC Euro 6 - EC 715/2007     1.0  \n",
       "3                         PRE ECE  6774.0  \n",
       "4                    ECE 15/00-01  1020.0  \n",
       "5                       ECE 15/02  2698.0  \n",
       "6                       ECE 15/03  1768.0  \n",
       "7                       ECE 15/04  1756.0  \n",
       "8          PC Euro 1 - 91/441/EEC  2694.0  \n",
       "9           PC Euro 2 - 94/12/EEC  5458.0  "
      ]
     },
     "execution_count": 4,
     "metadata": {},
     "output_type": "execute_result"
    }
   ],
   "source": [
    "df.iloc[:10,:]"
   ]
  },
  {
   "cell_type": "markdown",
   "metadata": {},
   "source": [
    "## Regular Expressions\n",
    "We will extract form those columns useful information using [regular expression][1] (`re` [module][2] in python) or its binding in Pandas (`str.extract` [method][3]).\n",
    "[1]: https://en.wikipedia.org/wiki/Regular_expression\n",
    "[2]: https://docs.python.org/3.5/library/re.html\n",
    "[3]: https://pandas.pydata.org/pandas-docs/stable/generated/pandas.Series.str.extract.html\n",
    "\n",
    "First lets see what are modalities within columns:"
   ]
  },
  {
   "cell_type": "code",
   "execution_count": 5,
   "metadata": {},
   "outputs": [
    {
     "data": {
      "text/plain": [
       "array(['PC Euro 4 - 98/69/EC Stage2005', 'PC Euro 5 - EC 715/2007',\n",
       "       'PC Euro 6 - EC 715/2007', 'PRE ECE', 'ECE 15/00-01', 'ECE 15/02',\n",
       "       'ECE 15/03', 'ECE 15/04', 'PC Euro 1 - 91/441/EEC',\n",
       "       'PC Euro 2 - 94/12/EEC', 'PC Euro 3 - 98/69/EC Stage2000',\n",
       "       'Conventional', 'LD Euro 1 - 93/59/EEC', 'LD Euro 2 - 96/69/EEC',\n",
       "       'LD Euro 3 - 98/69/EC Stage2000', 'LD Euro 4 - 98/69/EC Stage2005',\n",
       "       'LD Euro 5 - 2008 Standards', 'LD Euro 6',\n",
       "       'HD Euro I - 91/542/EEC Stage I',\n",
       "       'HD Euro II - 91/542/EEC Stage II', 'HD Euro III - 2000 Standards',\n",
       "       'HD Euro IV - 2005 Standards', 'HD Euro V - 2008 Standards',\n",
       "       'HD Euro VI', 'EEV', 'Mop - Euro I', 'Mop - Euro II',\n",
       "       'Mop - Euro III', 'Mot - Euro I', 'Mot - Euro II', 'Mot - Euro III'], dtype=object)"
      ]
     },
     "execution_count": 5,
     "metadata": {},
     "output_type": "execute_result"
    }
   ],
   "source": [
    "df.Technology.unique()"
   ]
  },
  {
   "cell_type": "markdown",
   "metadata": {},
   "source": [
    "We would like to extract from here Euro Norm Id and its serial number:"
   ]
  },
  {
   "cell_type": "code",
   "execution_count": 6,
   "metadata": {},
   "outputs": [
    {
     "data": {
      "text/html": [
       "<div>\n",
       "<style>\n",
       "    .dataframe thead tr:only-child th {\n",
       "        text-align: right;\n",
       "    }\n",
       "\n",
       "    .dataframe thead th {\n",
       "        text-align: left;\n",
       "    }\n",
       "\n",
       "    .dataframe tbody tr th {\n",
       "        vertical-align: top;\n",
       "    }\n",
       "</style>\n",
       "<table border=\"1\" class=\"dataframe\">\n",
       "  <thead>\n",
       "    <tr style=\"text-align: right;\">\n",
       "      <th></th>\n",
       "      <th>Sector</th>\n",
       "      <th>Subsector</th>\n",
       "      <th>Fuel</th>\n",
       "      <th>Technology</th>\n",
       "      <th>Count</th>\n",
       "      <th>EuroStrId</th>\n",
       "      <th>NormId</th>\n",
       "    </tr>\n",
       "  </thead>\n",
       "  <tbody>\n",
       "    <tr>\n",
       "      <th>0</th>\n",
       "      <td>Passenger Cars</td>\n",
       "      <td>Gasoline &lt;0,8 l</td>\n",
       "      <td>Gasoline</td>\n",
       "      <td>PC Euro 4 - 98/69/EC Stage2005</td>\n",
       "      <td>945.0</td>\n",
       "      <td>4</td>\n",
       "      <td>98/69/EC</td>\n",
       "    </tr>\n",
       "    <tr>\n",
       "      <th>1</th>\n",
       "      <td>Passenger Cars</td>\n",
       "      <td>Gasoline &lt;0,8 l</td>\n",
       "      <td>Gasoline</td>\n",
       "      <td>PC Euro 5 - EC 715/2007</td>\n",
       "      <td>33.0</td>\n",
       "      <td>5</td>\n",
       "      <td>EC 715/2007</td>\n",
       "    </tr>\n",
       "    <tr>\n",
       "      <th>2</th>\n",
       "      <td>Passenger Cars</td>\n",
       "      <td>Gasoline &lt;0,8 l</td>\n",
       "      <td>Gasoline</td>\n",
       "      <td>PC Euro 6 - EC 715/2007</td>\n",
       "      <td>1.0</td>\n",
       "      <td>6</td>\n",
       "      <td>EC 715/2007</td>\n",
       "    </tr>\n",
       "    <tr>\n",
       "      <th>3</th>\n",
       "      <td>Passenger Cars</td>\n",
       "      <td>Gasoline 0,8 - 1,4 l</td>\n",
       "      <td>Gasoline</td>\n",
       "      <td>PRE ECE</td>\n",
       "      <td>6774.0</td>\n",
       "      <td>NaN</td>\n",
       "      <td>NaN</td>\n",
       "    </tr>\n",
       "    <tr>\n",
       "      <th>4</th>\n",
       "      <td>Passenger Cars</td>\n",
       "      <td>Gasoline 0,8 - 1,4 l</td>\n",
       "      <td>Gasoline</td>\n",
       "      <td>ECE 15/00-01</td>\n",
       "      <td>1020.0</td>\n",
       "      <td>NaN</td>\n",
       "      <td>ECE 15/00</td>\n",
       "    </tr>\n",
       "    <tr>\n",
       "      <th>5</th>\n",
       "      <td>Passenger Cars</td>\n",
       "      <td>Gasoline 0,8 - 1,4 l</td>\n",
       "      <td>Gasoline</td>\n",
       "      <td>ECE 15/02</td>\n",
       "      <td>2698.0</td>\n",
       "      <td>NaN</td>\n",
       "      <td>ECE 15/02</td>\n",
       "    </tr>\n",
       "    <tr>\n",
       "      <th>6</th>\n",
       "      <td>Passenger Cars</td>\n",
       "      <td>Gasoline 0,8 - 1,4 l</td>\n",
       "      <td>Gasoline</td>\n",
       "      <td>ECE 15/03</td>\n",
       "      <td>1768.0</td>\n",
       "      <td>NaN</td>\n",
       "      <td>ECE 15/03</td>\n",
       "    </tr>\n",
       "    <tr>\n",
       "      <th>7</th>\n",
       "      <td>Passenger Cars</td>\n",
       "      <td>Gasoline 0,8 - 1,4 l</td>\n",
       "      <td>Gasoline</td>\n",
       "      <td>ECE 15/04</td>\n",
       "      <td>1756.0</td>\n",
       "      <td>NaN</td>\n",
       "      <td>ECE 15/04</td>\n",
       "    </tr>\n",
       "    <tr>\n",
       "      <th>8</th>\n",
       "      <td>Passenger Cars</td>\n",
       "      <td>Gasoline 0,8 - 1,4 l</td>\n",
       "      <td>Gasoline</td>\n",
       "      <td>PC Euro 1 - 91/441/EEC</td>\n",
       "      <td>2694.0</td>\n",
       "      <td>1</td>\n",
       "      <td>91/441/EEC</td>\n",
       "    </tr>\n",
       "    <tr>\n",
       "      <th>9</th>\n",
       "      <td>Passenger Cars</td>\n",
       "      <td>Gasoline 0,8 - 1,4 l</td>\n",
       "      <td>Gasoline</td>\n",
       "      <td>PC Euro 2 - 94/12/EEC</td>\n",
       "      <td>5458.0</td>\n",
       "      <td>2</td>\n",
       "      <td>94/12/EEC</td>\n",
       "    </tr>\n",
       "  </tbody>\n",
       "</table>\n",
       "</div>"
      ],
      "text/plain": [
       "           Sector             Subsector      Fuel  \\\n",
       "0  Passenger Cars       Gasoline <0,8 l  Gasoline   \n",
       "1  Passenger Cars       Gasoline <0,8 l  Gasoline   \n",
       "2  Passenger Cars       Gasoline <0,8 l  Gasoline   \n",
       "3  Passenger Cars  Gasoline 0,8 - 1,4 l  Gasoline   \n",
       "4  Passenger Cars  Gasoline 0,8 - 1,4 l  Gasoline   \n",
       "5  Passenger Cars  Gasoline 0,8 - 1,4 l  Gasoline   \n",
       "6  Passenger Cars  Gasoline 0,8 - 1,4 l  Gasoline   \n",
       "7  Passenger Cars  Gasoline 0,8 - 1,4 l  Gasoline   \n",
       "8  Passenger Cars  Gasoline 0,8 - 1,4 l  Gasoline   \n",
       "9  Passenger Cars  Gasoline 0,8 - 1,4 l  Gasoline   \n",
       "\n",
       "                       Technology   Count EuroStrId        NormId  \n",
       "0  PC Euro 4 - 98/69/EC Stage2005   945.0         4     98/69/EC   \n",
       "1         PC Euro 5 - EC 715/2007    33.0         5   EC 715/2007  \n",
       "2         PC Euro 6 - EC 715/2007     1.0         6   EC 715/2007  \n",
       "3                         PRE ECE  6774.0       NaN           NaN  \n",
       "4                    ECE 15/00-01  1020.0       NaN     ECE 15/00  \n",
       "5                       ECE 15/02  2698.0       NaN     ECE 15/02  \n",
       "6                       ECE 15/03  1768.0       NaN     ECE 15/03  \n",
       "7                       ECE 15/04  1756.0       NaN     ECE 15/04  \n",
       "8          PC Euro 1 - 91/441/EEC  2694.0         1    91/441/EEC  \n",
       "9           PC Euro 2 - 94/12/EEC  5458.0         2     94/12/EEC  "
      ]
     },
     "execution_count": 6,
     "metadata": {},
     "output_type": "execute_result"
    }
   ],
   "source": [
    "x1 = df.Technology.str.extract('Euro (?P<EuroStrId>[\\d]|[IV]{1,2})', expand=True)\n",
    "x2 = df.Technology.str.extract('(?P<NormId>[ EC]{0,4}(?:[\\d]{2,4}[/]{0,1}){1,3}[ EC]{0,3})', expand=True)\n",
    "df2 = pd.concat([df, x1, x2], axis=1)\n",
    "df2.iloc[:10,:]"
   ]
  },
  {
   "cell_type": "code",
   "execution_count": null,
   "metadata": {
    "collapsed": true
   },
   "outputs": [],
   "source": []
  }
 ],
 "metadata": {
  "kernelspec": {
   "display_name": "Python 3",
   "language": "python",
   "name": "python3"
  },
  "language_info": {
   "codemirror_mode": {
    "name": "ipython",
    "version": 3
   },
   "file_extension": ".py",
   "mimetype": "text/x-python",
   "name": "python",
   "nbconvert_exporter": "python",
   "pygments_lexer": "ipython3",
   "version": "3.5.2"
  }
 },
 "nbformat": 4,
 "nbformat_minor": 2
}
