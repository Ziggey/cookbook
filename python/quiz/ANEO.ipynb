{
 "cells": [
  {
   "cell_type": "markdown",
   "metadata": {},
   "source": [
    "# ANEO Puzzle\n",
    "\n",
    "**Reference:** https://www.codingame.com/training/medium/aneo\n",
    "\n",
    "## Puzzle statement\n",
    "\n",
    "You enter a section of road and you plan to rest entirely on your cruise control to cross the area without having to stop or slow down.\n",
    "\n",
    "The goal is to find the maximum speed (off speeding) that will allow you to cross all the traffic lights to green.\n",
    "\n",
    "**Warning:** You can not cross a traffic light the second it turns red!\n",
    "\n",
    "Your vehicle enters the zone directly at the speed programmed on the cruise control which ensures that it does not change anymore.\n",
    "\n",
    "### Inputs\n",
    "\n",
    " - Line 1: An `integer` `speed` for the **maximum speed** allowed on the portion of the road (in `km/h`).\n",
    " - Line 2: An `integer` `lightCount` for the **number of traffic lights** on the road.\n",
    " - `lightCount` next lines:\n",
    " \n",
    "   - An `integer` `distance` representing the **distance of the traffic light from the starting point** (in `m`).\n",
    "   - An `integer` `duration` representing the **duration of the traffic light on each color** (in `s`).\n",
    "\n",
    "A traffic light alternates a period of `duration` seconds in green and then duration seconds in red.\n",
    "All traffic lights turn green at the same time as you enter the area.\n",
    "\n",
    "### Output\n",
    "\n",
    " - Line 1: The `integer speed` (`km/h`) as high as possible that cross all the green lights without committing speeding.\n",
    "\n",
    "### I/O Sample\n",
    "\n",
    "#### Input\n",
    "\n",
    "```\n",
    "90\n",
    "3\n",
    "300 10\n",
    "1500 10\n",
    "3000 10\n",
    "```\n",
    "\n",
    "#### Output\n",
    "\n",
    "```\n",
    "54\n",
    "```\n",
    "\n",
    "### Initial Code\n",
    "\n",
    "Here is the default code provided by the interface:\n",
    "\n",
    "```python\n",
    "import sys\n",
    "import math\n",
    "\n",
    "# Auto-generated code below aims at helping you parse\n",
    "# the standard input according to the problem statement.\n",
    "\n",
    "speed = int(input())\n",
    "light_count = int(input())\n",
    "for i in range(light_count):\n",
    "    distance, duration = [int(j) for j in input().split()]\n",
    "\n",
    "# Write an action using print\n",
    "# To debug: print(\"Debug messages...\", file=sys.stderr)\n",
    "\n",
    "print(\"answer\")\n",
    "```\n",
    "\n",
    "### Input Formating\n",
    "\n",
    "We slighlty modify it to fit our future function interface:\n",
    "\n",
    "```python\n",
    "speed = int(input())\n",
    "light_count = int(input())\n",
    "positions = []\n",
    "durations = []\n",
    "for i in range(light_count):\n",
    "    x, t = [int(j) for j in input().split()]\n",
    "    positions.append(x)\n",
    "    durations.append(t)\n",
    "```"
   ]
  },
  {
   "cell_type": "markdown",
   "metadata": {},
   "source": [
    "## Solution\n",
    "\n",
    "### Observations\n",
    "\n",
    "First we draw some observations that are matter of interest:\n",
    "\n",
    " - There is a need of units conversion between `km/h` and `m/s`;\n",
    " - There is a need of exact computation: `float` or finite precision arithemtic should be avoided, we use Integral Numbers instead;\n",
    " - Brute force works for Integral solutions (few cases), the problem is totally different if real values are allowed for $v$;\n",
    " - There are setups with no solution, when it is impossible to cross all Trafic Lights at constant speed;\n",
    " - Global Period of the problem is $T = \\mathrm{lcm}\\left\\{2t_1,\\dots,2t_n\\right\\}$, anyway this is not required to find the solution."
   ]
  },
  {
   "cell_type": "markdown",
   "metadata": {},
   "source": [
    "### The Green Wave Criterion\n",
    "\n",
    "Let $n$ Traffic Lights located at ${x_1,\\dots,x_n}$ with durations ${t_1,\\dots,t_n}$ such as $\\mathcal{T} \\equiv \\left\\{(x_i, t_i) \\,|\\, \\forall i \\in \\{1,\\dots, n\\} \\,, x_i, t_i \\in \\mathbb{N} \\right\\}$.\n",
    "\n",
    "For each Traffic Light $\\mathcal{T}_i$ , for a given speed $0 < v \\leq v_\\max$ where $v \\in \\mathbb{N}$ (note the problem must be carefully scaled to ensure units consistency), we can assess the required time $\\tau_i$ to reach the position $x_i$:\n",
    "\n",
    "$$\n",
    "\\tau_i = \\frac{x_i}{v} \\,,\\quad \\forall i \\in \\{1,\\dots, n\\}\n",
    "$$\n",
    "\n",
    "We compare $\\tau_i$ before Trafic Light duration $t_i$ and we notice the ratio $r_i$ must lie within:\n",
    "\n",
    "$$\n",
    "\\exists k_i \\in \\mathbb{N} \\,,\\quad r_i = \\frac{\\tau_i}{t_i} \\in \\left[2k_i, 2k_i+1\\right[ \\,,\\quad \\forall i \\in \\{1,\\dots, n\\}\n",
    "$$\n",
    "\n",
    "To cross it when it is in <span style=\"color: green;\">Green state</span>. We define the quantity $p_i$ as the integral part of $r_i$:\n",
    "\n",
    "$$\n",
    "p_i(v) = \\left\\lfloor\\frac{x_i}{v\\cdot t_i}\\right\\rfloor \\,,\\quad \\forall i \\in \\{1,\\dots, n\\}\n",
    "$$\n",
    "\n",
    "\n",
    "And we observe that the above criterion is equivalent to ensure $p_i$ is an even number. It writes:\n",
    "\n",
    "$$\n",
    "\\exists k_i \\in \\mathbb{N} \\,,\\quad q_i(v) \\equiv p_i(v) = 2k_i \\equiv 0 \\pmod{2} \\,,\\quad \\forall i \\in \\{1,\\dots, n\\}\n",
    "$$\n",
    "\n",
    "Thus, we have a simple criterion to check, at constant speed $v$, the car can cross the Traffic Light $\\mathcal{T}_i$.\n",
    "\n",
    "Finally, we must check the criterion is validated for all Traffic Light $\\mathcal{T}_i$ for a given speed $v$. The global criterion $c$ is then:\n",
    "\n",
    "$$\n",
    "c(v) = \\bigwedge\\limits_{i=1}^{n} q_i(v)\n",
    "$$\n",
    "\n",
    "This validates the obervation: \"Integral Arithemtic (in Computer Science sense) is sufficient to solve the problem\". \n",
    "\n",
    "We have shown the problem statement is equivalent to:\n",
    "\n",
    "$$\n",
    "\\underset{0 < v \\leq v_\\max}{\\arg\\max}\\, v\\,|\\,c(v) \\equiv \\top\n",
    "$$\n",
    "\n",
    "Which can be brute forced for plausible and realisable integral values of $v$.\n",
    "\n",
    "Now we have to translate it into pseudo-code and actually code it with a language."
   ]
  },
  {
   "cell_type": "markdown",
   "metadata": {},
   "source": [
    "### Algorithm\n",
    "\n",
    "#### Pseudo-code\n",
    "\n",
    "The algorithm implementation decomposes as follow:\n",
    "\n",
    " 1. Iterate (`for`) all possible integral speeds $0 < v \\leq v_\\max$ in decreasing order (brute force):\n",
    " \n",
    "   1. Iterate (`for`) through all Traffic Lights $\\mathcal{T}_i$ (exhaustivity):\n",
    "   \n",
    "     1. Compute $p_i$ as the [floor division][1] (`//`) of $3600 \\cdot x_i$ by $1000 \\cdot v\\cdot t_i$ (including units scaling);\n",
    "     1. Compute $q_i$ as $p_i$ [modulo][2] (`%`) $2$ (green light test);\n",
    "     \n",
    "   1. `return` the first $v$ where all $q_i$ (`&=`) divide evenly;\n",
    " \n",
    " 1. `return` $\\emptyset$ (`None`) otherwise (implicit).\n",
    "\n",
    "[1]: https://docs.python.org/3/library/operator.html?highlight=div#operator.floordiv\n",
    "[2]: https://docs.python.org/3/library/operator.html?highlight=div#operator.mod\n",
    "\n",
    "#### Implementation\n",
    "\n",
    "We chose Python for the implementation. There is no need for extra library even `math` is not required since the floor division operator is already available. Anyway we added some assertions to properly setup the function interface."
   ]
  },
  {
   "cell_type": "code",
   "execution_count": 1,
   "metadata": {},
   "outputs": [],
   "source": [
    "import numbers\n",
    "import collections"
   ]
  },
  {
   "cell_type": "code",
   "execution_count": 2,
   "metadata": {},
   "outputs": [],
   "source": [
    "def getMaxSpeed(positions, durations, constraint):\n",
    "    # Assertions:\n",
    "    assert isinstance(constraint, numbers.Integral) and (constraint > 0)\n",
    "    assert isinstance(positions, collections.Iterable)\n",
    "    assert all([isinstance(x, numbers.Integral) for x in positions])\n",
    "    assert all([x >= 0 for x in positions])\n",
    "    assert isinstance(durations, collections.Iterable)\n",
    "    assert all([isinstance(t, numbers.Integral) for t in durations])\n",
    "    assert all([t > 0 for t in durations])\n",
    "    assert len(positions) > 0\n",
    "    assert len(positions) == len(durations)\n",
    "    # Algorithm:\n",
    "    for v in range(constraint, 0, -1):\n",
    "        c = True\n",
    "        for x, t in zip(positions, durations):\n",
    "            p = x*3600 // (v*t*1000)\n",
    "            q = (p % 2 == 0)\n",
    "            c &= q\n",
    "        if c:\n",
    "            return v"
   ]
  },
  {
   "cell_type": "markdown",
   "metadata": {},
   "source": [
    "## Test Cases\n",
    "\n",
    "We have stored ANEO test cases into a JSON to feed this notebook, an entry looks like:"
   ]
  },
  {
   "cell_type": "code",
   "execution_count": 3,
   "metadata": {},
   "outputs": [
    {
     "data": {
      "text/plain": [
       "{'title': 'Unsettled country road',\n",
       " 'constraint': 90,\n",
       " 'positions': [300, 1500, 3000],\n",
       " 'durations': [30, 20, 10],\n",
       " 'solution': 67}"
      ]
     },
     "execution_count": 3,
     "metadata": {},
     "output_type": "execute_result"
    }
   ],
   "source": [
    "import json\n",
    "with open('./data/ANEO.json', 'r') as fh:\n",
    "    data = json.load(fh)\n",
    "data[4]"
   ]
  },
  {
   "cell_type": "markdown",
   "metadata": {},
   "source": [
    "### Finite precision Arithmetic\n",
    "\n",
    "Test cases provided are deliberatly tailored to make finite precision arithemtic fails such as `float` or `decimal.Decimal`. Let's try a simple example with test case 8 \"Rain of Traffic Lights\" where `Decimal` fails:"
   ]
  },
  {
   "cell_type": "code",
   "execution_count": 4,
   "metadata": {},
   "outputs": [
    {
     "name": "stdout",
     "output_type": "stream",
     "text": [
      "{'title': 'Rain of Traffic Lights', 'constraint': 130, 'positions': [500, 1000, 1500, 2000, 2500, 3000, 3500, 4000, 4500, 5000, 5500, 6000, 6500, 7000, 7500, 8000, 8500, 9000, 9500, 10000, 10500, 11000, 11500, 12000, 12500, 13000, 13500, 14000, 14500, 15000, 15500, 16000, 16500, 17000, 17500, 18000, 18500, 19000, 19500, 20000, 20500, 21000, 21500, 22000, 22500, 23000, 23500, 24000, 24500, 25000, 25500, 26000, 26500, 27000, 27500, 28000, 28500, 29000, 29500, 30000, 30500, 31000, 31500, 32000, 32500, 33000, 33500, 34000, 34500, 35000, 35500, 36000, 36500, 37000, 37500, 38000, 38500, 39000, 39500, 40000, 40500, 41000, 41500, 42000, 42500, 43000, 43500, 44000, 44500, 45000, 45500, 46000, 46500, 47000, 47500, 48000, 48500, 49000, 49500, 50000], 'durations': [15, 15, 15, 15, 15, 15, 15, 15, 15, 15, 15, 15, 15, 15, 15, 15, 15, 15, 15, 15, 15, 15, 15, 15, 15, 15, 15, 15, 15, 15, 15, 15, 15, 15, 15, 15, 15, 15, 15, 15, 15, 15, 15, 15, 15, 15, 15, 15, 15, 15, 15, 15, 15, 15, 15, 15, 15, 15, 15, 15, 15, 15, 15, 15, 15, 15, 15, 15, 15, 15, 15, 15, 15, 15, 15, 15, 15, 15, 15, 15, 15, 15, 15, 15, 15, 15, 15, 15, 15, 15, 15, 15, 15, 15, 15, 15, 15, 15, 15, 15], 'solution': 60}\n"
     ]
    }
   ],
   "source": [
    "print(data[7])"
   ]
  },
  {
   "cell_type": "code",
   "execution_count": 5,
   "metadata": {},
   "outputs": [],
   "source": [
    "import math\n",
    "import decimal\n",
    "import fractions"
   ]
  },
  {
   "cell_type": "code",
   "execution_count": 6,
   "metadata": {},
   "outputs": [],
   "source": [
    "x = 6500\n",
    "t = 60"
   ]
  },
  {
   "cell_type": "markdown",
   "metadata": {},
   "source": [
    "Using Decimal Finite Precision system returns:"
   ]
  },
  {
   "cell_type": "code",
   "execution_count": 7,
   "metadata": {},
   "outputs": [
    {
     "data": {
      "text/plain": [
       "Decimal('389.9999999999999999999999999')"
      ]
     },
     "execution_count": 7,
     "metadata": {},
     "output_type": "execute_result"
    }
   ],
   "source": [
    "tau = decimal.Decimal(x)/decimal.Decimal(t)*decimal.Decimal('3.6')\n",
    "tau"
   ]
  },
  {
   "cell_type": "markdown",
   "metadata": {},
   "source": [
    "Instead of:"
   ]
  },
  {
   "cell_type": "code",
   "execution_count": 8,
   "metadata": {},
   "outputs": [
    {
     "data": {
      "text/plain": [
       "Fraction(390, 1)"
      ]
     },
     "execution_count": 8,
     "metadata": {},
     "output_type": "execute_result"
    }
   ],
   "source": [
    "tauf = fractions.Fraction(x * 3600, t * 1000)\n",
    "tauf"
   ]
  },
  {
   "cell_type": "markdown",
   "metadata": {},
   "source": [
    "This will fail to check because of finite precision arithmetic limitation:"
   ]
  },
  {
   "cell_type": "code",
   "execution_count": 9,
   "metadata": {},
   "outputs": [
    {
     "data": {
      "text/plain": [
       "389"
      ]
     },
     "execution_count": 9,
     "metadata": {},
     "output_type": "execute_result"
    }
   ],
   "source": [
    "p = math.floor(tau)\n",
    "p"
   ]
  },
  {
   "cell_type": "code",
   "execution_count": 10,
   "metadata": {},
   "outputs": [
    {
     "data": {
      "text/plain": [
       "False"
      ]
     },
     "execution_count": 10,
     "metadata": {},
     "output_type": "execute_result"
    }
   ],
   "source": [
    "q = (p % 2 == 0)\n",
    "q"
   ]
  },
  {
   "cell_type": "markdown",
   "metadata": {},
   "source": [
    "It could be tempting to use `round` instead of `floor` to get the correct result but this is a **design flaw** as it could return false positive.\n",
    "\n",
    "The following example will return a false positive if `round` is used:"
   ]
  },
  {
   "cell_type": "code",
   "execution_count": 11,
   "metadata": {},
   "outputs": [
    {
     "data": {
      "text/plain": [
       "Fraction(19497, 50)"
      ]
     },
     "execution_count": 11,
     "metadata": {},
     "output_type": "execute_result"
    }
   ],
   "source": [
    "tau = fractions.Fraction((x-1)*3600, t*1000)\n",
    "tau"
   ]
  },
  {
   "cell_type": "code",
   "execution_count": 12,
   "metadata": {},
   "outputs": [
    {
     "data": {
      "text/plain": [
       "389.94"
      ]
     },
     "execution_count": 12,
     "metadata": {},
     "output_type": "execute_result"
    }
   ],
   "source": [
    "float(tau)"
   ]
  },
  {
   "cell_type": "code",
   "execution_count": 13,
   "metadata": {},
   "outputs": [
    {
     "data": {
      "text/plain": [
       "389"
      ]
     },
     "execution_count": 13,
     "metadata": {},
     "output_type": "execute_result"
    }
   ],
   "source": [
    "math.floor(tau)"
   ]
  },
  {
   "cell_type": "code",
   "execution_count": 14,
   "metadata": {},
   "outputs": [
    {
     "data": {
      "text/plain": [
       "390"
      ]
     },
     "execution_count": 14,
     "metadata": {},
     "output_type": "execute_result"
    }
   ],
   "source": [
    "round(tau)"
   ]
  },
  {
   "cell_type": "markdown",
   "metadata": {},
   "source": [
    "### Validation\n",
    "\n",
    "Let's challenge the above defined function with the ANEO trial test cases:"
   ]
  },
  {
   "cell_type": "code",
   "execution_count": null,
   "metadata": {},
   "outputs": [],
   "source": [
    "n = len(data)\n",
    "for i in range(n):\n",
    "    # Solve the given problem:\n",
    "    data[i]['result'] = getMaxSpeed(data[i]['positions'], data[i]['durations'], data[i]['constraint'])\n",
    "    # Metadata:\n",
    "    data[i]['valid'] = (data[i]['result'] == data[i]['solution'])\n",
    "    data[i]['fullspeed'] = (data[i]['result'] == data[i]['constraint'])\n",
    "    data[i]['count'] = len(data[i]['positions'])"
   ]
  },
  {
   "cell_type": "markdown",
   "metadata": {},
   "source": [
    "The complete result looks like:"
   ]
  },
  {
   "cell_type": "code",
   "execution_count": null,
   "metadata": {},
   "outputs": [
    {
     "data": {
      "text/html": [
       "<div>\n",
       "<style scoped>\n",
       "    .dataframe tbody tr th:only-of-type {\n",
       "        vertical-align: middle;\n",
       "    }\n",
       "\n",
       "    .dataframe tbody tr th {\n",
       "        vertical-align: top;\n",
       "    }\n",
       "\n",
       "    .dataframe thead th {\n",
       "        text-align: right;\n",
       "    }\n",
       "</style>\n",
       "<table border=\"1\" class=\"dataframe\">\n",
       "  <thead>\n",
       "    <tr style=\"text-align: right;\">\n",
       "      <th></th>\n",
       "      <th>title</th>\n",
       "      <th>constraint</th>\n",
       "      <th>solution</th>\n",
       "      <th>result</th>\n",
       "      <th>valid</th>\n",
       "      <th>fullspeed</th>\n",
       "    </tr>\n",
       "  </thead>\n",
       "  <tbody>\n",
       "    <tr>\n",
       "      <th>0</th>\n",
       "      <td>The village traffic light</td>\n",
       "      <td>50</td>\n",
       "      <td>50</td>\n",
       "      <td>50</td>\n",
       "      <td>True</td>\n",
       "      <td>True</td>\n",
       "    </tr>\n",
       "    <tr>\n",
       "      <th>1</th>\n",
       "      <td>The village traffic light 2</td>\n",
       "      <td>50</td>\n",
       "      <td>36</td>\n",
       "      <td>36</td>\n",
       "      <td>True</td>\n",
       "      <td>False</td>\n",
       "    </tr>\n",
       "    <tr>\n",
       "      <th>2</th>\n",
       "      <td>Quiet country road</td>\n",
       "      <td>90</td>\n",
       "      <td>90</td>\n",
       "      <td>90</td>\n",
       "      <td>True</td>\n",
       "      <td>True</td>\n",
       "    </tr>\n",
       "    <tr>\n",
       "      <th>3</th>\n",
       "      <td>Less quiet country road</td>\n",
       "      <td>90</td>\n",
       "      <td>54</td>\n",
       "      <td>54</td>\n",
       "      <td>True</td>\n",
       "      <td>False</td>\n",
       "    </tr>\n",
       "    <tr>\n",
       "      <th>4</th>\n",
       "      <td>Unsettled country road</td>\n",
       "      <td>90</td>\n",
       "      <td>67</td>\n",
       "      <td>67</td>\n",
       "      <td>True</td>\n",
       "      <td>False</td>\n",
       "    </tr>\n",
       "    <tr>\n",
       "      <th>5</th>\n",
       "      <td>Country road with no median strip</td>\n",
       "      <td>80</td>\n",
       "      <td>49</td>\n",
       "      <td>49</td>\n",
       "      <td>True</td>\n",
       "      <td>False</td>\n",
       "    </tr>\n",
       "    <tr>\n",
       "      <th>6</th>\n",
       "      <td>German Highway</td>\n",
       "      <td>200</td>\n",
       "      <td>60</td>\n",
       "      <td>60</td>\n",
       "      <td>True</td>\n",
       "      <td>False</td>\n",
       "    </tr>\n",
       "    <tr>\n",
       "      <th>7</th>\n",
       "      <td>Rain of Traffic Lights</td>\n",
       "      <td>130</td>\n",
       "      <td>60</td>\n",
       "      <td>60</td>\n",
       "      <td>True</td>\n",
       "      <td>False</td>\n",
       "    </tr>\n",
       "    <tr>\n",
       "      <th>8</th>\n",
       "      <td>Light string</td>\n",
       "      <td>130</td>\n",
       "      <td>6</td>\n",
       "      <td>6</td>\n",
       "      <td>True</td>\n",
       "      <td>False</td>\n",
       "    </tr>\n",
       "    <tr>\n",
       "      <th>9</th>\n",
       "      <td>Fast lights</td>\n",
       "      <td>90</td>\n",
       "      <td>74</td>\n",
       "      <td>74</td>\n",
       "      <td>True</td>\n",
       "      <td>False</td>\n",
       "    </tr>\n",
       "    <tr>\n",
       "      <th>10</th>\n",
       "      <td>Rain of Traffic Lights (Validation)</td>\n",
       "      <td>50</td>\n",
       "      <td>30</td>\n",
       "      <td>30</td>\n",
       "      <td>True</td>\n",
       "      <td>False</td>\n",
       "    </tr>\n",
       "  </tbody>\n",
       "</table>\n",
       "</div>"
      ],
      "text/plain": [
       "                                  title  constraint  solution  result  valid  \\\n",
       "0             The village traffic light          50        50      50   True   \n",
       "1           The village traffic light 2          50        36      36   True   \n",
       "2                    Quiet country road          90        90      90   True   \n",
       "3               Less quiet country road          90        54      54   True   \n",
       "4                Unsettled country road          90        67      67   True   \n",
       "5     Country road with no median strip          80        49      49   True   \n",
       "6                        German Highway         200        60      60   True   \n",
       "7                Rain of Traffic Lights         130        60      60   True   \n",
       "8                          Light string         130         6       6   True   \n",
       "9                           Fast lights          90        74      74   True   \n",
       "10  Rain of Traffic Lights (Validation)          50        30      30   True   \n",
       "\n",
       "    fullspeed  \n",
       "0        True  \n",
       "1       False  \n",
       "2        True  \n",
       "3       False  \n",
       "4       False  \n",
       "5       False  \n",
       "6       False  \n",
       "7       False  \n",
       "8       False  \n",
       "9       False  \n",
       "10      False  "
      ]
     },
     "execution_count": 16,
     "metadata": {},
     "output_type": "execute_result"
    }
   ],
   "source": [
    "import pandas as pd\n",
    "pd.DataFrame(data).loc[:,['title', 'constraint', 'solution', 'result', 'valid', 'fullspeed']]"
   ]
  },
  {
   "cell_type": "markdown",
   "metadata": {},
   "source": [
    "## Conclusions\n",
    "\n",
    " > This puzzle is quite good example of an *apparently simple problem* statement that involves different skills and knowledges (mechanic, modular arithmetic, finite precision limitation, etc.).\n",
    "\n",
    "The solution can be found by brute force because we stay in Integral domain. If we are led to solve it into Real domain, then there still have a lot of work to carry out. Anyway, for realisable values of integral speed the *worst case solution* can be found in $\\mathcal{O}(n\\cdot v_\\max)$ &ndash; which is somehow acceptable &ndash; because we have shown that it is possible to check the Traffic Light state in $\\mathcal{O}(1)$."
   ]
  },
  {
   "cell_type": "markdown",
   "metadata": {},
   "source": [
    "## Bonus\n",
    "\n",
    "For sake of completness, let's encapsulate all together in a `class`."
   ]
  },
  {
   "cell_type": "code",
   "execution_count": null,
   "metadata": {},
   "outputs": [],
   "source": [
    "import functools\n",
    "import numpy as np\n",
    "import matplotlib.pyplot as plt\n",
    "%matplotlib inline"
   ]
  },
  {
   "cell_type": "code",
   "execution_count": null,
   "metadata": {},
   "outputs": [],
   "source": [
    "class ANEO:\n",
    "    \n",
    "    def __init__(self, constraint, positions, durations, solution=None, title=None, **kwargs):\n",
    "        \"\"\"\n",
    "        Initialize Traffic Lights Problem\n",
    "        \"\"\"\n",
    "        \n",
    "        # Problem Statement Assertions:\n",
    "        assert isinstance(constraint, numbers.Integral) and (constraint > 0)\n",
    "        assert isinstance(positions, collections.Iterable)\n",
    "        assert all([isinstance(x, numbers.Integral) for x in positions])\n",
    "        assert all([x >= 0 for x in positions])\n",
    "        assert isinstance(durations, collections.Iterable)\n",
    "        assert all([isinstance(t, numbers.Integral) for t in durations])\n",
    "        assert all([t > 0 for t in durations])\n",
    "        assert len(positions) > 0\n",
    "        assert len(positions) == len(durations)\n",
    "        assert (solution is None) or (isinstance(solution, numbers.Integral) and (solution <= constraint) and (solution > 0))\n",
    "        assert (title is None) or isinstance(title, str)\n",
    "        \n",
    "        # Problem Initialization:\n",
    "        self._constraint = constraint\n",
    "        self._positions = positions\n",
    "        self._durations = durations\n",
    "        self._solution = solution\n",
    "        self._title = title\n",
    "    \n",
    "    @staticmethod\n",
    "    def lcm(a, b):\n",
    "        \"\"\"\n",
    "        Least Common Multiple\n",
    "        \"\"\"\n",
    "        assert isinstance(a, numbers.Integral)\n",
    "        assert isinstance(b, numbers.Integral)\n",
    "        return (a*b)//math.gcd(a, b)\n",
    "\n",
    "    @staticmethod\n",
    "    def mlcm(l):\n",
    "        \"\"\"\n",
    "        Extended Least Common Multiple\n",
    "        \"\"\"\n",
    "        assert isinstance(l, collections.Iterable)\n",
    "        assert all([isinstance(x, numbers.Integral) for x in l])\n",
    "        assert len(l) > 0\n",
    "        if len(l) == 1:\n",
    "            return l[0]\n",
    "        else:\n",
    "            return functools.reduce(ANEO.lcm, l)\n",
    "\n",
    "    @property\n",
    "    def vmax(self):\n",
    "        return self._constraint\n",
    "    \n",
    "    @property\n",
    "    def x(self):\n",
    "        return self._positions\n",
    "    \n",
    "    @property\n",
    "    def n(self):\n",
    "        return len(self.x)\n",
    "    \n",
    "    @property\n",
    "    def t(self):\n",
    "        return self._durations\n",
    "    \n",
    "    @property\n",
    "    def vsol(self):\n",
    "        return self._solution\n",
    "    \n",
    "    @property\n",
    "    def title(self):\n",
    "        return self._title\n",
    "    \n",
    "    @property\n",
    "    def period(self):\n",
    "        \"\"\"\n",
    "        Traffic Lights Gobal Period [s]\n",
    "        \"\"\"\n",
    "        return ANEO.mlcm(2*np.array(self.t))\n",
    "        \n",
    "    def __repr__(self):\n",
    "        return \"<ANEO '%s': vmax=%d[km/h], n=%d, x=%s[m], t=%s[s]>\" % (self.title, self.vmax, self.n, self.x[:5], self.t[:5])\n",
    "    \n",
    "    def solve(self):\n",
    "        \"\"\"\n",
    "        Solve the ANEO problem (Integral domain only) using brute force and O(1) check\n",
    "        Return the highest Integral Speed that matches Traffic Light conditions if any.\n",
    "        Return None otherwise.\n",
    "        \"\"\"\n",
    "        for v in range(self.vmax, 0, -1):\n",
    "            c = True\n",
    "            for x, t in zip(self.x, self.t):\n",
    "                p = x*3600 // (v*t*1000)\n",
    "                q = (p % 2 == 0)\n",
    "                c &= q\n",
    "            if c:\n",
    "                if self.vsol and (v != self.vsol):\n",
    "                    raise ValueError(\"Algorithm have not converged to the known solution %d =! %d\" % (v, self.vsol))\n",
    "                return v\n",
    "    \n",
    "    def intervals(self, i=0, tmax=None):\n",
    "        \"\"\"\n",
    "        Generate Time Intervals when Traffic Light is Green\n",
    "        \"\"\"\n",
    "        assert isinstance(i, numbers.Integral) and (i >= 0) and (i < self.n)\n",
    "        assert (tmax is None) or (isinstance(tmax, numbers.Number) and (tmax > 0))\n",
    "        k = 0\n",
    "        while True:\n",
    "            I = np.array([2*k, 2*k+1])*self.t[i]\n",
    "            k += 1\n",
    "            if tmax and (I[0] > tmax):\n",
    "                break\n",
    "            yield I\n",
    "\n",
    "    def plot(self, tmax=None):\n",
    "        \"\"\"\n",
    "        Plot Mechanical Figure\n",
    "        \"\"\"\n",
    "        assert (tmax is None) or (isinstance(tmax, numbers.Numbers) and (tmax > 0))\n",
    "        \n",
    "        vmax = self.vmax/3.6\n",
    "        vsol = self.solve()/3.6\n",
    "        if not tmax:\n",
    "            tmax = 1.1*self.x[-1]/vsol\n",
    "        T = self.period\n",
    "        nc = math.ceil(tmax/T)\n",
    "        t = np.linspace(0, tmax, 2)\n",
    "        \n",
    "        fig, axe = plt.subplots()\n",
    "        \n",
    "        axe.plot(t, vmax*t, '-.', color='red', label=r'$v_\\max = %.2f$ $[\\mathrm{m/s}]$' % vmax)\n",
    "        axe.plot(t, self.vsol/3.6*t, color='green', label=r'$v_\\mathrm{sol} = %.2f$ $[\\mathrm{m/s}]$' % vsol)\n",
    "        \n",
    "        # Periods:\n",
    "        for i in range(nc):\n",
    "            axe.axvline((i+1)*T, linewidth=1, color='blue')\n",
    "        \n",
    "        # Traffic Lights:\n",
    "        for i in range(self.n):\n",
    "            axe.axhline(self.x[i], linewidth=1, color='orange', label=r'$x_{%d}=%d$ $[\\mathrm{m}]$' % (i, self.x[i]))\n",
    "            # Intervals:\n",
    "            for j in self.intervals(i, tmax=nc*T):\n",
    "                axe.plot(j, [self.x[i]]*2, linewidth=3, color='k')\n",
    "        \n",
    "        axe.set_xlim([0, 1.1*nc*T])\n",
    "        axe.set_ylim([0, 1.1*np.max(self.x)])\n",
    "        \n",
    "        axe.set_title(\"Mechanical Plot: %s\" % self.title)\n",
    "        axe.set_xlabel(r\"Time, $t$ $[\\mathrm{s}]$\")\n",
    "        axe.set_ylabel(r\"Coordinate, $x$ $[\\mathrm{m}]$\")\n",
    "        axe.legend(bbox_to_anchor=(1,1), loc='upper left')\n",
    "        axe.grid()\n",
    "        \n",
    "        return fig"
   ]
  },
  {
   "cell_type": "markdown",
   "metadata": {},
   "source": [
    "We feed the class with a setup:"
   ]
  },
  {
   "cell_type": "code",
   "execution_count": null,
   "metadata": {},
   "outputs": [],
   "source": [
    "A = ANEO(**data[4])"
   ]
  },
  {
   "cell_type": "markdown",
   "metadata": {},
   "source": [
    "We can assess quantities of interest:"
   ]
  },
  {
   "cell_type": "code",
   "execution_count": null,
   "metadata": {},
   "outputs": [],
   "source": [
    "A.solve()"
   ]
  },
  {
   "cell_type": "code",
   "execution_count": null,
   "metadata": {},
   "outputs": [],
   "source": [
    "A.period"
   ]
  },
  {
   "cell_type": "markdown",
   "metadata": {},
   "source": [
    "And sketch a plot of the actual situation:"
   ]
  },
  {
   "cell_type": "code",
   "execution_count": null,
   "metadata": {},
   "outputs": [],
   "source": [
    "_ = A.plot()"
   ]
  },
  {
   "cell_type": "markdown",
   "metadata": {},
   "source": [
    "And confirm it passes all test cases:"
   ]
  },
  {
   "cell_type": "code",
   "execution_count": null,
   "metadata": {},
   "outputs": [],
   "source": [
    "all([ANEO(**d).solve() == d['solution'] for d in data])"
   ]
  }
 ],
 "metadata": {
  "kernelspec": {
   "display_name": "Python 3",
   "language": "python",
   "name": "python3"
  },
  "language_info": {
   "codemirror_mode": {
    "name": "ipython",
    "version": 3
   },
   "file_extension": ".py",
   "mimetype": "text/x-python",
   "name": "python",
   "nbconvert_exporter": "python",
   "pygments_lexer": "ipython3",
   "version": "3.7.1"
  }
 },
 "nbformat": 4,
 "nbformat_minor": 2
}
