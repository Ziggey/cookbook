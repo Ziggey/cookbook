{
 "cells": [
  {
   "cell_type": "code",
   "execution_count": 1,
   "metadata": {},
   "outputs": [],
   "source": [
    "import json\n",
    "import collections\n",
    "import numpy as np\n",
    "import pandas as pd\n",
    "import matplotlib.pyplot as plt\n",
    "import seaborn as sns"
   ]
  },
  {
   "cell_type": "markdown",
   "metadata": {},
   "source": [
    "### Hypothèses:\n",
    "\n",
    " - Les nombres vont de 1 à 75\n",
    " - Lignes, colonnes et diagonales permettent de gagner\n",
    " - Les chances de gagner sont fonctions du nombre de carte en jeu et du nombre de tirage\n",
    " - Il faut minimum 4 tirage pour avoir un gagnant\n",
    " - La carte la plus remplie non gagnante est cochée 19 fois maximum (à 20 il y a d'office un bingo)\n",
    " - Il existe un joueur qui n'a rien coché après 30 tirages\n",
    " - 30 est un nombre élevé de tirage sans gagnant\n",
    " \n",
    " - Alice et Bob ont un Bingo ou un (Bingo -1) au 30 ème tirage (mais quel type de bingo, pourquoi écossais, généralement on tire 12 numéro au bingo classique)\n",
    "\n",
    "$$ C(19, 75) = 2.868457137478833 \\times 10^{17} $$\n",
    "$$ C(30, 75) = 7.8187943062594297688 \\times 10^{20}$$\n",
    "$$ 75! = 2.4809140811395398 \\times 10^{109}$$\n",
    "\n",
    "### References\n",
    "\n",
    " - https://en.wikipedia.org/wiki/Bingo_(American_version)\n",
    " - https://www.playsmart.ca/charitable-centre-games/bingo/odds/\n",
    " - http://www.durangobill.com/BingoHowTo.html\n",
    " - https://wizardofodds.com/ask-the-wizard/bingo/\n",
    " - https://www.wolframalpha.com/input/?i=C%2875%2C+30%29"
   ]
  },
  {
   "cell_type": "code",
   "execution_count": 2,
   "metadata": {},
   "outputs": [],
   "source": [
    "def spacer(l):\n",
    "    return l[:12] + [0] + l[12:]"
   ]
  },
  {
   "cell_type": "code",
   "execution_count": 3,
   "metadata": {},
   "outputs": [],
   "source": [
    "with open(\"SGRS2020_Task25_data.json\") as fh:\n",
    "    data = json.load(fh)"
   ]
  },
  {
   "cell_type": "raw",
   "metadata": {},
   "source": [
    "for k in data:\n",
    "    data[k] = spacer(data[k])"
   ]
  },
  {
   "cell_type": "code",
   "execution_count": 4,
   "metadata": {},
   "outputs": [],
   "source": [
    "C = collections.Counter()\n",
    "for k in data:\n",
    "    C.update(data[k])"
   ]
  },
  {
   "cell_type": "code",
   "execution_count": 5,
   "metadata": {},
   "outputs": [],
   "source": [
    "dist= pd.DataFrame([(k,v) for k,v in C.items()], columns=['number', 'count']).set_index('number').sort_index()"
   ]
  },
  {
   "cell_type": "code",
   "execution_count": 6,
   "metadata": {},
   "outputs": [
    {
     "data": {
      "text/plain": [
       "<matplotlib.axes._subplots.AxesSubplot at 0x16691b72f88>"
      ]
     },
     "execution_count": 6,
     "metadata": {},
     "output_type": "execute_result"
    },
    {
     "data": {
      "image/png": "[encoded data removed]",
      "text/plain": [
       "<Figure size 1080x360 with 1 Axes>"
      ]
     },
     "metadata": {
      "needs_background": "light"
     },
     "output_type": "display_data"
    }
   ],
   "source": [
    "dist.plot(kind='bar', figsize=(15,5))"
   ]
  },
  {
   "cell_type": "code",
   "execution_count": 7,
   "metadata": {},
   "outputs": [
    {
     "name": "stdout",
     "output_type": "stream",
     "text": [
      "{1, 2, 3, 4, 5, 6, 7, 8, 9, 10, 11, 12, 13, 14, 15, 16, 17, 18, 19, 20, 21, 22, 23, 24, 25, 26, 27, 28, 29, 30, 31, 32, 33, 34, 35, 36, 37, 38, 39, 40, 41, 42, 43, 44, 45, 46, 47, 48, 49, 50, 51, 52, 53, 54, 55, 56, 57, 58, 59, 60, 61, 62, 63, 64, 65, 66, 67, 68, 69, 70, 71, 72, 73, 74, 75}\n"
     ]
    }
   ],
   "source": [
    "All = set(range(1, 76))\n",
    "print(All)"
   ]
  },
  {
   "cell_type": "code",
   "execution_count": 8,
   "metadata": {},
   "outputs": [
    {
     "data": {
      "text/plain": [
       "{16, 31, 46}"
      ]
     },
     "execution_count": 8,
     "metadata": {},
     "output_type": "execute_result"
    }
   ],
   "source": [
    "All.difference(set(dist.index))"
   ]
  },
  {
   "cell_type": "code",
   "execution_count": 9,
   "metadata": {},
   "outputs": [],
   "source": [
    "def matrix(l):\n",
    "    return np.array(spacer(l)).reshape((5,5)).T"
   ]
  },
  {
   "cell_type": "code",
   "execution_count": 10,
   "metadata": {},
   "outputs": [],
   "source": [
    "def marker(m, n, inplace=False):\n",
    "    if not inplace:\n",
    "        m = np.array(m)\n",
    "    for i in n:\n",
    "        c = np.where(m == i)\n",
    "        if c[0].size > 0:\n",
    "            m[c[0][0],c[1][0]] = 0\n",
    "    return m"
   ]
  },
  {
   "cell_type": "code",
   "execution_count": 11,
   "metadata": {},
   "outputs": [],
   "source": [
    "def check(m):\n",
    "    for k in range(5):\n",
    "        col = np.sum(m[:,k]<=0)\n",
    "        row = np.sum(m[k,:]<=0)\n",
    "        if (col == 5) or (row == 5):\n",
    "            return True\n",
    "    d1 = np.sum(np.array([m[k,k] for k in range(5)])<=0)\n",
    "    d2 = np.sum(np.array([m[k,5-k-1] for k in range(5)])<=0)\n",
    "    if (d1 == 5) or (d2 == 5):\n",
    "            return True\n",
    "    else:\n",
    "        return False"
   ]
  },
  {
   "cell_type": "code",
   "execution_count": 12,
   "metadata": {},
   "outputs": [
    {
     "data": {
      "text/plain": [
       "array([[ 2, 19, 34, 47, 61],\n",
       "       [ 3, 23, 37, 48, 64],\n",
       "       [10, 24,  0, 53, 68],\n",
       "       [12, 25, 41, 56, 72],\n",
       "       [15, 30, 43, 57, 73]])"
      ]
     },
     "execution_count": 12,
     "metadata": {},
     "output_type": "execute_result"
    }
   ],
   "source": [
    "A = matrix(data['Alice'])\n",
    "A"
   ]
  },
  {
   "cell_type": "code",
   "execution_count": 13,
   "metadata": {},
   "outputs": [
    {
     "name": "stdout",
     "output_type": "stream",
     "text": [
      "[[ 0 19 34 47 61]\n",
      " [ 0 23 37 48 64]\n",
      " [10 24  0 53 68]\n",
      " [12 25 41 56 72]\n",
      " [15 30 43 57 73]] False\n"
     ]
    }
   ],
   "source": [
    "Am = marker(A, [1,2,3])\n",
    "Ac = check(Am)\n",
    "print(Am, Ac)"
   ]
  },
  {
   "cell_type": "code",
   "execution_count": 14,
   "metadata": {},
   "outputs": [
    {
     "name": "stdout",
     "output_type": "stream",
     "text": [
      "[[ 0 19 34 47 61]\n",
      " [ 0 23 37 48 64]\n",
      " [ 0 24  0 53 68]\n",
      " [ 0 25 41 56 72]\n",
      " [ 0 30 43 57 73]] True\n"
     ]
    }
   ],
   "source": [
    "Am = marker(A, [2,3,10,12,15])\n",
    "Ac = check(Am)\n",
    "print(Am, Ac)"
   ]
  },
  {
   "cell_type": "code",
   "execution_count": 15,
   "metadata": {},
   "outputs": [
    {
     "name": "stdout",
     "output_type": "stream",
     "text": [
      "[[ 2 19 34 47 61]\n",
      " [ 0  0  0  0  0]\n",
      " [10 24  0 53 68]\n",
      " [12 25 41 56 72]\n",
      " [15 30 43 57 73]] True\n"
     ]
    }
   ],
   "source": [
    "Am = marker(A, [3,23,37,48,64])\n",
    "Ac = check(Am)\n",
    "print(Am, Ac)"
   ]
  },
  {
   "cell_type": "code",
   "execution_count": 16,
   "metadata": {},
   "outputs": [
    {
     "name": "stdout",
     "output_type": "stream",
     "text": [
      "[[ 0 19 34 47 61]\n",
      " [ 3  0 37 48 64]\n",
      " [10 24  0 53 68]\n",
      " [12 25 41  0 72]\n",
      " [15 30 43 57  0]] True\n"
     ]
    }
   ],
   "source": [
    "Am = marker(A, [2,23,56,73])\n",
    "Ac = check(Am)\n",
    "print(Am, Ac)"
   ]
  },
  {
   "cell_type": "code",
   "execution_count": 17,
   "metadata": {},
   "outputs": [
    {
     "name": "stdout",
     "output_type": "stream",
     "text": [
      "[[ 2 19 34 47  0]\n",
      " [ 3 23 37  0 64]\n",
      " [10 24  0 53 68]\n",
      " [12  0 41 56 72]\n",
      " [ 0 30 43 57 73]] True\n"
     ]
    }
   ],
   "source": [
    "Am = marker(A, [15,25,48,61])\n",
    "Ac = check(Am)\n",
    "print(Am, Ac)"
   ]
  },
  {
   "cell_type": "code",
   "execution_count": null,
   "metadata": {},
   "outputs": [],
   "source": []
  },
  {
   "cell_type": "code",
   "execution_count": 18,
   "metadata": {},
   "outputs": [],
   "source": [
    "def MonteCarlo(numbers, n=30, N=100, data=data):\n",
    "    MC = collections.Counter()\n",
    "    for i in range(N):\n",
    "        setup = np.random.choice(list(numbers), size=n, replace=False)\n",
    "        stats = dict()\n",
    "        for k in data:\n",
    "            stats[k] = check(marker(matrix(data[k]), setup))\n",
    "        MC.update(stats)\n",
    "    df = pd.DataFrame([(k,v) for k,v in MC.items()], columns=['player', 'count']).set_index('player')\n",
    "    df['frequency'] = df['count'].astype(float)/float(N)\n",
    "    return df"
   ]
  },
  {
   "cell_type": "code",
   "execution_count": 19,
   "metadata": {},
   "outputs": [
    {
     "data": {
      "text/plain": [
       "<matplotlib.axes._subplots.AxesSubplot at 0x1669396ff88>"
      ]
     },
     "execution_count": 19,
     "metadata": {},
     "output_type": "execute_result"
    },
    {
     "data": {
      "image/png": "[encoded data removed]",
      "text/plain": [
       "<Figure size 720x360 with 1 Axes>"
      ]
     },
     "metadata": {
      "needs_background": "light"
     },
     "output_type": "display_data"
    }
   ],
   "source": [
    "distY = MonteCarlo(All, N=1000)\n",
    "distY['frequency'].plot(kind='bar', figsize=(10,5))"
   ]
  },
  {
   "cell_type": "code",
   "execution_count": null,
   "metadata": {},
   "outputs": [],
   "source": []
  },
  {
   "cell_type": "code",
   "execution_count": 20,
   "metadata": {},
   "outputs": [],
   "source": [
    "def gen():\n",
    "    for k in data:\n",
    "        for j in data:\n",
    "            l = set(data[k]).intersection(data[j])\n",
    "            yield (k, j, len(l), list(l))"
   ]
  },
  {
   "cell_type": "code",
   "execution_count": 21,
   "metadata": {},
   "outputs": [
    {
     "data": {
      "text/html": [
       "<div>\n",
       "<style scoped>\n",
       "    .dataframe tbody tr th:only-of-type {\n",
       "        vertical-align: middle;\n",
       "    }\n",
       "\n",
       "    .dataframe tbody tr th {\n",
       "        vertical-align: top;\n",
       "    }\n",
       "\n",
       "    .dataframe thead th {\n",
       "        text-align: right;\n",
       "    }\n",
       "</style>\n",
       "<table border=\"1\" class=\"dataframe\">\n",
       "  <thead>\n",
       "    <tr style=\"text-align: right;\">\n",
       "      <th></th>\n",
       "      <th>player1</th>\n",
       "      <th>player2</th>\n",
       "      <th>count</th>\n",
       "      <th>intersection</th>\n",
       "    </tr>\n",
       "  </thead>\n",
       "  <tbody>\n",
       "    <tr>\n",
       "      <td>395</td>\n",
       "      <td>Thomas</td>\n",
       "      <td>Poppy</td>\n",
       "      <td>10</td>\n",
       "      <td>[6, 8, 43, 12, 15, 22, 23, 24, 54, 58]</td>\n",
       "    </tr>\n",
       "    <tr>\n",
       "      <td>250</td>\n",
       "      <td>Max</td>\n",
       "      <td>Kai</td>\n",
       "      <td>7</td>\n",
       "      <td>[32, 33, 8, 42, 50, 54, 27]</td>\n",
       "    </tr>\n",
       "    <tr>\n",
       "      <td>110</td>\n",
       "      <td>Faith</td>\n",
       "      <td>Kai</td>\n",
       "      <td>10</td>\n",
       "      <td>[33, 66, 67, 11, 13, 14, 56, 57, 27, 28]</td>\n",
       "    </tr>\n",
       "    <tr>\n",
       "      <td>91</td>\n",
       "      <td>Emily</td>\n",
       "      <td>Logan</td>\n",
       "      <td>12</td>\n",
       "      <td>[8, 41, 72, 74, 12, 45, 53, 22, 55, 58, 27, 29]</td>\n",
       "    </tr>\n",
       "    <tr>\n",
       "      <td>111</td>\n",
       "      <td>Faith</td>\n",
       "      <td>Logan</td>\n",
       "      <td>9</td>\n",
       "      <td>[4, 41, 14, 56, 25, 27, 28, 62, 57]</td>\n",
       "    </tr>\n",
       "  </tbody>\n",
       "</table>\n",
       "</div>"
      ],
      "text/plain": [
       "    player1 player2  count                                     intersection\n",
       "395  Thomas   Poppy     10           [6, 8, 43, 12, 15, 22, 23, 24, 54, 58]\n",
       "250     Max     Kai      7                      [32, 33, 8, 42, 50, 54, 27]\n",
       "110   Faith     Kai     10         [33, 66, 67, 11, 13, 14, 56, 57, 27, 28]\n",
       "91    Emily   Logan     12  [8, 41, 72, 74, 12, 45, 53, 22, 55, 58, 27, 29]\n",
       "111   Faith   Logan      9              [4, 41, 14, 56, 25, 27, 28, 62, 57]"
      ]
     },
     "execution_count": 21,
     "metadata": {},
     "output_type": "execute_result"
    }
   ],
   "source": [
    "inter = pd.DataFrame(gen(), columns=['player1', 'player2', 'count', 'intersection'])\n",
    "inter.sample(5)"
   ]
  },
  {
   "cell_type": "code",
   "execution_count": 22,
   "metadata": {},
   "outputs": [
    {
     "data": {
      "text/html": [
       "<div>\n",
       "<style scoped>\n",
       "    .dataframe tbody tr th:only-of-type {\n",
       "        vertical-align: middle;\n",
       "    }\n",
       "\n",
       "    .dataframe tbody tr th {\n",
       "        vertical-align: top;\n",
       "    }\n",
       "\n",
       "    .dataframe thead th {\n",
       "        text-align: right;\n",
       "    }\n",
       "</style>\n",
       "<table border=\"1\" class=\"dataframe\">\n",
       "  <thead>\n",
       "    <tr style=\"text-align: right;\">\n",
       "      <th>player2</th>\n",
       "      <th>Alice</th>\n",
       "      <th>Bob</th>\n",
       "      <th>Colby</th>\n",
       "      <th>Dylan</th>\n",
       "      <th>Emily</th>\n",
       "      <th>Faith</th>\n",
       "      <th>Grace</th>\n",
       "      <th>Harris</th>\n",
       "      <th>Isla</th>\n",
       "      <th>Jack</th>\n",
       "      <th>Kai</th>\n",
       "      <th>Logan</th>\n",
       "      <th>Max</th>\n",
       "      <th>Nathan</th>\n",
       "      <th>Olivia</th>\n",
       "      <th>Poppy</th>\n",
       "      <th>Quinn</th>\n",
       "      <th>Rory</th>\n",
       "      <th>Sophie</th>\n",
       "      <th>Thomas</th>\n",
       "    </tr>\n",
       "    <tr>\n",
       "      <th>player1</th>\n",
       "      <th></th>\n",
       "      <th></th>\n",
       "      <th></th>\n",
       "      <th></th>\n",
       "      <th></th>\n",
       "      <th></th>\n",
       "      <th></th>\n",
       "      <th></th>\n",
       "      <th></th>\n",
       "      <th></th>\n",
       "      <th></th>\n",
       "      <th></th>\n",
       "      <th></th>\n",
       "      <th></th>\n",
       "      <th></th>\n",
       "      <th></th>\n",
       "      <th></th>\n",
       "      <th></th>\n",
       "      <th></th>\n",
       "      <th></th>\n",
       "    </tr>\n",
       "  </thead>\n",
       "  <tbody>\n",
       "    <tr>\n",
       "      <td>Alice</td>\n",
       "      <td>24</td>\n",
       "      <td>9</td>\n",
       "      <td>10</td>\n",
       "      <td>7</td>\n",
       "      <td>9</td>\n",
       "      <td>6</td>\n",
       "      <td>11</td>\n",
       "      <td>6</td>\n",
       "      <td>10</td>\n",
       "      <td>7</td>\n",
       "      <td>4</td>\n",
       "      <td>11</td>\n",
       "      <td>10</td>\n",
       "      <td>10</td>\n",
       "      <td>13</td>\n",
       "      <td>12</td>\n",
       "      <td>16</td>\n",
       "      <td>4</td>\n",
       "      <td>13</td>\n",
       "      <td>9</td>\n",
       "    </tr>\n",
       "    <tr>\n",
       "      <td>Bob</td>\n",
       "      <td>9</td>\n",
       "      <td>24</td>\n",
       "      <td>7</td>\n",
       "      <td>4</td>\n",
       "      <td>8</td>\n",
       "      <td>8</td>\n",
       "      <td>5</td>\n",
       "      <td>2</td>\n",
       "      <td>18</td>\n",
       "      <td>14</td>\n",
       "      <td>7</td>\n",
       "      <td>4</td>\n",
       "      <td>10</td>\n",
       "      <td>9</td>\n",
       "      <td>7</td>\n",
       "      <td>9</td>\n",
       "      <td>8</td>\n",
       "      <td>7</td>\n",
       "      <td>9</td>\n",
       "      <td>8</td>\n",
       "    </tr>\n",
       "    <tr>\n",
       "      <td>Colby</td>\n",
       "      <td>10</td>\n",
       "      <td>7</td>\n",
       "      <td>24</td>\n",
       "      <td>7</td>\n",
       "      <td>8</td>\n",
       "      <td>7</td>\n",
       "      <td>6</td>\n",
       "      <td>11</td>\n",
       "      <td>8</td>\n",
       "      <td>11</td>\n",
       "      <td>6</td>\n",
       "      <td>7</td>\n",
       "      <td>10</td>\n",
       "      <td>6</td>\n",
       "      <td>5</td>\n",
       "      <td>5</td>\n",
       "      <td>7</td>\n",
       "      <td>6</td>\n",
       "      <td>5</td>\n",
       "      <td>5</td>\n",
       "    </tr>\n",
       "    <tr>\n",
       "      <td>Dylan</td>\n",
       "      <td>7</td>\n",
       "      <td>4</td>\n",
       "      <td>7</td>\n",
       "      <td>24</td>\n",
       "      <td>12</td>\n",
       "      <td>6</td>\n",
       "      <td>12</td>\n",
       "      <td>14</td>\n",
       "      <td>5</td>\n",
       "      <td>8</td>\n",
       "      <td>10</td>\n",
       "      <td>14</td>\n",
       "      <td>11</td>\n",
       "      <td>10</td>\n",
       "      <td>12</td>\n",
       "      <td>10</td>\n",
       "      <td>7</td>\n",
       "      <td>6</td>\n",
       "      <td>7</td>\n",
       "      <td>13</td>\n",
       "    </tr>\n",
       "    <tr>\n",
       "      <td>Emily</td>\n",
       "      <td>9</td>\n",
       "      <td>8</td>\n",
       "      <td>8</td>\n",
       "      <td>12</td>\n",
       "      <td>24</td>\n",
       "      <td>3</td>\n",
       "      <td>9</td>\n",
       "      <td>9</td>\n",
       "      <td>10</td>\n",
       "      <td>6</td>\n",
       "      <td>6</td>\n",
       "      <td>12</td>\n",
       "      <td>11</td>\n",
       "      <td>10</td>\n",
       "      <td>12</td>\n",
       "      <td>11</td>\n",
       "      <td>13</td>\n",
       "      <td>4</td>\n",
       "      <td>9</td>\n",
       "      <td>13</td>\n",
       "    </tr>\n",
       "    <tr>\n",
       "      <td>Faith</td>\n",
       "      <td>6</td>\n",
       "      <td>8</td>\n",
       "      <td>7</td>\n",
       "      <td>6</td>\n",
       "      <td>3</td>\n",
       "      <td>24</td>\n",
       "      <td>6</td>\n",
       "      <td>8</td>\n",
       "      <td>9</td>\n",
       "      <td>8</td>\n",
       "      <td>10</td>\n",
       "      <td>9</td>\n",
       "      <td>7</td>\n",
       "      <td>5</td>\n",
       "      <td>6</td>\n",
       "      <td>2</td>\n",
       "      <td>3</td>\n",
       "      <td>10</td>\n",
       "      <td>7</td>\n",
       "      <td>1</td>\n",
       "    </tr>\n",
       "    <tr>\n",
       "      <td>Grace</td>\n",
       "      <td>11</td>\n",
       "      <td>5</td>\n",
       "      <td>6</td>\n",
       "      <td>12</td>\n",
       "      <td>9</td>\n",
       "      <td>6</td>\n",
       "      <td>24</td>\n",
       "      <td>8</td>\n",
       "      <td>5</td>\n",
       "      <td>7</td>\n",
       "      <td>5</td>\n",
       "      <td>10</td>\n",
       "      <td>12</td>\n",
       "      <td>12</td>\n",
       "      <td>13</td>\n",
       "      <td>10</td>\n",
       "      <td>10</td>\n",
       "      <td>7</td>\n",
       "      <td>13</td>\n",
       "      <td>9</td>\n",
       "    </tr>\n",
       "    <tr>\n",
       "      <td>Harris</td>\n",
       "      <td>6</td>\n",
       "      <td>2</td>\n",
       "      <td>11</td>\n",
       "      <td>14</td>\n",
       "      <td>9</td>\n",
       "      <td>8</td>\n",
       "      <td>8</td>\n",
       "      <td>24</td>\n",
       "      <td>3</td>\n",
       "      <td>8</td>\n",
       "      <td>9</td>\n",
       "      <td>13</td>\n",
       "      <td>8</td>\n",
       "      <td>7</td>\n",
       "      <td>5</td>\n",
       "      <td>5</td>\n",
       "      <td>4</td>\n",
       "      <td>8</td>\n",
       "      <td>6</td>\n",
       "      <td>10</td>\n",
       "    </tr>\n",
       "    <tr>\n",
       "      <td>Isla</td>\n",
       "      <td>10</td>\n",
       "      <td>18</td>\n",
       "      <td>8</td>\n",
       "      <td>5</td>\n",
       "      <td>10</td>\n",
       "      <td>9</td>\n",
       "      <td>5</td>\n",
       "      <td>3</td>\n",
       "      <td>24</td>\n",
       "      <td>12</td>\n",
       "      <td>6</td>\n",
       "      <td>5</td>\n",
       "      <td>11</td>\n",
       "      <td>9</td>\n",
       "      <td>7</td>\n",
       "      <td>9</td>\n",
       "      <td>9</td>\n",
       "      <td>6</td>\n",
       "      <td>9</td>\n",
       "      <td>10</td>\n",
       "    </tr>\n",
       "    <tr>\n",
       "      <td>Jack</td>\n",
       "      <td>7</td>\n",
       "      <td>14</td>\n",
       "      <td>11</td>\n",
       "      <td>8</td>\n",
       "      <td>6</td>\n",
       "      <td>8</td>\n",
       "      <td>7</td>\n",
       "      <td>8</td>\n",
       "      <td>12</td>\n",
       "      <td>24</td>\n",
       "      <td>9</td>\n",
       "      <td>8</td>\n",
       "      <td>13</td>\n",
       "      <td>7</td>\n",
       "      <td>4</td>\n",
       "      <td>7</td>\n",
       "      <td>8</td>\n",
       "      <td>4</td>\n",
       "      <td>9</td>\n",
       "      <td>8</td>\n",
       "    </tr>\n",
       "    <tr>\n",
       "      <td>Kai</td>\n",
       "      <td>4</td>\n",
       "      <td>7</td>\n",
       "      <td>6</td>\n",
       "      <td>10</td>\n",
       "      <td>6</td>\n",
       "      <td>10</td>\n",
       "      <td>5</td>\n",
       "      <td>9</td>\n",
       "      <td>6</td>\n",
       "      <td>9</td>\n",
       "      <td>24</td>\n",
       "      <td>9</td>\n",
       "      <td>7</td>\n",
       "      <td>7</td>\n",
       "      <td>6</td>\n",
       "      <td>7</td>\n",
       "      <td>5</td>\n",
       "      <td>12</td>\n",
       "      <td>8</td>\n",
       "      <td>7</td>\n",
       "    </tr>\n",
       "    <tr>\n",
       "      <td>Logan</td>\n",
       "      <td>11</td>\n",
       "      <td>4</td>\n",
       "      <td>7</td>\n",
       "      <td>14</td>\n",
       "      <td>12</td>\n",
       "      <td>9</td>\n",
       "      <td>10</td>\n",
       "      <td>13</td>\n",
       "      <td>5</td>\n",
       "      <td>8</td>\n",
       "      <td>9</td>\n",
       "      <td>24</td>\n",
       "      <td>8</td>\n",
       "      <td>10</td>\n",
       "      <td>10</td>\n",
       "      <td>7</td>\n",
       "      <td>12</td>\n",
       "      <td>3</td>\n",
       "      <td>9</td>\n",
       "      <td>11</td>\n",
       "    </tr>\n",
       "    <tr>\n",
       "      <td>Max</td>\n",
       "      <td>10</td>\n",
       "      <td>10</td>\n",
       "      <td>10</td>\n",
       "      <td>11</td>\n",
       "      <td>11</td>\n",
       "      <td>7</td>\n",
       "      <td>12</td>\n",
       "      <td>8</td>\n",
       "      <td>11</td>\n",
       "      <td>13</td>\n",
       "      <td>7</td>\n",
       "      <td>8</td>\n",
       "      <td>24</td>\n",
       "      <td>14</td>\n",
       "      <td>7</td>\n",
       "      <td>8</td>\n",
       "      <td>8</td>\n",
       "      <td>6</td>\n",
       "      <td>12</td>\n",
       "      <td>8</td>\n",
       "    </tr>\n",
       "    <tr>\n",
       "      <td>Nathan</td>\n",
       "      <td>10</td>\n",
       "      <td>9</td>\n",
       "      <td>6</td>\n",
       "      <td>10</td>\n",
       "      <td>10</td>\n",
       "      <td>5</td>\n",
       "      <td>12</td>\n",
       "      <td>7</td>\n",
       "      <td>9</td>\n",
       "      <td>7</td>\n",
       "      <td>7</td>\n",
       "      <td>10</td>\n",
       "      <td>14</td>\n",
       "      <td>24</td>\n",
       "      <td>9</td>\n",
       "      <td>12</td>\n",
       "      <td>9</td>\n",
       "      <td>6</td>\n",
       "      <td>12</td>\n",
       "      <td>7</td>\n",
       "    </tr>\n",
       "    <tr>\n",
       "      <td>Olivia</td>\n",
       "      <td>13</td>\n",
       "      <td>7</td>\n",
       "      <td>5</td>\n",
       "      <td>12</td>\n",
       "      <td>12</td>\n",
       "      <td>6</td>\n",
       "      <td>13</td>\n",
       "      <td>5</td>\n",
       "      <td>7</td>\n",
       "      <td>4</td>\n",
       "      <td>6</td>\n",
       "      <td>10</td>\n",
       "      <td>7</td>\n",
       "      <td>9</td>\n",
       "      <td>24</td>\n",
       "      <td>14</td>\n",
       "      <td>13</td>\n",
       "      <td>6</td>\n",
       "      <td>11</td>\n",
       "      <td>12</td>\n",
       "    </tr>\n",
       "    <tr>\n",
       "      <td>Poppy</td>\n",
       "      <td>12</td>\n",
       "      <td>9</td>\n",
       "      <td>5</td>\n",
       "      <td>10</td>\n",
       "      <td>11</td>\n",
       "      <td>2</td>\n",
       "      <td>10</td>\n",
       "      <td>5</td>\n",
       "      <td>9</td>\n",
       "      <td>7</td>\n",
       "      <td>7</td>\n",
       "      <td>7</td>\n",
       "      <td>8</td>\n",
       "      <td>12</td>\n",
       "      <td>14</td>\n",
       "      <td>24</td>\n",
       "      <td>13</td>\n",
       "      <td>4</td>\n",
       "      <td>10</td>\n",
       "      <td>10</td>\n",
       "    </tr>\n",
       "    <tr>\n",
       "      <td>Quinn</td>\n",
       "      <td>16</td>\n",
       "      <td>8</td>\n",
       "      <td>7</td>\n",
       "      <td>7</td>\n",
       "      <td>13</td>\n",
       "      <td>3</td>\n",
       "      <td>10</td>\n",
       "      <td>4</td>\n",
       "      <td>9</td>\n",
       "      <td>8</td>\n",
       "      <td>5</td>\n",
       "      <td>12</td>\n",
       "      <td>8</td>\n",
       "      <td>9</td>\n",
       "      <td>13</td>\n",
       "      <td>13</td>\n",
       "      <td>24</td>\n",
       "      <td>2</td>\n",
       "      <td>14</td>\n",
       "      <td>14</td>\n",
       "    </tr>\n",
       "    <tr>\n",
       "      <td>Rory</td>\n",
       "      <td>4</td>\n",
       "      <td>7</td>\n",
       "      <td>6</td>\n",
       "      <td>6</td>\n",
       "      <td>4</td>\n",
       "      <td>10</td>\n",
       "      <td>7</td>\n",
       "      <td>8</td>\n",
       "      <td>6</td>\n",
       "      <td>4</td>\n",
       "      <td>12</td>\n",
       "      <td>3</td>\n",
       "      <td>6</td>\n",
       "      <td>6</td>\n",
       "      <td>6</td>\n",
       "      <td>4</td>\n",
       "      <td>2</td>\n",
       "      <td>24</td>\n",
       "      <td>6</td>\n",
       "      <td>4</td>\n",
       "    </tr>\n",
       "    <tr>\n",
       "      <td>Sophie</td>\n",
       "      <td>13</td>\n",
       "      <td>9</td>\n",
       "      <td>5</td>\n",
       "      <td>7</td>\n",
       "      <td>9</td>\n",
       "      <td>7</td>\n",
       "      <td>13</td>\n",
       "      <td>6</td>\n",
       "      <td>9</td>\n",
       "      <td>9</td>\n",
       "      <td>8</td>\n",
       "      <td>9</td>\n",
       "      <td>12</td>\n",
       "      <td>12</td>\n",
       "      <td>11</td>\n",
       "      <td>10</td>\n",
       "      <td>14</td>\n",
       "      <td>6</td>\n",
       "      <td>24</td>\n",
       "      <td>10</td>\n",
       "    </tr>\n",
       "    <tr>\n",
       "      <td>Thomas</td>\n",
       "      <td>9</td>\n",
       "      <td>8</td>\n",
       "      <td>5</td>\n",
       "      <td>13</td>\n",
       "      <td>13</td>\n",
       "      <td>1</td>\n",
       "      <td>9</td>\n",
       "      <td>10</td>\n",
       "      <td>10</td>\n",
       "      <td>8</td>\n",
       "      <td>7</td>\n",
       "      <td>11</td>\n",
       "      <td>8</td>\n",
       "      <td>7</td>\n",
       "      <td>12</td>\n",
       "      <td>10</td>\n",
       "      <td>14</td>\n",
       "      <td>4</td>\n",
       "      <td>10</td>\n",
       "      <td>24</td>\n",
       "    </tr>\n",
       "  </tbody>\n",
       "</table>\n",
       "</div>"
      ],
      "text/plain": [
       "player2  Alice  Bob  Colby  Dylan  Emily  Faith  Grace  Harris  Isla  Jack  \\\n",
       "player1                                                                      \n",
       "Alice       24    9     10      7      9      6     11       6    10     7   \n",
       "Bob          9   24      7      4      8      8      5       2    18    14   \n",
       "Colby       10    7     24      7      8      7      6      11     8    11   \n",
       "Dylan        7    4      7     24     12      6     12      14     5     8   \n",
       "Emily        9    8      8     12     24      3      9       9    10     6   \n",
       "Faith        6    8      7      6      3     24      6       8     9     8   \n",
       "Grace       11    5      6     12      9      6     24       8     5     7   \n",
       "Harris       6    2     11     14      9      8      8      24     3     8   \n",
       "Isla        10   18      8      5     10      9      5       3    24    12   \n",
       "Jack         7   14     11      8      6      8      7       8    12    24   \n",
       "Kai          4    7      6     10      6     10      5       9     6     9   \n",
       "Logan       11    4      7     14     12      9     10      13     5     8   \n",
       "Max         10   10     10     11     11      7     12       8    11    13   \n",
       "Nathan      10    9      6     10     10      5     12       7     9     7   \n",
       "Olivia      13    7      5     12     12      6     13       5     7     4   \n",
       "Poppy       12    9      5     10     11      2     10       5     9     7   \n",
       "Quinn       16    8      7      7     13      3     10       4     9     8   \n",
       "Rory         4    7      6      6      4     10      7       8     6     4   \n",
       "Sophie      13    9      5      7      9      7     13       6     9     9   \n",
       "Thomas       9    8      5     13     13      1      9      10    10     8   \n",
       "\n",
       "player2  Kai  Logan  Max  Nathan  Olivia  Poppy  Quinn  Rory  Sophie  Thomas  \n",
       "player1                                                                       \n",
       "Alice      4     11   10      10      13     12     16     4      13       9  \n",
       "Bob        7      4   10       9       7      9      8     7       9       8  \n",
       "Colby      6      7   10       6       5      5      7     6       5       5  \n",
       "Dylan     10     14   11      10      12     10      7     6       7      13  \n",
       "Emily      6     12   11      10      12     11     13     4       9      13  \n",
       "Faith     10      9    7       5       6      2      3    10       7       1  \n",
       "Grace      5     10   12      12      13     10     10     7      13       9  \n",
       "Harris     9     13    8       7       5      5      4     8       6      10  \n",
       "Isla       6      5   11       9       7      9      9     6       9      10  \n",
       "Jack       9      8   13       7       4      7      8     4       9       8  \n",
       "Kai       24      9    7       7       6      7      5    12       8       7  \n",
       "Logan      9     24    8      10      10      7     12     3       9      11  \n",
       "Max        7      8   24      14       7      8      8     6      12       8  \n",
       "Nathan     7     10   14      24       9     12      9     6      12       7  \n",
       "Olivia     6     10    7       9      24     14     13     6      11      12  \n",
       "Poppy      7      7    8      12      14     24     13     4      10      10  \n",
       "Quinn      5     12    8       9      13     13     24     2      14      14  \n",
       "Rory      12      3    6       6       6      4      2    24       6       4  \n",
       "Sophie     8      9   12      12      11     10     14     6      24      10  \n",
       "Thomas     7     11    8       7      12     10     14     4      10      24  "
      ]
     },
     "execution_count": 22,
     "metadata": {},
     "output_type": "execute_result"
    }
   ],
   "source": [
    "crossinter = inter.pivot_table(index='player1', columns='player2', values='count')\n",
    "crossinter"
   ]
  },
  {
   "cell_type": "code",
   "execution_count": 23,
   "metadata": {},
   "outputs": [
    {
     "data": {
      "text/plain": [
       "<matplotlib.axes._subplots.AxesSubplot at 0x16693a89208>"
      ]
     },
     "execution_count": 23,
     "metadata": {},
     "output_type": "execute_result"
    },
    {
     "data": {
      "image/png": "[encoded data removed]",
      "text/plain": [
       "<Figure size 720x360 with 2 Axes>"
      ]
     },
     "metadata": {
      "needs_background": "light"
     },
     "output_type": "display_data"
    }
   ],
   "source": [
    "fig, axe = plt.subplots(figsize=(10,5))\n",
    "sns.heatmap(crossinter, annot=True, ax=axe, cmap='jet')"
   ]
  },
  {
   "cell_type": "code",
   "execution_count": 24,
   "metadata": {},
   "outputs": [
    {
     "data": {
      "text/html": [
       "<div>\n",
       "<style scoped>\n",
       "    .dataframe tbody tr th:only-of-type {\n",
       "        vertical-align: middle;\n",
       "    }\n",
       "\n",
       "    .dataframe tbody tr th {\n",
       "        vertical-align: top;\n",
       "    }\n",
       "\n",
       "    .dataframe thead th {\n",
       "        text-align: right;\n",
       "    }\n",
       "</style>\n",
       "<table border=\"1\" class=\"dataframe\">\n",
       "  <thead>\n",
       "    <tr style=\"text-align: right;\">\n",
       "      <th></th>\n",
       "      <th>count</th>\n",
       "    </tr>\n",
       "  </thead>\n",
       "  <tbody>\n",
       "    <tr>\n",
       "      <td>count</td>\n",
       "      <td>400.000000</td>\n",
       "    </tr>\n",
       "    <tr>\n",
       "      <td>mean</td>\n",
       "      <td>9.215000</td>\n",
       "    </tr>\n",
       "    <tr>\n",
       "      <td>std</td>\n",
       "      <td>4.501047</td>\n",
       "    </tr>\n",
       "    <tr>\n",
       "      <td>min</td>\n",
       "      <td>1.000000</td>\n",
       "    </tr>\n",
       "    <tr>\n",
       "      <td>25%</td>\n",
       "      <td>6.000000</td>\n",
       "    </tr>\n",
       "    <tr>\n",
       "      <td>50%</td>\n",
       "      <td>9.000000</td>\n",
       "    </tr>\n",
       "    <tr>\n",
       "      <td>75%</td>\n",
       "      <td>11.000000</td>\n",
       "    </tr>\n",
       "    <tr>\n",
       "      <td>max</td>\n",
       "      <td>24.000000</td>\n",
       "    </tr>\n",
       "  </tbody>\n",
       "</table>\n",
       "</div>"
      ],
      "text/plain": [
       "            count\n",
       "count  400.000000\n",
       "mean     9.215000\n",
       "std      4.501047\n",
       "min      1.000000\n",
       "25%      6.000000\n",
       "50%      9.000000\n",
       "75%     11.000000\n",
       "max     24.000000"
      ]
     },
     "execution_count": 24,
     "metadata": {},
     "output_type": "execute_result"
    }
   ],
   "source": [
    "inter.describe()"
   ]
  },
  {
   "cell_type": "code",
   "execution_count": 25,
   "metadata": {},
   "outputs": [
    {
     "data": {
      "text/html": [
       "<div>\n",
       "<style scoped>\n",
       "    .dataframe tbody tr th:only-of-type {\n",
       "        vertical-align: middle;\n",
       "    }\n",
       "\n",
       "    .dataframe tbody tr th {\n",
       "        vertical-align: top;\n",
       "    }\n",
       "\n",
       "    .dataframe thead th {\n",
       "        text-align: right;\n",
       "    }\n",
       "</style>\n",
       "<table border=\"1\" class=\"dataframe\">\n",
       "  <thead>\n",
       "    <tr style=\"text-align: right;\">\n",
       "      <th></th>\n",
       "      <th>count</th>\n",
       "    </tr>\n",
       "  </thead>\n",
       "  <tbody>\n",
       "    <tr>\n",
       "      <td>count</td>\n",
       "      <td>380.000000</td>\n",
       "    </tr>\n",
       "    <tr>\n",
       "      <td>mean</td>\n",
       "      <td>8.436842</td>\n",
       "    </tr>\n",
       "    <tr>\n",
       "      <td>std</td>\n",
       "      <td>3.030837</td>\n",
       "    </tr>\n",
       "    <tr>\n",
       "      <td>min</td>\n",
       "      <td>1.000000</td>\n",
       "    </tr>\n",
       "    <tr>\n",
       "      <td>25%</td>\n",
       "      <td>6.000000</td>\n",
       "    </tr>\n",
       "    <tr>\n",
       "      <td>50%</td>\n",
       "      <td>8.000000</td>\n",
       "    </tr>\n",
       "    <tr>\n",
       "      <td>75%</td>\n",
       "      <td>10.000000</td>\n",
       "    </tr>\n",
       "    <tr>\n",
       "      <td>max</td>\n",
       "      <td>18.000000</td>\n",
       "    </tr>\n",
       "  </tbody>\n",
       "</table>\n",
       "</div>"
      ],
      "text/plain": [
       "            count\n",
       "count  380.000000\n",
       "mean     8.436842\n",
       "std      3.030837\n",
       "min      1.000000\n",
       "25%      6.000000\n",
       "50%      8.000000\n",
       "75%     10.000000\n",
       "max     18.000000"
      ]
     },
     "execution_count": 25,
     "metadata": {},
     "output_type": "execute_result"
    }
   ],
   "source": [
    "inter.loc[inter['count']<24,:].describe()"
   ]
  },
  {
   "cell_type": "code",
   "execution_count": 26,
   "metadata": {},
   "outputs": [
    {
     "data": {
      "text/plain": [
       "{3, 19, 41, 48, 56, 57, 61, 68}"
      ]
     },
     "execution_count": 26,
     "metadata": {},
     "output_type": "execute_result"
    }
   ],
   "source": [
    "a1 = set(data[\"Alice\"]).difference(set(data[\"Quinn\"]))\n",
    "a1"
   ]
  },
  {
   "cell_type": "code",
   "execution_count": 27,
   "metadata": {},
   "outputs": [
    {
     "data": {
      "text/plain": [
       "{10, 15, 19, 25, 37, 47, 48, 53, 56, 61, 73}"
      ]
     },
     "execution_count": 27,
     "metadata": {},
     "output_type": "execute_result"
    }
   ],
   "source": [
    "a2 = set(data[\"Alice\"]).difference(set(data[\"Olivia\"]))\n",
    "a2"
   ]
  },
  {
   "cell_type": "code",
   "execution_count": 28,
   "metadata": {},
   "outputs": [
    {
     "data": {
      "text/plain": [
       "{1, 6, 37, 39, 40, 67}"
      ]
     },
     "execution_count": 28,
     "metadata": {},
     "output_type": "execute_result"
    }
   ],
   "source": [
    "a3 = set(data[\"Bob\"]).difference(set(data[\"Isla\"]))\n",
    "a3"
   ]
  },
  {
   "cell_type": "code",
   "execution_count": 29,
   "metadata": {},
   "outputs": [
    {
     "data": {
      "text/plain": [
       "{2, 12, 17, 21, 24, 40, 53, 65, 67, 68}"
      ]
     },
     "execution_count": 29,
     "metadata": {},
     "output_type": "execute_result"
    }
   ],
   "source": [
    "a4 = set(data[\"Bob\"]).difference(set(data[\"Jack\"]))\n",
    "a4"
   ]
  },
  {
   "cell_type": "code",
   "execution_count": 30,
   "metadata": {},
   "outputs": [
    {
     "name": "stdout",
     "output_type": "stream",
     "text": [
      "{1, 65, 3, 68, 67, 6, 2, 73, 10, 12, 15, 17, 19, 21, 24, 25, 37, 39, 40, 41, 47, 48, 53, 56, 57, 61}\n"
     ]
    }
   ],
   "source": [
    "A = a1.union(a2, a3, a4)\n",
    "print(A)"
   ]
  },
  {
   "cell_type": "code",
   "execution_count": 31,
   "metadata": {},
   "outputs": [
    {
     "data": {
      "text/plain": [
       "<matplotlib.axes._subplots.AxesSubplot at 0x1669405cb88>"
      ]
     },
     "execution_count": 31,
     "metadata": {},
     "output_type": "execute_result"
    },
    {
     "data": {
      "image/png": "[encoded data removed]",
      "text/plain": [
       "<Figure size 720x360 with 1 Axes>"
      ]
     },
     "metadata": {
      "needs_background": "light"
     },
     "output_type": "display_data"
    }
   ],
   "source": [
    "distZ = MonteCarlo(A, n=26, N=1000)\n",
    "distZ['frequency'].sort_values(ascending=False).plot(kind='bar', figsize=(10,5))"
   ]
  },
  {
   "cell_type": "code",
   "execution_count": 32,
   "metadata": {},
   "outputs": [],
   "source": [
    "a5 = set(data[\"Quinn\"]).intersection(set(data[\"Olivia\"]))"
   ]
  },
  {
   "cell_type": "code",
   "execution_count": 33,
   "metadata": {},
   "outputs": [
    {
     "data": {
      "text/plain": [
       "48"
      ]
     },
     "execution_count": 33,
     "metadata": {},
     "output_type": "execute_result"
    }
   ],
   "source": [
    "A = All.difference(a5).difference(set(data[\"Bob\"]).intersection(set(data[\"Isla\"])))\n",
    "len(A)"
   ]
  },
  {
   "cell_type": "code",
   "execution_count": 34,
   "metadata": {},
   "outputs": [
    {
     "data": {
      "text/plain": [
       "<matplotlib.axes._subplots.AxesSubplot at 0x166940cd288>"
      ]
     },
     "execution_count": 34,
     "metadata": {},
     "output_type": "execute_result"
    },
    {
     "data": {
      "image/png": "[encoded data removed]",
      "text/plain": [
       "<Figure size 720x360 with 1 Axes>"
      ]
     },
     "metadata": {
      "needs_background": "light"
     },
     "output_type": "display_data"
    }
   ],
   "source": [
    "distZ = MonteCarlo(A, n=30, N=1000)\n",
    "distZ['frequency'].sort_values(ascending=False).plot(kind='bar', figsize=(10,5))"
   ]
  },
  {
   "cell_type": "raw",
   "metadata": {},
   "source": [
    "dfs = []\n",
    "for k in data:\n",
    "    A = All.difference(set(data[k]))\n",
    "    df = MonteCarlo(A, n=30, N=100000)\n",
    "    df['without'] = k\n",
    "    dfs.append(df)\n",
    "dep = pd.concat(dfs).reset_index()\n",
    "dep.to_excel('depprob.xlsx')"
   ]
  },
  {
   "cell_type": "code",
   "execution_count": 35,
   "metadata": {},
   "outputs": [
    {
     "data": {
      "text/html": [
       "<div>\n",
       "<style scoped>\n",
       "    .dataframe tbody tr th:only-of-type {\n",
       "        vertical-align: middle;\n",
       "    }\n",
       "\n",
       "    .dataframe tbody tr th {\n",
       "        vertical-align: top;\n",
       "    }\n",
       "\n",
       "    .dataframe thead th {\n",
       "        text-align: right;\n",
       "    }\n",
       "</style>\n",
       "<table border=\"1\" class=\"dataframe\">\n",
       "  <thead>\n",
       "    <tr style=\"text-align: right;\">\n",
       "      <th></th>\n",
       "      <th>player</th>\n",
       "      <th>count</th>\n",
       "      <th>frequency</th>\n",
       "      <th>without</th>\n",
       "    </tr>\n",
       "  </thead>\n",
       "  <tbody>\n",
       "    <tr>\n",
       "      <td>0</td>\n",
       "      <td>Alice</td>\n",
       "      <td>0</td>\n",
       "      <td>0.00000</td>\n",
       "      <td>Alice</td>\n",
       "    </tr>\n",
       "    <tr>\n",
       "      <td>1</td>\n",
       "      <td>Bob</td>\n",
       "      <td>11075</td>\n",
       "      <td>0.11075</td>\n",
       "      <td>Alice</td>\n",
       "    </tr>\n",
       "    <tr>\n",
       "      <td>2</td>\n",
       "      <td>Colby</td>\n",
       "      <td>6096</td>\n",
       "      <td>0.06096</td>\n",
       "      <td>Alice</td>\n",
       "    </tr>\n",
       "    <tr>\n",
       "      <td>3</td>\n",
       "      <td>Dylan</td>\n",
       "      <td>6085</td>\n",
       "      <td>0.06085</td>\n",
       "      <td>Alice</td>\n",
       "    </tr>\n",
       "    <tr>\n",
       "      <td>4</td>\n",
       "      <td>Emily</td>\n",
       "      <td>6123</td>\n",
       "      <td>0.06123</td>\n",
       "      <td>Alice</td>\n",
       "    </tr>\n",
       "    <tr>\n",
       "      <td>...</td>\n",
       "      <td>...</td>\n",
       "      <td>...</td>\n",
       "      <td>...</td>\n",
       "      <td>...</td>\n",
       "    </tr>\n",
       "    <tr>\n",
       "      <td>395</td>\n",
       "      <td>Poppy</td>\n",
       "      <td>6083</td>\n",
       "      <td>0.06083</td>\n",
       "      <td>Thomas</td>\n",
       "    </tr>\n",
       "    <tr>\n",
       "      <td>396</td>\n",
       "      <td>Quinn</td>\n",
       "      <td>0</td>\n",
       "      <td>0.00000</td>\n",
       "      <td>Thomas</td>\n",
       "    </tr>\n",
       "    <tr>\n",
       "      <td>397</td>\n",
       "      <td>Rory</td>\n",
       "      <td>29939</td>\n",
       "      <td>0.29939</td>\n",
       "      <td>Thomas</td>\n",
       "    </tr>\n",
       "    <tr>\n",
       "      <td>398</td>\n",
       "      <td>Sophie</td>\n",
       "      <td>10780</td>\n",
       "      <td>0.10780</td>\n",
       "      <td>Thomas</td>\n",
       "    </tr>\n",
       "    <tr>\n",
       "      <td>399</td>\n",
       "      <td>Thomas</td>\n",
       "      <td>0</td>\n",
       "      <td>0.00000</td>\n",
       "      <td>Thomas</td>\n",
       "    </tr>\n",
       "  </tbody>\n",
       "</table>\n",
       "<p>400 rows × 4 columns</p>\n",
       "</div>"
      ],
      "text/plain": [
       "     player  count  frequency without\n",
       "0     Alice      0    0.00000   Alice\n",
       "1       Bob  11075    0.11075   Alice\n",
       "2     Colby   6096    0.06096   Alice\n",
       "3     Dylan   6085    0.06085   Alice\n",
       "4     Emily   6123    0.06123   Alice\n",
       "..      ...    ...        ...     ...\n",
       "395   Poppy   6083    0.06083  Thomas\n",
       "396   Quinn      0    0.00000  Thomas\n",
       "397    Rory  29939    0.29939  Thomas\n",
       "398  Sophie  10780    0.10780  Thomas\n",
       "399  Thomas      0    0.00000  Thomas\n",
       "\n",
       "[400 rows x 4 columns]"
      ]
     },
     "execution_count": 35,
     "metadata": {},
     "output_type": "execute_result"
    }
   ],
   "source": [
    "dep = pd.read_excel('SGRS2020_Task25_depprob_N100000.xlsx', index_col=0)\n",
    "dep"
   ]
  },
  {
   "cell_type": "code",
   "execution_count": 36,
   "metadata": {},
   "outputs": [
    {
     "data": {
      "text/html": [
       "<div>\n",
       "<style scoped>\n",
       "    .dataframe tbody tr th:only-of-type {\n",
       "        vertical-align: middle;\n",
       "    }\n",
       "\n",
       "    .dataframe tbody tr th {\n",
       "        vertical-align: top;\n",
       "    }\n",
       "\n",
       "    .dataframe thead th {\n",
       "        text-align: right;\n",
       "    }\n",
       "</style>\n",
       "<table border=\"1\" class=\"dataframe\">\n",
       "  <thead>\n",
       "    <tr style=\"text-align: right;\">\n",
       "      <th>player</th>\n",
       "      <th>Alice</th>\n",
       "      <th>Bob</th>\n",
       "      <th>Colby</th>\n",
       "      <th>Dylan</th>\n",
       "      <th>Emily</th>\n",
       "      <th>Faith</th>\n",
       "      <th>Grace</th>\n",
       "      <th>Harris</th>\n",
       "      <th>Isla</th>\n",
       "      <th>Jack</th>\n",
       "      <th>Kai</th>\n",
       "      <th>Logan</th>\n",
       "      <th>Max</th>\n",
       "      <th>Nathan</th>\n",
       "      <th>Olivia</th>\n",
       "      <th>Poppy</th>\n",
       "      <th>Quinn</th>\n",
       "      <th>Rory</th>\n",
       "      <th>Sophie</th>\n",
       "      <th>Thomas</th>\n",
       "    </tr>\n",
       "    <tr>\n",
       "      <th>without</th>\n",
       "      <th></th>\n",
       "      <th></th>\n",
       "      <th></th>\n",
       "      <th></th>\n",
       "      <th></th>\n",
       "      <th></th>\n",
       "      <th></th>\n",
       "      <th></th>\n",
       "      <th></th>\n",
       "      <th></th>\n",
       "      <th></th>\n",
       "      <th></th>\n",
       "      <th></th>\n",
       "      <th></th>\n",
       "      <th></th>\n",
       "      <th></th>\n",
       "      <th></th>\n",
       "      <th></th>\n",
       "      <th></th>\n",
       "      <th></th>\n",
       "    </tr>\n",
       "  </thead>\n",
       "  <tbody>\n",
       "    <tr>\n",
       "      <td>Alice</td>\n",
       "      <td>0.00000</td>\n",
       "      <td>0.11075</td>\n",
       "      <td>0.06096</td>\n",
       "      <td>0.06085</td>\n",
       "      <td>0.06123</td>\n",
       "      <td>0.21259</td>\n",
       "      <td>0.10973</td>\n",
       "      <td>0.11803</td>\n",
       "      <td>0.11077</td>\n",
       "      <td>0.00000</td>\n",
       "      <td>0.25945</td>\n",
       "      <td>0.16022</td>\n",
       "      <td>0.10978</td>\n",
       "      <td>0.06002</td>\n",
       "      <td>0.00000</td>\n",
       "      <td>0.00000</td>\n",
       "      <td>0.00000</td>\n",
       "      <td>0.29988</td>\n",
       "      <td>0.10939</td>\n",
       "      <td>0.21000</td>\n",
       "    </tr>\n",
       "    <tr>\n",
       "      <td>Bob</td>\n",
       "      <td>0.00000</td>\n",
       "      <td>0.00000</td>\n",
       "      <td>0.21241</td>\n",
       "      <td>0.30437</td>\n",
       "      <td>0.16069</td>\n",
       "      <td>0.06080</td>\n",
       "      <td>0.21133</td>\n",
       "      <td>0.41162</td>\n",
       "      <td>0.00000</td>\n",
       "      <td>0.00000</td>\n",
       "      <td>0.29324</td>\n",
       "      <td>0.41159</td>\n",
       "      <td>0.00000</td>\n",
       "      <td>0.05992</td>\n",
       "      <td>0.16455</td>\n",
       "      <td>0.00000</td>\n",
       "      <td>0.06150</td>\n",
       "      <td>0.29352</td>\n",
       "      <td>0.00000</td>\n",
       "      <td>0.25898</td>\n",
       "    </tr>\n",
       "    <tr>\n",
       "      <td>Colby</td>\n",
       "      <td>0.06036</td>\n",
       "      <td>0.25658</td>\n",
       "      <td>0.00000</td>\n",
       "      <td>0.06026</td>\n",
       "      <td>0.05930</td>\n",
       "      <td>0.21060</td>\n",
       "      <td>0.20824</td>\n",
       "      <td>0.15907</td>\n",
       "      <td>0.10922</td>\n",
       "      <td>0.00000</td>\n",
       "      <td>0.25417</td>\n",
       "      <td>0.16007</td>\n",
       "      <td>0.00000</td>\n",
       "      <td>0.20836</td>\n",
       "      <td>0.06031</td>\n",
       "      <td>0.30061</td>\n",
       "      <td>0.00000</td>\n",
       "      <td>0.21020</td>\n",
       "      <td>0.25412</td>\n",
       "      <td>0.26032</td>\n",
       "    </tr>\n",
       "    <tr>\n",
       "      <td>Dylan</td>\n",
       "      <td>0.16187</td>\n",
       "      <td>0.33732</td>\n",
       "      <td>0.21248</td>\n",
       "      <td>0.00000</td>\n",
       "      <td>0.00000</td>\n",
       "      <td>0.16919</td>\n",
       "      <td>0.11067</td>\n",
       "      <td>0.00000</td>\n",
       "      <td>0.25408</td>\n",
       "      <td>0.00000</td>\n",
       "      <td>0.00000</td>\n",
       "      <td>0.00000</td>\n",
       "      <td>0.00000</td>\n",
       "      <td>0.06052</td>\n",
       "      <td>0.00000</td>\n",
       "      <td>0.06188</td>\n",
       "      <td>0.21179</td>\n",
       "      <td>0.16092</td>\n",
       "      <td>0.25390</td>\n",
       "      <td>0.11005</td>\n",
       "    </tr>\n",
       "    <tr>\n",
       "      <td>Emily</td>\n",
       "      <td>0.06079</td>\n",
       "      <td>0.10818</td>\n",
       "      <td>0.16496</td>\n",
       "      <td>0.00000</td>\n",
       "      <td>0.00000</td>\n",
       "      <td>0.37108</td>\n",
       "      <td>0.00000</td>\n",
       "      <td>0.06020</td>\n",
       "      <td>0.00000</td>\n",
       "      <td>0.20690</td>\n",
       "      <td>0.16361</td>\n",
       "      <td>0.00000</td>\n",
       "      <td>0.00000</td>\n",
       "      <td>0.06109</td>\n",
       "      <td>0.00000</td>\n",
       "      <td>0.00000</td>\n",
       "      <td>0.00000</td>\n",
       "      <td>0.15967</td>\n",
       "      <td>0.00000</td>\n",
       "      <td>0.00000</td>\n",
       "    </tr>\n",
       "    <tr>\n",
       "      <td>Faith</td>\n",
       "      <td>0.26016</td>\n",
       "      <td>0.20828</td>\n",
       "      <td>0.29728</td>\n",
       "      <td>0.21978</td>\n",
       "      <td>0.37763</td>\n",
       "      <td>0.00000</td>\n",
       "      <td>0.33562</td>\n",
       "      <td>0.21175</td>\n",
       "      <td>0.20666</td>\n",
       "      <td>0.20984</td>\n",
       "      <td>0.06179</td>\n",
       "      <td>0.00000</td>\n",
       "      <td>0.25672</td>\n",
       "      <td>0.29557</td>\n",
       "      <td>0.33571</td>\n",
       "      <td>0.47471</td>\n",
       "      <td>0.44760</td>\n",
       "      <td>0.11057</td>\n",
       "      <td>0.17114</td>\n",
       "      <td>0.52855</td>\n",
       "    </tr>\n",
       "    <tr>\n",
       "      <td>Grace</td>\n",
       "      <td>0.06150</td>\n",
       "      <td>0.29685</td>\n",
       "      <td>0.16250</td>\n",
       "      <td>0.16074</td>\n",
       "      <td>0.06011</td>\n",
       "      <td>0.21137</td>\n",
       "      <td>0.00000</td>\n",
       "      <td>0.16168</td>\n",
       "      <td>0.25211</td>\n",
       "      <td>0.21205</td>\n",
       "      <td>0.21059</td>\n",
       "      <td>0.16075</td>\n",
       "      <td>0.00000</td>\n",
       "      <td>0.00000</td>\n",
       "      <td>0.00000</td>\n",
       "      <td>0.06036</td>\n",
       "      <td>0.06097</td>\n",
       "      <td>0.16396</td>\n",
       "      <td>0.00000</td>\n",
       "      <td>0.05869</td>\n",
       "    </tr>\n",
       "    <tr>\n",
       "      <td>Harris</td>\n",
       "      <td>0.21116</td>\n",
       "      <td>0.44379</td>\n",
       "      <td>0.15965</td>\n",
       "      <td>0.00000</td>\n",
       "      <td>0.16601</td>\n",
       "      <td>0.10951</td>\n",
       "      <td>0.16167</td>\n",
       "      <td>0.00000</td>\n",
       "      <td>0.29770</td>\n",
       "      <td>0.06043</td>\n",
       "      <td>0.00000</td>\n",
       "      <td>0.00000</td>\n",
       "      <td>0.05976</td>\n",
       "      <td>0.15977</td>\n",
       "      <td>0.11640</td>\n",
       "      <td>0.20965</td>\n",
       "      <td>0.20803</td>\n",
       "      <td>0.16190</td>\n",
       "      <td>0.16620</td>\n",
       "      <td>0.10898</td>\n",
       "    </tr>\n",
       "    <tr>\n",
       "      <td>Isla</td>\n",
       "      <td>0.00000</td>\n",
       "      <td>0.00000</td>\n",
       "      <td>0.00000</td>\n",
       "      <td>0.29707</td>\n",
       "      <td>0.06144</td>\n",
       "      <td>0.20925</td>\n",
       "      <td>0.25425</td>\n",
       "      <td>0.37931</td>\n",
       "      <td>0.00000</td>\n",
       "      <td>0.00000</td>\n",
       "      <td>0.20997</td>\n",
       "      <td>0.21002</td>\n",
       "      <td>0.00000</td>\n",
       "      <td>0.06086</td>\n",
       "      <td>0.17035</td>\n",
       "      <td>0.00000</td>\n",
       "      <td>0.06032</td>\n",
       "      <td>0.20992</td>\n",
       "      <td>0.10997</td>\n",
       "      <td>0.11488</td>\n",
       "    </tr>\n",
       "    <tr>\n",
       "      <td>Jack</td>\n",
       "      <td>0.06054</td>\n",
       "      <td>0.00000</td>\n",
       "      <td>0.06030</td>\n",
       "      <td>0.06099</td>\n",
       "      <td>0.20943</td>\n",
       "      <td>0.21420</td>\n",
       "      <td>0.21131</td>\n",
       "      <td>0.10994</td>\n",
       "      <td>0.00000</td>\n",
       "      <td>0.00000</td>\n",
       "      <td>0.06104</td>\n",
       "      <td>0.06107</td>\n",
       "      <td>0.00000</td>\n",
       "      <td>0.21077</td>\n",
       "      <td>0.34364</td>\n",
       "      <td>0.16112</td>\n",
       "      <td>0.06179</td>\n",
       "      <td>0.29663</td>\n",
       "      <td>0.00000</td>\n",
       "      <td>0.10881</td>\n",
       "    </tr>\n",
       "    <tr>\n",
       "      <td>Kai</td>\n",
       "      <td>0.37802</td>\n",
       "      <td>0.05954</td>\n",
       "      <td>0.11973</td>\n",
       "      <td>0.00000</td>\n",
       "      <td>0.30086</td>\n",
       "      <td>0.06037</td>\n",
       "      <td>0.25358</td>\n",
       "      <td>0.05994</td>\n",
       "      <td>0.05967</td>\n",
       "      <td>0.00000</td>\n",
       "      <td>0.00000</td>\n",
       "      <td>0.11140</td>\n",
       "      <td>0.16175</td>\n",
       "      <td>0.16068</td>\n",
       "      <td>0.29740</td>\n",
       "      <td>0.11433</td>\n",
       "      <td>0.30107</td>\n",
       "      <td>0.00000</td>\n",
       "      <td>0.15995</td>\n",
       "      <td>0.25149</td>\n",
       "    </tr>\n",
       "    <tr>\n",
       "      <td>Logan</td>\n",
       "      <td>0.00000</td>\n",
       "      <td>0.33313</td>\n",
       "      <td>0.15910</td>\n",
       "      <td>0.00000</td>\n",
       "      <td>0.00000</td>\n",
       "      <td>0.00000</td>\n",
       "      <td>0.10892</td>\n",
       "      <td>0.00000</td>\n",
       "      <td>0.20767</td>\n",
       "      <td>0.05980</td>\n",
       "      <td>0.11030</td>\n",
       "      <td>0.00000</td>\n",
       "      <td>0.25650</td>\n",
       "      <td>0.06063</td>\n",
       "      <td>0.10947</td>\n",
       "      <td>0.11188</td>\n",
       "      <td>0.06166</td>\n",
       "      <td>0.33685</td>\n",
       "      <td>0.15884</td>\n",
       "      <td>0.00000</td>\n",
       "    </tr>\n",
       "    <tr>\n",
       "      <td>Max</td>\n",
       "      <td>0.00000</td>\n",
       "      <td>0.00000</td>\n",
       "      <td>0.00000</td>\n",
       "      <td>0.00000</td>\n",
       "      <td>0.00000</td>\n",
       "      <td>0.17167</td>\n",
       "      <td>0.00000</td>\n",
       "      <td>0.06029</td>\n",
       "      <td>0.00000</td>\n",
       "      <td>0.00000</td>\n",
       "      <td>0.16223</td>\n",
       "      <td>0.20712</td>\n",
       "      <td>0.00000</td>\n",
       "      <td>0.00000</td>\n",
       "      <td>0.11762</td>\n",
       "      <td>0.05950</td>\n",
       "      <td>0.16132</td>\n",
       "      <td>0.20796</td>\n",
       "      <td>0.00000</td>\n",
       "      <td>0.11025</td>\n",
       "    </tr>\n",
       "    <tr>\n",
       "      <td>Nathan</td>\n",
       "      <td>0.11650</td>\n",
       "      <td>0.10874</td>\n",
       "      <td>0.25652</td>\n",
       "      <td>0.00000</td>\n",
       "      <td>0.06089</td>\n",
       "      <td>0.25689</td>\n",
       "      <td>0.00000</td>\n",
       "      <td>0.10968</td>\n",
       "      <td>0.16016</td>\n",
       "      <td>0.00000</td>\n",
       "      <td>0.20845</td>\n",
       "      <td>0.16051</td>\n",
       "      <td>0.00000</td>\n",
       "      <td>0.00000</td>\n",
       "      <td>0.16364</td>\n",
       "      <td>0.00000</td>\n",
       "      <td>0.16069</td>\n",
       "      <td>0.17129</td>\n",
       "      <td>0.00000</td>\n",
       "      <td>0.25523</td>\n",
       "    </tr>\n",
       "    <tr>\n",
       "      <td>Olivia</td>\n",
       "      <td>0.11041</td>\n",
       "      <td>0.16551</td>\n",
       "      <td>0.16001</td>\n",
       "      <td>0.00000</td>\n",
       "      <td>0.06003</td>\n",
       "      <td>0.30413</td>\n",
       "      <td>0.00000</td>\n",
       "      <td>0.21524</td>\n",
       "      <td>0.16184</td>\n",
       "      <td>0.34215</td>\n",
       "      <td>0.16402</td>\n",
       "      <td>0.00000</td>\n",
       "      <td>0.11876</td>\n",
       "      <td>0.00000</td>\n",
       "      <td>0.00000</td>\n",
       "      <td>0.11114</td>\n",
       "      <td>0.00000</td>\n",
       "      <td>0.16541</td>\n",
       "      <td>0.10933</td>\n",
       "      <td>0.00000</td>\n",
       "    </tr>\n",
       "    <tr>\n",
       "      <td>Poppy</td>\n",
       "      <td>0.00000</td>\n",
       "      <td>0.06167</td>\n",
       "      <td>0.29916</td>\n",
       "      <td>0.00000</td>\n",
       "      <td>0.00000</td>\n",
       "      <td>0.50078</td>\n",
       "      <td>0.06046</td>\n",
       "      <td>0.25693</td>\n",
       "      <td>0.06083</td>\n",
       "      <td>0.16177</td>\n",
       "      <td>0.06031</td>\n",
       "      <td>0.21011</td>\n",
       "      <td>0.16032</td>\n",
       "      <td>0.00000</td>\n",
       "      <td>0.00000</td>\n",
       "      <td>0.00000</td>\n",
       "      <td>0.00000</td>\n",
       "      <td>0.26371</td>\n",
       "      <td>0.06050</td>\n",
       "      <td>0.20882</td>\n",
       "    </tr>\n",
       "    <tr>\n",
       "      <td>Quinn</td>\n",
       "      <td>0.00000</td>\n",
       "      <td>0.21406</td>\n",
       "      <td>0.06129</td>\n",
       "      <td>0.16504</td>\n",
       "      <td>0.00000</td>\n",
       "      <td>0.44819</td>\n",
       "      <td>0.16572</td>\n",
       "      <td>0.26093</td>\n",
       "      <td>0.11560</td>\n",
       "      <td>0.06127</td>\n",
       "      <td>0.21185</td>\n",
       "      <td>0.11089</td>\n",
       "      <td>0.21019</td>\n",
       "      <td>0.06035</td>\n",
       "      <td>0.00000</td>\n",
       "      <td>0.00000</td>\n",
       "      <td>0.00000</td>\n",
       "      <td>0.44981</td>\n",
       "      <td>0.00000</td>\n",
       "      <td>0.00000</td>\n",
       "    </tr>\n",
       "    <tr>\n",
       "      <td>Rory</td>\n",
       "      <td>0.41534</td>\n",
       "      <td>0.16023</td>\n",
       "      <td>0.11539</td>\n",
       "      <td>0.29610</td>\n",
       "      <td>0.25408</td>\n",
       "      <td>0.11110</td>\n",
       "      <td>0.05992</td>\n",
       "      <td>0.20910</td>\n",
       "      <td>0.21040</td>\n",
       "      <td>0.40971</td>\n",
       "      <td>0.00000</td>\n",
       "      <td>0.33765</td>\n",
       "      <td>0.21036</td>\n",
       "      <td>0.11835</td>\n",
       "      <td>0.16517</td>\n",
       "      <td>0.29722</td>\n",
       "      <td>0.44495</td>\n",
       "      <td>0.00000</td>\n",
       "      <td>0.25266</td>\n",
       "      <td>0.34308</td>\n",
       "    </tr>\n",
       "    <tr>\n",
       "      <td>Sophie</td>\n",
       "      <td>0.10937</td>\n",
       "      <td>0.06019</td>\n",
       "      <td>0.16222</td>\n",
       "      <td>0.16034</td>\n",
       "      <td>0.00000</td>\n",
       "      <td>0.21156</td>\n",
       "      <td>0.00000</td>\n",
       "      <td>0.21280</td>\n",
       "      <td>0.05983</td>\n",
       "      <td>0.00000</td>\n",
       "      <td>0.06013</td>\n",
       "      <td>0.25170</td>\n",
       "      <td>0.00000</td>\n",
       "      <td>0.00000</td>\n",
       "      <td>0.05916</td>\n",
       "      <td>0.06057</td>\n",
       "      <td>0.00000</td>\n",
       "      <td>0.20763</td>\n",
       "      <td>0.00000</td>\n",
       "      <td>0.10917</td>\n",
       "    </tr>\n",
       "    <tr>\n",
       "      <td>Thomas</td>\n",
       "      <td>0.06100</td>\n",
       "      <td>0.21376</td>\n",
       "      <td>0.33694</td>\n",
       "      <td>0.00000</td>\n",
       "      <td>0.00000</td>\n",
       "      <td>0.53008</td>\n",
       "      <td>0.06024</td>\n",
       "      <td>0.10903</td>\n",
       "      <td>0.11641</td>\n",
       "      <td>0.10958</td>\n",
       "      <td>0.10872</td>\n",
       "      <td>0.00000</td>\n",
       "      <td>0.10940</td>\n",
       "      <td>0.16046</td>\n",
       "      <td>0.00000</td>\n",
       "      <td>0.06083</td>\n",
       "      <td>0.00000</td>\n",
       "      <td>0.29939</td>\n",
       "      <td>0.10780</td>\n",
       "      <td>0.00000</td>\n",
       "    </tr>\n",
       "  </tbody>\n",
       "</table>\n",
       "</div>"
      ],
      "text/plain": [
       "player     Alice      Bob    Colby    Dylan    Emily    Faith    Grace  \\\n",
       "without                                                                  \n",
       "Alice    0.00000  0.11075  0.06096  0.06085  0.06123  0.21259  0.10973   \n",
       "Bob      0.00000  0.00000  0.21241  0.30437  0.16069  0.06080  0.21133   \n",
       "Colby    0.06036  0.25658  0.00000  0.06026  0.05930  0.21060  0.20824   \n",
       "Dylan    0.16187  0.33732  0.21248  0.00000  0.00000  0.16919  0.11067   \n",
       "Emily    0.06079  0.10818  0.16496  0.00000  0.00000  0.37108  0.00000   \n",
       "Faith    0.26016  0.20828  0.29728  0.21978  0.37763  0.00000  0.33562   \n",
       "Grace    0.06150  0.29685  0.16250  0.16074  0.06011  0.21137  0.00000   \n",
       "Harris   0.21116  0.44379  0.15965  0.00000  0.16601  0.10951  0.16167   \n",
       "Isla     0.00000  0.00000  0.00000  0.29707  0.06144  0.20925  0.25425   \n",
       "Jack     0.06054  0.00000  0.06030  0.06099  0.20943  0.21420  0.21131   \n",
       "Kai      0.37802  0.05954  0.11973  0.00000  0.30086  0.06037  0.25358   \n",
       "Logan    0.00000  0.33313  0.15910  0.00000  0.00000  0.00000  0.10892   \n",
       "Max      0.00000  0.00000  0.00000  0.00000  0.00000  0.17167  0.00000   \n",
       "Nathan   0.11650  0.10874  0.25652  0.00000  0.06089  0.25689  0.00000   \n",
       "Olivia   0.11041  0.16551  0.16001  0.00000  0.06003  0.30413  0.00000   \n",
       "Poppy    0.00000  0.06167  0.29916  0.00000  0.00000  0.50078  0.06046   \n",
       "Quinn    0.00000  0.21406  0.06129  0.16504  0.00000  0.44819  0.16572   \n",
       "Rory     0.41534  0.16023  0.11539  0.29610  0.25408  0.11110  0.05992   \n",
       "Sophie   0.10937  0.06019  0.16222  0.16034  0.00000  0.21156  0.00000   \n",
       "Thomas   0.06100  0.21376  0.33694  0.00000  0.00000  0.53008  0.06024   \n",
       "\n",
       "player    Harris     Isla     Jack      Kai    Logan      Max   Nathan  \\\n",
       "without                                                                  \n",
       "Alice    0.11803  0.11077  0.00000  0.25945  0.16022  0.10978  0.06002   \n",
       "Bob      0.41162  0.00000  0.00000  0.29324  0.41159  0.00000  0.05992   \n",
       "Colby    0.15907  0.10922  0.00000  0.25417  0.16007  0.00000  0.20836   \n",
       "Dylan    0.00000  0.25408  0.00000  0.00000  0.00000  0.00000  0.06052   \n",
       "Emily    0.06020  0.00000  0.20690  0.16361  0.00000  0.00000  0.06109   \n",
       "Faith    0.21175  0.20666  0.20984  0.06179  0.00000  0.25672  0.29557   \n",
       "Grace    0.16168  0.25211  0.21205  0.21059  0.16075  0.00000  0.00000   \n",
       "Harris   0.00000  0.29770  0.06043  0.00000  0.00000  0.05976  0.15977   \n",
       "Isla     0.37931  0.00000  0.00000  0.20997  0.21002  0.00000  0.06086   \n",
       "Jack     0.10994  0.00000  0.00000  0.06104  0.06107  0.00000  0.21077   \n",
       "Kai      0.05994  0.05967  0.00000  0.00000  0.11140  0.16175  0.16068   \n",
       "Logan    0.00000  0.20767  0.05980  0.11030  0.00000  0.25650  0.06063   \n",
       "Max      0.06029  0.00000  0.00000  0.16223  0.20712  0.00000  0.00000   \n",
       "Nathan   0.10968  0.16016  0.00000  0.20845  0.16051  0.00000  0.00000   \n",
       "Olivia   0.21524  0.16184  0.34215  0.16402  0.00000  0.11876  0.00000   \n",
       "Poppy    0.25693  0.06083  0.16177  0.06031  0.21011  0.16032  0.00000   \n",
       "Quinn    0.26093  0.11560  0.06127  0.21185  0.11089  0.21019  0.06035   \n",
       "Rory     0.20910  0.21040  0.40971  0.00000  0.33765  0.21036  0.11835   \n",
       "Sophie   0.21280  0.05983  0.00000  0.06013  0.25170  0.00000  0.00000   \n",
       "Thomas   0.10903  0.11641  0.10958  0.10872  0.00000  0.10940  0.16046   \n",
       "\n",
       "player    Olivia    Poppy    Quinn     Rory   Sophie   Thomas  \n",
       "without                                                        \n",
       "Alice    0.00000  0.00000  0.00000  0.29988  0.10939  0.21000  \n",
       "Bob      0.16455  0.00000  0.06150  0.29352  0.00000  0.25898  \n",
       "Colby    0.06031  0.30061  0.00000  0.21020  0.25412  0.26032  \n",
       "Dylan    0.00000  0.06188  0.21179  0.16092  0.25390  0.11005  \n",
       "Emily    0.00000  0.00000  0.00000  0.15967  0.00000  0.00000  \n",
       "Faith    0.33571  0.47471  0.44760  0.11057  0.17114  0.52855  \n",
       "Grace    0.00000  0.06036  0.06097  0.16396  0.00000  0.05869  \n",
       "Harris   0.11640  0.20965  0.20803  0.16190  0.16620  0.10898  \n",
       "Isla     0.17035  0.00000  0.06032  0.20992  0.10997  0.11488  \n",
       "Jack     0.34364  0.16112  0.06179  0.29663  0.00000  0.10881  \n",
       "Kai      0.29740  0.11433  0.30107  0.00000  0.15995  0.25149  \n",
       "Logan    0.10947  0.11188  0.06166  0.33685  0.15884  0.00000  \n",
       "Max      0.11762  0.05950  0.16132  0.20796  0.00000  0.11025  \n",
       "Nathan   0.16364  0.00000  0.16069  0.17129  0.00000  0.25523  \n",
       "Olivia   0.00000  0.11114  0.00000  0.16541  0.10933  0.00000  \n",
       "Poppy    0.00000  0.00000  0.00000  0.26371  0.06050  0.20882  \n",
       "Quinn    0.00000  0.00000  0.00000  0.44981  0.00000  0.00000  \n",
       "Rory     0.16517  0.29722  0.44495  0.00000  0.25266  0.34308  \n",
       "Sophie   0.05916  0.06057  0.00000  0.20763  0.00000  0.10917  \n",
       "Thomas   0.00000  0.06083  0.00000  0.29939  0.10780  0.00000  "
      ]
     },
     "execution_count": 36,
     "metadata": {},
     "output_type": "execute_result"
    }
   ],
   "source": [
    "crossdep = dep.pivot_table(index='without', columns='player', values='frequency')\n",
    "crossdep"
   ]
  },
  {
   "cell_type": "code",
   "execution_count": 37,
   "metadata": {},
   "outputs": [
    {
     "data": {
      "text/plain": [
       "<matplotlib.axes._subplots.AxesSubplot at 0x166942de088>"
      ]
     },
     "execution_count": 37,
     "metadata": {},
     "output_type": "execute_result"
    },
    {
     "data": {
      "image/png": "[encoded data removed]",
      "text/plain": [
       "<Figure size 1080x720 with 2 Axes>"
      ]
     },
     "metadata": {
      "needs_background": "light"
     },
     "output_type": "display_data"
    }
   ],
   "source": [
    "fig, axe = plt.subplots(figsize=(15,10))\n",
    "sns.heatmap(crossdep, annot=True, ax=axe, vmin=0, vmax=0.6, cmap='jet')"
   ]
  },
  {
   "cell_type": "code",
   "execution_count": 38,
   "metadata": {},
   "outputs": [
    {
     "data": {
      "text/html": [
       "<div>\n",
       "<style scoped>\n",
       "    .dataframe tbody tr th:only-of-type {\n",
       "        vertical-align: middle;\n",
       "    }\n",
       "\n",
       "    .dataframe tbody tr th {\n",
       "        vertical-align: top;\n",
       "    }\n",
       "\n",
       "    .dataframe thead th {\n",
       "        text-align: right;\n",
       "    }\n",
       "</style>\n",
       "<table border=\"1\" class=\"dataframe\">\n",
       "  <thead>\n",
       "    <tr style=\"text-align: right;\">\n",
       "      <th></th>\n",
       "      <th>count</th>\n",
       "      <th>frequency</th>\n",
       "    </tr>\n",
       "  </thead>\n",
       "  <tbody>\n",
       "    <tr>\n",
       "      <td>count</td>\n",
       "      <td>400.000000</td>\n",
       "      <td>400.000000</td>\n",
       "    </tr>\n",
       "    <tr>\n",
       "      <td>mean</td>\n",
       "      <td>12478.460000</td>\n",
       "      <td>0.124785</td>\n",
       "    </tr>\n",
       "    <tr>\n",
       "      <td>std</td>\n",
       "      <td>11986.163237</td>\n",
       "      <td>0.119862</td>\n",
       "    </tr>\n",
       "    <tr>\n",
       "      <td>min</td>\n",
       "      <td>0.000000</td>\n",
       "      <td>0.000000</td>\n",
       "    </tr>\n",
       "    <tr>\n",
       "      <td>25%</td>\n",
       "      <td>0.000000</td>\n",
       "      <td>0.000000</td>\n",
       "    </tr>\n",
       "    <tr>\n",
       "      <td>50%</td>\n",
       "      <td>10954.500000</td>\n",
       "      <td>0.109545</td>\n",
       "    </tr>\n",
       "    <tr>\n",
       "      <td>75%</td>\n",
       "      <td>20986.000000</td>\n",
       "      <td>0.209860</td>\n",
       "    </tr>\n",
       "    <tr>\n",
       "      <td>max</td>\n",
       "      <td>53008.000000</td>\n",
       "      <td>0.530080</td>\n",
       "    </tr>\n",
       "  </tbody>\n",
       "</table>\n",
       "</div>"
      ],
      "text/plain": [
       "              count   frequency\n",
       "count    400.000000  400.000000\n",
       "mean   12478.460000    0.124785\n",
       "std    11986.163237    0.119862\n",
       "min        0.000000    0.000000\n",
       "25%        0.000000    0.000000\n",
       "50%    10954.500000    0.109545\n",
       "75%    20986.000000    0.209860\n",
       "max    53008.000000    0.530080"
      ]
     },
     "execution_count": 38,
     "metadata": {},
     "output_type": "execute_result"
    }
   ],
   "source": [
    "dep.describe()"
   ]
  },
  {
   "cell_type": "code",
   "execution_count": 39,
   "metadata": {},
   "outputs": [
    {
     "data": {
      "text/plain": [
       "array([[1, 0, 0, 0, 0, 0, 0, 0, 0, 1, 0, 0, 0, 0, 1, 1, 1, 0, 0, 0],\n",
       "       [1, 1, 0, 0, 0, 0, 0, 0, 1, 1, 0, 0, 1, 0, 0, 1, 0, 0, 1, 0],\n",
       "       [0, 0, 1, 0, 0, 0, 0, 0, 0, 1, 0, 0, 1, 0, 0, 0, 1, 0, 0, 0],\n",
       "       [0, 0, 0, 1, 1, 0, 0, 1, 0, 1, 1, 1, 1, 0, 1, 0, 0, 0, 0, 0],\n",
       "       [0, 0, 0, 1, 1, 0, 1, 0, 1, 0, 0, 1, 1, 0, 1, 1, 1, 0, 1, 1],\n",
       "       [0, 0, 0, 0, 0, 1, 0, 0, 0, 0, 0, 1, 0, 0, 0, 0, 0, 0, 0, 0],\n",
       "       [0, 0, 0, 0, 0, 0, 1, 0, 0, 0, 0, 0, 1, 1, 1, 0, 0, 0, 1, 0],\n",
       "       [0, 0, 0, 1, 0, 0, 0, 1, 0, 0, 1, 1, 0, 0, 0, 0, 0, 0, 0, 0],\n",
       "       [1, 1, 1, 0, 0, 0, 0, 0, 1, 1, 0, 0, 1, 0, 0, 1, 0, 0, 0, 0],\n",
       "       [0, 1, 0, 0, 0, 0, 0, 0, 1, 1, 0, 0, 1, 0, 0, 0, 0, 0, 1, 0],\n",
       "       [0, 0, 0, 1, 0, 0, 0, 0, 0, 1, 1, 0, 0, 0, 0, 0, 0, 1, 0, 0],\n",
       "       [1, 0, 0, 1, 1, 1, 0, 1, 0, 0, 0, 1, 0, 0, 0, 0, 0, 0, 0, 1],\n",
       "       [1, 1, 1, 1, 1, 0, 1, 0, 1, 1, 0, 0, 1, 1, 0, 0, 0, 0, 1, 0],\n",
       "       [0, 0, 0, 1, 0, 0, 1, 0, 0, 1, 0, 0, 1, 1, 0, 1, 0, 0, 1, 0],\n",
       "       [0, 0, 0, 1, 0, 0, 1, 0, 0, 0, 0, 1, 0, 1, 1, 0, 1, 0, 0, 1],\n",
       "       [1, 0, 0, 1, 1, 0, 0, 0, 0, 0, 0, 0, 0, 1, 1, 1, 1, 0, 0, 0],\n",
       "       [1, 0, 0, 0, 1, 0, 0, 0, 0, 0, 0, 0, 0, 0, 1, 1, 1, 0, 1, 1],\n",
       "       [0, 0, 0, 0, 0, 0, 0, 0, 0, 0, 1, 0, 0, 0, 0, 0, 0, 1, 0, 0],\n",
       "       [0, 0, 0, 0, 1, 0, 1, 0, 0, 1, 0, 0, 1, 1, 0, 0, 1, 0, 1, 0],\n",
       "       [0, 0, 0, 1, 1, 0, 0, 0, 0, 0, 0, 1, 0, 0, 1, 0, 1, 0, 0, 1]])"
      ]
     },
     "execution_count": 39,
     "metadata": {},
     "output_type": "execute_result"
    }
   ],
   "source": [
    "Gm = (crossdep.values == 0).astype(int)\n",
    "Gm"
   ]
  },
  {
   "cell_type": "code",
   "execution_count": 40,
   "metadata": {},
   "outputs": [],
   "source": [
    "import networkx as nx"
   ]
  },
  {
   "cell_type": "code",
   "execution_count": 41,
   "metadata": {},
   "outputs": [],
   "source": [
    "G = nx.from_numpy_matrix(Gm, create_using=nx.DiGraph)"
   ]
  },
  {
   "cell_type": "code",
   "execution_count": 42,
   "metadata": {},
   "outputs": [],
   "source": [
    "G = nx.relabel.relabel_nodes(G, {i:k for i, k in enumerate(crossdep.index)} )"
   ]
  },
  {
   "cell_type": "code",
   "execution_count": 43,
   "metadata": {},
   "outputs": [],
   "source": [
    "posa = nx.circular_layout(G)"
   ]
  },
  {
   "cell_type": "code",
   "execution_count": 44,
   "metadata": {},
   "outputs": [
    {
     "data": {
      "image/png": "[encoded data removed]",
      "text/plain": [
       "<Figure size 720x432 with 1 Axes>"
      ]
     },
     "metadata": {},
     "output_type": "display_data"
    }
   ],
   "source": [
    "fig, axe = plt.subplots(figsize=(10, 6))\n",
    "nx.draw_networkx(G, posa, ax=axe)"
   ]
  },
  {
   "cell_type": "code",
   "execution_count": 45,
   "metadata": {},
   "outputs": [],
   "source": [
    "posb = nx.spring_layout(G, seed=10)"
   ]
  },
  {
   "cell_type": "code",
   "execution_count": 46,
   "metadata": {},
   "outputs": [
    {
     "data": {
      "image/png": "[encoded data removed]",
      "text/plain": [
       "<Figure size 720x432 with 1 Axes>"
      ]
     },
     "metadata": {},
     "output_type": "display_data"
    }
   ],
   "source": [
    "fig, axe = plt.subplots(figsize=(10, 6))\n",
    "nx.draw_networkx(G, posb, ax=axe)"
   ]
  },
  {
   "cell_type": "code",
   "execution_count": null,
   "metadata": {},
   "outputs": [],
   "source": []
  },
  {
   "cell_type": "code",
   "execution_count": 47,
   "metadata": {},
   "outputs": [
    {
     "data": {
      "text/plain": [
       "array([[0.     , 0.11075, 0.06096, 0.06085, 0.06123, 0.21259, 0.10973,\n",
       "        0.11803, 0.11077, 0.     , 0.25945, 0.16022, 0.10978, 0.06002,\n",
       "        0.     , 0.     , 0.     , 0.29988, 0.10939, 0.21   ],\n",
       "       [0.     , 0.     , 0.21241, 0.30437, 0.16069, 0.0608 , 0.21133,\n",
       "        0.41162, 0.     , 0.     , 0.29324, 0.41159, 0.     , 0.05992,\n",
       "        0.16455, 0.     , 0.0615 , 0.29352, 0.     , 0.25898],\n",
       "       [0.06036, 0.25658, 0.     , 0.06026, 0.0593 , 0.2106 , 0.20824,\n",
       "        0.15907, 0.10922, 0.     , 0.25417, 0.16007, 0.     , 0.20836,\n",
       "        0.06031, 0.30061, 0.     , 0.2102 , 0.25412, 0.26032],\n",
       "       [0.16187, 0.33732, 0.21248, 0.     , 0.     , 0.16919, 0.11067,\n",
       "        0.     , 0.25408, 0.     , 0.     , 0.     , 0.     , 0.06052,\n",
       "        0.     , 0.06188, 0.21179, 0.16092, 0.2539 , 0.11005],\n",
       "       [0.06079, 0.10818, 0.16496, 0.     , 0.     , 0.37108, 0.     ,\n",
       "        0.0602 , 0.     , 0.2069 , 0.16361, 0.     , 0.     , 0.06109,\n",
       "        0.     , 0.     , 0.     , 0.15967, 0.     , 0.     ],\n",
       "       [0.26016, 0.20828, 0.29728, 0.21978, 0.37763, 0.     , 0.33562,\n",
       "        0.21175, 0.20666, 0.20984, 0.06179, 0.     , 0.25672, 0.29557,\n",
       "        0.33571, 0.47471, 0.4476 , 0.11057, 0.17114, 0.52855],\n",
       "       [0.0615 , 0.29685, 0.1625 , 0.16074, 0.06011, 0.21137, 0.     ,\n",
       "        0.16168, 0.25211, 0.21205, 0.21059, 0.16075, 0.     , 0.     ,\n",
       "        0.     , 0.06036, 0.06097, 0.16396, 0.     , 0.05869],\n",
       "       [0.21116, 0.44379, 0.15965, 0.     , 0.16601, 0.10951, 0.16167,\n",
       "        0.     , 0.2977 , 0.06043, 0.     , 0.     , 0.05976, 0.15977,\n",
       "        0.1164 , 0.20965, 0.20803, 0.1619 , 0.1662 , 0.10898],\n",
       "       [0.     , 0.     , 0.     , 0.29707, 0.06144, 0.20925, 0.25425,\n",
       "        0.37931, 0.     , 0.     , 0.20997, 0.21002, 0.     , 0.06086,\n",
       "        0.17035, 0.     , 0.06032, 0.20992, 0.10997, 0.11488],\n",
       "       [0.06054, 0.     , 0.0603 , 0.06099, 0.20943, 0.2142 , 0.21131,\n",
       "        0.10994, 0.     , 0.     , 0.06104, 0.06107, 0.     , 0.21077,\n",
       "        0.34364, 0.16112, 0.06179, 0.29663, 0.     , 0.10881],\n",
       "       [0.37802, 0.05954, 0.11973, 0.     , 0.30086, 0.06037, 0.25358,\n",
       "        0.05994, 0.05967, 0.     , 0.     , 0.1114 , 0.16175, 0.16068,\n",
       "        0.2974 , 0.11433, 0.30107, 0.     , 0.15995, 0.25149],\n",
       "       [0.     , 0.33313, 0.1591 , 0.     , 0.     , 0.     , 0.10892,\n",
       "        0.     , 0.20767, 0.0598 , 0.1103 , 0.     , 0.2565 , 0.06063,\n",
       "        0.10947, 0.11188, 0.06166, 0.33685, 0.15884, 0.     ],\n",
       "       [0.     , 0.     , 0.     , 0.     , 0.     , 0.17167, 0.     ,\n",
       "        0.06029, 0.     , 0.     , 0.16223, 0.20712, 0.     , 0.     ,\n",
       "        0.11762, 0.0595 , 0.16132, 0.20796, 0.     , 0.11025],\n",
       "       [0.1165 , 0.10874, 0.25652, 0.     , 0.06089, 0.25689, 0.     ,\n",
       "        0.10968, 0.16016, 0.     , 0.20845, 0.16051, 0.     , 0.     ,\n",
       "        0.16364, 0.     , 0.16069, 0.17129, 0.     , 0.25523],\n",
       "       [0.11041, 0.16551, 0.16001, 0.     , 0.06003, 0.30413, 0.     ,\n",
       "        0.21524, 0.16184, 0.34215, 0.16402, 0.     , 0.11876, 0.     ,\n",
       "        0.     , 0.11114, 0.     , 0.16541, 0.10933, 0.     ],\n",
       "       [0.     , 0.06167, 0.29916, 0.     , 0.     , 0.50078, 0.06046,\n",
       "        0.25693, 0.06083, 0.16177, 0.06031, 0.21011, 0.16032, 0.     ,\n",
       "        0.     , 0.     , 0.     , 0.26371, 0.0605 , 0.20882],\n",
       "       [0.     , 0.21406, 0.06129, 0.16504, 0.     , 0.44819, 0.16572,\n",
       "        0.26093, 0.1156 , 0.06127, 0.21185, 0.11089, 0.21019, 0.06035,\n",
       "        0.     , 0.     , 0.     , 0.44981, 0.     , 0.     ],\n",
       "       [0.41534, 0.16023, 0.11539, 0.2961 , 0.25408, 0.1111 , 0.05992,\n",
       "        0.2091 , 0.2104 , 0.40971, 0.     , 0.33765, 0.21036, 0.11835,\n",
       "        0.16517, 0.29722, 0.44495, 0.     , 0.25266, 0.34308],\n",
       "       [0.10937, 0.06019, 0.16222, 0.16034, 0.     , 0.21156, 0.     ,\n",
       "        0.2128 , 0.05983, 0.     , 0.06013, 0.2517 , 0.     , 0.     ,\n",
       "        0.05916, 0.06057, 0.     , 0.20763, 0.     , 0.10917],\n",
       "       [0.061  , 0.21376, 0.33694, 0.     , 0.     , 0.53008, 0.06024,\n",
       "        0.10903, 0.11641, 0.10958, 0.10872, 0.     , 0.1094 , 0.16046,\n",
       "        0.     , 0.06083, 0.     , 0.29939, 0.1078 , 0.     ]])"
      ]
     },
     "execution_count": 47,
     "metadata": {},
     "output_type": "execute_result"
    }
   ],
   "source": [
    "crossdep.values"
   ]
  },
  {
   "cell_type": "code",
   "execution_count": null,
   "metadata": {},
   "outputs": [],
   "source": []
  },
  {
   "cell_type": "code",
   "execution_count": null,
   "metadata": {},
   "outputs": [],
   "source": []
  },
  {
   "cell_type": "code",
   "execution_count": null,
   "metadata": {},
   "outputs": [],
   "source": []
  },
  {
   "cell_type": "code",
   "execution_count": 48,
   "metadata": {},
   "outputs": [],
   "source": [
    "A = matrix(data[\"Alice\"])\n",
    "B = matrix(data[\"Bob\"])"
   ]
  },
  {
   "cell_type": "code",
   "execution_count": 49,
   "metadata": {},
   "outputs": [],
   "source": [
    "def gen_combo(m):\n",
    "    for k in range(5):\n",
    "        yield m[:,k]\n",
    "    for k in range(5):\n",
    "        yield m[k,:]\n",
    "    yield np.diag(m)\n",
    "    yield np.array(list(reversed(np.diag(np.fliplr(m)))))"
   ]
  },
  {
   "cell_type": "code",
   "execution_count": 50,
   "metadata": {},
   "outputs": [
    {
     "data": {
      "text/plain": [
       "array([[ 2, 19, 34, 47, 61],\n",
       "       [ 3, 23, 37, 48, 64],\n",
       "       [10, 24,  0, 53, 68],\n",
       "       [12, 25, 41, 56, 72],\n",
       "       [15, 30, 43, 57, 73]])"
      ]
     },
     "execution_count": 50,
     "metadata": {},
     "output_type": "execute_result"
    }
   ],
   "source": [
    "A"
   ]
  },
  {
   "cell_type": "code",
   "execution_count": 51,
   "metadata": {},
   "outputs": [
    {
     "data": {
      "text/plain": [
       "[array([ 2,  3, 10, 12, 15]),\n",
       " array([19, 23, 24, 25, 30]),\n",
       " array([34, 37,  0, 41, 43]),\n",
       " array([47, 48, 53, 56, 57]),\n",
       " array([61, 64, 68, 72, 73]),\n",
       " array([ 2, 19, 34, 47, 61]),\n",
       " array([ 3, 23, 37, 48, 64]),\n",
       " array([10, 24,  0, 53, 68]),\n",
       " array([12, 25, 41, 56, 72]),\n",
       " array([15, 30, 43, 57, 73]),\n",
       " array([ 2, 23,  0, 56, 73]),\n",
       " array([15, 25,  0, 48, 61])]"
      ]
     },
     "execution_count": 51,
     "metadata": {},
     "output_type": "execute_result"
    }
   ],
   "source": [
    "list(gen_combo(A))"
   ]
  },
  {
   "cell_type": "code",
   "execution_count": 52,
   "metadata": {},
   "outputs": [
    {
     "data": {
      "text/plain": [
       "array([[ 1, 17, 33, 48, 63],\n",
       "       [ 2, 18, 37, 49, 65],\n",
       "       [ 6, 21,  0, 50, 66],\n",
       "       [12, 23, 39, 52, 67],\n",
       "       [15, 24, 40, 53, 68]])"
      ]
     },
     "execution_count": 52,
     "metadata": {},
     "output_type": "execute_result"
    }
   ],
   "source": [
    "B"
   ]
  },
  {
   "cell_type": "code",
   "execution_count": 53,
   "metadata": {},
   "outputs": [
    {
     "data": {
      "text/plain": [
       "[array([ 1,  2,  6, 12, 15]),\n",
       " array([17, 18, 21, 23, 24]),\n",
       " array([33, 37,  0, 39, 40]),\n",
       " array([48, 49, 50, 52, 53]),\n",
       " array([63, 65, 66, 67, 68]),\n",
       " array([ 1, 17, 33, 48, 63]),\n",
       " array([ 2, 18, 37, 49, 65]),\n",
       " array([ 6, 21,  0, 50, 66]),\n",
       " array([12, 23, 39, 52, 67]),\n",
       " array([15, 24, 40, 53, 68]),\n",
       " array([ 1, 18,  0, 52, 68]),\n",
       " array([15, 23,  0, 49, 63])]"
      ]
     },
     "execution_count": 53,
     "metadata": {},
     "output_type": "execute_result"
    }
   ],
   "source": [
    "list(gen_combo(B))"
   ]
  },
  {
   "cell_type": "code",
   "execution_count": 54,
   "metadata": {},
   "outputs": [],
   "source": [
    "def banned_combo(m, n=0, data=data):\n",
    "    for a in gen_combo(m):\n",
    "        print(a)\n",
    "        a = set(a)\n",
    "        for k in data:\n",
    "            Q = set(data[k]).intersection(a)\n",
    "            if len(Q) == n:\n",
    "                print(k)"
   ]
  },
  {
   "cell_type": "code",
   "execution_count": 55,
   "metadata": {},
   "outputs": [
    {
     "name": "stdout",
     "output_type": "stream",
     "text": [
      "[ 2  3 10 12 15]\n",
      "Faith\n",
      "Harris\n",
      "Kai\n",
      "[19 23 24 25 30]\n",
      "Dylan\n",
      "Nathan\n",
      "Rory\n",
      "[34 37  0 41 43]\n",
      "Kai\n",
      "Rory\n",
      "Sophie\n",
      "[47 48 53 56 57]\n",
      "Thomas\n",
      "[61 64 68 72 73]\n",
      "Faith\n",
      "[ 2 19 34 47 61]\n",
      "Faith\n",
      "Grace\n",
      "Jack\n",
      "Kai\n",
      "Rory\n",
      "[ 3 23 37 48 64]\n",
      "Harris\n",
      "Nathan\n",
      "[10 24  0 53 68]\n",
      "Faith\n",
      "Harris\n",
      "Kai\n",
      "Rory\n",
      "[12 25 41 56 72]\n",
      "Rory\n",
      "[15 30 43 57 73]\n",
      "Colby\n",
      "Emily\n",
      "[ 2 23  0 56 73]\n",
      "Rory\n",
      "[15 25  0 48 61]\n",
      "Dylan\n",
      "Kai\n",
      "Olivia\n"
     ]
    }
   ],
   "source": [
    "banned_combo(A)"
   ]
  },
  {
   "cell_type": "code",
   "execution_count": 56,
   "metadata": {},
   "outputs": [
    {
     "name": "stdout",
     "output_type": "stream",
     "text": [
      "[ 1  2  6 12 15]\n",
      "Colby\n",
      "Faith\n",
      "Kai\n",
      "Rory\n",
      "[17 18 21 23 24]\n",
      "Dylan\n",
      "Grace\n",
      "Harris\n",
      "Logan\n",
      "[33 37  0 39 40]\n",
      "Colby\n",
      "Dylan\n",
      "Emily\n",
      "Grace\n",
      "Harris\n",
      "Olivia\n",
      "Thomas\n",
      "[48 49 50 52 53]\n",
      "Dylan\n",
      "Harris\n",
      "Olivia\n",
      "[63 65 66 67 68]\n",
      "Logan\n",
      "Quinn\n",
      "Thomas\n",
      "[ 1 17 33 48 63]\n",
      "Logan\n",
      "Poppy\n",
      "Quinn\n",
      "[ 2 18 37 49 65]\n",
      "Dylan\n",
      "Grace\n",
      "Harris\n",
      "Sophie\n",
      "Thomas\n",
      "[ 6 21  0 50 66]\n",
      "Alice\n",
      "Harris\n",
      "Quinn\n",
      "[12 23 39 52 67]\n",
      "[15 24 40 53 68]\n",
      "Faith\n",
      "Harris\n",
      "[ 1 18  0 52 68]\n",
      "Colby\n",
      "Faith\n",
      "Logan\n",
      "[15 23  0 49 63]\n",
      "Dylan\n",
      "Grace\n",
      "Harris\n",
      "Logan\n",
      "Nathan\n",
      "Rory\n"
     ]
    }
   ],
   "source": [
    "banned_combo(B)"
   ]
  },
  {
   "cell_type": "code",
   "execution_count": 57,
   "metadata": {},
   "outputs": [
    {
     "name": "stdout",
     "output_type": "stream",
     "text": [
      "[ 1  2  6 12 15]\n",
      "Bob\n",
      "[17 18 21 23 24]\n",
      "Bob\n",
      "Isla\n",
      "[33 37  0 39 40]\n",
      "[48 49 50 52 53]\n",
      "Bob\n",
      "Isla\n",
      "[63 65 66 67 68]\n",
      "Bob\n",
      "[ 1 17 33 48 63]\n",
      "Bob\n",
      "[ 2 18 37 49 65]\n",
      "Bob\n",
      "[ 6 21  0 50 66]\n",
      "[12 23 39 52 67]\n",
      "Bob\n",
      "[15 24 40 53 68]\n",
      "Bob\n",
      "[ 1 18  0 52 68]\n",
      "[15 23  0 49 63]\n"
     ]
    }
   ],
   "source": [
    "banned_combo(B, n=5)"
   ]
  },
  {
   "cell_type": "code",
   "execution_count": null,
   "metadata": {},
   "outputs": [],
   "source": []
  },
  {
   "cell_type": "code",
   "execution_count": 58,
   "metadata": {},
   "outputs": [],
   "source": [
    "import itertools"
   ]
  },
  {
   "cell_type": "code",
   "execution_count": 61,
   "metadata": {},
   "outputs": [
    {
     "name": "stdout",
     "output_type": "stream",
     "text": [
      "('Bob', 'Isla')\n",
      "[17 18 21 23 24] [17 18 21 23 24]\n",
      "('Bob', 'Isla')\n",
      "[48 49 50 52 53] [48 49 50 52 53]\n",
      "('Colby', 'Harris')\n",
      "[34 35  0 42 45] [34 35  0 42 45]\n",
      "('Dylan', 'Harris')\n",
      "[54 55 56 57 58] [54 55 56 57 58]\n",
      "('Jack', 'Max')\n",
      "[48 49 50 52 54] [48 49 50 52 54]\n",
      "('Max', 'Nathan')\n",
      "[61 68 72 73 75] [61 68 72 73 75]\n"
     ]
    }
   ],
   "source": [
    "for p in itertools.combinations(data, 2):\n",
    "    L = matrix(data[p[0]])\n",
    "    R = matrix(data[p[1]])\n",
    "    for (l, r) in zip(gen_combo(L), gen_combo(R)):\n",
    "        if all(l == r):\n",
    "            print(p)\n",
    "            print(l, r)"
   ]
  },
  {
   "cell_type": "code",
   "execution_count": null,
   "metadata": {},
   "outputs": [],
   "source": []
  }
 ],
 "metadata": {
  "kernelspec": {
   "display_name": "Python 3",
   "language": "python",
   "name": "python3"
  },
  "language_info": {
   "codemirror_mode": {
    "name": "ipython",
    "version": 3
   },
   "file_extension": ".py",
   "mimetype": "text/x-python",
   "name": "python",
   "nbconvert_exporter": "python",
   "pygments_lexer": "ipython3",
   "version": "3.7.3"
  }
 },
 "nbformat": 4,
 "nbformat_minor": 2
}
