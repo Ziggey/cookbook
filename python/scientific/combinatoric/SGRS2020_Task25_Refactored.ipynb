{
 "cells": [
  {
   "cell_type": "code",
   "execution_count": 1,
   "metadata": {},
   "outputs": [],
   "source": [
    "import json\n",
    "import numpy as np"
   ]
  },
  {
   "cell_type": "code",
   "execution_count": 2,
   "metadata": {},
   "outputs": [],
   "source": [
    "from bingo import Card, Bingo"
   ]
  },
  {
   "cell_type": "code",
   "execution_count": 3,
   "metadata": {},
   "outputs": [],
   "source": [
    "with open('SGRS2020_Task25_data.json') as fh:\n",
    "    data = json.load(fh)"
   ]
  },
  {
   "cell_type": "code",
   "execution_count": 4,
   "metadata": {},
   "outputs": [
    {
     "data": {
      "text/plain": [
       "<Bingo ['Alice', 'Bob', 'Colby', 'Dylan', 'Emily', 'Faith', 'Grace', 'Harris', 'Isla', 'Jack', 'Kai', 'Logan', 'Max', 'Nathan', 'Olivia', 'Poppy', 'Quinn', 'Rory', 'Sophie', 'Thomas']>"
      ]
     },
     "execution_count": 4,
     "metadata": {},
     "output_type": "execute_result"
    }
   ],
   "source": [
    "game = Bingo(data)\n",
    "game"
   ]
  },
  {
   "cell_type": "code",
   "execution_count": 5,
   "metadata": {},
   "outputs": [
    {
     "data": {
      "text/plain": [
       "{'Alice': <Card:'Alice' (2, 3, 10, 12, 15, 19, 23, 24, 25, 30, 34, 37, 41, 43, 47, 48, 53, 56, 57, 61, 64, 68, 72, 73)>,\n",
       " 'Bob': <Card:'Bob' (1, 2, 6, 12, 15, 17, 18, 21, 23, 24, 33, 37, 39, 40, 48, 49, 50, 52, 53, 63, 65, 66, 67, 68)>,\n",
       " 'Colby': <Card:'Colby' (3, 4, 7, 9, 10, 19, 23, 25, 28, 29, 34, 35, 42, 45, 47, 48, 49, 50, 53, 61, 63, 67, 71, 75)>,\n",
       " 'Dylan': <Card:'Dylan' (1, 3, 6, 8, 12, 22, 26, 27, 28, 29, 34, 36, 41, 42, 54, 55, 56, 57, 58, 68, 70, 71, 74, 75)>,\n",
       " 'Emily': <Card:'Emily' (1, 2, 3, 8, 12, 22, 23, 24, 27, 29, 35, 41, 44, 45, 51, 52, 53, 55, 58, 61, 66, 72, 74, 75)>,\n",
       " 'Faith': <Card:'Faith' (4, 5, 11, 13, 14, 17, 25, 27, 28, 30, 33, 36, 38, 41, 48, 49, 56, 57, 60, 62, 63, 65, 66, 67)>,\n",
       " 'Grace': <Card:'Grace' (1, 3, 6, 10, 12, 25, 26, 27, 29, 30, 32, 38, 43, 44, 48, 55, 56, 58, 59, 64, 68, 69, 73, 75)>,\n",
       " 'Harris': <Card:'Harris' (1, 4, 5, 7, 8, 19, 26, 27, 28, 29, 34, 35, 42, 45, 54, 55, 56, 57, 58, 61, 62, 67, 70, 73)>,\n",
       " 'Isla': <Card:'Isla' (2, 3, 8, 12, 15, 17, 18, 21, 23, 24, 33, 36, 43, 45, 48, 49, 50, 52, 53, 62, 63, 65, 66, 68)>,\n",
       " 'Jack': <Card:'Jack' (1, 6, 8, 10, 15, 18, 23, 25, 28, 29, 33, 37, 39, 42, 48, 49, 50, 52, 54, 62, 63, 66, 71, 73)>,\n",
       " 'Kai': <Card:'Kai' (8, 9, 11, 13, 14, 18, 22, 23, 27, 28, 32, 33, 40, 42, 50, 54, 56, 57, 59, 64, 66, 67, 70, 74)>,\n",
       " 'Logan': <Card:'Logan' (4, 6, 8, 12, 14, 22, 25, 27, 28, 29, 34, 37, 41, 45, 53, 55, 56, 57, 58, 62, 64, 72, 73, 74)>,\n",
       " 'Max': <Card:'Max' (1, 3, 8, 10, 12, 17, 21, 25, 27, 29, 32, 33, 41, 42, 48, 49, 50, 52, 54, 61, 68, 72, 73, 75)>,\n",
       " 'Nathan': <Card:'Nathan' (2, 6, 8, 10, 12, 17, 20, 21, 26, 28, 32, 33, 41, 44, 50, 53, 55, 56, 59, 61, 68, 72, 73, 75)>,\n",
       " 'Olivia': <Card:'Olivia' (1, 2, 3, 6, 12, 22, 23, 24, 28, 30, 34, 38, 41, 43, 51, 57, 58, 59, 60, 64, 68, 69, 72, 75)>,\n",
       " 'Poppy': <Card:'Poppy' (2, 6, 8, 12, 15, 22, 23, 24, 26, 30, 40, 41, 43, 44, 47, 50, 54, 58, 59, 61, 68, 69, 71, 72)>,\n",
       " 'Quinn': <Card:'Quinn' (2, 8, 10, 12, 15, 22, 23, 24, 25, 30, 34, 37, 43, 44, 47, 52, 53, 58, 60, 64, 72, 73, 74, 75)>,\n",
       " 'Rory': <Card:'Rory' (3, 5, 7, 11, 13, 18, 20, 21, 26, 27, 32, 33, 35, 40, 48, 51, 57, 59, 60, 64, 65, 67, 70, 71)>,\n",
       " 'Sophie': <Card:'Sophie' (1, 8, 10, 12, 15, 21, 22, 23, 25, 30, 32, 33, 38, 44, 52, 53, 56, 57, 60, 61, 64, 68, 69, 73)>,\n",
       " 'Thomas': <Card:'Thomas' (1, 6, 8, 12, 15, 19, 21, 22, 23, 24, 34, 36, 43, 45, 51, 52, 54, 55, 58, 64, 70, 73, 74, 75)>}"
      ]
     },
     "execution_count": 5,
     "metadata": {},
     "output_type": "execute_result"
    }
   ],
   "source": [
    "game.cards"
   ]
  },
  {
   "cell_type": "code",
   "execution_count": 6,
   "metadata": {},
   "outputs": [
    {
     "data": {
      "text/plain": [
       "{'A.C0': (2, 3, 10, 12, 15),\n",
       " 'A.C1': (19, 23, 24, 25, 30),\n",
       " 'A.C3': (47, 48, 53, 56, 57),\n",
       " 'A.C4': (61, 64, 68, 72, 73)}"
      ]
     },
     "execution_count": 6,
     "metadata": {},
     "output_type": "execute_result"
    }
   ],
   "source": [
    "game.cards['Alice'].columns(tagged=True)"
   ]
  },
  {
   "cell_type": "code",
   "execution_count": 7,
   "metadata": {},
   "outputs": [
    {
     "data": {
      "text/plain": [
       "{'A.D1S': array([ 2, 23,  0, 56, 73]),\n",
       " 'A.D2S': array([15, 25,  0, 48, 61]),\n",
       " 'A.R2S': array([10, 24,  0, 53, 68]),\n",
       " 'A.C2S': array([34, 37,  0, 41, 43])}"
      ]
     },
     "execution_count": 7,
     "metadata": {},
     "output_type": "execute_result"
    }
   ],
   "source": [
    "game.cards['Alice'].specials(creator=np.array)"
   ]
  },
  {
   "cell_type": "code",
   "execution_count": 8,
   "metadata": {},
   "outputs": [
    {
     "data": {
      "text/plain": [
       "({2, 19, 34, 47, 61},\n",
       " {3, 23, 37, 48, 64},\n",
       " {12, 25, 41, 56, 72},\n",
       " {15, 30, 43, 57, 73},\n",
       " {2, 19, 34, 47, 61},\n",
       " {3, 23, 37, 48, 64},\n",
       " {12, 25, 41, 56, 72},\n",
       " {15, 30, 43, 57, 73},\n",
       " {0, 2, 23, 56, 73},\n",
       " {0, 15, 25, 48, 61},\n",
       " {0, 10, 24, 53, 68},\n",
       " {0, 34, 37, 41, 43})"
      ]
     },
     "execution_count": 8,
     "metadata": {},
     "output_type": "execute_result"
    }
   ],
   "source": [
    "game.cards['Alice'].solutions(tagged=False, creator=set)"
   ]
  },
  {
   "cell_type": "code",
   "execution_count": null,
   "metadata": {},
   "outputs": [],
   "source": []
  },
  {
   "cell_type": "code",
   "execution_count": null,
   "metadata": {},
   "outputs": [],
   "source": []
  },
  {
   "cell_type": "code",
   "execution_count": null,
   "metadata": {},
   "outputs": [],
   "source": []
  },
  {
   "cell_type": "code",
   "execution_count": null,
   "metadata": {},
   "outputs": [],
   "source": []
  }
 ],
 "metadata": {
  "kernelspec": {
   "display_name": "Python 3",
   "language": "python",
   "name": "python3"
  },
  "language_info": {
   "codemirror_mode": {
    "name": "ipython",
    "version": 3
   },
   "file_extension": ".py",
   "mimetype": "text/x-python",
   "name": "python",
   "nbconvert_exporter": "python",
   "pygments_lexer": "ipython3",
   "version": "3.7.3"
  }
 },
 "nbformat": 4,
 "nbformat_minor": 2
}
