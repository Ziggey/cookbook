{
 "cells": [
  {
   "cell_type": "code",
   "execution_count": 19,
   "metadata": {},
   "outputs": [],
   "source": [
    "import json\n",
    "import numpy as np"
   ]
  },
  {
   "cell_type": "code",
   "execution_count": 130,
   "metadata": {},
   "outputs": [],
   "source": [
    "class Card:\n",
    "    \n",
    "    def __init__(self, numbers, name=None, joker=0):\n",
    "        x = np.array(numbers)\n",
    "        assert x.size == 24\n",
    "        assert np.all(x[:-1] <= x[1:])\n",
    "        assert all([np.issubdtype(k, np.integer) for k in x])\n",
    "        self._numbers = tuple(x)\n",
    "        self._name = name\n",
    "        self._joker = joker\n",
    "        self._matrix = None\n",
    "    \n",
    "    def __str__(self):\n",
    "        return \"<Card:'{}' {}>\".format(self._name, self.numbers)\n",
    "    \n",
    "    def __repr__(self):\n",
    "        return str(self)\n",
    "    \n",
    "    @property\n",
    "    def numbers(self):\n",
    "        return self._numbers\n",
    "    \n",
    "    @property\n",
    "    def values(self):\n",
    "        return np.array(self.numbers)\n",
    "    \n",
    "    def spacer(self, numbers):\n",
    "        return list(numbers[:12]) + [self._joker] + list(numbers[12:])\n",
    "\n",
    "    @property\n",
    "    def matrix(self):\n",
    "        if self._matrix is None:\n",
    "            self._matrix = np.array(self.spacer(self.numbers)).reshape((5,5)).T\n",
    "        return self._matrix\n",
    "    \n",
    "    def rows(self, tagged=True, creator=tuple):\n",
    "        if tagged:\n",
    "            return {\"{}.R{}\".format(self._name[0], k): creator(self.matrix[k, :]) for k in [0,1,3,4]}\n",
    "        else:\n",
    "            return tuple([creator(self.matrix[k, :]) for k in [0,1,3,4]])\n",
    "    \n",
    "    def columns(self, tagged=True, creator=tuple):\n",
    "        if tagged:\n",
    "            return {\"{}.C{}\".format(self._name[0], k): creator(self.matrix[:, k]) for k in [0,1,3,4]}\n",
    "        else:\n",
    "            return tuple([creator(self.matrix[k, :]) for k in [0,1,3,4]])\n",
    "        \n",
    "    def specials(self, tagged=True, creator=tuple):\n",
    "        labels = [\"D1S\", \"D2S\", \"R2S\", \"C2S\"]\n",
    "        sols = [\n",
    "            np.diag(self.matrix),\n",
    "            np.array(list(reversed(np.diag(np.fliplr(self.matrix))))),\n",
    "            self.matrix[2,:],\n",
    "            self.matrix[:,2],\n",
    "        ]\n",
    "        if tagged:\n",
    "            return {\"{}.{}\".format(self._name[0], k): creator(sols[i]) for i,k in enumerate(labels) }\n",
    "        else:\n",
    "            return tuple([creator(sol) for sol in sols])\n",
    "\n",
    "    def solutions(self, tagged=True, creator=tuple):\n",
    "        if tagged:\n",
    "            sols = dict()\n",
    "            sols.update(self.rows(creator=creator))\n",
    "            sols.update(self.columns(creator=creator))\n",
    "            sols.update(self.specials(creator=creator))\n",
    "            return sols\n",
    "        else:\n",
    "            sols = []\n",
    "            sols.extend(self.rows(tagged=False, creator=creator))\n",
    "            sols.extend(self.columns(tagged=False, creator=creator))\n",
    "            sols.extend(self.specials(tagged=False, creator=creator))\n",
    "            return tuple(sols)\n",
    "        "
   ]
  },
  {
   "cell_type": "code",
   "execution_count": 131,
   "metadata": {},
   "outputs": [],
   "source": [
    "with open('SGRS2020_Task25_data.json') as fh:\n",
    "    data = json.load(fh)"
   ]
  },
  {
   "cell_type": "code",
   "execution_count": 132,
   "metadata": {},
   "outputs": [
    {
     "data": {
      "text/plain": [
       "{'A': <Card:'Alice' (2, 3, 10, 12, 15, 19, 23, 24, 25, 30, 34, 37, 41, 43, 47, 48, 53, 56, 57, 61, 64, 68, 72, 73)>,\n",
       " 'B': <Card:'Bob' (1, 2, 6, 12, 15, 17, 18, 21, 23, 24, 33, 37, 39, 40, 48, 49, 50, 52, 53, 63, 65, 66, 67, 68)>,\n",
       " 'C': <Card:'Colby' (3, 4, 7, 9, 10, 19, 23, 25, 28, 29, 34, 35, 42, 45, 47, 48, 49, 50, 53, 61, 63, 67, 71, 75)>,\n",
       " 'D': <Card:'Dylan' (1, 3, 6, 8, 12, 22, 26, 27, 28, 29, 34, 36, 41, 42, 54, 55, 56, 57, 58, 68, 70, 71, 74, 75)>,\n",
       " 'E': <Card:'Emily' (1, 2, 3, 8, 12, 22, 23, 24, 27, 29, 35, 41, 44, 45, 51, 52, 53, 55, 58, 61, 66, 72, 74, 75)>,\n",
       " 'F': <Card:'Faith' (4, 5, 11, 13, 14, 17, 25, 27, 28, 30, 33, 36, 38, 41, 48, 49, 56, 57, 60, 62, 63, 65, 66, 67)>,\n",
       " 'G': <Card:'Grace' (1, 3, 6, 10, 12, 25, 26, 27, 29, 30, 32, 38, 43, 44, 48, 55, 56, 58, 59, 64, 68, 69, 73, 75)>,\n",
       " 'H': <Card:'Harris' (1, 4, 5, 7, 8, 19, 26, 27, 28, 29, 34, 35, 42, 45, 54, 55, 56, 57, 58, 61, 62, 67, 70, 73)>,\n",
       " 'I': <Card:'Isla' (2, 3, 8, 12, 15, 17, 18, 21, 23, 24, 33, 36, 43, 45, 48, 49, 50, 52, 53, 62, 63, 65, 66, 68)>,\n",
       " 'J': <Card:'Jack' (1, 6, 8, 10, 15, 18, 23, 25, 28, 29, 33, 37, 39, 42, 48, 49, 50, 52, 54, 62, 63, 66, 71, 73)>,\n",
       " 'K': <Card:'Kai' (8, 9, 11, 13, 14, 18, 22, 23, 27, 28, 32, 33, 40, 42, 50, 54, 56, 57, 59, 64, 66, 67, 70, 74)>,\n",
       " 'L': <Card:'Logan' (4, 6, 8, 12, 14, 22, 25, 27, 28, 29, 34, 37, 41, 45, 53, 55, 56, 57, 58, 62, 64, 72, 73, 74)>,\n",
       " 'M': <Card:'Max' (1, 3, 8, 10, 12, 17, 21, 25, 27, 29, 32, 33, 41, 42, 48, 49, 50, 52, 54, 61, 68, 72, 73, 75)>,\n",
       " 'N': <Card:'Nathan' (2, 6, 8, 10, 12, 17, 20, 21, 26, 28, 32, 33, 41, 44, 50, 53, 55, 56, 59, 61, 68, 72, 73, 75)>,\n",
       " 'O': <Card:'Olivia' (1, 2, 3, 6, 12, 22, 23, 24, 28, 30, 34, 38, 41, 43, 51, 57, 58, 59, 60, 64, 68, 69, 72, 75)>,\n",
       " 'P': <Card:'Poppy' (2, 6, 8, 12, 15, 22, 23, 24, 26, 30, 40, 41, 43, 44, 47, 50, 54, 58, 59, 61, 68, 69, 71, 72)>,\n",
       " 'Q': <Card:'Quinn' (2, 8, 10, 12, 15, 22, 23, 24, 25, 30, 34, 37, 43, 44, 47, 52, 53, 58, 60, 64, 72, 73, 74, 75)>,\n",
       " 'R': <Card:'Rory' (3, 5, 7, 11, 13, 18, 20, 21, 26, 27, 32, 33, 35, 40, 48, 51, 57, 59, 60, 64, 65, 67, 70, 71)>,\n",
       " 'S': <Card:'Sophie' (1, 8, 10, 12, 15, 21, 22, 23, 25, 30, 32, 33, 38, 44, 52, 53, 56, 57, 60, 61, 64, 68, 69, 73)>,\n",
       " 'T': <Card:'Thomas' (1, 6, 8, 12, 15, 19, 21, 22, 23, 24, 34, 36, 43, 45, 51, 52, 54, 55, 58, 64, 70, 73, 74, 75)>}"
      ]
     },
     "execution_count": 132,
     "metadata": {},
     "output_type": "execute_result"
    }
   ],
   "source": [
    "Cards = {k[0]: Card(v, name=k) for (k, v) in data.items()}\n",
    "Cards"
   ]
  },
  {
   "cell_type": "code",
   "execution_count": 133,
   "metadata": {},
   "outputs": [
    {
     "data": {
      "text/plain": [
       "array([[ 2, 19, 34, 47, 61],\n",
       "       [ 3, 23, 37, 48, 64],\n",
       "       [10, 24,  0, 53, 68],\n",
       "       [12, 25, 41, 56, 72],\n",
       "       [15, 30, 43, 57, 73]])"
      ]
     },
     "execution_count": 133,
     "metadata": {},
     "output_type": "execute_result"
    }
   ],
   "source": [
    "Cards['A'].matrix"
   ]
  },
  {
   "cell_type": "code",
   "execution_count": 135,
   "metadata": {},
   "outputs": [
    {
     "data": {
      "text/plain": [
       "{'A.C0': (2, 3, 10, 12, 15),\n",
       " 'A.C1': (19, 23, 24, 25, 30),\n",
       " 'A.C3': (47, 48, 53, 56, 57),\n",
       " 'A.C4': (61, 64, 68, 72, 73)}"
      ]
     },
     "execution_count": 135,
     "metadata": {},
     "output_type": "execute_result"
    }
   ],
   "source": [
    "Cards['A'].columns(tagged=True)"
   ]
  },
  {
   "cell_type": "code",
   "execution_count": 140,
   "metadata": {},
   "outputs": [
    {
     "data": {
      "text/plain": [
       "{'A.D1S': array([ 2, 23,  0, 56, 73]),\n",
       " 'A.D2S': array([15, 25,  0, 48, 61]),\n",
       " 'A.R2S': array([10, 24,  0, 53, 68]),\n",
       " 'A.C2S': array([34, 37,  0, 41, 43])}"
      ]
     },
     "execution_count": 140,
     "metadata": {},
     "output_type": "execute_result"
    }
   ],
   "source": [
    "Cards['A'].specials(creator=np.array)"
   ]
  },
  {
   "cell_type": "code",
   "execution_count": 139,
   "metadata": {},
   "outputs": [
    {
     "data": {
      "text/plain": [
       "({2, 19, 34, 47, 61},\n",
       " {3, 23, 37, 48, 64},\n",
       " {12, 25, 41, 56, 72},\n",
       " {15, 30, 43, 57, 73},\n",
       " {2, 19, 34, 47, 61},\n",
       " {3, 23, 37, 48, 64},\n",
       " {12, 25, 41, 56, 72},\n",
       " {15, 30, 43, 57, 73},\n",
       " {0, 2, 23, 56, 73},\n",
       " {0, 15, 25, 48, 61},\n",
       " {0, 10, 24, 53, 68},\n",
       " {0, 34, 37, 41, 43})"
      ]
     },
     "execution_count": 139,
     "metadata": {},
     "output_type": "execute_result"
    }
   ],
   "source": [
    "Cards['A'].solutions(tagged=False, creator=set)"
   ]
  },
  {
   "cell_type": "code",
   "execution_count": null,
   "metadata": {},
   "outputs": [],
   "source": []
  },
  {
   "cell_type": "code",
   "execution_count": null,
   "metadata": {},
   "outputs": [],
   "source": []
  },
  {
   "cell_type": "code",
   "execution_count": null,
   "metadata": {},
   "outputs": [],
   "source": []
  },
  {
   "cell_type": "code",
   "execution_count": null,
   "metadata": {},
   "outputs": [],
   "source": []
  }
 ],
 "metadata": {
  "kernelspec": {
   "display_name": "Python 3",
   "language": "python",
   "name": "python3"
  },
  "language_info": {
   "codemirror_mode": {
    "name": "ipython",
    "version": 3
   },
   "file_extension": ".py",
   "mimetype": "text/x-python",
   "name": "python",
   "nbconvert_exporter": "python",
   "pygments_lexer": "ipython3",
   "version": "3.7.3"
  }
 },
 "nbformat": 4,
 "nbformat_minor": 2
}
