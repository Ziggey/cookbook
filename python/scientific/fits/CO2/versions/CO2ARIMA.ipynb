{
 "cells": [
  {
   "cell_type": "code",
   "execution_count": 1,
   "metadata": {},
   "outputs": [],
   "source": [
    "import numpy as np\n",
    "import pandas as pd\n",
    "from scipy import stats\n",
    "import matplotlib.pyplot as plt\n",
    "from pandas.plotting import autocorrelation_plot\n",
    "%matplotlib inline"
   ]
  },
  {
   "cell_type": "code",
   "execution_count": 2,
   "metadata": {},
   "outputs": [],
   "source": [
    "import statsmodels.api as sm\n",
    "from statsmodels.tsa.arima_model import ARIMA"
   ]
  },
  {
   "cell_type": "code",
   "execution_count": 3,
   "metadata": {},
   "outputs": [],
   "source": [
    "import io\n",
    "import datetime\n",
    "import urllib.request"
   ]
  },
  {
   "cell_type": "markdown",
   "metadata": {},
   "source": [
    "# Seasonal Decomposition"
   ]
  },
  {
   "cell_type": "markdown",
   "metadata": {},
   "source": [
    "## Trial Data\n",
    "\n",
    "We use the well known [Mauna Loa Carbon Dioxide dataset][1]. Following function fetch the file from ftp:\n",
    "\n",
    "[1]: ftp://aftp.cmdl.noaa.gov/products/trends/co2/co2_weekly_mlo.txt"
   ]
  },
  {
   "cell_type": "code",
   "execution_count": 4,
   "metadata": {},
   "outputs": [],
   "source": [
    "def to_dataframe(fname=None):\n",
    "    \"\"\"\n",
    "    Read Moana Loa CO2 FWF Source File:\n",
    "    \"\"\"\n",
    "    if fname is None:\n",
    "        uri = 'ftp://aftp.cmdl.noaa.gov/products/trends/co2/co2_weekly_mlo.txt'\n",
    "        with urllib.request.urlopen(uri) as response:\n",
    "            lines = response.read().decode().split(\"\\n\")\n",
    "        with open(\"CO2_{:%Y%m%d}.txt\".format(datetime.datetime.utcnow()), 'w') as file:\n",
    "            file.write(\"\\n\".join(lines))\n",
    "    else:\n",
    "        with open(fname) as file:\n",
    "            lines = map(str.strip, file.readlines())\n",
    "    stream = io.StringIO(\"\\n\".join(filter(lambda x: not(x.startswith('#')), lines)))\n",
    "    df = pd.read_fwf(\n",
    "        stream,\n",
    "        header=None, usecols=[0, 1, 2, 4, 5],\n",
    "        names=['year', 'month', 'day', 'value', 'ndays'],\n",
    "        parse_dates={'timestamp': ['year', 'month', 'day']},\n",
    "        index_col='timestamp',\n",
    "        na_values=[-999.99]\n",
    "    )\n",
    "    return df"
   ]
  },
  {
   "cell_type": "code",
   "execution_count": 5,
   "metadata": {},
   "outputs": [
    {
     "data": {
      "text/html": [
       "<div>\n",
       "<style scoped>\n",
       "    .dataframe tbody tr th:only-of-type {\n",
       "        vertical-align: middle;\n",
       "    }\n",
       "\n",
       "    .dataframe tbody tr th {\n",
       "        vertical-align: top;\n",
       "    }\n",
       "\n",
       "    .dataframe thead th {\n",
       "        text-align: right;\n",
       "    }\n",
       "</style>\n",
       "<table border=\"1\" class=\"dataframe\">\n",
       "  <thead>\n",
       "    <tr style=\"text-align: right;\">\n",
       "      <th></th>\n",
       "      <th>value</th>\n",
       "      <th>ndays</th>\n",
       "    </tr>\n",
       "    <tr>\n",
       "      <th>timestamp</th>\n",
       "      <th></th>\n",
       "      <th></th>\n",
       "    </tr>\n",
       "  </thead>\n",
       "  <tbody>\n",
       "    <tr>\n",
       "      <th>1974-05-19</th>\n",
       "      <td>333.34</td>\n",
       "      <td>6</td>\n",
       "    </tr>\n",
       "    <tr>\n",
       "      <th>1974-05-26</th>\n",
       "      <td>332.95</td>\n",
       "      <td>6</td>\n",
       "    </tr>\n",
       "    <tr>\n",
       "      <th>1974-06-02</th>\n",
       "      <td>332.32</td>\n",
       "      <td>5</td>\n",
       "    </tr>\n",
       "    <tr>\n",
       "      <th>1974-06-09</th>\n",
       "      <td>332.18</td>\n",
       "      <td>7</td>\n",
       "    </tr>\n",
       "    <tr>\n",
       "      <th>1974-06-16</th>\n",
       "      <td>332.37</td>\n",
       "      <td>7</td>\n",
       "    </tr>\n",
       "  </tbody>\n",
       "</table>\n",
       "</div>"
      ],
      "text/plain": [
       "             value  ndays\n",
       "timestamp                \n",
       "1974-05-19  333.34      6\n",
       "1974-05-26  332.95      6\n",
       "1974-06-02  332.32      5\n",
       "1974-06-09  332.18      7\n",
       "1974-06-16  332.37      7"
      ]
     },
     "execution_count": 5,
     "metadata": {},
     "output_type": "execute_result"
    }
   ],
   "source": [
    "df = to_dataframe('co2_weekly_mlo.txt').interpolate(mode='time')\n",
    "df.head()"
   ]
  },
  {
   "cell_type": "markdown",
   "metadata": {},
   "source": [
    "Plotting data shows up the CO2 trend:"
   ]
  },
  {
   "cell_type": "code",
   "execution_count": 6,
   "metadata": {},
   "outputs": [
    {
     "data": {
      "text/plain": [
       "<matplotlib.legend.Legend at 0x1c373674cc0>"
      ]
     },
     "execution_count": 6,
     "metadata": {},
     "output_type": "execute_result"
    },
    {
     "data": {
      "image/png": "[encoded data removed]",
      "text/plain": [
       "<Figure size 432x288 with 1 Axes>"
      ]
     },
     "metadata": {
      "needs_background": "light"
     },
     "output_type": "display_data"
    }
   ],
   "source": [
    "axe = df['value'].plot(label='Data')\n",
    "axe.set_title('Moana Loa Carbon Dioxide Time Serie')\n",
    "axe.set_xlabel('Time, $t$')\n",
    "axe.set_ylabel('Concentration, $x$ $[\\mathrm{ppm}]$')\n",
    "axe.grid()\n",
    "axe.legend()"
   ]
  },
  {
   "cell_type": "markdown",
   "metadata": {},
   "source": [
    "## ARIMA"
   ]
  },
  {
   "cell_type": "markdown",
   "metadata": {},
   "source": [
    " - https://www.statsmodels.org/dev/generated/statsmodels.tsa.arima_model.ARIMA.html\n",
    " - https://www.statsmodels.org/dev/generated/statsmodels.tsa.arima_model.ARIMA.fit.html#statsmodels.tsa.arima_model.ARIMA.fit\n",
    " - https://www.statsmodels.org/dev/generated/statsmodels.tsa.arima_model.ARIMAResults.html#statsmodels.tsa.arima_model.ARIMAResults\n",
    " https://stackoverflow.com/questions/31690134/python-statsmodels-help-using-arima-model-for-time-series/54250123#54250123"
   ]
  },
  {
   "cell_type": "code",
   "execution_count": 7,
   "metadata": {},
   "outputs": [
    {
     "data": {
      "text/html": [
       "<div>\n",
       "<style scoped>\n",
       "    .dataframe tbody tr th:only-of-type {\n",
       "        vertical-align: middle;\n",
       "    }\n",
       "\n",
       "    .dataframe tbody tr th {\n",
       "        vertical-align: top;\n",
       "    }\n",
       "\n",
       "    .dataframe thead th {\n",
       "        text-align: right;\n",
       "    }\n",
       "</style>\n",
       "<table border=\"1\" class=\"dataframe\">\n",
       "  <thead>\n",
       "    <tr style=\"text-align: right;\">\n",
       "      <th></th>\n",
       "      <th>mean</th>\n",
       "      <th>std</th>\n",
       "      <th>count</th>\n",
       "    </tr>\n",
       "    <tr>\n",
       "      <th>timestamp</th>\n",
       "      <th></th>\n",
       "      <th></th>\n",
       "      <th></th>\n",
       "    </tr>\n",
       "  </thead>\n",
       "  <tbody>\n",
       "    <tr>\n",
       "      <th>1974-05-01</th>\n",
       "      <td>333.1450</td>\n",
       "      <td>0.275772</td>\n",
       "      <td>2</td>\n",
       "    </tr>\n",
       "    <tr>\n",
       "      <th>1974-06-01</th>\n",
       "      <td>332.0280</td>\n",
       "      <td>0.366838</td>\n",
       "      <td>5</td>\n",
       "    </tr>\n",
       "    <tr>\n",
       "      <th>1974-07-01</th>\n",
       "      <td>330.7125</td>\n",
       "      <td>0.678988</td>\n",
       "      <td>4</td>\n",
       "    </tr>\n",
       "    <tr>\n",
       "      <th>1974-08-01</th>\n",
       "      <td>329.0725</td>\n",
       "      <td>0.620880</td>\n",
       "      <td>4</td>\n",
       "    </tr>\n",
       "    <tr>\n",
       "      <th>1974-09-01</th>\n",
       "      <td>327.3240</td>\n",
       "      <td>0.517958</td>\n",
       "      <td>5</td>\n",
       "    </tr>\n",
       "  </tbody>\n",
       "</table>\n",
       "</div>"
      ],
      "text/plain": [
       "                mean       std  count\n",
       "timestamp                            \n",
       "1974-05-01  333.1450  0.275772      2\n",
       "1974-06-01  332.0280  0.366838      5\n",
       "1974-07-01  330.7125  0.678988      4\n",
       "1974-08-01  329.0725  0.620880      4\n",
       "1974-09-01  327.3240  0.517958      5"
      ]
     },
     "execution_count": 7,
     "metadata": {},
     "output_type": "execute_result"
    }
   ],
   "source": [
    "x = df.loc[:,\"value\"].resample('MS').agg(['mean', 'std', 'count'])\n",
    "x.head()"
   ]
  },
  {
   "cell_type": "code",
   "execution_count": 8,
   "metadata": {},
   "outputs": [
    {
     "data": {
      "text/plain": [
       "<matplotlib.axes._subplots.AxesSubplot at 0x1c37352e1d0>"
      ]
     },
     "execution_count": 8,
     "metadata": {},
     "output_type": "execute_result"
    },
    {
     "data": {
      "image/png": "[encoded data removed]",
      "text/plain": [
       "<Figure size 432x288 with 1 Axes>"
      ]
     },
     "metadata": {
      "needs_background": "light"
     },
     "output_type": "display_data"
    }
   ],
   "source": [
    "autocorrelation_plot(x['mean'])"
   ]
  },
  {
   "cell_type": "code",
   "execution_count": 9,
   "metadata": {},
   "outputs": [
    {
     "name": "stderr",
     "output_type": "stream",
     "text": [
      "C:\\ProgramData\\Anaconda3\\lib\\site-packages\\scipy\\signal\\signaltools.py:1341: FutureWarning: Using a non-tuple sequence for multidimensional indexing is deprecated; use `arr[tuple(seq)]` instead of `arr[seq]`. In the future this will be interpreted as an array index, `arr[np.array(seq)]`, which will result either in an error or a different result.\n",
      "  out_full[ind] += zi\n",
      "C:\\ProgramData\\Anaconda3\\lib\\site-packages\\scipy\\signal\\signaltools.py:1344: FutureWarning: Using a non-tuple sequence for multidimensional indexing is deprecated; use `arr[tuple(seq)]` instead of `arr[seq]`. In the future this will be interpreted as an array index, `arr[np.array(seq)]`, which will result either in an error or a different result.\n",
      "  out = out_full[ind]\n",
      "C:\\ProgramData\\Anaconda3\\lib\\site-packages\\scipy\\signal\\signaltools.py:1350: FutureWarning: Using a non-tuple sequence for multidimensional indexing is deprecated; use `arr[tuple(seq)]` instead of `arr[seq]`. In the future this will be interpreted as an array index, `arr[np.array(seq)]`, which will result either in an error or a different result.\n",
      "  zf = out_full[ind]\n"
     ]
    }
   ],
   "source": [
    "model = ARIMA(x['mean'], order=(12, 1, 0))\n",
    "fit = model.fit()"
   ]
  },
  {
   "cell_type": "code",
   "execution_count": 10,
   "metadata": {},
   "outputs": [
    {
     "data": {
      "text/plain": [
       "498.9123301749703"
      ]
     },
     "execution_count": 10,
     "metadata": {},
     "output_type": "execute_result"
    }
   ],
   "source": [
    "fit.aic"
   ]
  },
  {
   "cell_type": "code",
   "execution_count": 11,
   "metadata": {},
   "outputs": [
    {
     "data": {
      "text/plain": [
       "const            0.148655\n",
       "ar.L1.D.mean    -0.092102\n",
       "ar.L2.D.mean    -0.095437\n",
       "ar.L3.D.mean    -0.240162\n",
       "ar.L4.D.mean    -0.247357\n",
       "ar.L5.D.mean    -0.218295\n",
       "ar.L6.D.mean    -0.141171\n",
       "ar.L7.D.mean    -0.169010\n",
       "ar.L8.D.mean    -0.265605\n",
       "ar.L9.D.mean    -0.224225\n",
       "ar.L10.D.mean   -0.218797\n",
       "ar.L11.D.mean    0.087297\n",
       "ar.L12.D.mean    0.417101\n",
       "dtype: float64"
      ]
     },
     "execution_count": 11,
     "metadata": {},
     "output_type": "execute_result"
    }
   ],
   "source": [
    "fit.params"
   ]
  },
  {
   "cell_type": "code",
   "execution_count": 12,
   "metadata": {},
   "outputs": [
    {
     "data": {
      "text/html": [
       "<table class=\"simpletable\">\n",
       "<caption>ARIMA Model Results</caption>\n",
       "<tr>\n",
       "  <th>Dep. Variable:</th>      <td>D.mean</td>      <th>  No. Observations:  </th>    <td>534</td>  \n",
       "</tr>\n",
       "<tr>\n",
       "  <th>Model:</th>          <td>ARIMA(12, 1, 0)</td> <th>  Log Likelihood     </th> <td>-235.456</td>\n",
       "</tr>\n",
       "<tr>\n",
       "  <th>Method:</th>             <td>css-mle</td>     <th>  S.D. of innovations</th>   <td>0.371</td> \n",
       "</tr>\n",
       "<tr>\n",
       "  <th>Date:</th>          <td>Thu, 24 Jan 2019</td> <th>  AIC                </th>  <td>498.912</td>\n",
       "</tr>\n",
       "<tr>\n",
       "  <th>Time:</th>              <td>09:52:04</td>     <th>  BIC                </th>  <td>558.838</td>\n",
       "</tr>\n",
       "<tr>\n",
       "  <th>Sample:</th>           <td>06-01-1974</td>    <th>  HQIC               </th>  <td>522.360</td>\n",
       "</tr>\n",
       "<tr>\n",
       "  <th></th>                 <td>- 11-01-2018</td>   <th>                     </th>     <td> </td>   \n",
       "</tr>\n",
       "</table>\n",
       "<table class=\"simpletable\">\n",
       "<tr>\n",
       "        <td></td>           <th>coef</th>     <th>std err</th>      <th>z</th>      <th>P>|z|</th>  <th>[0.025</th>    <th>0.975]</th>  \n",
       "</tr>\n",
       "<tr>\n",
       "  <th>const</th>         <td>    0.1487</td> <td>    0.007</td> <td>   22.171</td> <td> 0.000</td> <td>    0.136</td> <td>    0.162</td>\n",
       "</tr>\n",
       "<tr>\n",
       "  <th>ar.L1.D.mean</th>  <td>   -0.0921</td> <td>    0.040</td> <td>   -2.330</td> <td> 0.020</td> <td>   -0.170</td> <td>   -0.015</td>\n",
       "</tr>\n",
       "<tr>\n",
       "  <th>ar.L2.D.mean</th>  <td>   -0.0954</td> <td>    0.040</td> <td>   -2.414</td> <td> 0.016</td> <td>   -0.173</td> <td>   -0.018</td>\n",
       "</tr>\n",
       "<tr>\n",
       "  <th>ar.L3.D.mean</th>  <td>   -0.2402</td> <td>    0.039</td> <td>   -6.235</td> <td> 0.000</td> <td>   -0.316</td> <td>   -0.165</td>\n",
       "</tr>\n",
       "<tr>\n",
       "  <th>ar.L4.D.mean</th>  <td>   -0.2474</td> <td>    0.039</td> <td>   -6.365</td> <td> 0.000</td> <td>   -0.324</td> <td>   -0.171</td>\n",
       "</tr>\n",
       "<tr>\n",
       "  <th>ar.L5.D.mean</th>  <td>   -0.2183</td> <td>    0.039</td> <td>   -5.644</td> <td> 0.000</td> <td>   -0.294</td> <td>   -0.142</td>\n",
       "</tr>\n",
       "<tr>\n",
       "  <th>ar.L6.D.mean</th>  <td>   -0.1412</td> <td>    0.039</td> <td>   -3.633</td> <td> 0.000</td> <td>   -0.217</td> <td>   -0.065</td>\n",
       "</tr>\n",
       "<tr>\n",
       "  <th>ar.L7.D.mean</th>  <td>   -0.1690</td> <td>    0.039</td> <td>   -4.319</td> <td> 0.000</td> <td>   -0.246</td> <td>   -0.092</td>\n",
       "</tr>\n",
       "<tr>\n",
       "  <th>ar.L8.D.mean</th>  <td>   -0.2656</td> <td>    0.039</td> <td>   -6.893</td> <td> 0.000</td> <td>   -0.341</td> <td>   -0.190</td>\n",
       "</tr>\n",
       "<tr>\n",
       "  <th>ar.L9.D.mean</th>  <td>   -0.2242</td> <td>    0.039</td> <td>   -5.767</td> <td> 0.000</td> <td>   -0.300</td> <td>   -0.148</td>\n",
       "</tr>\n",
       "<tr>\n",
       "  <th>ar.L10.D.mean</th> <td>   -0.2188</td> <td>    0.039</td> <td>   -5.663</td> <td> 0.000</td> <td>   -0.295</td> <td>   -0.143</td>\n",
       "</tr>\n",
       "<tr>\n",
       "  <th>ar.L11.D.mean</th> <td>    0.0873</td> <td>    0.040</td> <td>    2.202</td> <td> 0.028</td> <td>    0.010</td> <td>    0.165</td>\n",
       "</tr>\n",
       "<tr>\n",
       "  <th>ar.L12.D.mean</th> <td>    0.4171</td> <td>    0.040</td> <td>   10.558</td> <td> 0.000</td> <td>    0.340</td> <td>    0.495</td>\n",
       "</tr>\n",
       "</table>\n",
       "<table class=\"simpletable\">\n",
       "<caption>Roots</caption>\n",
       "<tr>\n",
       "    <td></td>    <th>            Real</th>  <th>         Imaginary</th> <th>         Modulus</th>  <th>        Frequency</th>\n",
       "</tr>\n",
       "<tr>\n",
       "  <th>AR.1</th>  <td>          -1.1184</td> <td>          -0.0000j</td> <td>           1.1184</td> <td>          -0.5000</td>\n",
       "</tr>\n",
       "<tr>\n",
       "  <th>AR.2</th>  <td>          -0.9747</td> <td>          -0.5039j</td> <td>           1.0972</td> <td>          -0.4241</td>\n",
       "</tr>\n",
       "<tr>\n",
       "  <th>AR.3</th>  <td>          -0.9747</td> <td>          +0.5039j</td> <td>           1.0972</td> <td>           0.4241</td>\n",
       "</tr>\n",
       "<tr>\n",
       "  <th>AR.4</th>  <td>          -0.5668</td> <td>          -0.9102j</td> <td>           1.0723</td> <td>          -0.3386</td>\n",
       "</tr>\n",
       "<tr>\n",
       "  <th>AR.5</th>  <td>          -0.5668</td> <td>          +0.9102j</td> <td>           1.0723</td> <td>           0.3386</td>\n",
       "</tr>\n",
       "<tr>\n",
       "  <th>AR.6</th>  <td>          -0.0370</td> <td>          -1.0714j</td> <td>           1.0720</td> <td>          -0.2555</td>\n",
       "</tr>\n",
       "<tr>\n",
       "  <th>AR.7</th>  <td>          -0.0370</td> <td>          +1.0714j</td> <td>           1.0720</td> <td>           0.2555</td>\n",
       "</tr>\n",
       "<tr>\n",
       "  <th>AR.8</th>  <td>           0.5002</td> <td>          -0.8712j</td> <td>           1.0046</td> <td>          -0.1671</td>\n",
       "</tr>\n",
       "<tr>\n",
       "  <th>AR.9</th>  <td>           0.5002</td> <td>          +0.8712j</td> <td>           1.0046</td> <td>           0.1671</td>\n",
       "</tr>\n",
       "<tr>\n",
       "  <th>AR.10</th> <td>           0.8670</td> <td>          -0.5009j</td> <td>           1.0014</td> <td>          -0.0834</td>\n",
       "</tr>\n",
       "<tr>\n",
       "  <th>AR.11</th> <td>           0.8670</td> <td>          +0.5009j</td> <td>           1.0014</td> <td>           0.0834</td>\n",
       "</tr>\n",
       "<tr>\n",
       "  <th>AR.12</th> <td>           1.3317</td> <td>          -0.0000j</td> <td>           1.3317</td> <td>          -0.0000</td>\n",
       "</tr>\n",
       "</table>"
      ],
      "text/plain": [
       "<class 'statsmodels.iolib.summary.Summary'>\n",
       "\"\"\"\n",
       "                             ARIMA Model Results                              \n",
       "==============================================================================\n",
       "Dep. Variable:                 D.mean   No. Observations:                  534\n",
       "Model:                ARIMA(12, 1, 0)   Log Likelihood                -235.456\n",
       "Method:                       css-mle   S.D. of innovations              0.371\n",
       "Date:                Thu, 24 Jan 2019   AIC                            498.912\n",
       "Time:                        09:52:04   BIC                            558.838\n",
       "Sample:                    06-01-1974   HQIC                           522.360\n",
       "                         - 11-01-2018                                         \n",
       "=================================================================================\n",
       "                    coef    std err          z      P>|z|      [0.025      0.975]\n",
       "---------------------------------------------------------------------------------\n",
       "const             0.1487      0.007     22.171      0.000       0.136       0.162\n",
       "ar.L1.D.mean     -0.0921      0.040     -2.330      0.020      -0.170      -0.015\n",
       "ar.L2.D.mean     -0.0954      0.040     -2.414      0.016      -0.173      -0.018\n",
       "ar.L3.D.mean     -0.2402      0.039     -6.235      0.000      -0.316      -0.165\n",
       "ar.L4.D.mean     -0.2474      0.039     -6.365      0.000      -0.324      -0.171\n",
       "ar.L5.D.mean     -0.2183      0.039     -5.644      0.000      -0.294      -0.142\n",
       "ar.L6.D.mean     -0.1412      0.039     -3.633      0.000      -0.217      -0.065\n",
       "ar.L7.D.mean     -0.1690      0.039     -4.319      0.000      -0.246      -0.092\n",
       "ar.L8.D.mean     -0.2656      0.039     -6.893      0.000      -0.341      -0.190\n",
       "ar.L9.D.mean     -0.2242      0.039     -5.767      0.000      -0.300      -0.148\n",
       "ar.L10.D.mean    -0.2188      0.039     -5.663      0.000      -0.295      -0.143\n",
       "ar.L11.D.mean     0.0873      0.040      2.202      0.028       0.010       0.165\n",
       "ar.L12.D.mean     0.4171      0.040     10.558      0.000       0.340       0.495\n",
       "                                    Roots                                     \n",
       "==============================================================================\n",
       "                   Real          Imaginary           Modulus         Frequency\n",
       "------------------------------------------------------------------------------\n",
       "AR.1            -1.1184           -0.0000j            1.1184           -0.5000\n",
       "AR.2            -0.9747           -0.5039j            1.0972           -0.4241\n",
       "AR.3            -0.9747           +0.5039j            1.0972            0.4241\n",
       "AR.4            -0.5668           -0.9102j            1.0723           -0.3386\n",
       "AR.5            -0.5668           +0.9102j            1.0723            0.3386\n",
       "AR.6            -0.0370           -1.0714j            1.0720           -0.2555\n",
       "AR.7            -0.0370           +1.0714j            1.0720            0.2555\n",
       "AR.8             0.5002           -0.8712j            1.0046           -0.1671\n",
       "AR.9             0.5002           +0.8712j            1.0046            0.1671\n",
       "AR.10            0.8670           -0.5009j            1.0014           -0.0834\n",
       "AR.11            0.8670           +0.5009j            1.0014            0.0834\n",
       "AR.12            1.3317           -0.0000j            1.3317           -0.0000\n",
       "------------------------------------------------------------------------------\n",
       "\"\"\""
      ]
     },
     "execution_count": 12,
     "metadata": {},
     "output_type": "execute_result"
    }
   ],
   "source": [
    "fit.summary()"
   ]
  },
  {
   "cell_type": "code",
   "execution_count": 13,
   "metadata": {},
   "outputs": [
    {
     "data": {
      "text/html": [
       "<div>\n",
       "<style scoped>\n",
       "    .dataframe tbody tr th:only-of-type {\n",
       "        vertical-align: middle;\n",
       "    }\n",
       "\n",
       "    .dataframe tbody tr th {\n",
       "        vertical-align: top;\n",
       "    }\n",
       "\n",
       "    .dataframe thead th {\n",
       "        text-align: right;\n",
       "    }\n",
       "</style>\n",
       "<table border=\"1\" class=\"dataframe\">\n",
       "  <thead>\n",
       "    <tr style=\"text-align: right;\">\n",
       "      <th></th>\n",
       "      <th>residuals</th>\n",
       "    </tr>\n",
       "    <tr>\n",
       "      <th>timestamp</th>\n",
       "      <th></th>\n",
       "    </tr>\n",
       "  </thead>\n",
       "  <tbody>\n",
       "    <tr>\n",
       "      <th>1974-06-01</th>\n",
       "      <td>-1.265655</td>\n",
       "    </tr>\n",
       "    <tr>\n",
       "      <th>1974-07-01</th>\n",
       "      <td>-0.590555</td>\n",
       "    </tr>\n",
       "    <tr>\n",
       "      <th>1974-08-01</th>\n",
       "      <td>-0.898296</td>\n",
       "    </tr>\n",
       "    <tr>\n",
       "      <th>1974-09-01</th>\n",
       "      <td>-0.970650</td>\n",
       "    </tr>\n",
       "    <tr>\n",
       "      <th>1974-10-01</th>\n",
       "      <td>0.747277</td>\n",
       "    </tr>\n",
       "  </tbody>\n",
       "</table>\n",
       "</div>"
      ],
      "text/plain": [
       "            residuals\n",
       "timestamp            \n",
       "1974-06-01  -1.265655\n",
       "1974-07-01  -0.590555\n",
       "1974-08-01  -0.898296\n",
       "1974-09-01  -0.970650\n",
       "1974-10-01   0.747277"
      ]
     },
     "execution_count": 13,
     "metadata": {},
     "output_type": "execute_result"
    }
   ],
   "source": [
    "residuals = pd.DataFrame(fit.resid, columns=['residuals'])\n",
    "residuals.head()"
   ]
  },
  {
   "cell_type": "code",
   "execution_count": 32,
   "metadata": {},
   "outputs": [
    {
     "data": {
      "text/plain": [
       "<matplotlib.axes._subplots.AxesSubplot at 0x1c376959f60>"
      ]
     },
     "execution_count": 32,
     "metadata": {},
     "output_type": "execute_result"
    },
    {
     "data": {
      "image/png": "[encoded data removed]",
      "text/plain": [
       "<Figure size 432x288 with 1 Axes>"
      ]
     },
     "metadata": {
      "needs_background": "light"
     },
     "output_type": "display_data"
    }
   ],
   "source": [
    "autocorrelation_plot(residuals)"
   ]
  },
  {
   "cell_type": "code",
   "execution_count": 29,
   "metadata": {},
   "outputs": [
    {
     "data": {
      "image/png": "[encoded data removed]",
      "text/plain": [
       "<Figure size 432x288 with 1 Axes>"
      ]
     },
     "metadata": {
      "needs_background": "light"
     },
     "output_type": "display_data"
    }
   ],
   "source": [
    "t = np.linspace(-3, 3, 100)\n",
    "p = stats.norm.fit(residuals)\n",
    "fig, axe = plt.subplots()\n",
    "axe.plot(t, stats.norm(*p).pdf(t))\n",
    "residuals.plot(kind='kde', ax=axe)\n",
    "axe.set_title(r'$\\mathcal{N}(\\mu=%.2f,\\sigma=%.2f)$' % p)\n",
    "axe.legend(['MLE Fit', 'KDE Residuals'], loc='upper left')\n",
    "axe.grid()"
   ]
  },
  {
   "cell_type": "code",
   "execution_count": 30,
   "metadata": {},
   "outputs": [],
   "source": [
    "preds = fit.predict(2, len(x['mean'])+52*12, typ='levels')"
   ]
  },
  {
   "cell_type": "code",
   "execution_count": 31,
   "metadata": {},
   "outputs": [
    {
     "data": {
      "image/png": "[encoded data removed]",
      "text/plain": [
       "<Figure size 432x288 with 1 Axes>"
      ]
     },
     "metadata": {
      "needs_background": "light"
     },
     "output_type": "display_data"
    }
   ],
   "source": [
    "ax = x['mean'].plot()\n",
    "preds.plot(ax=ax)\n",
    "ax.grid()"
   ]
  },
  {
   "cell_type": "code",
   "execution_count": 1,
   "metadata": {},
   "outputs": [
    {
     "ename": "NameError",
     "evalue": "name 'fit' is not defined",
     "output_type": "error",
     "traceback": [
      "\u001b[1;31m---------------------------------------------------------------------------\u001b[0m",
      "\u001b[1;31mNameError\u001b[0m                                 Traceback (most recent call last)",
      "\u001b[1;32m<ipython-input-1-18f869259102>\u001b[0m in \u001b[0;36m<module>\u001b[1;34m\u001b[0m\n\u001b[1;32m----> 1\u001b[1;33m \u001b[0mpreds\u001b[0m \u001b[1;33m=\u001b[0m \u001b[0mfit\u001b[0m\u001b[1;33m.\u001b[0m\u001b[0mpredict\u001b[0m\u001b[1;33m(\u001b[0m\u001b[1;36m2\u001b[0m\u001b[1;33m,\u001b[0m \u001b[0mlen\u001b[0m\u001b[1;33m(\u001b[0m\u001b[0mx\u001b[0m\u001b[1;33m[\u001b[0m\u001b[1;34m'mean'\u001b[0m\u001b[1;33m]\u001b[0m\u001b[1;33m)\u001b[0m\u001b[1;33m+\u001b[0m\u001b[1;36m52\u001b[0m\u001b[1;33m*\u001b[0m\u001b[1;36m12\u001b[0m\u001b[1;33m,\u001b[0m \u001b[0mtyp\u001b[0m\u001b[1;33m=\u001b[0m\u001b[1;34m'levels'\u001b[0m\u001b[1;33m)\u001b[0m\u001b[1;33m\u001b[0m\u001b[1;33m\u001b[0m\u001b[0m\n\u001b[0m",
      "\u001b[1;31mNameError\u001b[0m: name 'fit' is not defined"
     ]
    }
   ],
   "source": [
    "preds = fit.predict(2, len(x['mean'])+52*12, typ='levels')"
   ]
  },
  {
   "cell_type": "code",
   "execution_count": null,
   "metadata": {},
   "outputs": [],
   "source": []
  }
 ],
 "metadata": {
  "kernelspec": {
   "display_name": "Python 3",
   "language": "python",
   "name": "python3"
  },
  "language_info": {
   "codemirror_mode": {
    "name": "ipython",
    "version": 3
   },
   "file_extension": ".py",
   "mimetype": "text/x-python",
   "name": "python",
   "nbconvert_exporter": "python",
   "pygments_lexer": "ipython3",
   "version": "3.7.1"
  },
  "toc": {
   "base_numbering": 1,
   "nav_menu": {},
   "number_sections": true,
   "sideBar": true,
   "skip_h1_title": false,
   "title_cell": "Table of Contents",
   "title_sidebar": "Contents",
   "toc_cell": false,
   "toc_position": {
    "height": "calc(100% - 180px)",
    "left": "10px",
    "top": "150px",
    "width": "165px"
   },
   "toc_section_display": true,
   "toc_window_display": true
  }
 },
 "nbformat": 4,
 "nbformat_minor": 2
}
