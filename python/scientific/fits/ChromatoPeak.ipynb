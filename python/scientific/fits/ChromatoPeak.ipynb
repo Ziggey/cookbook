{
 "cells": [
  {
   "cell_type": "code",
   "execution_count": 1,
   "metadata": {},
   "outputs": [],
   "source": [
    "import numpy as np\n",
    "from scipy import stats, signal\n",
    "import matplotlib.pyplot as plt\n",
    "%matplotlib inline"
   ]
  },
  {
   "cell_type": "markdown",
   "metadata": {},
   "source": [
    " - https://docs.scipy.org/doc/scipy/reference/signal.html\n",
    " - https://docs.scipy.org/doc/scipy/reference/generated/scipy.signal.find_peaks.html\n",
    " - https://en.wikipedia.org/wiki/Savitzky%E2%80%93Golay_filter\n",
    " - https://docs.scipy.org/doc/scipy-0.16.1/reference/generated/scipy.signal.savgol_filter.html"
   ]
  },
  {
   "cell_type": "code",
   "execution_count": 2,
   "metadata": {},
   "outputs": [],
   "source": [
    "N = 10000\n",
    "t = np.linspace(0, 100, N)"
   ]
  },
  {
   "cell_type": "code",
   "execution_count": 3,
   "metadata": {},
   "outputs": [],
   "source": [
    "baseline = 8e-4*t + 0.71 + np.random.randn(N)*5e-3"
   ]
  },
  {
   "cell_type": "code",
   "execution_count": 4,
   "metadata": {},
   "outputs": [],
   "source": [
    "p1 = stats.norm(scale=0.1, loc=20).pdf(t)\n",
    "p2 = stats.norm(scale=0.2, loc=40).pdf(t)\n",
    "p3 = stats.norm(scale=0.15, loc=60).pdf(t)\n",
    "p4 = stats.norm(scale=0.25, loc=61).pdf(t)\n",
    "p5 = stats.lognorm(0.3, loc=75).pdf(t)\n",
    "p6 = stats.lognorm(0.4, loc=80, scale=0.5).pdf(t)"
   ]
  },
  {
   "cell_type": "code",
   "execution_count": 13,
   "metadata": {},
   "outputs": [
    {
     "name": "stderr",
     "output_type": "stream",
     "text": [
      "C:\\ProgramData\\Anaconda3\\lib\\site-packages\\scipy\\signal\\_arraytools.py:45: FutureWarning: Using a non-tuple sequence for multidimensional indexing is deprecated; use `arr[tuple(seq)]` instead of `arr[seq]`. In the future this will be interpreted as an array index, `arr[np.array(seq)]`, which will result either in an error or a different result.\n",
      "  b = a[a_slice]\n"
     ]
    }
   ],
   "source": [
    "gt = baseline+p1+p2+p3+p4+p5+p6\n",
    "gtf = signal.savgol_filter(tuple(gt), polyorder=3, window_length=25)"
   ]
  },
  {
   "cell_type": "code",
   "execution_count": 14,
   "metadata": {},
   "outputs": [
    {
     "data": {
      "text/plain": [
       "(array([2000, 3999, 5999, 6099, 7590, 8042], dtype=int64),\n",
       " {'peak_heights': array([4.63831711, 2.73415924, 3.40560881, 2.35341407, 2.1589504 ,\n",
       "         2.93198458]),\n",
       "  'left_thresholds': array([0.01147365, 0.00440471, 0.01045316, 0.00291235, 0.0018608 ,\n",
       "         0.00322973]),\n",
       "  'right_thresholds': array([0.02486641, 0.00092058, 0.00166267, 0.00069678, 0.00018829,\n",
       "         0.00396189]),\n",
       "  'prominences': array([3.91471164, 1.99367   , 2.64933224, 1.43366549, 1.39970496,\n",
       "         2.15929013]),\n",
       "  'left_bases': array([   0, 2190, 2190, 6041, 6260, 6260], dtype=int64),\n",
       "  'right_bases': array([2190, 4182, 6260, 6260, 8006, 8225], dtype=int64),\n",
       "  'widths': array([24.25731436, 47.24945233, 35.65192689, 54.67145667, 66.39200392,\n",
       "         41.66789791]),\n",
       "  'width_heights': array([2.68096129, 1.73732424, 2.0809427 , 1.63658133, 1.45909792,\n",
       "         1.85233951]),\n",
       "  'left_ips': array([1987.67350317, 3975.96116301, 5981.61864288, 6072.04949698,\n",
       "         7563.20301033, 8025.84977564]),\n",
       "  'right_ips': array([2011.93081754, 4023.21061535, 6017.27056977, 6126.72095365,\n",
       "         7629.59501425, 8067.51767355])})"
      ]
     },
     "execution_count": 14,
     "metadata": {},
     "output_type": "execute_result"
    }
   ],
   "source": [
    "peak = signal.find_peaks(gtf, height=1.0, threshold=1e-4, width=0.5, prominence=1)\n",
    "#peak = signal.find_peaks(gt, height=1.0, threshold=2e-3, width=0.1, prominence=1, distance=100)\n",
    "peak"
   ]
  },
  {
   "cell_type": "code",
   "execution_count": 19,
   "metadata": {},
   "outputs": [
    {
     "data": {
      "image/png": "[encoded data removed]",
      "text/plain": [
       "<Figure size 432x288 with 1 Axes>"
      ]
     },
     "metadata": {},
     "output_type": "display_data"
    }
   ],
   "source": [
    "fig, axe = plt.subplots()\n",
    "axe.plot(t, gt, '.', markersize=1)\n",
    "axe.plot(t, gtf)\n",
    "axe.plot(t[peak[0]], gt[peak[0]], 'o')\n",
    "axe.plot(t[peak[1]['left_bases']], gt[peak[1]['left_bases']], 'x')\n",
    "axe.plot(t[peak[1]['right_bases']], gt[peak[1]['right_bases']], '+')\n",
    "#axe.set_xlim([55,65])\n",
    "axe.set_ylim([0.5, 1.0])\n",
    "axe.grid()\n",
    "#fig.savefig(\"chromato.svg\")"
   ]
  },
  {
   "cell_type": "code",
   "execution_count": 12,
   "metadata": {},
   "outputs": [
    {
     "name": "stderr",
     "output_type": "stream",
     "text": [
      "C:\\ProgramData\\Anaconda3\\lib\\site-packages\\scipy\\signal\\_arraytools.py:45: FutureWarning: Using a non-tuple sequence for multidimensional indexing is deprecated; use `arr[tuple(seq)]` instead of `arr[seq]`. In the future this will be interpreted as an array index, `arr[np.array(seq)]`, which will result either in an error or a different result.\n",
      "  b = a[a_slice]\n"
     ]
    }
   ],
   "source": []
  },
  {
   "cell_type": "code",
   "execution_count": null,
   "metadata": {},
   "outputs": [],
   "source": []
  },
  {
   "cell_type": "code",
   "execution_count": null,
   "metadata": {},
   "outputs": [],
   "source": []
  }
 ],
 "metadata": {
  "kernelspec": {
   "display_name": "Python 3",
   "language": "python",
   "name": "python3"
  },
  "language_info": {
   "codemirror_mode": {
    "name": "ipython",
    "version": 3
   },
   "file_extension": ".py",
   "mimetype": "text/x-python",
   "name": "python",
   "nbconvert_exporter": "python",
   "pygments_lexer": "ipython3",
   "version": "3.7.1"
  },
  "toc": {
   "base_numbering": 1,
   "nav_menu": {},
   "number_sections": true,
   "sideBar": true,
   "skip_h1_title": false,
   "title_cell": "Table of Contents",
   "title_sidebar": "Contents",
   "toc_cell": false,
   "toc_position": {},
   "toc_section_display": true,
   "toc_window_display": false
  }
 },
 "nbformat": 4,
 "nbformat_minor": 2
}
