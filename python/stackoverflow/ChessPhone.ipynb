{
 "cells": [
  {
   "cell_type": "code",
   "execution_count": 1,
   "metadata": {
    "ExecuteTime": {
     "end_time": "2020-08-22T13:50:05.985447Z",
     "start_time": "2020-08-22T13:50:05.713307Z"
    }
   },
   "outputs": [],
   "source": [
    "import numpy as np"
   ]
  },
  {
   "cell_type": "markdown",
   "metadata": {},
   "source": [
    "https://stackoverflow.com/questions/53697218/generating-phone-numbers-using-specific-set-of-rules-in-python/53697489#53697489"
   ]
  },
  {
   "cell_type": "code",
   "execution_count": 2,
   "metadata": {
    "ExecuteTime": {
     "end_time": "2020-08-22T13:50:05.997581Z",
     "start_time": "2020-08-22T13:50:05.992440Z"
    }
   },
   "outputs": [],
   "source": [
    "A = np.zeros((10, 10))"
   ]
  },
  {
   "cell_type": "code",
   "execution_count": 3,
   "metadata": {
    "ExecuteTime": {
     "end_time": "2020-08-22T13:50:06.023832Z",
     "start_time": "2020-08-22T13:50:06.005226Z"
    },
    "scrolled": true
   },
   "outputs": [
    {
     "data": {
      "text/plain": [
       "array([[0., 0., 0., 0., 0., 0., 0., 0., 0., 0.],\n",
       "       [0., 0., 0., 0., 0., 0., 0., 0., 0., 0.],\n",
       "       [0., 0., 0., 0., 0., 0., 0., 0., 0., 0.],\n",
       "       [0., 0., 0., 0., 0., 0., 0., 0., 0., 0.],\n",
       "       [0., 0., 0., 0., 0., 0., 0., 0., 0., 0.],\n",
       "       [0., 0., 0., 0., 0., 0., 0., 0., 0., 0.],\n",
       "       [0., 0., 0., 0., 0., 0., 0., 0., 0., 0.],\n",
       "       [0., 0., 0., 0., 0., 0., 0., 0., 0., 0.],\n",
       "       [0., 0., 0., 0., 0., 0., 0., 0., 0., 0.],\n",
       "       [0., 0., 0., 0., 0., 0., 0., 0., 0., 0.]])"
      ]
     },
     "execution_count": 3,
     "metadata": {},
     "output_type": "execute_result"
    }
   ],
   "source": [
    "A"
   ]
  },
  {
   "cell_type": "code",
   "execution_count": 4,
   "metadata": {
    "ExecuteTime": {
     "end_time": "2020-08-22T13:50:06.042577Z",
     "start_time": "2020-08-22T13:50:06.031048Z"
    }
   },
   "outputs": [],
   "source": [
    "A[0,4]=1\n",
    "A[0,6]=1\n",
    "A[1,6]=1\n",
    "A[1,8]=1\n",
    "A[2,7]=1\n",
    "A[2,9]=1\n",
    "A[3,4]=1\n",
    "A[3,8]=1\n",
    "A[4,0]=1\n",
    "A[4,3]=1\n",
    "A[4,9]=1\n",
    "A[6,0]=1\n",
    "A[6,1]=1\n",
    "A[6,7]=1\n",
    "A[7,2]=1\n",
    "A[7,6]=1\n",
    "A[8,1]=1\n",
    "A[8,3]=1\n",
    "A[9,2]=1\n",
    "A[9,4]=1"
   ]
  },
  {
   "cell_type": "code",
   "execution_count": 5,
   "metadata": {
    "ExecuteTime": {
     "end_time": "2020-08-22T13:50:06.062313Z",
     "start_time": "2020-08-22T13:50:06.052227Z"
    }
   },
   "outputs": [
    {
     "name": "stdout",
     "output_type": "stream",
     "text": [
      "[[0. 0. 0. 0. 1. 0. 1. 0. 0. 0.]\n",
      " [0. 0. 0. 0. 0. 0. 1. 0. 1. 0.]\n",
      " [0. 0. 0. 0. 0. 0. 0. 1. 0. 1.]\n",
      " [0. 0. 0. 0. 1. 0. 0. 0. 1. 0.]\n",
      " [1. 0. 0. 1. 0. 0. 0. 0. 0. 1.]\n",
      " [0. 0. 0. 0. 0. 0. 0. 0. 0. 0.]\n",
      " [1. 1. 0. 0. 0. 0. 0. 1. 0. 0.]\n",
      " [0. 0. 1. 0. 0. 0. 1. 0. 0. 0.]\n",
      " [0. 1. 0. 1. 0. 0. 0. 0. 0. 0.]\n",
      " [0. 0. 1. 0. 1. 0. 0. 0. 0. 0.]]\n"
     ]
    }
   ],
   "source": [
    "print(A)"
   ]
  },
  {
   "cell_type": "code",
   "execution_count": 6,
   "metadata": {
    "ExecuteTime": {
     "end_time": "2020-08-22T13:50:06.076852Z",
     "start_time": "2020-08-22T13:50:06.067435Z"
    }
   },
   "outputs": [],
   "source": [
    "B = np.zeros((10, 10))\n",
    "B[0,4]=1\n",
    "B[0,6]=1\n",
    "B[1,6]=1\n",
    "B[1,8]=1\n",
    "B[2,7]=1\n",
    "B[2,9]=1\n",
    "B[3,4]=1\n",
    "B[3,8]=1\n",
    "B[4,9]=1\n",
    "B[6,7]=1\n",
    "B = np.maximum(B, B.T)"
   ]
  },
  {
   "cell_type": "code",
   "execution_count": 7,
   "metadata": {
    "ExecuteTime": {
     "end_time": "2020-08-22T13:50:06.103968Z",
     "start_time": "2020-08-22T13:50:06.084094Z"
    }
   },
   "outputs": [
    {
     "data": {
      "text/plain": [
       "True"
      ]
     },
     "execution_count": 7,
     "metadata": {},
     "output_type": "execute_result"
    }
   ],
   "source": [
    "np.allclose(A, B)"
   ]
  },
  {
   "cell_type": "code",
   "execution_count": 8,
   "metadata": {
    "ExecuteTime": {
     "end_time": "2020-08-22T13:50:06.122559Z",
     "start_time": "2020-08-22T13:50:06.108906Z"
    }
   },
   "outputs": [
    {
     "data": {
      "text/plain": [
       "True"
      ]
     },
     "execution_count": 8,
     "metadata": {},
     "output_type": "execute_result"
    }
   ],
   "source": [
    "np.allclose(A, A.T)"
   ]
  },
  {
   "cell_type": "code",
   "execution_count": null,
   "metadata": {},
   "outputs": [],
   "source": []
  },
  {
   "cell_type": "code",
   "execution_count": 9,
   "metadata": {
    "ExecuteTime": {
     "end_time": "2020-08-22T13:50:06.133133Z",
     "start_time": "2020-08-22T13:50:06.125899Z"
    }
   },
   "outputs": [],
   "source": [
    "W = np.linalg.matrix_power(A, 9)"
   ]
  },
  {
   "cell_type": "code",
   "execution_count": 10,
   "metadata": {
    "ExecuteTime": {
     "end_time": "2020-08-22T13:50:06.148704Z",
     "start_time": "2020-08-22T13:50:06.137603Z"
    }
   },
   "outputs": [
    {
     "name": "stdout",
     "output_type": "stream",
     "text": [
      "[[  0.   0. 336.   0. 544.   0. 544.   0. 336.   0.]\n",
      " [  0.   0. 264.   0. 432.   0. 448.   0. 280.   0.]\n",
      " [336. 264.   0. 264.   0.   0.   0. 280.   0. 280.]\n",
      " [  0.   0. 264.   0. 448.   0. 432.   0. 280.   0.]\n",
      " [544. 432.   0. 448.   0.   0.   0. 432.   0. 448.]\n",
      " [  0.   0.   0.   0.   0.   0.   0.   0.   0.   0.]\n",
      " [544. 448.   0. 432.   0.   0.   0. 448.   0. 432.]\n",
      " [  0.   0. 280.   0. 432.   0. 448.   0. 264.   0.]\n",
      " [336. 280.   0. 280.   0.   0.   0. 264.   0. 264.]\n",
      " [  0.   0. 280.   0. 448.   0. 432.   0. 264.   0.]]\n"
     ]
    }
   ],
   "source": [
    "print(W)"
   ]
  },
  {
   "cell_type": "code",
   "execution_count": 11,
   "metadata": {
    "ExecuteTime": {
     "end_time": "2020-08-22T13:50:06.159900Z",
     "start_time": "2020-08-22T13:50:06.150450Z"
    }
   },
   "outputs": [
    {
     "data": {
      "text/plain": [
       "1424.0"
      ]
     },
     "execution_count": 11,
     "metadata": {},
     "output_type": "execute_result"
    }
   ],
   "source": [
    "np.sum(W[2,:])"
   ]
  },
  {
   "cell_type": "code",
   "execution_count": 12,
   "metadata": {
    "ExecuteTime": {
     "end_time": "2020-08-22T13:50:06.173561Z",
     "start_time": "2020-08-22T13:50:06.162408Z"
    }
   },
   "outputs": [
    {
     "data": {
      "text/plain": [
       "0.0"
      ]
     },
     "execution_count": 12,
     "metadata": {},
     "output_type": "execute_result"
    }
   ],
   "source": [
    "W[2,5]"
   ]
  },
  {
   "cell_type": "code",
   "execution_count": 13,
   "metadata": {
    "ExecuteTime": {
     "end_time": "2020-08-22T13:50:06.187323Z",
     "start_time": "2020-08-22T13:50:06.176245Z"
    }
   },
   "outputs": [],
   "source": [
    "def phoneNumbersCount(n=10, i=2, A=A):\n",
    "    return np.sum(np.linalg.matrix_power(A, n-1)[i,:])"
   ]
  },
  {
   "cell_type": "code",
   "execution_count": 14,
   "metadata": {
    "ExecuteTime": {
     "end_time": "2020-08-22T13:50:06.198633Z",
     "start_time": "2020-08-22T13:50:06.189635Z"
    }
   },
   "outputs": [
    {
     "data": {
      "text/plain": [
       "0.0"
      ]
     },
     "execution_count": 14,
     "metadata": {},
     "output_type": "execute_result"
    }
   ],
   "source": [
    "phoneNumbersCount(10, 5)"
   ]
  },
  {
   "cell_type": "code",
   "execution_count": 15,
   "metadata": {
    "ExecuteTime": {
     "end_time": "2020-08-22T13:50:06.212598Z",
     "start_time": "2020-08-22T13:50:06.201184Z"
    }
   },
   "outputs": [
    {
     "data": {
      "text/plain": [
       "(array([7, 9]),)"
      ]
     },
     "execution_count": 15,
     "metadata": {},
     "output_type": "execute_result"
    }
   ],
   "source": [
    "np.where(A[2,:]>0)"
   ]
  },
  {
   "cell_type": "code",
   "execution_count": null,
   "metadata": {},
   "outputs": [],
   "source": []
  },
  {
   "cell_type": "code",
   "execution_count": 16,
   "metadata": {
    "ExecuteTime": {
     "end_time": "2020-08-22T13:50:06.227196Z",
     "start_time": "2020-08-22T13:50:06.216864Z"
    }
   },
   "outputs": [],
   "source": [
    "G = {\n",
    "    0: [4, 6],\n",
    "    1: [6, 8],\n",
    "    2: [7, 9],\n",
    "    3: [4, 8],\n",
    "    4: [0, 3, 9],\n",
    "    5: [],\n",
    "    6: [0, 1, 7],\n",
    "    7: [2, 6],\n",
    "    8: [1, 3],\n",
    "    9: [2, 4],\n",
    "}"
   ]
  },
  {
   "cell_type": "code",
   "execution_count": 17,
   "metadata": {
    "ExecuteTime": {
     "end_time": "2020-08-22T13:50:06.235811Z",
     "start_time": "2020-08-22T13:50:06.229273Z"
    }
   },
   "outputs": [],
   "source": [
    "def AdjacencyMatrix(d):\n",
    "    A = np.zeros([len(d)]*2)\n",
    "    for i in d:\n",
    "        for j in d[i]:\n",
    "            A[i,j] = 1\n",
    "    return A"
   ]
  },
  {
   "cell_type": "code",
   "execution_count": 18,
   "metadata": {
    "ExecuteTime": {
     "end_time": "2020-08-22T13:50:06.244862Z",
     "start_time": "2020-08-22T13:50:06.241420Z"
    }
   },
   "outputs": [],
   "source": [
    "C = AdjacencyMatrix(G)"
   ]
  },
  {
   "cell_type": "code",
   "execution_count": 19,
   "metadata": {
    "ExecuteTime": {
     "end_time": "2020-08-22T13:50:06.260396Z",
     "start_time": "2020-08-22T13:50:06.250121Z"
    }
   },
   "outputs": [
    {
     "data": {
      "text/plain": [
       "True"
      ]
     },
     "execution_count": 19,
     "metadata": {},
     "output_type": "execute_result"
    }
   ],
   "source": [
    "np.allclose(A, C)"
   ]
  },
  {
   "cell_type": "code",
   "execution_count": 20,
   "metadata": {
    "ExecuteTime": {
     "end_time": "2020-08-22T13:50:06.276477Z",
     "start_time": "2020-08-22T13:50:06.265572Z"
    }
   },
   "outputs": [],
   "source": [
    "def phoneNumbers(n=10, i=2, G=G, number='', store=None):\n",
    "    if store is None:\n",
    "        store = list()\n",
    "    number += str(i)\n",
    "    if n > 1:\n",
    "        for j in G[i]:\n",
    "            phoneNumbers(n=n-1, i=j, G=G, number=number, store=store)\n",
    "    else:\n",
    "        store.append(number)\n",
    "    return store"
   ]
  },
  {
   "cell_type": "code",
   "execution_count": null,
   "metadata": {},
   "outputs": [],
   "source": []
  },
  {
   "cell_type": "code",
   "execution_count": 21,
   "metadata": {
    "ExecuteTime": {
     "end_time": "2020-08-22T13:50:06.287084Z",
     "start_time": "2020-08-22T13:50:06.278454Z"
    }
   },
   "outputs": [],
   "source": [
    "plist = phoneNumbers(n=10, i=2)"
   ]
  },
  {
   "cell_type": "code",
   "execution_count": 22,
   "metadata": {
    "ExecuteTime": {
     "end_time": "2020-08-22T13:50:06.303390Z",
     "start_time": "2020-08-22T13:50:06.293579Z"
    },
    "scrolled": false
   },
   "outputs": [
    {
     "data": {
      "text/plain": [
       "['2949494340',\n",
       " '2949494343',\n",
       " '2949494349',\n",
       " '2949494381',\n",
       " '2949494383',\n",
       " '2949494927',\n",
       " '2949494929',\n",
       " '2949494940',\n",
       " '2949494943',\n",
       " '2949494949']"
      ]
     },
     "execution_count": 22,
     "metadata": {},
     "output_type": "execute_result"
    }
   ],
   "source": [
    "plist[-10:]"
   ]
  },
  {
   "cell_type": "code",
   "execution_count": 23,
   "metadata": {
    "ExecuteTime": {
     "end_time": "2020-08-22T13:50:06.325540Z",
     "start_time": "2020-08-22T13:50:06.313590Z"
    }
   },
   "outputs": [
    {
     "data": {
      "text/plain": [
       "1424"
      ]
     },
     "execution_count": 23,
     "metadata": {},
     "output_type": "execute_result"
    }
   ],
   "source": [
    "len(plist)"
   ]
  },
  {
   "cell_type": "code",
   "execution_count": 24,
   "metadata": {
    "ExecuteTime": {
     "end_time": "2020-08-22T13:50:06.342658Z",
     "start_time": "2020-08-22T13:50:06.328839Z"
    }
   },
   "outputs": [
    {
     "data": {
      "text/plain": [
       "1424"
      ]
     },
     "execution_count": 24,
     "metadata": {},
     "output_type": "execute_result"
    }
   ],
   "source": [
    "np.unique(plist).size"
   ]
  },
  {
   "cell_type": "code",
   "execution_count": 25,
   "metadata": {
    "ExecuteTime": {
     "end_time": "2020-08-22T13:50:06.357544Z",
     "start_time": "2020-08-22T13:50:06.346171Z"
    }
   },
   "outputs": [
    {
     "data": {
      "text/plain": [
       "1424"
      ]
     },
     "execution_count": 25,
     "metadata": {},
     "output_type": "execute_result"
    }
   ],
   "source": [
    "len(set(plist))"
   ]
  },
  {
   "cell_type": "code",
   "execution_count": 26,
   "metadata": {
    "ExecuteTime": {
     "end_time": "2020-08-22T13:50:06.379903Z",
     "start_time": "2020-08-22T13:50:06.365660Z"
    }
   },
   "outputs": [
    {
     "data": {
      "text/plain": [
       "{0, 1, 3, 7, 9}"
      ]
     },
     "execution_count": 26,
     "metadata": {},
     "output_type": "execute_result"
    }
   ],
   "source": [
    "d = set([int(n[-1]) for n in plist])\n",
    "d"
   ]
  },
  {
   "cell_type": "code",
   "execution_count": 27,
   "metadata": {
    "ExecuteTime": {
     "end_time": "2020-08-22T13:50:06.393560Z",
     "start_time": "2020-08-22T13:50:06.384385Z"
    }
   },
   "outputs": [
    {
     "data": {
      "text/plain": [
       "{2, 4, 5, 6, 8}"
      ]
     },
     "execution_count": 27,
     "metadata": {},
     "output_type": "execute_result"
    }
   ],
   "source": [
    "set(range(10)) - d"
   ]
  },
  {
   "cell_type": "code",
   "execution_count": null,
   "metadata": {},
   "outputs": [],
   "source": []
  },
  {
   "cell_type": "code",
   "execution_count": 28,
   "metadata": {
    "ExecuteTime": {
     "end_time": "2020-08-22T13:50:06.850601Z",
     "start_time": "2020-08-22T13:50:06.395748Z"
    }
   },
   "outputs": [],
   "source": [
    "import time\n",
    "import timeit\n",
    "import matplotlib.pyplot as plt\n",
    "%matplotlib inline"
   ]
  },
  {
   "cell_type": "code",
   "execution_count": 29,
   "metadata": {
    "ExecuteTime": {
     "end_time": "2020-08-22T13:50:06.864684Z",
     "start_time": "2020-08-22T13:50:06.858075Z"
    }
   },
   "outputs": [],
   "source": [
    "nr = 20\n",
    "ns = 100\n",
    "N = 15\n",
    "nt = np.arange(N) + 1\n",
    "t = np.full((N, 4), np.nan)"
   ]
  },
  {
   "cell_type": "raw",
   "metadata": {
    "ExecuteTime": {
     "end_time": "2020-08-22T13:38:56.180847Z",
     "start_time": "2020-08-22T13:12:18.571733Z"
    }
   },
   "source": [
    "for (i, n) in enumerate(nt):\n",
    "    t[i,0] = np.mean(timeit.Timer(\"phoneNumbersCount(n=%d)\" % n, setup=\"from __main__ import phoneNumbersCount\").repeat(nr, number=ns))\n",
    "    t[i,1] = np.mean(timeit.Timer(\"len(phoneNumbers(n=%d, i=2))\" % n, setup=\"from __main__ import phoneNumbers\").repeat(nr, number=ns))\n",
    "    t[i,2] = np.mean(timeit.Timer(\"len(phoneNumbers(n=%d, i=0))\" % n, setup=\"from __main__ import phoneNumbers\").repeat(nr, number=ns))\n",
    "    t[i,3] = np.mean(timeit.Timer(\"len(phoneNumbers(n=%d, i=6))\" % n, setup=\"from __main__ import phoneNumbers\").repeat(nr, number=ns))\n",
    "    print(n, t[i,:])"
   ]
  },
  {
   "cell_type": "code",
   "execution_count": 30,
   "metadata": {
    "ExecuteTime": {
     "end_time": "2020-08-22T13:50:06.876305Z",
     "start_time": "2020-08-22T13:50:06.871399Z"
    }
   },
   "outputs": [],
   "source": [
    "import pickle"
   ]
  },
  {
   "cell_type": "raw",
   "metadata": {
    "ExecuteTime": {
     "end_time": "2020-08-22T13:38:56.215554Z",
     "start_time": "2020-08-22T13:38:56.205628Z"
    }
   },
   "source": [
    "with open(\"benchmark.pickle\", 'wb') as f:\n",
    "    pickle.dump(t, f)"
   ]
  },
  {
   "cell_type": "code",
   "execution_count": 31,
   "metadata": {
    "ExecuteTime": {
     "end_time": "2020-08-22T13:50:06.888158Z",
     "start_time": "2020-08-22T13:50:06.880495Z"
    }
   },
   "outputs": [],
   "source": [
    "with open(\"benchmark.pickle\", 'rb') as f:\n",
    "    t = pickle.load(f)"
   ]
  },
  {
   "cell_type": "code",
   "execution_count": 32,
   "metadata": {
    "ExecuteTime": {
     "end_time": "2020-08-22T13:50:08.798270Z",
     "start_time": "2020-08-22T13:50:06.892336Z"
    }
   },
   "outputs": [
    {
     "data": {
      "image/png": "[encoded data removed]",
      "text/plain": [
       "<Figure size 432x288 with 1 Axes>"
      ]
     },
     "metadata": {
      "needs_background": "light"
     },
     "output_type": "display_data"
    }
   ],
   "source": [
    "fig, axe = plt.subplots()\n",
    "axe.semilogy(nt, t[0,1]*2**(nt-1), ':', color='gray')\n",
    "axe.semilogy(nt, t[0,1]*3**(nt-1), ':', color='gray')\n",
    "axe.semilogy(nt, t[0,1]*(20/9)**(nt-1), color='k')\n",
    "axe.semilogy(nt, t)\n",
    "\n",
    "axe.set_title(\"Time Complexity Benchmark\")\n",
    "axe.set_xlabel(\"Problem Size: $n$ $[-]$\")\n",
    "axe.set_ylabel(\"Mean Execution Time, $t$ $[\\mathrm{s}]$\")\n",
    "axe.legend([r'$O(C\\cdot2^n)$', r'$O(C\\cdot3^n)$', r'$O(C\\cdot\\left(\\frac{20}{9}\\right)^n)$', 'Matrix Power', 'Recursion (i=2)', 'Recursion (i=0)', 'Recursion (i=6)'])\n",
    "#axe.set_ylim([1e-6, 1e1])\n",
    "axe.set_xticks(nt)\n",
    "axe.grid(which='both')\n",
    "fig.savefig(\"complexity.png\", dpi=120)"
   ]
  },
  {
   "cell_type": "code",
   "execution_count": null,
   "metadata": {},
   "outputs": [],
   "source": []
  },
  {
   "cell_type": "code",
   "execution_count": null,
   "metadata": {},
   "outputs": [],
   "source": []
  }
 ],
 "metadata": {
  "hide_input": false,
  "kernelspec": {
   "display_name": "Python 3",
   "language": "python",
   "name": "python3"
  },
  "language_info": {
   "codemirror_mode": {
    "name": "ipython",
    "version": 3
   },
   "file_extension": ".py",
   "mimetype": "text/x-python",
   "name": "python",
   "nbconvert_exporter": "python",
   "pygments_lexer": "ipython3",
   "version": "3.6.9"
  },
  "toc": {
   "base_numbering": 1,
   "nav_menu": {},
   "number_sections": true,
   "sideBar": true,
   "skip_h1_title": false,
   "title_cell": "Table of Contents",
   "title_sidebar": "Contents",
   "toc_cell": false,
   "toc_position": {},
   "toc_section_display": true,
   "toc_window_display": false
  },
  "varInspector": {
   "cols": {
    "lenName": 16,
    "lenType": 16,
    "lenVar": 40
   },
   "kernels_config": {
    "python": {
     "delete_cmd_postfix": "",
     "delete_cmd_prefix": "del ",
     "library": "var_list.py",
     "varRefreshCmd": "print(var_dic_list())"
    },
    "r": {
     "delete_cmd_postfix": ") ",
     "delete_cmd_prefix": "rm(",
     "library": "var_list.r",
     "varRefreshCmd": "cat(var_dic_list()) "
    }
   },
   "types_to_exclude": [
    "module",
    "function",
    "builtin_function_or_method",
    "instance",
    "_Feature"
   ],
   "window_display": false
  }
 },
 "nbformat": 4,
 "nbformat_minor": 2
}
