{
 "cells": [
  {
   "cell_type": "code",
   "execution_count": 1,
   "metadata": {},
   "outputs": [],
   "source": [
    "import numpy as np\n",
    "from scipy import optimize\n",
    "import matplotlib.pyplot as plt"
   ]
  },
  {
   "cell_type": "markdown",
   "metadata": {},
   "source": [
    " - http://www.users.on.net/~zygmunt.szpak/ellipsefitting.html\n",
    " - https://docs.scipy.org/doc/scipy/reference/generated/scipy.optimize.least_squares.html#scipy.optimize.least_squares\n",
    " - https://en.wikipedia.org/wiki/Rayleigh_quotient"
   ]
  },
  {
   "cell_type": "code",
   "execution_count": 2,
   "metadata": {},
   "outputs": [],
   "source": [
    "def scale(a=2, b=1):\n",
    "    return np.array([[a, 0], [0, b]])"
   ]
  },
  {
   "cell_type": "code",
   "execution_count": 3,
   "metadata": {},
   "outputs": [],
   "source": [
    "def rotation(alpha=np.pi/4):\n",
    "    return np.array([\n",
    "        [np.cos(alpha), -np.sin(alpha)],\n",
    "        [np.sin(alpha),  np.cos(alpha)]\n",
    "    ])"
   ]
  },
  {
   "cell_type": "code",
   "execution_count": 4,
   "metadata": {},
   "outputs": [],
   "source": [
    "def circle(phi, rho=1):\n",
    "    return rho*np.array([np.cos(phi), np.sin(phi)])"
   ]
  },
  {
   "cell_type": "code",
   "execution_count": 5,
   "metadata": {},
   "outputs": [],
   "source": [
    "def ellipse(phi, rho, alpha, S, Xc):\n",
    "    C = circle(phi, rho=rho)\n",
    "    R = rotation(alpha)\n",
    "    S = scale(*S)\n",
    "    Xc = np.array(Xc)\n",
    "    return np.dot(R, np.dot(S, C)).T + Xc"
   ]
  },
  {
   "cell_type": "code",
   "execution_count": null,
   "metadata": {},
   "outputs": [],
   "source": []
  },
  {
   "cell_type": "code",
   "execution_count": 6,
   "metadata": {},
   "outputs": [],
   "source": [
    "t = np.linspace(np.pi/2, 3/2*np.pi, 200)\n",
    "t2 = np.linspace(0, 2*np.pi, 200)\n",
    "e = np.random.randn(t.size)*1e-1"
   ]
  },
  {
   "cell_type": "code",
   "execution_count": 7,
   "metadata": {},
   "outputs": [],
   "source": [
    "X = ellipse(phi=t, rho=2+e, alpha=np.pi/4, S=[2, 1], Xc=[1, 1])\n",
    "Xr = ellipse(phi=t2, rho=2, alpha=np.pi/4, S=[2, 1], Xc=[1, 1])"
   ]
  },
  {
   "cell_type": "code",
   "execution_count": 8,
   "metadata": {},
   "outputs": [
    {
     "data": {
      "text/plain": [
       "(200, 2)"
      ]
     },
     "execution_count": 8,
     "metadata": {},
     "output_type": "execute_result"
    }
   ],
   "source": [
    "X.shape"
   ]
  },
  {
   "cell_type": "code",
   "execution_count": null,
   "metadata": {},
   "outputs": [],
   "source": []
  },
  {
   "cell_type": "code",
   "execution_count": null,
   "metadata": {},
   "outputs": [],
   "source": []
  },
  {
   "cell_type": "code",
   "execution_count": null,
   "metadata": {},
   "outputs": [],
   "source": []
  },
  {
   "cell_type": "code",
   "execution_count": 9,
   "metadata": {},
   "outputs": [],
   "source": [
    "def f(x, a, b, c, d, e):\n",
    "    return a*x[:,0]**2 + b*x[:,0]*x[:,1] + c*x[:,1]**2 + d*x[:,0] + e*x[:,1]"
   ]
  },
  {
   "cell_type": "code",
   "execution_count": 10,
   "metadata": {},
   "outputs": [],
   "source": [
    "def f2(x, x0, x1, k0, k1):\n",
    "    return k0*(x[:,0] - x0)**2 + k1*(x[:,1] - x1)**2"
   ]
  },
  {
   "cell_type": "code",
   "execution_count": 11,
   "metadata": {},
   "outputs": [],
   "source": [
    "optsol, optcov = optimize.curve_fit(f, X, np.ones_like(X[:,0]))"
   ]
  },
  {
   "cell_type": "code",
   "execution_count": 12,
   "metadata": {},
   "outputs": [
    {
     "data": {
      "text/plain": [
       "array([ 0.17619764, -0.21602536,  0.17752036, -0.14165578, -0.14251744])"
      ]
     },
     "execution_count": 12,
     "metadata": {},
     "output_type": "execute_result"
    }
   ],
   "source": [
    "optsol"
   ]
  },
  {
   "cell_type": "code",
   "execution_count": 13,
   "metadata": {},
   "outputs": [],
   "source": [
    "def coef(A,B,C,D,E,F):\n",
    "    return [\n",
    "        -np.sqrt(2*(A*E**2 + C*D**2 - B*D*E + (B**2-4*A*C)*F)*((A+C)+np.sqrt((A-C)**2+B**2)))/(B**2-4*A*C),\n",
    "        -np.sqrt(2*(A*E**2 + C*D**2 - B*D*E + (B**2-4*A*C)*F)*((A+C)-np.sqrt((A-C)**2+B**2)))/(B**2-4*A*C),\n",
    "        (2*C*D-B*E)/(B**2-4*A*C),\n",
    "        (2*A*E-B*D)/(B**2-4*A*C),\n",
    "    ]"
   ]
  },
  {
   "cell_type": "code",
   "execution_count": 14,
   "metadata": {},
   "outputs": [
    {
     "data": {
      "text/plain": [
       "array([4.08109027, 2.00624521, 1.03356667, 1.03028757])"
      ]
     },
     "execution_count": 14,
     "metadata": {},
     "output_type": "execute_result"
    }
   ],
   "source": [
    "r = np.array(coef(*(list(optsol)+[-1])))\n",
    "r"
   ]
  },
  {
   "cell_type": "markdown",
   "metadata": {},
   "source": [
    "\\begin{align}\n",
    "  a, b    &= \\frac{-\\sqrt{2 \\Big(A E^2 + C D^2 - B D E + (B^2 - 4 A C) F\\Big)\\left((A + C) \\pm \\sqrt{(A - C)^2 + B^2}\\right)}}{B^2 - 4 A C} \\\\\n",
    "  x_\\circ  &= \\frac{2CD - BE}{B^2 - 4AC} \\\\[3pt]\n",
    "  y_\\circ  &= \\frac{2AE - BD}{B^2 - 4AC} \\\\[3pt]\n",
    "    \\Theta &= \\begin{cases}\n",
    "                \\arctan\\left(\\frac{1}{B}\\left(C - A - \\sqrt{(A - C)^2 + B^2}\\right)\\right)\n",
    "                         & \\text{for } B \\ne 0 \\\\\n",
    "                       0 & \\text{for } B = 0,\\ A < C \\\\\n",
    "                90^\\circ & \\text{for } B = 0,\\ A > C \\\\\n",
    "              \\end{cases}\n",
    "\\end{align}"
   ]
  },
  {
   "cell_type": "code",
   "execution_count": null,
   "metadata": {},
   "outputs": [],
   "source": []
  },
  {
   "cell_type": "code",
   "execution_count": 15,
   "metadata": {},
   "outputs": [],
   "source": [
    "Xhat = ellipse(phi=t2, rho=1, alpha=np.pi/4, S=r[:2], Xc=r[2:])"
   ]
  },
  {
   "cell_type": "code",
   "execution_count": 16,
   "metadata": {},
   "outputs": [
    {
     "data": {
      "image/png": "[encoded data removed]",
      "text/plain": [
       "<Figure size 432x288 with 1 Axes>"
      ]
     },
     "metadata": {
      "needs_background": "light"
     },
     "output_type": "display_data"
    }
   ],
   "source": [
    "fig, axe = plt.subplots()\n",
    "axe.plot(X[:,0], X[:,1], '.')\n",
    "axe.plot(Xhat[:,0], Xhat[:,1])\n",
    "axe.plot(Xr[:,0], Xr[:,1])\n",
    "axe.set_aspect('equal', adjustable='box')\n",
    "axe.grid()"
   ]
  },
  {
   "cell_type": "code",
   "execution_count": 17,
   "metadata": {},
   "outputs": [
    {
     "data": {
      "text/plain": [
       "1.5388100171220314"
      ]
     },
     "execution_count": 17,
     "metadata": {},
     "output_type": "execute_result"
    }
   ],
   "source": [
    "np.sqrt(np.sum((f(X, *optsol) - 1)**2))"
   ]
  },
  {
   "cell_type": "code",
   "execution_count": 18,
   "metadata": {},
   "outputs": [],
   "source": [
    "optsol, optcov = optimize.curve_fit(f2, X, np.ones_like(X[:,0]))"
   ]
  },
  {
   "cell_type": "code",
   "execution_count": 19,
   "metadata": {},
   "outputs": [
    {
     "data": {
      "text/plain": [
       "array([-0.14797862, -0.13836625,  0.2128316 ,  0.21456547])"
      ]
     },
     "execution_count": 19,
     "metadata": {},
     "output_type": "execute_result"
    }
   ],
   "source": [
    "optsol"
   ]
  },
  {
   "cell_type": "code",
   "execution_count": null,
   "metadata": {},
   "outputs": [],
   "source": []
  },
  {
   "cell_type": "code",
   "execution_count": 20,
   "metadata": {},
   "outputs": [],
   "source": [
    "Xb = np.array([X[:,0]**2, X[:,0]*X[:,1], X[:,1]**2, X[:,0], X[:,1], np.ones_like(X[:,0])]).T"
   ]
  },
  {
   "cell_type": "code",
   "execution_count": 21,
   "metadata": {},
   "outputs": [],
   "source": [
    "M = np.dot(Xb.T, Xb)"
   ]
  },
  {
   "cell_type": "code",
   "execution_count": 22,
   "metadata": {},
   "outputs": [],
   "source": [
    "l, U = np.linalg.eigh(M)"
   ]
  },
  {
   "cell_type": "code",
   "execution_count": 23,
   "metadata": {},
   "outputs": [
    {
     "data": {
      "text/plain": [
       "array([2.05644854e+00, 6.59554184e+01, 3.59642664e+02, 7.09462456e+02,\n",
       "       1.03527705e+03, 3.20759518e+03])"
      ]
     },
     "execution_count": 23,
     "metadata": {},
     "output_type": "execute_result"
    }
   ],
   "source": [
    "l"
   ]
  },
  {
   "cell_type": "code",
   "execution_count": null,
   "metadata": {},
   "outputs": [],
   "source": []
  },
  {
   "cell_type": "code",
   "execution_count": null,
   "metadata": {},
   "outputs": [],
   "source": []
  },
  {
   "cell_type": "code",
   "execution_count": null,
   "metadata": {},
   "outputs": [],
   "source": []
  }
 ],
 "metadata": {
  "kernelspec": {
   "display_name": "Python 3",
   "language": "python",
   "name": "python3"
  },
  "language_info": {
   "codemirror_mode": {
    "name": "ipython",
    "version": 3
   },
   "file_extension": ".py",
   "mimetype": "text/x-python",
   "name": "python",
   "nbconvert_exporter": "python",
   "pygments_lexer": "ipython3",
   "version": "3.7.6"
  }
 },
 "nbformat": 4,
 "nbformat_minor": 4
}
