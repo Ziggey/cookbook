{
 "cells": [
  {
   "cell_type": "code",
   "execution_count": 1,
   "metadata": {},
   "outputs": [],
   "source": [
    "import numpy as np\n",
    "from scipy import optimize\n",
    "import matplotlib.pyplot as plt"
   ]
  },
  {
   "cell_type": "code",
   "execution_count": 2,
   "metadata": {},
   "outputs": [],
   "source": [
    "np.random.seed(16082011)"
   ]
  },
  {
   "cell_type": "markdown",
   "metadata": {},
   "source": [
    " - http://www.users.on.net/~zygmunt.szpak/ellipsefitting.html\n",
    " - https://www.researchgate.net/publication/3659879_Direct_Least-squares_fitting_of_ellipses/link/00463531e42a2a932f000000/download\n",
    " - https://docs.scipy.org/doc/scipy/reference/generated/scipy.optimize.least_squares.html#scipy.optimize.least_squares\n",
    " - https://en.wikipedia.org/wiki/Rayleigh_quotient"
   ]
  },
  {
   "cell_type": "code",
   "execution_count": 3,
   "metadata": {},
   "outputs": [],
   "source": [
    "def scale(a=2, b=1):\n",
    "    return np.array([[a, 0], [0, b]])"
   ]
  },
  {
   "cell_type": "code",
   "execution_count": 4,
   "metadata": {},
   "outputs": [],
   "source": [
    "def rotation(alpha=np.pi/4):\n",
    "    return np.array([\n",
    "        [np.cos(alpha), -np.sin(alpha)],\n",
    "        [np.sin(alpha),  np.cos(alpha)]\n",
    "    ])"
   ]
  },
  {
   "cell_type": "code",
   "execution_count": 5,
   "metadata": {},
   "outputs": [],
   "source": [
    "def circle(phi, rho=1):\n",
    "    return rho*np.array([np.cos(phi), np.sin(phi)])"
   ]
  },
  {
   "cell_type": "code",
   "execution_count": 6,
   "metadata": {},
   "outputs": [],
   "source": [
    "def ellipse(phi, rho, alpha, S, Xc):\n",
    "    C = circle(phi, rho=rho)\n",
    "    R = rotation(alpha)\n",
    "    S = scale(*S)\n",
    "    Xc = np.array(Xc)\n",
    "    return np.dot(R, np.dot(S, C)).T + Xc"
   ]
  },
  {
   "cell_type": "code",
   "execution_count": 7,
   "metadata": {},
   "outputs": [],
   "source": [
    "def params(A,B,C,D,E,F):\n",
    "    return [\n",
    "        -np.sqrt(2*(A*E**2 + C*D**2 - B*D*E + (B**2-4*A*C)*F)*((A+C)+np.sqrt((A-C)**2+B**2)))/(B**2-4*A*C),\n",
    "        -np.sqrt(2*(A*E**2 + C*D**2 - B*D*E + (B**2-4*A*C)*F)*((A+C)-np.sqrt((A-C)**2+B**2)))/(B**2-4*A*C),\n",
    "        (2*C*D-B*E)/(B**2-4*A*C),\n",
    "        (2*A*E-B*D)/(B**2-4*A*C),\n",
    "        np.arctan((C-A-np.sqrt((A-C)**2+B**2))/B)\n",
    "    ]"
   ]
  },
  {
   "cell_type": "code",
   "execution_count": 8,
   "metadata": {},
   "outputs": [],
   "source": [
    "def objective(x, a, b, c, d, e):\n",
    "    return a*x[:,0]**2 + b*x[:,0]*x[:,1] + c*x[:,1]**2 + d*x[:,0] + e*x[:,1]"
   ]
  },
  {
   "cell_type": "code",
   "execution_count": 9,
   "metadata": {},
   "outputs": [],
   "source": [
    "def u(x):\n",
    "    return np.array([x[:,0]**2, x[:,0]*x[:,1], x[:,1]**2, x[:,0], x[:,1], np.ones_like(x[:,0])])"
   ]
  },
  {
   "cell_type": "code",
   "execution_count": null,
   "metadata": {},
   "outputs": [],
   "source": []
  },
  {
   "cell_type": "code",
   "execution_count": 10,
   "metadata": {},
   "outputs": [],
   "source": [
    "t = np.linspace(np.pi/2+0.25, 3/2*np.pi+0.25, 200)\n",
    "t = np.linspace(0, np.pi, 200)\n",
    "t = np.linspace(np.pi/2+0.25, 3/2*np.pi-0.25, 200)\n",
    "t2 = np.linspace(0, 2*np.pi, 200)\n",
    "e = np.random.randn(t.size)*1e-1"
   ]
  },
  {
   "cell_type": "code",
   "execution_count": 11,
   "metadata": {},
   "outputs": [],
   "source": [
    "alpha = np.pi/4\n",
    "S = [5, 3]\n",
    "Xc = [2, 1]"
   ]
  },
  {
   "cell_type": "code",
   "execution_count": 12,
   "metadata": {},
   "outputs": [],
   "source": [
    "X = ellipse(phi=t, rho=2+e, alpha=alpha, S=S, Xc=Xc)\n",
    "Xr = ellipse(phi=t2, rho=2, alpha=alpha, S=S, Xc=Xc)"
   ]
  },
  {
   "cell_type": "code",
   "execution_count": null,
   "metadata": {},
   "outputs": [],
   "source": []
  },
  {
   "cell_type": "code",
   "execution_count": 13,
   "metadata": {},
   "outputs": [
    {
     "data": {
      "text/plain": [
       "array([ 0.01265283, -0.02333137,  0.01249618, -0.10617916, -0.05892398])"
      ]
     },
     "execution_count": 13,
     "metadata": {},
     "output_type": "execute_result"
    }
   ],
   "source": [
    "optsol, optcov = optimize.curve_fit(objective, X, np.ones_like(X[:,0]))\n",
    "optsol"
   ]
  },
  {
   "cell_type": "code",
   "execution_count": null,
   "metadata": {},
   "outputs": [],
   "source": []
  },
  {
   "cell_type": "code",
   "execution_count": 14,
   "metadata": {},
   "outputs": [
    {
     "data": {
      "text/plain": [
       "array([72.34223397, 14.0054853 , 45.72813363, 45.04671226,  0.78875512])"
      ]
     },
     "execution_count": 14,
     "metadata": {},
     "output_type": "execute_result"
    }
   ],
   "source": [
    "r1 = np.array(params(*(list(optsol)+[-1])))\n",
    "r1"
   ]
  },
  {
   "cell_type": "code",
   "execution_count": null,
   "metadata": {},
   "outputs": [],
   "source": []
  },
  {
   "cell_type": "code",
   "execution_count": 15,
   "metadata": {},
   "outputs": [],
   "source": [
    "Xhat1 = ellipse(phi=t2, rho=1, alpha=r1[4], S=r1[:2], Xc=r1[2:4])"
   ]
  },
  {
   "cell_type": "code",
   "execution_count": null,
   "metadata": {},
   "outputs": [],
   "source": []
  },
  {
   "cell_type": "code",
   "execution_count": 16,
   "metadata": {},
   "outputs": [],
   "source": [
    "Xb = u(X).T"
   ]
  },
  {
   "cell_type": "code",
   "execution_count": 17,
   "metadata": {},
   "outputs": [],
   "source": [
    "M = np.dot(Xb.T, Xb)"
   ]
  },
  {
   "cell_type": "code",
   "execution_count": 18,
   "metadata": {},
   "outputs": [
    {
     "data": {
      "text/plain": [
       "array([[ 1.23029188e+05,  5.23923988e+04,  7.07515440e+04,\n",
       "        -2.01441240e+04, -1.21794722e+04,  4.07495443e+03],\n",
       "       [ 5.23923988e+04,  7.07515440e+04,  5.89740934e+04,\n",
       "        -1.21794722e+04, -1.07292076e+04,  1.67454650e+03],\n",
       "       [ 7.07515440e+04,  5.89740934e+04,  2.28418537e+05,\n",
       "        -1.07292076e+04, -3.42622746e+04,  5.53170878e+03],\n",
       "       [-2.01441240e+04, -1.21794722e+04, -1.07292076e+04,\n",
       "         4.07495443e+03,  1.67454650e+03, -6.36136738e+02],\n",
       "       [-1.21794722e+04, -1.07292076e+04, -3.42622746e+04,\n",
       "         1.67454650e+03,  5.53170878e+03, -8.35677605e+02],\n",
       "       [ 4.07495443e+03,  1.67454650e+03,  5.53170878e+03,\n",
       "        -6.36136738e+02, -8.35677605e+02,  2.00000000e+02]])"
      ]
     },
     "execution_count": 18,
     "metadata": {},
     "output_type": "execute_result"
    }
   ],
   "source": [
    "M"
   ]
  },
  {
   "cell_type": "code",
   "execution_count": 19,
   "metadata": {},
   "outputs": [],
   "source": [
    "l, U = np.linalg.eigh(M)"
   ]
  },
  {
   "cell_type": "code",
   "execution_count": 20,
   "metadata": {},
   "outputs": [
    {
     "data": {
      "text/plain": [
       "array([1.57359722e+00, 7.34761898e+01, 6.93550485e+02, 3.69964810e+04,\n",
       "       9.69693050e+04, 2.97271546e+05])"
      ]
     },
     "execution_count": 20,
     "metadata": {},
     "output_type": "execute_result"
    }
   ],
   "source": [
    "l"
   ]
  },
  {
   "cell_type": "code",
   "execution_count": 21,
   "metadata": {},
   "outputs": [
    {
     "data": {
      "text/plain": [
       "array([[-0.01232297, -0.09172815, -0.10414135, -0.45449608, -0.75677873,\n",
       "        -0.44867354],\n",
       "       [ 0.02333713, -0.07434883, -0.04544264,  0.8838581 , -0.32205012,\n",
       "        -0.32701861],\n",
       "       [-0.01217124, -0.09880616,  0.10101336, -0.10615829,  0.54707261,\n",
       "        -0.81812437],\n",
       "       [ 0.10692905, -0.6149421 , -0.7644527 , -0.014303  ,  0.14204118,\n",
       "         0.07512781],\n",
       "       [ 0.06025765, -0.76521965,  0.62484501, -0.00994483, -0.06373871,\n",
       "         0.1273385 ],\n",
       "       [ 0.9920134 ,  0.11216345,  0.04546021, -0.02559529, -0.00655139,\n",
       "        -0.02375106]])"
      ]
     },
     "execution_count": 21,
     "metadata": {},
     "output_type": "execute_result"
    }
   ],
   "source": [
    "U"
   ]
  },
  {
   "cell_type": "code",
   "execution_count": 22,
   "metadata": {},
   "outputs": [
    {
     "data": {
      "text/plain": [
       "array([-0.01232297,  0.02333713, -0.01217124,  0.10692905,  0.06025765,\n",
       "        0.9920134 ])"
      ]
     },
     "execution_count": 22,
     "metadata": {},
     "output_type": "execute_result"
    }
   ],
   "source": [
    "U[:,0]"
   ]
  },
  {
   "cell_type": "code",
   "execution_count": null,
   "metadata": {},
   "outputs": [],
   "source": []
  },
  {
   "cell_type": "code",
   "execution_count": 23,
   "metadata": {},
   "outputs": [
    {
     "data": {
      "text/plain": [
       "array([ 17.15029353, 110.29144838,  72.47026596,  71.95263102,\n",
       "        -0.78214754])"
      ]
     },
     "execution_count": 23,
     "metadata": {},
     "output_type": "execute_result"
    }
   ],
   "source": [
    "r2 = np.array(params(*U[:,0]))\n",
    "r2"
   ]
  },
  {
   "cell_type": "code",
   "execution_count": 24,
   "metadata": {},
   "outputs": [],
   "source": [
    "Xhat2 = ellipse(phi=t2, rho=1, alpha=r2[4], S=r2[:2], Xc=r2[2:4])"
   ]
  },
  {
   "cell_type": "code",
   "execution_count": 25,
   "metadata": {},
   "outputs": [
    {
     "data": {
      "image/png": "[encoded data removed]",
      "text/plain": [
       "<Figure size 432x288 with 1 Axes>"
      ]
     },
     "metadata": {
      "needs_background": "light"
     },
     "output_type": "display_data"
    }
   ],
   "source": [
    "fig, axe = plt.subplots()\n",
    "axe.plot(X[:,0], X[:,1], '.', label='Data')\n",
    "axe.plot(Xr[:,0], Xr[:,1], label='Exact')\n",
    "axe.plot(Xhat1[:,0], Xhat1[:,1], label='LM')\n",
    "axe.plot(Xhat2[:,0], Xhat2[:,1], label='ALS')\n",
    "axe.set_title('Ellipse Fit')\n",
    "axe.set_xlabel('$x$')\n",
    "axe.set_ylabel('$y$')\n",
    "axe.set_aspect('equal', adjustable='box')\n",
    "axe.legend(bbox_to_anchor=(1,1))\n",
    "axe.grid()"
   ]
  },
  {
   "cell_type": "code",
   "execution_count": null,
   "metadata": {},
   "outputs": [],
   "source": []
  },
  {
   "cell_type": "code",
   "execution_count": null,
   "metadata": {},
   "outputs": [],
   "source": []
  }
 ],
 "metadata": {
  "kernelspec": {
   "display_name": "Python 3",
   "language": "python",
   "name": "python3"
  },
  "language_info": {
   "codemirror_mode": {
    "name": "ipython",
    "version": 3
   },
   "file_extension": ".py",
   "mimetype": "text/x-python",
   "name": "python",
   "nbconvert_exporter": "python",
   "pygments_lexer": "ipython3",
   "version": "3.7.6"
  }
 },
 "nbformat": 4,
 "nbformat_minor": 4
}
