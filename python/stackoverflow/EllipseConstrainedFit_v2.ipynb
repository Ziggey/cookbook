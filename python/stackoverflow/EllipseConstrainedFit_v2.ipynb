{
 "cells": [
  {
   "cell_type": "code",
   "execution_count": 1,
   "metadata": {},
   "outputs": [],
   "source": [
    "import numpy as np\n",
    "from scipy import optimize\n",
    "import matplotlib.pyplot as plt"
   ]
  },
  {
   "cell_type": "code",
   "execution_count": 2,
   "metadata": {},
   "outputs": [],
   "source": [
    "np.random.seed(16082011)"
   ]
  },
  {
   "cell_type": "markdown",
   "metadata": {},
   "source": [
    " - http://www.users.on.net/~zygmunt.szpak/ellipsefitting.html\n",
    " - https://www.researchgate.net/publication/3659879_Direct_Least-squares_fitting_of_ellipses/link/00463531e42a2a932f000000/download\n",
    " - https://docs.scipy.org/doc/scipy/reference/generated/scipy.optimize.least_squares.html#scipy.optimize.least_squares\n",
    " - https://en.wikipedia.org/wiki/Rayleigh_quotient\n",
    " - https://docs.scipy.org/doc/scipy/reference/generated/scipy.optimize.minimize.html#scipy.optimize.minimize\n",
    " - https://docs.scipy.org/doc/scipy/reference/generated/scipy.optimize.NonlinearConstraint.html#scipy.optimize.NonlinearConstraint"
   ]
  },
  {
   "cell_type": "code",
   "execution_count": 3,
   "metadata": {},
   "outputs": [],
   "source": [
    "def scale(a=2, b=1):\n",
    "    return np.array([[a, 0], [0, b]])"
   ]
  },
  {
   "cell_type": "code",
   "execution_count": 4,
   "metadata": {},
   "outputs": [],
   "source": [
    "def rotation(alpha=np.pi/4):\n",
    "    return np.array([\n",
    "        [np.cos(alpha), -np.sin(alpha)],\n",
    "        [np.sin(alpha),  np.cos(alpha)]\n",
    "    ])"
   ]
  },
  {
   "cell_type": "code",
   "execution_count": 5,
   "metadata": {},
   "outputs": [],
   "source": [
    "def circle(phi, rho=1):\n",
    "    return rho*np.array([np.cos(phi), np.sin(phi)])"
   ]
  },
  {
   "cell_type": "code",
   "execution_count": 6,
   "metadata": {},
   "outputs": [],
   "source": [
    "def ellipse(phi, rho, alpha, S, Xc):\n",
    "    C = circle(phi, rho=rho)\n",
    "    R = rotation(alpha)\n",
    "    S = scale(*S)\n",
    "    Xc = np.array(Xc)\n",
    "    return np.dot(R, np.dot(S, C)).T + Xc"
   ]
  },
  {
   "cell_type": "code",
   "execution_count": 7,
   "metadata": {},
   "outputs": [],
   "source": [
    "def params(A, B, C, D, E, F):\n",
    "    return [\n",
    "        -np.sqrt(2*(A*E**2 + C*D**2 - B*D*E + (B**2-4*A*C)*F)*((A+C)+np.sqrt((A-C)**2+B**2)))/(B**2-4*A*C),\n",
    "        -np.sqrt(2*(A*E**2 + C*D**2 - B*D*E + (B**2-4*A*C)*F)*((A+C)-np.sqrt((A-C)**2+B**2)))/(B**2-4*A*C),\n",
    "        (2*C*D-B*E)/(B**2-4*A*C),\n",
    "        (2*A*E-B*D)/(B**2-4*A*C),\n",
    "        np.arctan((C-A-np.sqrt((A-C)**2+B**2))/B)\n",
    "    ]"
   ]
  },
  {
   "cell_type": "code",
   "execution_count": 8,
   "metadata": {},
   "outputs": [],
   "source": [
    "def objective(x, A, B, C, D, E):\n",
    "    return A*x[:,0]**2 + B*x[:,0]*x[:,1] + C*x[:,1]**2 + D*x[:,0] + E*x[:,1]"
   ]
  },
  {
   "cell_type": "code",
   "execution_count": 9,
   "metadata": {},
   "outputs": [],
   "source": [
    "def u(x):\n",
    "    return np.array([x[:,0]**2, x[:,0]*x[:,1], x[:,1]**2, x[:,0], x[:,1], np.ones_like(x[:,0])])"
   ]
  },
  {
   "cell_type": "code",
   "execution_count": 10,
   "metadata": {},
   "outputs": [],
   "source": [
    "def obj(theta, C):\n",
    "    theta = np.array(theta).T\n",
    "    return np.dot(np.dot(theta.T, C), theta)"
   ]
  },
  {
   "cell_type": "code",
   "execution_count": 11,
   "metadata": {},
   "outputs": [],
   "source": [
    "def constraint(x):\n",
    "    return x[1]**2 - 4*x[0]*x[1]"
   ]
  },
  {
   "cell_type": "code",
   "execution_count": 12,
   "metadata": {},
   "outputs": [],
   "source": [
    "t = np.linspace(np.pi/2, 4/2*np.pi+0.25, 200)\n",
    "t = np.linspace(np.pi/2+0.25, 3/2*np.pi+0.25, 200)\n",
    "t = np.linspace(0, np.pi, 200)\n",
    "#t = np.linspace(np.pi/2+0.25, 3/2*np.pi-0.25, 200)"
   ]
  },
  {
   "cell_type": "code",
   "execution_count": 13,
   "metadata": {},
   "outputs": [],
   "source": [
    "t0 = np.linspace(0, 2*np.pi, 200)\n",
    "e = np.random.randn(t.size)*1e-1"
   ]
  },
  {
   "cell_type": "code",
   "execution_count": 14,
   "metadata": {},
   "outputs": [],
   "source": [
    "alpha = np.pi/4\n",
    "S = [5, 3]\n",
    "Xc = [2, 1]"
   ]
  },
  {
   "cell_type": "code",
   "execution_count": 15,
   "metadata": {},
   "outputs": [],
   "source": [
    "\n",
    "X0 = ellipse(phi=t0, rho=1, alpha=alpha, S=S, Xc=Xc)"
   ]
  },
  {
   "cell_type": "code",
   "execution_count": 16,
   "metadata": {},
   "outputs": [],
   "source": [
    "X = ellipse(phi=t, rho=1+e, alpha=alpha, S=S, Xc=Xc)"
   ]
  },
  {
   "cell_type": "code",
   "execution_count": 17,
   "metadata": {},
   "outputs": [],
   "source": [
    "optsol1, optcov1 = optimize.curve_fit(objective, X, np.ones_like(X[:,0]))\n",
    "r1 = np.array(params(*(list(optsol1)+[-1])))\n",
    "Xhat1 = ellipse(phi=t0, rho=1, alpha=r1[4], S=r1[:2], Xc=r1[2:4])"
   ]
  },
  {
   "cell_type": "code",
   "execution_count": 18,
   "metadata": {},
   "outputs": [
    {
     "name": "stderr",
     "output_type": "stream",
     "text": [
      "C:\\Users\\jlanderc\\Anaconda3\\lib\\site-packages\\ipykernel_launcher.py:3: RuntimeWarning: invalid value encountered in sqrt\n",
      "  This is separate from the ipykernel package so we can avoid doing imports until\n"
     ]
    }
   ],
   "source": [
    "Xb = u(X).T\n",
    "M = np.dot(Xb.T, Xb)\n",
    "l, U = np.linalg.eigh(M)\n",
    "r2 = np.array(params(*U[:,0]))\n",
    "Xhat2 = ellipse(phi=t0, rho=1, alpha=r2[4], S=r2[:2], Xc=r2[2:4])"
   ]
  },
  {
   "cell_type": "code",
   "execution_count": 19,
   "metadata": {},
   "outputs": [],
   "source": [
    "nlc = optimize.NonlinearConstraint(constraint, 0, np.inf)\n",
    "optsol3 = optimize.minimize(obj, np.ones(6), args=(M,), constraints=nlc, tol=1e-13)\n",
    "r3 = params(*optsol3.x)\n",
    "Xhat3 = ellipse(phi=t0, rho=1, alpha=r3[4], S=r3[:2], Xc=r3[2:4])"
   ]
  },
  {
   "cell_type": "code",
   "execution_count": null,
   "metadata": {},
   "outputs": [],
   "source": []
  },
  {
   "cell_type": "code",
   "execution_count": null,
   "metadata": {},
   "outputs": [],
   "source": []
  },
  {
   "cell_type": "code",
   "execution_count": 20,
   "metadata": {},
   "outputs": [
    {
     "data": {
      "image/png": "[encoded data removed]",
      "text/plain": [
       "<Figure size 432x288 with 1 Axes>"
      ]
     },
     "metadata": {
      "needs_background": "light"
     },
     "output_type": "display_data"
    }
   ],
   "source": [
    "fig, axe = plt.subplots()\n",
    "axe.plot(X[:,0], X[:,1], '.', label='Data')\n",
    "axe.plot(X0[:,0], X0[:,1], label='Target')\n",
    "axe.plot(Xhat1[:,0], Xhat1[:,1], label='curve_fit')\n",
    "axe.plot(Xhat2[:,0], Xhat2[:,1], label='eigh')\n",
    "axe.plot(Xhat3[:,0], Xhat3[:,1], label='minimize')\n",
    "axe.set_title('Ellipse Fit')\n",
    "axe.set_xlabel('$x$')\n",
    "axe.set_ylabel('$y$')\n",
    "axe.set_aspect('equal', adjustable='box')\n",
    "axe.legend(bbox_to_anchor=(1,1))\n",
    "axe.grid()"
   ]
  },
  {
   "cell_type": "code",
   "execution_count": null,
   "metadata": {},
   "outputs": [],
   "source": []
  },
  {
   "cell_type": "code",
   "execution_count": null,
   "metadata": {},
   "outputs": [],
   "source": []
  }
 ],
 "metadata": {
  "kernelspec": {
   "display_name": "Python 3",
   "language": "python",
   "name": "python3"
  },
  "language_info": {
   "codemirror_mode": {
    "name": "ipython",
    "version": 3
   },
   "file_extension": ".py",
   "mimetype": "text/x-python",
   "name": "python",
   "nbconvert_exporter": "python",
   "pygments_lexer": "ipython3",
   "version": "3.7.6"
  }
 },
 "nbformat": 4,
 "nbformat_minor": 4
}
