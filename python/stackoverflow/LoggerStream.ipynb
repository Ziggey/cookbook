{
 "cells": [
  {
   "cell_type": "code",
   "execution_count": 1,
   "metadata": {},
   "outputs": [
    {
     "name": "stdout",
     "output_type": "stream",
     "text": [
      "-- Starting loop number 0\n"
     ]
    },
    {
     "name": "stderr",
     "output_type": "stream",
     "text": [
      "04/06/2019 - 07:50:07 AM - INFO - root - loop number 0\n",
      "04/06/2019 - 07:50:07 AM - INFO - root - loop number 0\n"
     ]
    },
    {
     "name": "stdout",
     "output_type": "stream",
     "text": [
      "-- Finished loop number 0\n",
      "-- Starting loop number 1\n"
     ]
    },
    {
     "name": "stderr",
     "output_type": "stream",
     "text": [
      "04/06/2019 - 07:50:07 AM - INFO - root - loop number 1\n",
      "04/06/2019 - 07:50:07 AM - INFO - root - loop number 1\n"
     ]
    },
    {
     "name": "stdout",
     "output_type": "stream",
     "text": [
      "-- Finished loop number 1\n",
      "-- Starting loop number 2\n"
     ]
    },
    {
     "name": "stderr",
     "output_type": "stream",
     "text": [
      "04/06/2019 - 07:50:07 AM - INFO - root - loop number 2\n",
      "04/06/2019 - 07:50:07 AM - INFO - root - loop number 2\n"
     ]
    },
    {
     "name": "stdout",
     "output_type": "stream",
     "text": [
      "-- Finished loop number 2\n",
      "-- Starting loop number 3\n"
     ]
    },
    {
     "name": "stderr",
     "output_type": "stream",
     "text": [
      "04/06/2019 - 07:50:07 AM - INFO - root - loop number 3\n",
      "04/06/2019 - 07:50:07 AM - INFO - root - loop number 3\n"
     ]
    },
    {
     "name": "stdout",
     "output_type": "stream",
     "text": [
      "-- Finished loop number 3\n",
      "-- Starting loop number 4\n"
     ]
    },
    {
     "name": "stderr",
     "output_type": "stream",
     "text": [
      "04/06/2019 - 07:50:07 AM - INFO - root - loop number 4\n",
      "04/06/2019 - 07:50:07 AM - INFO - root - loop number 4\n"
     ]
    },
    {
     "name": "stdout",
     "output_type": "stream",
     "text": [
      "-- Finished loop number 4\n",
      "-- Starting loop number 5\n"
     ]
    },
    {
     "name": "stderr",
     "output_type": "stream",
     "text": [
      "04/06/2019 - 07:50:07 AM - INFO - root - loop number 5\n",
      "04/06/2019 - 07:50:07 AM - INFO - root - loop number 5\n"
     ]
    },
    {
     "name": "stdout",
     "output_type": "stream",
     "text": [
      "-- Finished loop number 5\n",
      "-- Starting loop number 6\n"
     ]
    },
    {
     "name": "stderr",
     "output_type": "stream",
     "text": [
      "04/06/2019 - 07:50:07 AM - INFO - root - loop number 6\n",
      "04/06/2019 - 07:50:07 AM - INFO - root - loop number 6\n"
     ]
    },
    {
     "name": "stdout",
     "output_type": "stream",
     "text": [
      "-- Finished loop number 6\n",
      "-- Starting loop number 7\n"
     ]
    },
    {
     "name": "stderr",
     "output_type": "stream",
     "text": [
      "04/06/2019 - 07:50:07 AM - INFO - root - loop number 7\n",
      "04/06/2019 - 07:50:07 AM - INFO - root - loop number 7\n"
     ]
    },
    {
     "name": "stdout",
     "output_type": "stream",
     "text": [
      "-- Finished loop number 7\n",
      "-- Starting loop number 8\n"
     ]
    },
    {
     "name": "stderr",
     "output_type": "stream",
     "text": [
      "04/06/2019 - 07:50:07 AM - INFO - root - loop number 8\n",
      "04/06/2019 - 07:50:07 AM - INFO - root - loop number 8\n"
     ]
    },
    {
     "name": "stdout",
     "output_type": "stream",
     "text": [
      "-- Finished loop number 8\n",
      "-- Starting loop number 9\n"
     ]
    },
    {
     "name": "stderr",
     "output_type": "stream",
     "text": [
      "04/06/2019 - 07:50:07 AM - INFO - root - loop number 9\n",
      "04/06/2019 - 07:50:07 AM - INFO - root - loop number 9\n"
     ]
    },
    {
     "name": "stdout",
     "output_type": "stream",
     "text": [
      "-- Finished loop number 9\n"
     ]
    }
   ],
   "source": [
    "import logging\n",
    "\n",
    "# Create logger objects and set  level\n",
    "loggerA = logging.getLogger()\n",
    "loggerA.setLevel(logging.DEBUG)\n",
    "\n",
    "loggerB = logging.getLogger()\n",
    "loggerB.setLevel(logging.DEBUG)\n",
    "\n",
    "# Set log output format\n",
    "log_format = logging.Formatter('%(asctime)s - %(levelname)s - %(name)s - %(message)s', datefmt='%m/%d/%Y - %I:%M:%S %p')\n",
    "\n",
    "# Create a console stream handler\n",
    "import sys\n",
    "stream_handler = logging.StreamHandler()\n",
    "stream_handler.setFormatter(log_format)\n",
    "\n",
    "# Add handlers to the loggers\n",
    "loggerA.addHandler(stream_handler)\n",
    "loggerB.addHandler(stream_handler)\n",
    "\n",
    "\n",
    "def main():\n",
    "    for i in range(10):\n",
    "        print('-- Starting loop number {}'.format(i))\n",
    "        sys.stdout.flush()\n",
    "        loggerA.info(\"loop number {}\".format(i))\n",
    "        loggerB.info(\"loop number {}\".format(i))\n",
    "        print('-- Finished loop number {}'.format(i))\n",
    "        sys.stdout.flush()\n",
    "\n",
    "if __name__ == '__main__':\n",
    "    main()"
   ]
  },
  {
   "cell_type": "code",
   "execution_count": null,
   "metadata": {},
   "outputs": [],
   "source": []
  },
  {
   "cell_type": "code",
   "execution_count": null,
   "metadata": {},
   "outputs": [],
   "source": []
  }
 ],
 "metadata": {
  "kernelspec": {
   "display_name": "Python 3",
   "language": "python",
   "name": "python3"
  },
  "language_info": {
   "codemirror_mode": {
    "name": "ipython",
    "version": 3
   },
   "file_extension": ".py",
   "mimetype": "text/x-python",
   "name": "python",
   "nbconvert_exporter": "python",
   "pygments_lexer": "ipython3",
   "version": "3.7.1"
  }
 },
 "nbformat": 4,
 "nbformat_minor": 2
}
