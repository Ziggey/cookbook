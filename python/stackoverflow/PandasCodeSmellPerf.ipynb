{
 "cells": [
  {
   "cell_type": "markdown",
   "metadata": {},
   "source": [
    " - https://stackoverflow.com/questions/59557146/modifying-the-date-index-of-pandas-dataframe"
   ]
  },
  {
   "cell_type": "code",
   "execution_count": 1,
   "metadata": {},
   "outputs": [],
   "source": [
    "import pandas as pd\n",
    "import numpy as np\n",
    "import time\n",
    "from pandas.tseries.offsets import MonthEnd"
   ]
  },
  {
   "cell_type": "code",
   "execution_count": 2,
   "metadata": {},
   "outputs": [],
   "source": [
    "def year_replace(st_d, end_d, x):\n",
    "\n",
    "    tmp = time.perf_counter()\n",
    "\n",
    "    def prior_year(d):\n",
    "        # 100 is number of the years back, more than enough.\n",
    "        for i_t in range(100):\n",
    "\n",
    "            #The month should have been fully seen in one of the data years.\n",
    "            t_start = pd.to_datetime(str(d.month) + '/' + str(end_d.year - i_t), format=\"%m/%Y\")\n",
    "            t_end = t_start + MonthEnd(1)\n",
    "            if t_start <= end_d and t_start >= st_d and t_end <= end_d and t_end >= st_d:\n",
    "                break\n",
    "        if i_t < 99:\n",
    "            return t_start.year\n",
    "        else:\n",
    "            raise BadDataException(\"Not enough data for Gradient Boosted tree.\")\n",
    "\n",
    "    output = pd.Series(index = x.index, data = x.index.map(lambda tt: prior_year(tt)), name = 'year')\n",
    "\n",
    "    print(\"time for single dataframe replacement = \", time.perf_counter() - tmp)    \n",
    "\n",
    "    return output"
   ]
  },
  {
   "cell_type": "code",
   "execution_count": 3,
   "metadata": {},
   "outputs": [],
   "source": [
    "i = pd.date_range('01-01-2019', '01-01-2020')\n",
    "x = pd.DataFrame(index = i, data=np.full(len(i), 0))"
   ]
  },
  {
   "cell_type": "code",
   "execution_count": 4,
   "metadata": {},
   "outputs": [
    {
     "name": "stdout",
     "output_type": "stream",
     "text": [
      "time for single dataframe replacement =  0.18637839999999528\n"
     ]
    },
    {
     "data": {
      "text/plain": [
       "2019-01-01    2017\n",
       "2019-01-02    2017\n",
       "2019-01-03    2017\n",
       "2019-01-04    2017\n",
       "2019-01-05    2017\n",
       "              ... \n",
       "2019-12-28    2017\n",
       "2019-12-29    2017\n",
       "2019-12-30    2017\n",
       "2019-12-31    2017\n",
       "2020-01-01    2017\n",
       "Freq: D, Name: year, Length: 366, dtype: int64"
      ]
     },
     "execution_count": 4,
     "metadata": {},
     "output_type": "execute_result"
    }
   ],
   "source": [
    "st_d = pd.to_datetime('01/2016', format=\"%m/%Y\")\n",
    "end_d = pd.to_datetime('01/2018', format=\"%m/%Y\")\n",
    "year_replace(st_d, end_d, x)"
   ]
  },
  {
   "cell_type": "code",
   "execution_count": 43,
   "metadata": {},
   "outputs": [],
   "source": [
    "def f(start, stop, x):\n",
    "    assert start < stop\n",
    "    tmp = time.perf_counter()\n",
    "    def y(d):\n",
    "        # Current Year is ok:\n",
    "        if start <= d.replace(day=1, year=stop.year) <= stop:\n",
    "            return stop.year\n",
    "        # Previous Year\n",
    "        if start <= d.replace(day=1, year=stop.year-1) <= stop:\n",
    "            return stop.year-1\n",
    "        raise TypeError(\"Ooops\")\n",
    "    df = pd.Series(index=x.index, data=x.index.map(lambda t: y(t)), name='year')\n",
    "    print(\"Tick: \", time.perf_counter() - tmp) \n",
    "    return df"
   ]
  },
  {
   "cell_type": "code",
   "execution_count": 45,
   "metadata": {},
   "outputs": [],
   "source": [
    "def f(start, stop, x):\n",
    "    assert start < stop\n",
    "    tmp = time.perf_counter()\n",
    "    def y(d):\n",
    "        # Current Year is ok:\n",
    "        if start < d.replace(year=stop.year) < stop:\n",
    "            return stop.year\n",
    "        # Previous Year\n",
    "        if start < d.replace(year=stop.year-1) < stop:\n",
    "            return stop.year-1\n",
    "        raise TypeError(\"Ooops\")\n",
    "    df = pd.Series(index=x.index, data=x.index.map(lambda t: y(t)), name='year')\n",
    "    print(\"Tick: \", time.perf_counter() - tmp) \n",
    "    return df"
   ]
  },
  {
   "cell_type": "code",
   "execution_count": 49,
   "metadata": {},
   "outputs": [
    {
     "name": "stdout",
     "output_type": "stream",
     "text": [
      "Tick:  0.007427600000028178\n",
      "time for single dataframe replacement =  0.16242110000030152\n"
     ]
    },
    {
     "data": {
      "text/plain": [
       "True"
      ]
     },
     "execution_count": 49,
     "metadata": {},
     "output_type": "execute_result"
    }
   ],
   "source": [
    "all(f(st_d, end_d, x) == year_replace(st_d, end_d, x))"
   ]
  },
  {
   "cell_type": "code",
   "execution_count": null,
   "metadata": {},
   "outputs": [],
   "source": []
  },
  {
   "cell_type": "code",
   "execution_count": null,
   "metadata": {},
   "outputs": [],
   "source": []
  }
 ],
 "metadata": {
  "kernelspec": {
   "display_name": "Python 3",
   "language": "python",
   "name": "python3"
  },
  "language_info": {
   "codemirror_mode": {
    "name": "ipython",
    "version": 3
   },
   "file_extension": ".py",
   "mimetype": "text/x-python",
   "name": "python",
   "nbconvert_exporter": "python",
   "pygments_lexer": "ipython3",
   "version": "3.7.4"
  }
 },
 "nbformat": 4,
 "nbformat_minor": 2
}
