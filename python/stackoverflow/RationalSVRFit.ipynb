{
 "cells": [
  {
   "cell_type": "code",
   "execution_count": 1,
   "metadata": {},
   "outputs": [],
   "source": [
    "import numpy as np\n",
    "import pandas as pd\n",
    "import matplotlib.pyplot as plt\n",
    "\n",
    "from sklearn.svm import SVR\n",
    "from sklearn.pipeline import make_pipeline\n",
    "from sklearn.preprocessing import StandardScaler"
   ]
  },
  {
   "cell_type": "code",
   "execution_count": 2,
   "metadata": {},
   "outputs": [],
   "source": [
    "x = np.arange(14)\n",
    "df = pd.DataFrame({'x': x, 'p': 15-x})\n",
    "df['y'] = 1e4/df['p']"
   ]
  },
  {
   "cell_type": "code",
   "execution_count": 3,
   "metadata": {},
   "outputs": [],
   "source": [
    "ysc = StandardScaler()\n",
    "ysc.fit(df[['y']])\n",
    "df['yn'] = ysc.transform(df[['y']])"
   ]
  },
  {
   "cell_type": "code",
   "execution_count": 4,
   "metadata": {},
   "outputs": [
    {
     "data": {
      "text/plain": [
       "Pipeline(steps=[('standardscaler', StandardScaler()),\n",
       "                ('svr', SVR(C=1000.0, epsilon=0.001))])"
      ]
     },
     "execution_count": 4,
     "metadata": {},
     "output_type": "execute_result"
    }
   ],
   "source": [
    "reg = make_pipeline(StandardScaler(), SVR(kernel='rbf', C=1e3, epsilon=1e-3))\n",
    "reg.fit(df[['p']], df['yn'])"
   ]
  },
  {
   "cell_type": "code",
   "execution_count": 5,
   "metadata": {},
   "outputs": [],
   "source": [
    "df['ynhat'] = reg.predict(df[['p']])\n",
    "df['yhat'] = ysc.inverse_transform(df[['ynhat']])"
   ]
  },
  {
   "cell_type": "code",
   "execution_count": 6,
   "metadata": {},
   "outputs": [],
   "source": [
    "df['yaerr'] = df['yhat'] - df['y']\n",
    "df['yrerr'] = df['yaerr']/df['y']"
   ]
  },
  {
   "cell_type": "code",
   "execution_count": 7,
   "metadata": {},
   "outputs": [
    {
     "data": {
      "text/plain": [
       "0.9999646718755011"
      ]
     },
     "execution_count": 7,
     "metadata": {},
     "output_type": "execute_result"
    }
   ],
   "source": [
    "reg.score(df[['p']], df['yn'])"
   ]
  },
  {
   "cell_type": "code",
   "execution_count": null,
   "metadata": {},
   "outputs": [],
   "source": []
  },
  {
   "cell_type": "code",
   "execution_count": 8,
   "metadata": {},
   "outputs": [
    {
     "name": "stdout",
     "output_type": "stream",
     "text": [
      "     x   p            y        yn     ynhat         yhat      yaerr     yrerr\n",
      "0    0  15   666.666667 -0.834823 -0.833633   668.077018   1.410352  0.002116\n",
      "1    1  14   714.285714 -0.794636 -0.795247   713.562403  -0.723312 -0.001013\n",
      "2    2  13   769.230769 -0.748267 -0.749627   767.619013  -1.611756 -0.002095\n",
      "3    3  12   833.333333 -0.694169 -0.693498   834.128425   0.795091  0.000954\n",
      "4    4  11   909.090909 -0.630235 -0.629048   910.497550   1.406641  0.001547\n",
      "5    5  10  1000.000000 -0.553514 -0.555029   998.204445  -1.795555 -0.001796\n",
      "6    6   9  1111.111111 -0.459744 -0.460002  1110.805275  -0.305836 -0.000275\n",
      "7    7   8  1250.000000 -0.342532 -0.341099  1251.697707   1.697707  0.001358\n",
      "8    8   7  1428.571429 -0.191830 -0.193295  1426.835676  -1.735753 -0.001215\n",
      "9    9   6  1666.666667  0.009105  0.010458  1668.269984   1.603317  0.000962\n",
      "10  10   5  2000.000000  0.290414  0.291060  2000.764717   0.764717  0.000382\n",
      "11  11   4  2500.000000  0.712379  0.690511  2474.088446 -25.911554 -0.010365\n",
      "12  12   3  3333.333333  1.415652  1.416874  3334.780642   1.447309  0.000434\n",
      "13  13   2  5000.000000  2.822199  2.821420  4999.076799  -0.923201 -0.000185\n"
     ]
    }
   ],
   "source": [
    "print(df)"
   ]
  },
  {
   "cell_type": "code",
   "execution_count": 9,
   "metadata": {},
   "outputs": [
    {
     "data": {
      "image/png": "[encoded data removed]",
      "text/plain": [
       "<Figure size 432x288 with 1 Axes>"
      ]
     },
     "metadata": {
      "needs_background": "light"
     },
     "output_type": "display_data"
    }
   ],
   "source": [
    "fig, axe = plt.subplots()\n",
    "axe.plot(df['p'], df['y'], label='$y(p)$')\n",
    "axe.plot(df['p'], df['yhat'], 'o', label='$\\hat{y}(p)$')\n",
    "axe.set_title(r\"SVR Fit for $y(x) = \\frac{k}{x-a}$\")\n",
    "axe.set_xlabel('$p = x-a$')\n",
    "axe.set_ylabel('$y, \\hat{y}$')\n",
    "axe.legend()\n",
    "axe.grid()"
   ]
  },
  {
   "cell_type": "code",
   "execution_count": null,
   "metadata": {},
   "outputs": [],
   "source": []
  },
  {
   "cell_type": "code",
   "execution_count": null,
   "metadata": {},
   "outputs": [],
   "source": []
  },
  {
   "cell_type": "code",
   "execution_count": null,
   "metadata": {},
   "outputs": [],
   "source": []
  },
  {
   "cell_type": "code",
   "execution_count": null,
   "metadata": {},
   "outputs": [],
   "source": []
  }
 ],
 "metadata": {
  "kernelspec": {
   "display_name": "Python 3",
   "language": "python",
   "name": "python3"
  },
  "language_info": {
   "codemirror_mode": {
    "name": "ipython",
    "version": 3
   },
   "file_extension": ".py",
   "mimetype": "text/x-python",
   "name": "python",
   "nbconvert_exporter": "python",
   "pygments_lexer": "ipython3",
   "version": "3.7.6"
  }
 },
 "nbformat": 4,
 "nbformat_minor": 4
}
