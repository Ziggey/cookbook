{
 "cells": [
  {
   "cell_type": "code",
   "execution_count": 1,
   "metadata": {},
   "outputs": [],
   "source": [
    "import numpy as np\n",
    "import pandas as pd\n",
    "import matplotlib.pyplot as plt\n",
    "\n",
    "from sklearn.svm import SVR\n",
    "from sklearn.linear_model import LinearRegression\n",
    "from sklearn.pipeline import make_pipeline\n",
    "from sklearn.preprocessing import StandardScaler, RobustScaler, FunctionTransformer"
   ]
  },
  {
   "cell_type": "markdown",
   "metadata": {},
   "source": [
    " - https://scikit-learn.org/stable/modules/generated/sklearn.preprocessing.FunctionTransformer.html"
   ]
  },
  {
   "cell_type": "code",
   "execution_count": 2,
   "metadata": {},
   "outputs": [],
   "source": [
    "x = np.arange(14)\n",
    "df = pd.DataFrame({'x': x, 'p': 15-x})\n",
    "df['y'] = 1e4/df['p']"
   ]
  },
  {
   "cell_type": "code",
   "execution_count": 3,
   "metadata": {},
   "outputs": [],
   "source": [
    "ysc = StandardScaler()"
   ]
  },
  {
   "cell_type": "code",
   "execution_count": 4,
   "metadata": {},
   "outputs": [],
   "source": [
    "ysc = RobustScaler()"
   ]
  },
  {
   "cell_type": "code",
   "execution_count": 5,
   "metadata": {},
   "outputs": [],
   "source": [
    "ysc = FunctionTransformer(func=np.log, inverse_func=np.exp, check_inverse=True)"
   ]
  },
  {
   "cell_type": "code",
   "execution_count": 6,
   "metadata": {},
   "outputs": [],
   "source": [
    "ysc = make_pipeline(\n",
    "          FunctionTransformer(func=lambda x: x/(x+1), inverse_func=lambda x: x/(1-x), check_inverse=True),\n",
    "          StandardScaler()\n",
    ")"
   ]
  },
  {
   "cell_type": "code",
   "execution_count": null,
   "metadata": {},
   "outputs": [],
   "source": []
  },
  {
   "cell_type": "code",
   "execution_count": 7,
   "metadata": {},
   "outputs": [
    {
     "data": {
      "text/plain": [
       "Pipeline(steps=[('functiontransformer',\n",
       "                 FunctionTransformer(func=<function <lambda> at 0x0000025A33E09F78>,\n",
       "                                     inverse_func=<function <lambda> at 0x0000025A33E09E58>)),\n",
       "                ('standardscaler', StandardScaler())])"
      ]
     },
     "execution_count": 7,
     "metadata": {},
     "output_type": "execute_result"
    }
   ],
   "source": [
    "ysc.fit(df[['y']])"
   ]
  },
  {
   "cell_type": "code",
   "execution_count": 8,
   "metadata": {},
   "outputs": [],
   "source": [
    "df['yn'] = ysc.transform(df[['y']])"
   ]
  },
  {
   "cell_type": "code",
   "execution_count": 9,
   "metadata": {},
   "outputs": [
    {
     "data": {
      "text/plain": [
       "array([[-1.61180723],\n",
       "       [-1.36403501],\n",
       "       [-1.1162133 ],\n",
       "       [-0.86834208],\n",
       "       [-0.62042135],\n",
       "       [-0.37245108],\n",
       "       [-0.12443127],\n",
       "       [ 0.12363812],\n",
       "       [ 0.37175708],\n",
       "       [ 0.61992563],\n",
       "       [ 0.8681438 ],\n",
       "       [ 1.11641159],\n",
       "       [ 1.36472901],\n",
       "       [ 1.61309609]])"
      ]
     },
     "execution_count": 9,
     "metadata": {},
     "output_type": "execute_result"
    }
   ],
   "source": [
    "ysc.transform(df[['y']])"
   ]
  },
  {
   "cell_type": "code",
   "execution_count": 10,
   "metadata": {},
   "outputs": [
    {
     "data": {
      "text/plain": [
       "array([[ 666.66666667],\n",
       "       [ 714.28571429],\n",
       "       [ 769.23076923],\n",
       "       [ 833.33333333],\n",
       "       [ 909.09090909],\n",
       "       [1000.        ],\n",
       "       [1111.11111111],\n",
       "       [1250.        ],\n",
       "       [1428.57142857],\n",
       "       [1666.66666667],\n",
       "       [2000.        ],\n",
       "       [2500.        ],\n",
       "       [3333.33333333],\n",
       "       [5000.        ]])"
      ]
     },
     "execution_count": 10,
     "metadata": {},
     "output_type": "execute_result"
    }
   ],
   "source": [
    "ysc.inverse_transform(df[['yn']])"
   ]
  },
  {
   "cell_type": "markdown",
   "metadata": {},
   "source": [
    "reg = make_pipeline(StandardScaler(), SVR(kernel='rbf', C=1e3, epsilon=1e-3))\n",
    "reg.fit(df[['p']], df['yn'])"
   ]
  },
  {
   "cell_type": "code",
   "execution_count": 11,
   "metadata": {},
   "outputs": [
    {
     "data": {
      "text/plain": [
       "Pipeline(steps=[('standardscaler', StandardScaler()),\n",
       "                ('linearregression', LinearRegression())])"
      ]
     },
     "execution_count": 11,
     "metadata": {},
     "output_type": "execute_result"
    }
   ],
   "source": [
    "reg = make_pipeline(StandardScaler(), LinearRegression())\n",
    "reg.fit(df[['p']], df['yn'])"
   ]
  },
  {
   "cell_type": "code",
   "execution_count": 12,
   "metadata": {},
   "outputs": [],
   "source": [
    "df['ynhat'] = reg.predict(df[['p']])\n",
    "df['yhat'] = ysc.inverse_transform(df[['ynhat']])"
   ]
  },
  {
   "cell_type": "code",
   "execution_count": 13,
   "metadata": {},
   "outputs": [],
   "source": [
    "df['yaerr'] = df['yhat'] - df['y']\n",
    "df['yrerr'] = df['yaerr']/df['y']"
   ]
  },
  {
   "cell_type": "code",
   "execution_count": 14,
   "metadata": {},
   "outputs": [
    {
     "data": {
      "text/plain": [
       "0.9999998722172933"
      ]
     },
     "execution_count": 14,
     "metadata": {},
     "output_type": "execute_result"
    }
   ],
   "source": [
    "reg.score(df[['p']], df['yn'])"
   ]
  },
  {
   "cell_type": "code",
   "execution_count": 15,
   "metadata": {},
   "outputs": [
    {
     "name": "stdout",
     "output_type": "stream",
     "text": [
      "     x   p            y        yn     ynhat         yhat     yaerr     yrerr\n",
      "0    0  15   666.666667 -1.611807 -1.612451   666.551117 -0.115549 -0.000173\n",
      "1    1  14   714.285714 -1.364035 -1.364382   714.214278 -0.071436 -0.000100\n",
      "2    2  13   769.230769 -1.116213 -1.116313   769.207077 -0.023692 -0.000031\n",
      "3    3  12   833.333333 -0.868342 -0.868243   833.361067  0.027734  0.000033\n",
      "4    4  11   909.090909 -0.620421 -0.620174   909.173485  0.082576  0.000091\n",
      "5    5  10  1000.000000 -0.372451 -0.372104  1000.139902  0.139902  0.000140\n",
      "6    6   9  1111.111111 -0.124431 -0.124035  1111.308511  0.197400  0.000178\n",
      "7    7   8  1250.000000  0.123638  0.124035  1250.249835  0.249835  0.000200\n",
      "8    8   7  1428.571429  0.371757  0.372104  1428.856954  0.285525  0.000200\n",
      "9    9   6  1666.666667  0.619926  0.620174  1666.944274  0.277608  0.000167\n",
      "10  10   5  2000.000000  0.868144  0.868243  2000.160000  0.160000  0.000080\n",
      "11  11   4  2500.000000  1.116412  1.116313  2499.750709 -0.249291 -0.000100\n",
      "12  12   3  3333.333333  1.364729  1.364382  3331.781456 -1.551878 -0.000466\n",
      "13  13   2  5000.000000  1.613096  1.612451  4993.520218 -6.479782 -0.001296\n"
     ]
    }
   ],
   "source": [
    "print(df)"
   ]
  },
  {
   "cell_type": "code",
   "execution_count": 16,
   "metadata": {},
   "outputs": [
    {
     "data": {
      "image/png": "[encoded data removed]",
      "text/plain": [
       "<Figure size 432x288 with 1 Axes>"
      ]
     },
     "metadata": {
      "needs_background": "light"
     },
     "output_type": "display_data"
    }
   ],
   "source": [
    "fig, axe = plt.subplots()\n",
    "axe.plot(df['p'], df['y'], label='$y(p)$')\n",
    "axe.plot(df['p'], df['yhat'], 'o', label='$\\hat{y}(p)$')\n",
    "axe.set_title(r\"SVR Fit for $y(x) = \\frac{k}{x-a}$\")\n",
    "axe.set_xlabel('$p = x-a$')\n",
    "axe.set_ylabel('$y, \\hat{y}$')\n",
    "axe.legend()\n",
    "axe.grid()"
   ]
  },
  {
   "cell_type": "code",
   "execution_count": null,
   "metadata": {},
   "outputs": [],
   "source": []
  },
  {
   "cell_type": "code",
   "execution_count": 17,
   "metadata": {},
   "outputs": [
    {
     "data": {
      "image/png": "[encoded data removed]",
      "text/plain": [
       "<Figure size 432x288 with 1 Axes>"
      ]
     },
     "metadata": {
      "needs_background": "light"
     },
     "output_type": "display_data"
    }
   ],
   "source": [
    "fig, axe = plt.subplots()\n",
    "axe.plot(df['p'], df['yn'], 'o', label='$\\hat{y}(p)$')\n",
    "axe.set_title(r\"SVR Fit for $y(x) = \\frac{k}{x-a}$\")\n",
    "axe.set_xlabel('$p = x-a$')\n",
    "axe.set_ylabel('$y, \\hat{y}$')\n",
    "axe.legend()\n",
    "axe.grid()"
   ]
  },
  {
   "cell_type": "code",
   "execution_count": null,
   "metadata": {},
   "outputs": [],
   "source": []
  },
  {
   "cell_type": "code",
   "execution_count": null,
   "metadata": {},
   "outputs": [],
   "source": []
  }
 ],
 "metadata": {
  "kernelspec": {
   "display_name": "Python 3",
   "language": "python",
   "name": "python3"
  },
  "language_info": {
   "codemirror_mode": {
    "name": "ipython",
    "version": 3
   },
   "file_extension": ".py",
   "mimetype": "text/x-python",
   "name": "python",
   "nbconvert_exporter": "python",
   "pygments_lexer": "ipython3",
   "version": "3.7.6"
  }
 },
 "nbformat": 4,
 "nbformat_minor": 4
}
