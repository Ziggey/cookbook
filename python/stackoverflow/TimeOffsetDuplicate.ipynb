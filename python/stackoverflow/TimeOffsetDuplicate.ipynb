{
 "cells": [
  {
   "cell_type": "code",
   "execution_count": 1,
   "metadata": {},
   "outputs": [],
   "source": [
    "import pandas as pd"
   ]
  },
  {
   "cell_type": "code",
   "execution_count": 2,
   "metadata": {},
   "outputs": [],
   "source": [
    "data = {'StartTime':['2018-12-30 12:45:00+11:00','2018-12-31 16:48:00+11:00','2019-01-01 04:36:00+11:00','2019-01-01 19:27:00+11:00','2019-01-02 05:13:00+11:00'],\n",
    "        'Duration':[1,1,3,1,2],\n",
    "        'Site':['1','2','3','4','5']    \n",
    "}\n",
    "\n",
    "df = pd.DataFrame(data)\n",
    "df['StartTime'] = pd.to_datetime(df['StartTime'])"
   ]
  },
  {
   "cell_type": "code",
   "execution_count": null,
   "metadata": {},
   "outputs": [],
   "source": []
  },
  {
   "cell_type": "code",
   "execution_count": 3,
   "metadata": {},
   "outputs": [],
   "source": [
    "df['offset'] = df['Duration'].apply(lambda x: list(range(x)))\n",
    "df = df.explode('offset')"
   ]
  },
  {
   "cell_type": "code",
   "execution_count": 5,
   "metadata": {},
   "outputs": [],
   "source": [
    "df['StartTime'] += df['offset'].apply(lambda x: pd.Timedelta(x, unit='T'))"
   ]
  },
  {
   "cell_type": "code",
   "execution_count": 6,
   "metadata": {},
   "outputs": [],
   "source": [
    "df[\"Duration\"] = 1"
   ]
  },
  {
   "cell_type": "code",
   "execution_count": 7,
   "metadata": {},
   "outputs": [
    {
     "name": "stdout",
     "output_type": "stream",
     "text": [
      "                  StartTime  Duration Site offset\n",
      "0 2018-12-30 12:45:00+11:00         1    1      0\n",
      "1 2018-12-31 16:48:00+11:00         1    2      0\n",
      "2 2019-01-01 04:36:00+11:00         1    3      0\n",
      "2 2019-01-01 04:37:00+11:00         1    3      1\n",
      "2 2019-01-01 04:38:00+11:00         1    3      2\n",
      "3 2019-01-01 19:27:00+11:00         1    4      0\n",
      "4 2019-01-02 05:13:00+11:00         1    5      0\n",
      "4 2019-01-02 05:14:00+11:00         1    5      1\n"
     ]
    }
   ],
   "source": [
    "print(df)"
   ]
  },
  {
   "cell_type": "code",
   "execution_count": null,
   "metadata": {},
   "outputs": [],
   "source": []
  },
  {
   "cell_type": "raw",
   "metadata": {},
   "source": [
    "df['StartTime'] = pd.to_datetime(df['StartTime'])\n",
    "df1 = df[df['Duration'] > 1]\n",
    "df['StartTime'] = df['StartTime'] + pd.to_timedelta(df['Duration']-1, unit='min')\n",
    "df = df.append(df1).sort_values('StartTime').assign(Duration=1)\n",
    "df"
   ]
  },
  {
   "cell_type": "code",
   "execution_count": 3,
   "metadata": {},
   "outputs": [],
   "source": [
    "df = df.set_index('StartTime')"
   ]
  },
  {
   "cell_type": "code",
   "execution_count": null,
   "metadata": {},
   "outputs": [],
   "source": []
  },
  {
   "cell_type": "code",
   "execution_count": 4,
   "metadata": {},
   "outputs": [],
   "source": [
    "for row in df[df['Duration']>1].itertuples():\n",
    "    extra = pd.DataFrame([row]*(row.Duration-1))\n",
    "    extra['Index'] = pd.date_range(extra.loc[0,'Index'], freq='1T', periods=(row.Duration-1)) + pd.Timedelta('1T')\n",
    "    df = df.append(extra.set_index('Index'))"
   ]
  },
  {
   "cell_type": "code",
   "execution_count": 7,
   "metadata": {},
   "outputs": [],
   "source": [
    "df = df.assign(Duration=1)\n",
    "df = df.sort_index().reset_index()"
   ]
  },
  {
   "cell_type": "code",
   "execution_count": 8,
   "metadata": {},
   "outputs": [
    {
     "name": "stdout",
     "output_type": "stream",
     "text": [
      "                      index  Duration Site\n",
      "0 2018-12-30 12:45:00+11:00         1    1\n",
      "1 2018-12-31 16:48:00+11:00         1    2\n",
      "2 2019-01-01 04:36:00+11:00         1    3\n",
      "3 2019-01-01 04:37:00+11:00         1    3\n",
      "4 2019-01-01 04:38:00+11:00         1    3\n",
      "5 2019-01-01 19:27:00+11:00         1    4\n",
      "6 2019-01-02 05:13:00+11:00         1    5\n",
      "7 2019-01-02 05:14:00+11:00         1    5\n"
     ]
    }
   ],
   "source": [
    "print(df)"
   ]
  },
  {
   "cell_type": "code",
   "execution_count": null,
   "metadata": {},
   "outputs": [],
   "source": []
  }
 ],
 "metadata": {
  "kernelspec": {
   "display_name": "Python 3",
   "language": "python",
   "name": "python3"
  },
  "language_info": {
   "codemirror_mode": {
    "name": "ipython",
    "version": 3
   },
   "file_extension": ".py",
   "mimetype": "text/x-python",
   "name": "python",
   "nbconvert_exporter": "python",
   "pygments_lexer": "ipython3",
   "version": "3.7.6"
  }
 },
 "nbformat": 4,
 "nbformat_minor": 4
}
