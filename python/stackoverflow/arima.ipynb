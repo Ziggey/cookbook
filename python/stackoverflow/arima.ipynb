{
 "cells": [
  {
   "cell_type": "code",
   "execution_count": 1,
   "metadata": {},
   "outputs": [],
   "source": [
    "import io\n",
    "import pandas as pd\n",
    "import numpy as np\n",
    "import datetime as dt\n",
    "from statsmodels.tsa.arima_model import ARIMA\n",
    "import matplotlib.pyplot as plt\n",
    "from pandas.plotting import autocorrelation_plot\n",
    "%matplotlib inline"
   ]
  },
  {
   "cell_type": "markdown",
   "metadata": {},
   "source": [
    " - https://stackoverflow.com/questions/31690134/python-statsmodels-help-using-arima-model-for-time-series\n",
    " - https://www.statsmodels.org/dev/generated/statsmodels.tsa.arima_model.ARIMA.html\n",
    " - https://en.wikipedia.org/wiki/Autoregressive%E2%80%93moving-average_model\n",
    " - https://en.wikipedia.org/wiki/Autoregressive_integrated_moving_average\n",
    " - https://pandas.pydata.org/pandas-docs/stable/generated/pandas.read_fwf.html\n",
    " - https://machinelearningmastery.com/arima-for-time-series-forecasting-with-python/\n",
    " - https://machinelearningmastery.com/make-sample-forecasts-arima-python/\n",
    " - https://www.statsmodels.org/dev/generated/statsmodels.tsa.arima_model.ARIMAResults.forecast.html#statsmodels.tsa.arima_model.ARIMAResults.forecast\n",
    " - https://www.statsmodels.org/dev/generated/statsmodels.tsa.arima_model.ARIMAResults.predict.html#statsmodels.tsa.arima_model.ARIMAResults.predict\n",
    "\n",
    "```\n",
    "# Setting up a data frame that looks twenty days into the past,\n",
    "# and has linear data, from approximately 1 through 20\n",
    "counts = np.arange(1, 21) + 0.2 * (np.random.random(size=(20,)) - 0.5)\n",
    "start = dt.datetime.strptime(\"1 Nov 01\", \"%d %b %y\")\n",
    "daterange = pd.date_range(start, periods=20)\n",
    "table = {\"count\": counts, \"date\": daterange}\n",
    "data = pd.DataFrame(table)\n",
    "data.set_index(\"date\", inplace=True)\n",
    "```"
   ]
  },
  {
   "cell_type": "code",
   "execution_count": 2,
   "metadata": {},
   "outputs": [],
   "source": [
    "raw = io.StringIO(\"\"\"date        count\n",
    "2001-11-01   0.998543\n",
    "2001-11-02   1.914526\n",
    "2001-11-03   3.057407\n",
    "2001-11-04   4.044301\n",
    "2001-11-05   4.952441\n",
    "2001-11-06   6.002932\n",
    "2001-11-07   6.930134\n",
    "2001-11-08   8.011137\n",
    "2001-11-09   9.040393\n",
    "2001-11-10  10.097007\n",
    "2001-11-11  11.063742\n",
    "2001-11-12  12.051951\n",
    "2001-11-13  13.062637\n",
    "2001-11-14  14.086016\n",
    "2001-11-15  15.096826\n",
    "2001-11-16  15.944886\n",
    "2001-11-17  17.027107\n",
    "2001-11-18  17.930240\n",
    "2001-11-19  18.984202\n",
    "2001-11-20  19.971603\"\"\")\n",
    "data = pd.read_fwf(raw, parse_dates=['date'], index_col='date')"
   ]
  },
  {
   "cell_type": "code",
   "execution_count": 3,
   "metadata": {},
   "outputs": [
    {
     "data": {
      "text/html": [
       "<div>\n",
       "<style scoped>\n",
       "    .dataframe tbody tr th:only-of-type {\n",
       "        vertical-align: middle;\n",
       "    }\n",
       "\n",
       "    .dataframe tbody tr th {\n",
       "        vertical-align: top;\n",
       "    }\n",
       "\n",
       "    .dataframe thead th {\n",
       "        text-align: right;\n",
       "    }\n",
       "</style>\n",
       "<table border=\"1\" class=\"dataframe\">\n",
       "  <thead>\n",
       "    <tr style=\"text-align: right;\">\n",
       "      <th></th>\n",
       "      <th>count</th>\n",
       "    </tr>\n",
       "    <tr>\n",
       "      <th>date</th>\n",
       "      <th></th>\n",
       "    </tr>\n",
       "  </thead>\n",
       "  <tbody>\n",
       "    <tr>\n",
       "      <th>2001-11-01</th>\n",
       "      <td>0.998543</td>\n",
       "    </tr>\n",
       "    <tr>\n",
       "      <th>2001-11-02</th>\n",
       "      <td>1.914526</td>\n",
       "    </tr>\n",
       "    <tr>\n",
       "      <th>2001-11-03</th>\n",
       "      <td>3.057407</td>\n",
       "    </tr>\n",
       "    <tr>\n",
       "      <th>2001-11-04</th>\n",
       "      <td>4.044301</td>\n",
       "    </tr>\n",
       "    <tr>\n",
       "      <th>2001-11-05</th>\n",
       "      <td>4.952441</td>\n",
       "    </tr>\n",
       "    <tr>\n",
       "      <th>2001-11-06</th>\n",
       "      <td>6.002932</td>\n",
       "    </tr>\n",
       "    <tr>\n",
       "      <th>2001-11-07</th>\n",
       "      <td>6.930134</td>\n",
       "    </tr>\n",
       "    <tr>\n",
       "      <th>2001-11-08</th>\n",
       "      <td>8.011137</td>\n",
       "    </tr>\n",
       "    <tr>\n",
       "      <th>2001-11-09</th>\n",
       "      <td>9.040393</td>\n",
       "    </tr>\n",
       "    <tr>\n",
       "      <th>2001-11-10</th>\n",
       "      <td>10.097007</td>\n",
       "    </tr>\n",
       "    <tr>\n",
       "      <th>2001-11-11</th>\n",
       "      <td>11.063742</td>\n",
       "    </tr>\n",
       "    <tr>\n",
       "      <th>2001-11-12</th>\n",
       "      <td>12.051951</td>\n",
       "    </tr>\n",
       "    <tr>\n",
       "      <th>2001-11-13</th>\n",
       "      <td>13.062637</td>\n",
       "    </tr>\n",
       "    <tr>\n",
       "      <th>2001-11-14</th>\n",
       "      <td>14.086016</td>\n",
       "    </tr>\n",
       "    <tr>\n",
       "      <th>2001-11-15</th>\n",
       "      <td>15.096826</td>\n",
       "    </tr>\n",
       "    <tr>\n",
       "      <th>2001-11-16</th>\n",
       "      <td>15.944886</td>\n",
       "    </tr>\n",
       "    <tr>\n",
       "      <th>2001-11-17</th>\n",
       "      <td>17.027107</td>\n",
       "    </tr>\n",
       "    <tr>\n",
       "      <th>2001-11-18</th>\n",
       "      <td>17.930240</td>\n",
       "    </tr>\n",
       "    <tr>\n",
       "      <th>2001-11-19</th>\n",
       "      <td>18.984202</td>\n",
       "    </tr>\n",
       "    <tr>\n",
       "      <th>2001-11-20</th>\n",
       "      <td>19.971603</td>\n",
       "    </tr>\n",
       "  </tbody>\n",
       "</table>\n",
       "</div>"
      ],
      "text/plain": [
       "                count\n",
       "date                 \n",
       "2001-11-01   0.998543\n",
       "2001-11-02   1.914526\n",
       "2001-11-03   3.057407\n",
       "2001-11-04   4.044301\n",
       "2001-11-05   4.952441\n",
       "2001-11-06   6.002932\n",
       "2001-11-07   6.930134\n",
       "2001-11-08   8.011137\n",
       "2001-11-09   9.040393\n",
       "2001-11-10  10.097007\n",
       "2001-11-11  11.063742\n",
       "2001-11-12  12.051951\n",
       "2001-11-13  13.062637\n",
       "2001-11-14  14.086016\n",
       "2001-11-15  15.096826\n",
       "2001-11-16  15.944886\n",
       "2001-11-17  17.027107\n",
       "2001-11-18  17.930240\n",
       "2001-11-19  18.984202\n",
       "2001-11-20  19.971603"
      ]
     },
     "execution_count": 3,
     "metadata": {},
     "output_type": "execute_result"
    }
   ],
   "source": [
    "data"
   ]
  },
  {
   "cell_type": "code",
   "execution_count": 4,
   "metadata": {},
   "outputs": [
    {
     "data": {
      "image/png": "[encoded data removed]",
      "text/plain": [
       "<Figure size 432x288 with 1 Axes>"
      ]
     },
     "metadata": {
      "needs_background": "light"
     },
     "output_type": "display_data"
    }
   ],
   "source": [
    "fig, axe = plt.subplots()\n",
    "data.plot(ax=axe)\n",
    "axe.set_title(\"Trial Data\")\n",
    "axe.set_xlabel(\"Time\")\n",
    "axe.set_ylabel(\"Quantity\")\n",
    "axe.grid(which='both')"
   ]
  },
  {
   "cell_type": "code",
   "execution_count": 5,
   "metadata": {},
   "outputs": [
    {
     "data": {
      "image/png": "[encoded data removed]",
      "text/plain": [
       "<Figure size 432x288 with 1 Axes>"
      ]
     },
     "metadata": {
      "needs_background": "light"
     },
     "output_type": "display_data"
    }
   ],
   "source": [
    "axe = autocorrelation_plot(data)\n",
    "axe.set_xticks(np.arange(1,21,1))\n",
    "_ = axe.set_title(\"Auto-Correlation Plot\")\n",
    "axe.get_figure().savefig('autocorr.png', dpi=180)"
   ]
  },
  {
   "cell_type": "code",
   "execution_count": 6,
   "metadata": {},
   "outputs": [],
   "source": [
    "# Setting up ARIMA model\n",
    "order = (2, 1, 2)\n",
    "model = ARIMA(data, order, freq='D')\n",
    "fit = model.fit()"
   ]
  },
  {
   "cell_type": "code",
   "execution_count": 7,
   "metadata": {},
   "outputs": [
    {
     "name": "stdout",
     "output_type": "stream",
     "text": [
      "                             ARIMA Model Results                              \n",
      "==============================================================================\n",
      "Dep. Variable:                D.count   No. Observations:                   19\n",
      "Model:                 ARIMA(2, 1, 2)   Log Likelihood                  25.395\n",
      "Method:                       css-mle   S.D. of innovations              0.059\n",
      "Date:                Fri, 18 Jan 2019   AIC                            -38.790\n",
      "Time:                        09:03:59   BIC                            -33.123\n",
      "Sample:                    11-02-2001   HQIC                           -37.831\n",
      "                         - 11-20-2001                                         \n",
      "=================================================================================\n",
      "                    coef    std err          z      P>|z|      [0.025      0.975]\n",
      "---------------------------------------------------------------------------------\n",
      "const             1.0001      0.014     73.731      0.000       0.973       1.027\n",
      "ar.L1.D.count    -0.3971      0.295     -1.346      0.200      -0.975       0.181\n",
      "ar.L2.D.count    -0.6571      0.230     -2.851      0.013      -1.109      -0.205\n",
      "ma.L1.D.count     0.0892      0.208      0.429      0.674      -0.318       0.496\n",
      "ma.L2.D.count     1.0000      0.640      1.563      0.140      -0.254       2.254\n",
      "                                    Roots                                    \n",
      "=============================================================================\n",
      "                  Real          Imaginary           Modulus         Frequency\n",
      "-----------------------------------------------------------------------------\n",
      "AR.1           -0.3022           -1.1961j            1.2336           -0.2894\n",
      "AR.2           -0.3022           +1.1961j            1.2336            0.2894\n",
      "MA.1           -0.0446           -0.9990j            1.0000           -0.2571\n",
      "MA.2           -0.0446           +0.9990j            1.0000            0.2571\n",
      "-----------------------------------------------------------------------------\n"
     ]
    }
   ],
   "source": [
    "print(fit.summary())"
   ]
  },
  {
   "cell_type": "code",
   "execution_count": 8,
   "metadata": {},
   "outputs": [
    {
     "data": {
      "text/html": [
       "<div>\n",
       "<style scoped>\n",
       "    .dataframe tbody tr th:only-of-type {\n",
       "        vertical-align: middle;\n",
       "    }\n",
       "\n",
       "    .dataframe tbody tr th {\n",
       "        vertical-align: top;\n",
       "    }\n",
       "\n",
       "    .dataframe thead th {\n",
       "        text-align: right;\n",
       "    }\n",
       "</style>\n",
       "<table border=\"1\" class=\"dataframe\">\n",
       "  <thead>\n",
       "    <tr style=\"text-align: right;\">\n",
       "      <th></th>\n",
       "      <th>residuals</th>\n",
       "    </tr>\n",
       "    <tr>\n",
       "      <th>date</th>\n",
       "      <th></th>\n",
       "    </tr>\n",
       "  </thead>\n",
       "  <tbody>\n",
       "    <tr>\n",
       "      <th>2001-11-02</th>\n",
       "      <td>-0.084071</td>\n",
       "    </tr>\n",
       "    <tr>\n",
       "      <th>2001-11-03</th>\n",
       "      <td>0.115234</td>\n",
       "    </tr>\n",
       "    <tr>\n",
       "      <th>2001-11-04</th>\n",
       "      <td>0.035225</td>\n",
       "    </tr>\n",
       "    <tr>\n",
       "      <th>2001-11-05</th>\n",
       "      <td>-0.092449</td>\n",
       "    </tr>\n",
       "    <tr>\n",
       "      <th>2001-11-06</th>\n",
       "      <td>-0.013389</td>\n",
       "    </tr>\n",
       "    <tr>\n",
       "      <th>2001-11-07</th>\n",
       "      <td>-0.038218</td>\n",
       "    </tr>\n",
       "    <tr>\n",
       "      <th>2001-11-08</th>\n",
       "      <td>0.099190</td>\n",
       "    </tr>\n",
       "    <tr>\n",
       "      <th>2001-11-09</th>\n",
       "      <td>0.037663</td>\n",
       "    </tr>\n",
       "    <tr>\n",
       "      <th>2001-11-10</th>\n",
       "      <td>0.035188</td>\n",
       "    </tr>\n",
       "    <tr>\n",
       "      <th>2001-11-11</th>\n",
       "      <td>-0.026692</td>\n",
       "    </tr>\n",
       "    <tr>\n",
       "      <th>2001-11-12</th>\n",
       "      <td>-0.015836</td>\n",
       "    </tr>\n",
       "    <tr>\n",
       "      <th>2001-11-13</th>\n",
       "      <td>0.008626</td>\n",
       "    </tr>\n",
       "    <tr>\n",
       "      <th>2001-11-14</th>\n",
       "      <td>0.032906</td>\n",
       "    </tr>\n",
       "    <tr>\n",
       "      <th>2001-11-15</th>\n",
       "      <td>0.016675</td>\n",
       "    </tr>\n",
       "    <tr>\n",
       "      <th>2001-11-16</th>\n",
       "      <td>-0.163177</td>\n",
       "    </tr>\n",
       "    <tr>\n",
       "      <th>2001-11-17</th>\n",
       "      <td>0.027312</td>\n",
       "    </tr>\n",
       "    <tr>\n",
       "      <th>2001-11-18</th>\n",
       "      <td>-0.019307</td>\n",
       "    </tr>\n",
       "    <tr>\n",
       "      <th>2001-11-19</th>\n",
       "      <td>0.046229</td>\n",
       "    </tr>\n",
       "    <tr>\n",
       "      <th>2001-11-20</th>\n",
       "      <td>-0.041363</td>\n",
       "    </tr>\n",
       "  </tbody>\n",
       "</table>\n",
       "</div>"
      ],
      "text/plain": [
       "            residuals\n",
       "date                 \n",
       "2001-11-02  -0.084071\n",
       "2001-11-03   0.115234\n",
       "2001-11-04   0.035225\n",
       "2001-11-05  -0.092449\n",
       "2001-11-06  -0.013389\n",
       "2001-11-07  -0.038218\n",
       "2001-11-08   0.099190\n",
       "2001-11-09   0.037663\n",
       "2001-11-10   0.035188\n",
       "2001-11-11  -0.026692\n",
       "2001-11-12  -0.015836\n",
       "2001-11-13   0.008626\n",
       "2001-11-14   0.032906\n",
       "2001-11-15   0.016675\n",
       "2001-11-16  -0.163177\n",
       "2001-11-17   0.027312\n",
       "2001-11-18  -0.019307\n",
       "2001-11-19   0.046229\n",
       "2001-11-20  -0.041363"
      ]
     },
     "execution_count": 8,
     "metadata": {},
     "output_type": "execute_result"
    }
   ],
   "source": [
    "residuals = pd.DataFrame(fit.resid, columns=['residuals'])\n",
    "residuals"
   ]
  },
  {
   "cell_type": "code",
   "execution_count": 9,
   "metadata": {},
   "outputs": [
    {
     "data": {
      "image/png": "[encoded data removed]",
      "text/plain": [
       "<Figure size 432x288 with 1 Axes>"
      ]
     },
     "metadata": {
      "needs_background": "light"
     },
     "output_type": "display_data"
    }
   ],
   "source": [
    "axe = residuals.plot(kind='kde')\n",
    "axe.set_title(\"ARIMA Model\")\n",
    "axe.set_xlabel(\"Residuals\")\n",
    "axe.grid()\n",
    "axe.get_figure().savefig('res.png', dpi=180)"
   ]
  },
  {
   "cell_type": "code",
   "execution_count": 10,
   "metadata": {},
   "outputs": [
    {
     "data": {
      "text/html": [
       "<div>\n",
       "<style scoped>\n",
       "    .dataframe tbody tr th:only-of-type {\n",
       "        vertical-align: middle;\n",
       "    }\n",
       "\n",
       "    .dataframe tbody tr th {\n",
       "        vertical-align: top;\n",
       "    }\n",
       "\n",
       "    .dataframe thead th {\n",
       "        text-align: right;\n",
       "    }\n",
       "</style>\n",
       "<table border=\"1\" class=\"dataframe\">\n",
       "  <thead>\n",
       "    <tr style=\"text-align: right;\">\n",
       "      <th></th>\n",
       "      <th>residuals</th>\n",
       "    </tr>\n",
       "  </thead>\n",
       "  <tbody>\n",
       "    <tr>\n",
       "      <th>count</th>\n",
       "      <td>19.000000</td>\n",
       "    </tr>\n",
       "    <tr>\n",
       "      <th>mean</th>\n",
       "      <td>-0.002119</td>\n",
       "    </tr>\n",
       "    <tr>\n",
       "      <th>std</th>\n",
       "      <td>0.065902</td>\n",
       "    </tr>\n",
       "    <tr>\n",
       "      <th>min</th>\n",
       "      <td>-0.163177</td>\n",
       "    </tr>\n",
       "    <tr>\n",
       "      <th>25%</th>\n",
       "      <td>-0.032455</td>\n",
       "    </tr>\n",
       "    <tr>\n",
       "      <th>50%</th>\n",
       "      <td>0.008626</td>\n",
       "    </tr>\n",
       "    <tr>\n",
       "      <th>75%</th>\n",
       "      <td>0.035206</td>\n",
       "    </tr>\n",
       "    <tr>\n",
       "      <th>max</th>\n",
       "      <td>0.115234</td>\n",
       "    </tr>\n",
       "  </tbody>\n",
       "</table>\n",
       "</div>"
      ],
      "text/plain": [
       "       residuals\n",
       "count  19.000000\n",
       "mean   -0.002119\n",
       "std     0.065902\n",
       "min    -0.163177\n",
       "25%    -0.032455\n",
       "50%     0.008626\n",
       "75%     0.035206\n",
       "max     0.115234"
      ]
     },
     "execution_count": 10,
     "metadata": {},
     "output_type": "execute_result"
    }
   ],
   "source": [
    "residuals.describe()"
   ]
  },
  {
   "cell_type": "code",
   "execution_count": 11,
   "metadata": {},
   "outputs": [
    {
     "data": {
      "text/plain": [
       "2001-11-02     1.998597\n",
       "2001-11-03     2.942173\n",
       "2001-11-04     4.009076\n",
       "2001-11-05     5.044890\n",
       "2001-11-06     6.016321\n",
       "2001-11-07     6.968352\n",
       "2001-11-08     7.911947\n",
       "2001-11-09     9.002730\n",
       "2001-11-10    10.061819\n",
       "2001-11-11    11.090434\n",
       "2001-11-12    12.067787\n",
       "2001-11-13    13.054011\n",
       "2001-11-14    14.053110\n",
       "2001-11-15    15.080151\n",
       "2001-11-16    16.108063\n",
       "2001-11-17    16.999795\n",
       "2001-11-18    17.949547\n",
       "2001-11-19    18.937973\n",
       "2001-11-20    20.012966\n",
       "2001-11-21    20.983802\n",
       "2001-11-22    21.945984\n",
       "2001-11-23    22.953098\n",
       "2001-11-24    23.975233\n",
       "2001-11-25    24.961879\n",
       "2001-11-26    25.952749\n",
       "2001-11-27    26.965261\n",
       "2001-11-28    27.966403\n",
       "2001-11-29    28.957839\n",
       "2001-11-30    29.960601\n",
       "2001-12-01    30.965242\n",
       "2001-12-02    31.961696\n",
       "2001-12-03    32.960166\n",
       "2001-12-04    33.963215\n",
       "2001-12-05    34.963121\n",
       "2001-12-06    35.961266\n",
       "2001-12-07    36.962176\n",
       "2001-12-08    37.963144\n",
       "2001-12-09    38.962273\n",
       "2001-12-10    39.962094\n",
       "2001-12-11    40.962849\n",
       "2001-12-12    41.962778\n",
       "2001-12-13    42.962421\n",
       "2001-12-14    43.962721\n",
       "2001-12-15    44.962947\n",
       "Freq: D, dtype: float64"
      ]
     },
     "execution_count": 11,
     "metadata": {},
     "output_type": "execute_result"
    }
   ],
   "source": [
    "preds = fit.predict(\"2001-11-02\", \"2001-12-15\", typ='levels')\n",
    "preds"
   ]
  },
  {
   "cell_type": "code",
   "execution_count": 12,
   "metadata": {},
   "outputs": [
    {
     "data": {
      "image/png": "[encoded data removed]",
      "text/plain": [
       "<Figure size 432x288 with 1 Axes>"
      ]
     },
     "metadata": {
      "needs_background": "light"
     },
     "output_type": "display_data"
    }
   ],
   "source": [
    "fig, axe = plt.subplots()\n",
    "data.plot(ax=axe)\n",
    "preds.plot(ax=axe)\n",
    "axe.legend([\"Data\", \"Prediction\"])\n",
    "axe.set_title(\"Trial Data\")\n",
    "axe.set_xlabel(\"Time\")\n",
    "axe.set_ylabel(\"Quantity\")\n",
    "axe.grid(which='both')\n",
    "axe.get_figure().savefig('preds.png', dpi=180)"
   ]
  },
  {
   "cell_type": "code",
   "execution_count": 13,
   "metadata": {},
   "outputs": [
    {
     "data": {
      "text/plain": [
       "(array([20.98380177, 21.94598378, 22.95309801, 23.97523339, 24.96187949,\n",
       "        25.95274925, 26.96526092, 27.96640274, 28.95783939, 29.96060112,\n",
       "        30.9652424 , 31.96169581, 32.96016582, 33.96321506, 34.9631207 ,\n",
       "        35.96126583, 36.9621757 , 37.96314441, 38.9622731 , 39.96209385]),\n",
       " array([0.05851216, 0.07115681, 0.09822632, 0.11989207, 0.1300735 ,\n",
       "        0.14202927, 0.15680193, 0.16731643, 0.17624975, 0.18679748,\n",
       "        0.19658732, 0.20475399, 0.21315435, 0.22173669, 0.22946405,\n",
       "        0.23684052, 0.24435961, 0.25157432, 0.25839152, 0.26515842]),\n",
       " array([[20.86912005, 21.09848349],\n",
       "        [21.806519  , 22.08544857],\n",
       "        [22.76057797, 23.14561805],\n",
       "        [23.74024926, 24.21021753],\n",
       "        [24.70694011, 25.21681886],\n",
       "        [25.67437699, 26.23112151],\n",
       "        [26.6579348 , 27.27258705],\n",
       "        [27.63846857, 28.29433691],\n",
       "        [28.61239623, 29.30328256],\n",
       "        [29.59448478, 30.32671745],\n",
       "        [30.57993833, 31.35054647],\n",
       "        [31.56038535, 32.36300626],\n",
       "        [32.54239096, 33.37794067],\n",
       "        [33.52861913, 34.39781098],\n",
       "        [34.51337942, 35.41286197],\n",
       "        [35.49706694, 36.42546472],\n",
       "        [36.48323967, 37.44111173],\n",
       "        [37.47006781, 38.45622101],\n",
       "        [38.45583503, 39.46871118],\n",
       "        [39.44239291, 40.4817948 ]]))"
      ]
     },
     "execution_count": 13,
     "metadata": {},
     "output_type": "execute_result"
    }
   ],
   "source": [
    "p = fit.forecast(20)\n",
    "p"
   ]
  },
  {
   "cell_type": "code",
   "execution_count": 14,
   "metadata": {},
   "outputs": [
    {
     "data": {
      "image/png": "[encoded data removed]",
      "text/plain": [
       "<Figure size 432x288 with 1 Axes>"
      ]
     },
     "metadata": {
      "needs_background": "light"
     },
     "output_type": "display_data"
    }
   ],
   "source": [
    "fig, axe = plt.subplots()\n",
    "axe.plot(p[0])\n",
    "axe.plot(p[2])\n",
    "axe.get_figure().savefig('./output/preds.png', dpi=180)"
   ]
  },
  {
   "cell_type": "code",
   "execution_count": 15,
   "metadata": {},
   "outputs": [
    {
     "data": {
      "text/plain": [
       "'0.9.0'"
      ]
     },
     "execution_count": 15,
     "metadata": {},
     "output_type": "execute_result"
    }
   ],
   "source": [
    "import statsmodels as sm\n",
    "sm.__version__"
   ]
  },
  {
   "cell_type": "code",
   "execution_count": null,
   "metadata": {},
   "outputs": [],
   "source": []
  }
 ],
 "metadata": {
  "kernelspec": {
   "display_name": "Python 3",
   "language": "python",
   "name": "python3"
  },
  "language_info": {
   "codemirror_mode": {
    "name": "ipython",
    "version": 3
   },
   "file_extension": ".py",
   "mimetype": "text/x-python",
   "name": "python",
   "nbconvert_exporter": "python",
   "pygments_lexer": "ipython3",
   "version": "3.7.1"
  },
  "toc": {
   "base_numbering": 1,
   "nav_menu": {},
   "number_sections": true,
   "sideBar": true,
   "skip_h1_title": false,
   "title_cell": "Table of Contents",
   "title_sidebar": "Contents",
   "toc_cell": false,
   "toc_position": {},
   "toc_section_display": true,
   "toc_window_display": false
  }
 },
 "nbformat": 4,
 "nbformat_minor": 2
}
