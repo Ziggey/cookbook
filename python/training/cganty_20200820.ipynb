{
 "cells": [
  {
   "cell_type": "code",
   "execution_count": 1,
   "metadata": {
    "ExecuteTime": {
     "end_time": "2020-08-22T20:37:02.780178Z",
     "start_time": "2020-08-22T20:37:00.815469Z"
    }
   },
   "outputs": [],
   "source": [
    "import itertools\n",
    "import pandas as pd\n",
    "from scipy import stats\n",
    "from odapi.connectors import Irceline\n",
    "from odapi.settings import settings\n",
    "settings.logger.setLevel(50)"
   ]
  },
  {
   "cell_type": "code",
   "execution_count": 2,
   "metadata": {
    "ExecuteTime": {
     "end_time": "2020-08-22T20:37:02.797087Z",
     "start_time": "2020-08-22T20:37:02.788386Z"
    }
   },
   "outputs": [],
   "source": [
    "client = Irceline()"
   ]
  },
  {
   "cell_type": "code",
   "execution_count": 3,
   "metadata": {
    "ExecuteTime": {
     "end_time": "2020-08-22T20:37:04.781621Z",
     "start_time": "2020-08-22T20:37:02.804507Z"
    }
   },
   "outputs": [
    {
     "data": {
      "text/plain": [
       "Index(['serieid', 'siteid', 'measureid', 'serieunits', 'measurekey',\n",
       "       'measurename', 'sitekey', 'sitename', 'seriekey', 'molarmass', 'factor',\n",
       "       'sitelocation', 'sitetype', 'lat', 'lon', 'nuts1id', 'nuts2id',\n",
       "       'nuts3id', 'nuts1name', 'nuts2name', 'nuts3name', 'lauid', 'launame',\n",
       "       'started', 'stopped'],\n",
       "      dtype='object')"
      ]
     },
     "execution_count": 3,
     "metadata": {},
     "output_type": "execute_result"
    }
   ],
   "source": [
    "client.meta.columns"
   ]
  },
  {
   "cell_type": "code",
   "execution_count": 4,
   "metadata": {
    "ExecuteTime": {
     "end_time": "2020-08-22T20:37:04.867672Z",
     "start_time": "2020-08-22T20:37:04.801964Z"
    }
   },
   "outputs": [],
   "source": [
    "sel = client.select(measurekey='NO2', sitekey='41')[[\"serieid\", \"sitekey\", \"measurekey\"]]"
   ]
  },
  {
   "cell_type": "code",
   "execution_count": 5,
   "metadata": {
    "ExecuteTime": {
     "end_time": "2020-08-22T20:37:04.927796Z",
     "start_time": "2020-08-22T20:37:04.906678Z"
    }
   },
   "outputs": [
    {
     "data": {
      "text/html": [
       "<div>\n",
       "<style scoped>\n",
       "    .dataframe tbody tr th:only-of-type {\n",
       "        vertical-align: middle;\n",
       "    }\n",
       "\n",
       "    .dataframe tbody tr th {\n",
       "        vertical-align: top;\n",
       "    }\n",
       "\n",
       "    .dataframe thead th {\n",
       "        text-align: right;\n",
       "    }\n",
       "</style>\n",
       "<table border=\"1\" class=\"dataframe\">\n",
       "  <thead>\n",
       "    <tr style=\"text-align: right;\">\n",
       "      <th></th>\n",
       "      <th>serieid</th>\n",
       "      <th>sitekey</th>\n",
       "      <th>measurekey</th>\n",
       "    </tr>\n",
       "  </thead>\n",
       "  <tbody>\n",
       "    <tr>\n",
       "      <th>97</th>\n",
       "      <td>6508</td>\n",
       "      <td>41B004</td>\n",
       "      <td>NO2</td>\n",
       "    </tr>\n",
       "    <tr>\n",
       "      <th>104</th>\n",
       "      <td>6622</td>\n",
       "      <td>41R012</td>\n",
       "      <td>NO2</td>\n",
       "    </tr>\n",
       "  </tbody>\n",
       "</table>\n",
       "</div>"
      ],
      "text/plain": [
       "    serieid sitekey measurekey\n",
       "97     6508  41B004        NO2\n",
       "104    6622  41R012        NO2"
      ]
     },
     "execution_count": 5,
     "metadata": {},
     "output_type": "execute_result"
    }
   ],
   "source": [
    "sel.sample(2)"
   ]
  },
  {
   "cell_type": "code",
   "execution_count": 6,
   "metadata": {
    "ExecuteTime": {
     "end_time": "2020-08-22T20:37:04.941366Z",
     "start_time": "2020-08-22T20:37:04.935815Z"
    }
   },
   "outputs": [],
   "source": [
    "t0 = \"2019-01-01\"\n",
    "t1 = \"2020-01-01\"\n",
    "t2 = \"2019-10-01\""
   ]
  },
  {
   "cell_type": "code",
   "execution_count": 7,
   "metadata": {
    "ExecuteTime": {
     "end_time": "2020-08-22T20:37:13.244161Z",
     "start_time": "2020-08-22T20:37:04.947494Z"
    }
   },
   "outputs": [],
   "source": [
    "recs = client.get_records(sel, start=t0, stop=t1)"
   ]
  },
  {
   "cell_type": "code",
   "execution_count": 8,
   "metadata": {
    "ExecuteTime": {
     "end_time": "2020-08-22T20:37:13.286866Z",
     "start_time": "2020-08-22T20:37:13.258696Z"
    }
   },
   "outputs": [
    {
     "data": {
      "text/html": [
       "<div>\n",
       "<style scoped>\n",
       "    .dataframe tbody tr th:only-of-type {\n",
       "        vertical-align: middle;\n",
       "    }\n",
       "\n",
       "    .dataframe tbody tr th {\n",
       "        vertical-align: top;\n",
       "    }\n",
       "\n",
       "    .dataframe thead th {\n",
       "        text-align: right;\n",
       "    }\n",
       "</style>\n",
       "<table border=\"1\" class=\"dataframe\">\n",
       "  <thead>\n",
       "    <tr style=\"text-align: right;\">\n",
       "      <th></th>\n",
       "      <th>serieid</th>\n",
       "      <th>start</th>\n",
       "      <th>stop</th>\n",
       "      <th>value</th>\n",
       "    </tr>\n",
       "  </thead>\n",
       "  <tbody>\n",
       "    <tr>\n",
       "      <th>5956</th>\n",
       "      <td>6516</td>\n",
       "      <td>2019-12-11 08:00:00+00:00</td>\n",
       "      <td>2019-12-11 09:00:00+00:00</td>\n",
       "      <td>37.0</td>\n",
       "    </tr>\n",
       "    <tr>\n",
       "      <th>4224</th>\n",
       "      <td>6639</td>\n",
       "      <td>2019-06-25 23:00:00+00:00</td>\n",
       "      <td>2019-06-26 00:00:00+00:00</td>\n",
       "      <td>16.5</td>\n",
       "    </tr>\n",
       "  </tbody>\n",
       "</table>\n",
       "</div>"
      ],
      "text/plain": [
       "     serieid                     start                      stop  value\n",
       "5956    6516 2019-12-11 08:00:00+00:00 2019-12-11 09:00:00+00:00   37.0\n",
       "4224    6639 2019-06-25 23:00:00+00:00 2019-06-26 00:00:00+00:00   16.5"
      ]
     },
     "execution_count": 8,
     "metadata": {},
     "output_type": "execute_result"
    }
   ],
   "source": [
    "recs.sample(2)"
   ]
  },
  {
   "cell_type": "code",
   "execution_count": 9,
   "metadata": {
    "ExecuteTime": {
     "end_time": "2020-08-22T20:37:13.418523Z",
     "start_time": "2020-08-22T20:37:13.294342Z"
    }
   },
   "outputs": [],
   "source": [
    "data = recs.merge(sel).pivot_table(index='start', columns='sitekey', values='value')"
   ]
  },
  {
   "cell_type": "code",
   "execution_count": 10,
   "metadata": {
    "ExecuteTime": {
     "end_time": "2020-08-22T20:37:13.453823Z",
     "start_time": "2020-08-22T20:37:13.426708Z"
    }
   },
   "outputs": [
    {
     "data": {
      "text/html": [
       "<div>\n",
       "<style scoped>\n",
       "    .dataframe tbody tr th:only-of-type {\n",
       "        vertical-align: middle;\n",
       "    }\n",
       "\n",
       "    .dataframe tbody tr th {\n",
       "        vertical-align: top;\n",
       "    }\n",
       "\n",
       "    .dataframe thead th {\n",
       "        text-align: right;\n",
       "    }\n",
       "</style>\n",
       "<table border=\"1\" class=\"dataframe\">\n",
       "  <thead>\n",
       "    <tr style=\"text-align: right;\">\n",
       "      <th>sitekey</th>\n",
       "      <th>41B001</th>\n",
       "      <th>41B004</th>\n",
       "      <th>41B006</th>\n",
       "      <th>41B008</th>\n",
       "      <th>41B011</th>\n",
       "      <th>41MEU1</th>\n",
       "      <th>41N043</th>\n",
       "      <th>41R001</th>\n",
       "      <th>41R002</th>\n",
       "      <th>41R012</th>\n",
       "      <th>41WOL1</th>\n",
       "    </tr>\n",
       "    <tr>\n",
       "      <th>start</th>\n",
       "      <th></th>\n",
       "      <th></th>\n",
       "      <th></th>\n",
       "      <th></th>\n",
       "      <th></th>\n",
       "      <th></th>\n",
       "      <th></th>\n",
       "      <th></th>\n",
       "      <th></th>\n",
       "      <th></th>\n",
       "      <th></th>\n",
       "    </tr>\n",
       "  </thead>\n",
       "  <tbody>\n",
       "    <tr>\n",
       "      <th>2019-01-22 05:00:00+00:00</th>\n",
       "      <td>44.0</td>\n",
       "      <td>NaN</td>\n",
       "      <td>NaN</td>\n",
       "      <td>48.0</td>\n",
       "      <td>31.0</td>\n",
       "      <td>35.0</td>\n",
       "      <td>47.0</td>\n",
       "      <td>28.5</td>\n",
       "      <td>32.0</td>\n",
       "      <td>11.5</td>\n",
       "      <td>24.0</td>\n",
       "    </tr>\n",
       "    <tr>\n",
       "      <th>2019-07-31 11:00:00+00:00</th>\n",
       "      <td>29.0</td>\n",
       "      <td>10.0</td>\n",
       "      <td>NaN</td>\n",
       "      <td>NaN</td>\n",
       "      <td>0.0</td>\n",
       "      <td>10.5</td>\n",
       "      <td>12.5</td>\n",
       "      <td>9.5</td>\n",
       "      <td>14.0</td>\n",
       "      <td>5.0</td>\n",
       "      <td>5.0</td>\n",
       "    </tr>\n",
       "    <tr>\n",
       "      <th>2019-12-08 10:00:00+00:00</th>\n",
       "      <td>30.0</td>\n",
       "      <td>13.0</td>\n",
       "      <td>7.0</td>\n",
       "      <td>23.0</td>\n",
       "      <td>2.0</td>\n",
       "      <td>7.0</td>\n",
       "      <td>15.5</td>\n",
       "      <td>13.5</td>\n",
       "      <td>17.0</td>\n",
       "      <td>6.5</td>\n",
       "      <td>9.0</td>\n",
       "    </tr>\n",
       "    <tr>\n",
       "      <th>2019-09-05 16:00:00+00:00</th>\n",
       "      <td>58.5</td>\n",
       "      <td>12.0</td>\n",
       "      <td>NaN</td>\n",
       "      <td>NaN</td>\n",
       "      <td>8.0</td>\n",
       "      <td>10.0</td>\n",
       "      <td>7.5</td>\n",
       "      <td>30.5</td>\n",
       "      <td>26.5</td>\n",
       "      <td>8.5</td>\n",
       "      <td>19.0</td>\n",
       "    </tr>\n",
       "    <tr>\n",
       "      <th>2019-01-15 20:00:00+00:00</th>\n",
       "      <td>44.0</td>\n",
       "      <td>26.5</td>\n",
       "      <td>NaN</td>\n",
       "      <td>35.5</td>\n",
       "      <td>7.5</td>\n",
       "      <td>NaN</td>\n",
       "      <td>21.5</td>\n",
       "      <td>18.5</td>\n",
       "      <td>24.5</td>\n",
       "      <td>12.0</td>\n",
       "      <td>19.0</td>\n",
       "    </tr>\n",
       "  </tbody>\n",
       "</table>\n",
       "</div>"
      ],
      "text/plain": [
       "sitekey                    41B001  41B004  41B006  41B008  41B011  41MEU1  \\\n",
       "start                                                                       \n",
       "2019-01-22 05:00:00+00:00    44.0     NaN     NaN    48.0    31.0    35.0   \n",
       "2019-07-31 11:00:00+00:00    29.0    10.0     NaN     NaN     0.0    10.5   \n",
       "2019-12-08 10:00:00+00:00    30.0    13.0     7.0    23.0     2.0     7.0   \n",
       "2019-09-05 16:00:00+00:00    58.5    12.0     NaN     NaN     8.0    10.0   \n",
       "2019-01-15 20:00:00+00:00    44.0    26.5     NaN    35.5     7.5     NaN   \n",
       "\n",
       "sitekey                    41N043  41R001  41R002  41R012  41WOL1  \n",
       "start                                                              \n",
       "2019-01-22 05:00:00+00:00    47.0    28.5    32.0    11.5    24.0  \n",
       "2019-07-31 11:00:00+00:00    12.5     9.5    14.0     5.0     5.0  \n",
       "2019-12-08 10:00:00+00:00    15.5    13.5    17.0     6.5     9.0  \n",
       "2019-09-05 16:00:00+00:00     7.5    30.5    26.5     8.5    19.0  \n",
       "2019-01-15 20:00:00+00:00    21.5    18.5    24.5    12.0    19.0  "
      ]
     },
     "execution_count": 10,
     "metadata": {},
     "output_type": "execute_result"
    }
   ],
   "source": [
    "data.sample(5)"
   ]
  },
  {
   "cell_type": "code",
   "execution_count": null,
   "metadata": {
    "ExecuteTime": {
     "end_time": "2020-08-22T15:59:08.919399Z",
     "start_time": "2020-08-22T15:59:08.891142Z"
    }
   },
   "outputs": [],
   "source": []
  },
  {
   "cell_type": "code",
   "execution_count": 11,
   "metadata": {
    "ExecuteTime": {
     "end_time": "2020-08-22T20:37:13.467559Z",
     "start_time": "2020-08-22T20:37:13.460133Z"
    }
   },
   "outputs": [],
   "source": [
    "def t_test(ref, exp, **params):\n",
    "    res = stats.ttest_ind(ref, exp, equal_var=False, nan_policy='omit')\n",
    "    rep = {k: getattr(res, k) for k in res._fields}\n",
    "    rep[\"test\"] = \"T-Test\"\n",
    "    return rep"
   ]
  },
  {
   "cell_type": "code",
   "execution_count": 12,
   "metadata": {
    "ExecuteTime": {
     "end_time": "2020-08-22T20:37:13.480654Z",
     "start_time": "2020-08-22T20:37:13.473578Z"
    }
   },
   "outputs": [],
   "source": [
    "def ks_test(ref, exp, **params):\n",
    "    res = stats.ks_2samp(ref, exp, **params)\n",
    "    rep = {k: getattr(res, k) for k in res._fields}\n",
    "    rep[\"test\"] = \"KS-Test\"\n",
    "    return rep"
   ]
  },
  {
   "cell_type": "code",
   "execution_count": 13,
   "metadata": {
    "ExecuteTime": {
     "end_time": "2020-08-22T20:37:13.495656Z",
     "start_time": "2020-08-22T20:37:13.485567Z"
    }
   },
   "outputs": [],
   "source": [
    "def dispatch(ref, exp, callback, mode='product', **params):\n",
    "    if mode == 'product':\n",
    "        for x, y in itertools.product(ref, exp):\n",
    "            res = callback(ref[x], exp[y], **params)\n",
    "            res.update({\n",
    "                'ref_key': x, 'exp_key': y,\n",
    "                #'ref_count': ref[x].count(), 'exp_count': exp[y].count(),\n",
    "                #'ref_mean': ref[x].mean(), 'exp_mean': exp[y].mean(),\n",
    "                #'ref_std': ref[x].std(), 'exp_std': exp[y].std()\n",
    "            })\n",
    "            yield res"
   ]
  },
  {
   "cell_type": "code",
   "execution_count": 14,
   "metadata": {
    "ExecuteTime": {
     "end_time": "2020-08-22T20:37:13.508821Z",
     "start_time": "2020-08-22T20:37:13.501309Z"
    }
   },
   "outputs": [],
   "source": [
    "def apply_test(ref, exp, test_func=t_test, mode='product', **params):\n",
    "    return pd.DataFrame([r for r in dispatch(ref, exp, callback=test_func, mode=mode, **params)])"
   ]
  },
  {
   "cell_type": "code",
   "execution_count": 15,
   "metadata": {
    "ExecuteTime": {
     "end_time": "2020-08-22T20:37:13.527602Z",
     "start_time": "2020-08-22T20:37:13.512898Z"
    }
   },
   "outputs": [],
   "source": [
    "ref = data.loc[:,['41R002', '41R012']]\n",
    "exp = data.loc[t2:t1,:]"
   ]
  },
  {
   "cell_type": "code",
   "execution_count": 16,
   "metadata": {
    "ExecuteTime": {
     "end_time": "2020-08-22T20:37:18.324272Z",
     "start_time": "2020-08-22T20:37:13.534734Z"
    }
   },
   "outputs": [],
   "source": [
    "t = apply_test(ref, exp, test_func=t_test)\n",
    "ks = apply_test(ref, exp, test_func=ks_test)"
   ]
  },
  {
   "cell_type": "code",
   "execution_count": 17,
   "metadata": {
    "ExecuteTime": {
     "end_time": "2020-08-22T20:37:18.342987Z",
     "start_time": "2020-08-22T20:37:18.333794Z"
    }
   },
   "outputs": [],
   "source": [
    "test = pd.concat([t, ks])"
   ]
  },
  {
   "cell_type": "code",
   "execution_count": 18,
   "metadata": {
    "ExecuteTime": {
     "end_time": "2020-08-22T20:37:18.374887Z",
     "start_time": "2020-08-22T20:37:18.350731Z"
    }
   },
   "outputs": [],
   "source": [
    "s = test.pivot_table(index='exp_key', columns=['test', 'ref_key'], values=[\"pvalue\", \"statistic\"])"
   ]
  },
  {
   "cell_type": "code",
   "execution_count": 19,
   "metadata": {
    "ExecuteTime": {
     "end_time": "2020-08-22T20:37:18.394933Z",
     "start_time": "2020-08-22T20:37:18.384917Z"
    }
   },
   "outputs": [],
   "source": [
    "s = s.reorder_levels([2,1,0], axis=1).sort_index(axis=1)"
   ]
  },
  {
   "cell_type": "code",
   "execution_count": 20,
   "metadata": {
    "ExecuteTime": {
     "end_time": "2020-08-22T20:37:18.432993Z",
     "start_time": "2020-08-22T20:37:18.403482Z"
    }
   },
   "outputs": [
    {
     "data": {
      "text/html": [
       "<div>\n",
       "<style scoped>\n",
       "    .dataframe tbody tr th:only-of-type {\n",
       "        vertical-align: middle;\n",
       "    }\n",
       "\n",
       "    .dataframe tbody tr th {\n",
       "        vertical-align: top;\n",
       "    }\n",
       "\n",
       "    .dataframe thead tr th {\n",
       "        text-align: left;\n",
       "    }\n",
       "\n",
       "    .dataframe thead tr:last-of-type th {\n",
       "        text-align: right;\n",
       "    }\n",
       "</style>\n",
       "<table border=\"1\" class=\"dataframe\">\n",
       "  <thead>\n",
       "    <tr>\n",
       "      <th>ref_key</th>\n",
       "      <th colspan=\"4\" halign=\"left\">41R002</th>\n",
       "      <th colspan=\"4\" halign=\"left\">41R012</th>\n",
       "    </tr>\n",
       "    <tr>\n",
       "      <th>test</th>\n",
       "      <th colspan=\"2\" halign=\"left\">KS-Test</th>\n",
       "      <th colspan=\"2\" halign=\"left\">T-Test</th>\n",
       "      <th colspan=\"2\" halign=\"left\">KS-Test</th>\n",
       "      <th colspan=\"2\" halign=\"left\">T-Test</th>\n",
       "    </tr>\n",
       "    <tr>\n",
       "      <th></th>\n",
       "      <th>pvalue</th>\n",
       "      <th>statistic</th>\n",
       "      <th>pvalue</th>\n",
       "      <th>statistic</th>\n",
       "      <th>pvalue</th>\n",
       "      <th>statistic</th>\n",
       "      <th>pvalue</th>\n",
       "      <th>statistic</th>\n",
       "    </tr>\n",
       "    <tr>\n",
       "      <th>exp_key</th>\n",
       "      <th></th>\n",
       "      <th></th>\n",
       "      <th></th>\n",
       "      <th></th>\n",
       "      <th></th>\n",
       "      <th></th>\n",
       "      <th></th>\n",
       "      <th></th>\n",
       "    </tr>\n",
       "  </thead>\n",
       "  <tbody>\n",
       "    <tr>\n",
       "      <th>41B001</th>\n",
       "      <td>1.0</td>\n",
       "      <td>0.297176</td>\n",
       "      <td>1.850102e-185</td>\n",
       "      <td>-30.857060</td>\n",
       "      <td>0.000000e+00</td>\n",
       "      <td>0.651889</td>\n",
       "      <td>0.000000e+00</td>\n",
       "      <td>-76.424326</td>\n",
       "    </tr>\n",
       "    <tr>\n",
       "      <th>41B004</th>\n",
       "      <td>1.0</td>\n",
       "      <td>0.062928</td>\n",
       "      <td>5.708183e-06</td>\n",
       "      <td>4.543881</td>\n",
       "      <td>2.700991e-272</td>\n",
       "      <td>0.421289</td>\n",
       "      <td>6.280976e-271</td>\n",
       "      <td>-39.524806</td>\n",
       "    </tr>\n",
       "    <tr>\n",
       "      <th>41B006</th>\n",
       "      <td>1.0</td>\n",
       "      <td>0.219370</td>\n",
       "      <td>3.157105e-119</td>\n",
       "      <td>24.070985</td>\n",
       "      <td>1.000000e+00</td>\n",
       "      <td>0.244790</td>\n",
       "      <td>1.184674e-98</td>\n",
       "      <td>-21.932094</td>\n",
       "    </tr>\n",
       "    <tr>\n",
       "      <th>41B008</th>\n",
       "      <td>1.0</td>\n",
       "      <td>0.258664</td>\n",
       "      <td>3.499832e-116</td>\n",
       "      <td>-23.870924</td>\n",
       "      <td>0.000000e+00</td>\n",
       "      <td>0.602412</td>\n",
       "      <td>0.000000e+00</td>\n",
       "      <td>-65.671792</td>\n",
       "    </tr>\n",
       "    <tr>\n",
       "      <th>41B011</th>\n",
       "      <td>1.0</td>\n",
       "      <td>0.346192</td>\n",
       "      <td>4.077110e-227</td>\n",
       "      <td>34.512547</td>\n",
       "      <td>1.000000e+00</td>\n",
       "      <td>0.119164</td>\n",
       "      <td>1.112698e-20</td>\n",
       "      <td>-9.396097</td>\n",
       "    </tr>\n",
       "    <tr>\n",
       "      <th>41MEU1</th>\n",
       "      <td>1.0</td>\n",
       "      <td>0.182582</td>\n",
       "      <td>1.302347e-80</td>\n",
       "      <td>19.398188</td>\n",
       "      <td>1.000000e+00</td>\n",
       "      <td>0.350761</td>\n",
       "      <td>2.335742e-207</td>\n",
       "      <td>-33.104862</td>\n",
       "    </tr>\n",
       "    <tr>\n",
       "      <th>41N043</th>\n",
       "      <td>1.0</td>\n",
       "      <td>0.053374</td>\n",
       "      <td>2.823173e-06</td>\n",
       "      <td>-4.691089</td>\n",
       "      <td>0.000000e+00</td>\n",
       "      <td>0.466798</td>\n",
       "      <td>0.000000e+00</td>\n",
       "      <td>-46.966817</td>\n",
       "    </tr>\n",
       "    <tr>\n",
       "      <th>41R001</th>\n",
       "      <td>1.0</td>\n",
       "      <td>0.117919</td>\n",
       "      <td>1.932855e-24</td>\n",
       "      <td>10.273145</td>\n",
       "      <td>1.190893e-220</td>\n",
       "      <td>0.379170</td>\n",
       "      <td>2.424245e-233</td>\n",
       "      <td>-35.840144</td>\n",
       "    </tr>\n",
       "    <tr>\n",
       "      <th>41R002</th>\n",
       "      <td>1.0</td>\n",
       "      <td>0.054077</td>\n",
       "      <td>2.111897e-01</td>\n",
       "      <td>1.250522</td>\n",
       "      <td>0.000000e+00</td>\n",
       "      <td>0.468391</td>\n",
       "      <td>0.000000e+00</td>\n",
       "      <td>-44.955180</td>\n",
       "    </tr>\n",
       "    <tr>\n",
       "      <th>41R012</th>\n",
       "      <td>0.0</td>\n",
       "      <td>0.467471</td>\n",
       "      <td>0.000000e+00</td>\n",
       "      <td>56.073081</td>\n",
       "      <td>1.000000e+00</td>\n",
       "      <td>0.056212</td>\n",
       "      <td>1.898931e-02</td>\n",
       "      <td>2.346787</td>\n",
       "    </tr>\n",
       "    <tr>\n",
       "      <th>41WOL1</th>\n",
       "      <td>1.0</td>\n",
       "      <td>0.121101</td>\n",
       "      <td>6.963416e-40</td>\n",
       "      <td>13.385058</td>\n",
       "      <td>1.000000e+00</td>\n",
       "      <td>0.327693</td>\n",
       "      <td>1.251230e-170</td>\n",
       "      <td>-29.942836</td>\n",
       "    </tr>\n",
       "  </tbody>\n",
       "</table>\n",
       "</div>"
      ],
      "text/plain": [
       "ref_key  41R002                                             41R012            \\\n",
       "test    KS-Test                   T-Test                   KS-Test             \n",
       "         pvalue statistic         pvalue  statistic         pvalue statistic   \n",
       "exp_key                                                                        \n",
       "41B001      1.0  0.297176  1.850102e-185 -30.857060   0.000000e+00  0.651889   \n",
       "41B004      1.0  0.062928   5.708183e-06   4.543881  2.700991e-272  0.421289   \n",
       "41B006      1.0  0.219370  3.157105e-119  24.070985   1.000000e+00  0.244790   \n",
       "41B008      1.0  0.258664  3.499832e-116 -23.870924   0.000000e+00  0.602412   \n",
       "41B011      1.0  0.346192  4.077110e-227  34.512547   1.000000e+00  0.119164   \n",
       "41MEU1      1.0  0.182582   1.302347e-80  19.398188   1.000000e+00  0.350761   \n",
       "41N043      1.0  0.053374   2.823173e-06  -4.691089   0.000000e+00  0.466798   \n",
       "41R001      1.0  0.117919   1.932855e-24  10.273145  1.190893e-220  0.379170   \n",
       "41R002      1.0  0.054077   2.111897e-01   1.250522   0.000000e+00  0.468391   \n",
       "41R012      0.0  0.467471   0.000000e+00  56.073081   1.000000e+00  0.056212   \n",
       "41WOL1      1.0  0.121101   6.963416e-40  13.385058   1.000000e+00  0.327693   \n",
       "\n",
       "ref_key                            \n",
       "test            T-Test             \n",
       "                pvalue  statistic  \n",
       "exp_key                            \n",
       "41B001    0.000000e+00 -76.424326  \n",
       "41B004   6.280976e-271 -39.524806  \n",
       "41B006    1.184674e-98 -21.932094  \n",
       "41B008    0.000000e+00 -65.671792  \n",
       "41B011    1.112698e-20  -9.396097  \n",
       "41MEU1   2.335742e-207 -33.104862  \n",
       "41N043    0.000000e+00 -46.966817  \n",
       "41R001   2.424245e-233 -35.840144  \n",
       "41R002    0.000000e+00 -44.955180  \n",
       "41R012    1.898931e-02   2.346787  \n",
       "41WOL1   1.251230e-170 -29.942836  "
      ]
     },
     "execution_count": 20,
     "metadata": {},
     "output_type": "execute_result"
    }
   ],
   "source": [
    "s"
   ]
  },
  {
   "cell_type": "code",
   "execution_count": null,
   "metadata": {},
   "outputs": [],
   "source": []
  }
 ],
 "metadata": {
  "hide_input": false,
  "kernelspec": {
   "display_name": "Python 3",
   "language": "python",
   "name": "python3"
  },
  "language_info": {
   "codemirror_mode": {
    "name": "ipython",
    "version": 3
   },
   "file_extension": ".py",
   "mimetype": "text/x-python",
   "name": "python",
   "nbconvert_exporter": "python",
   "pygments_lexer": "ipython3",
   "version": "3.6.9"
  },
  "toc": {
   "base_numbering": 1,
   "nav_menu": {},
   "number_sections": true,
   "sideBar": true,
   "skip_h1_title": false,
   "title_cell": "Table of Contents",
   "title_sidebar": "Contents",
   "toc_cell": false,
   "toc_position": {},
   "toc_section_display": true,
   "toc_window_display": false
  },
  "varInspector": {
   "cols": {
    "lenName": 16,
    "lenType": 16,
    "lenVar": 40
   },
   "kernels_config": {
    "python": {
     "delete_cmd_postfix": "",
     "delete_cmd_prefix": "del ",
     "library": "var_list.py",
     "varRefreshCmd": "print(var_dic_list())"
    },
    "r": {
     "delete_cmd_postfix": ") ",
     "delete_cmd_prefix": "rm(",
     "library": "var_list.r",
     "varRefreshCmd": "cat(var_dic_list()) "
    }
   },
   "types_to_exclude": [
    "module",
    "function",
    "builtin_function_or_method",
    "instance",
    "_Feature"
   ],
   "window_display": false
  }
 },
 "nbformat": 4,
 "nbformat_minor": 4
}
