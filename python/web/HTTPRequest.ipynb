{
 "cells": [
  {
   "cell_type": "markdown",
   "metadata": {},
   "source": [
    "# HTTP Request\n",
    "\n",
    "This notebook presents method for fetching resource over Internet using PSL and Third Party Packages."
   ]
  },
  {
   "cell_type": "code",
   "execution_count": 1,
   "metadata": {},
   "outputs": [],
   "source": [
    "import json\n",
    "import hashlib\n",
    "import base64"
   ]
  },
  {
   "cell_type": "markdown",
   "metadata": {},
   "source": [
    "## Trial Resource\n",
    "\n",
    "We will use the [Brussels Air Quality API][1] `echo` service for test purpose, bellow the URI of the resource:\n",
    "\n",
    "[1]: https://airqualitydata.environnement.brussels/docs/"
   ]
  },
  {
   "cell_type": "code",
   "execution_count": 2,
   "metadata": {},
   "outputs": [],
   "source": [
    "uri = 'https://airqualitydata.environnement.brussels/echo?headers&request'"
   ]
  },
  {
   "cell_type": "markdown",
   "metadata": {},
   "source": [
    "This link returns JSON file on client requests."
   ]
  },
  {
   "cell_type": "markdown",
   "metadata": {},
   "source": [
    "## PSL `urllib`\n",
    "\n",
    "Fetching resources over internet is built-in Python [2.7][1] and [3.x][2], everything lies in the `urllib` package. But there had a big refactoring between those versions. Mainly, *namespaces*, *objects* and *functionnalities* are different.\n",
    "\n",
    "We present here [`urllib`][2] running with Python 3.5, importing the `request` namespace is enough to make a [MCVE][3]:\n",
    "\n",
    "[1]: https://docs.python.org/2/library/urllib.html\n",
    "[2]: https://docs.python.org/3/library/urllib.html\n",
    "[3]: https://stackoverflow.com/help/mcve"
   ]
  },
  {
   "cell_type": "code",
   "execution_count": 17,
   "metadata": {},
   "outputs": [],
   "source": [
    "from urllib import request, parse"
   ]
  },
  {
   "cell_type": "markdown",
   "metadata": {},
   "source": [
    "### Make a simple `GET` Request\n",
    "\n",
    "Create a request object, passing the URL (by default we use the `GET` method)"
   ]
  },
  {
   "cell_type": "code",
   "execution_count": 4,
   "metadata": {},
   "outputs": [],
   "source": [
    "req = request.Request(url=uri)"
   ]
  },
  {
   "cell_type": "markdown",
   "metadata": {},
   "source": [
    "We can add headers to our request, if needed:"
   ]
  },
  {
   "cell_type": "code",
   "execution_count": 5,
   "metadata": {},
   "outputs": [],
   "source": [
    "req.add_header('User-Agent', 'awesome fetcher')"
   ]
  },
  {
   "cell_type": "markdown",
   "metadata": {},
   "source": [
    "### Fecth the Answer"
   ]
  },
  {
   "cell_type": "markdown",
   "metadata": {},
   "source": [
    "We use [`urlopen`][1] method to actually fetch the resource. This method also works with context manager:\n",
    "\n",
    "[1]: https://docs.python.org/3/library/urllib.request.html#urllib.request.urlopen"
   ]
  },
  {
   "cell_type": "code",
   "execution_count": 6,
   "metadata": {},
   "outputs": [],
   "source": [
    "with request.urlopen(req) as ans:\n",
    "    raw = ans.read()"
   ]
  },
  {
   "cell_type": "markdown",
   "metadata": {},
   "source": [
    "All information exchanged over internet are `bytes` not `str`, so we have the need to decode using the proper charset (by default we will assume `utf-8`):"
   ]
  },
  {
   "cell_type": "code",
   "execution_count": 7,
   "metadata": {},
   "outputs": [
    {
     "data": {
      "text/plain": [
       "b'{\"arguments\":{\"headers\":\"\",\"request\":\"\"},\"headers\":{\"accept-encoding\":\"identity\",\"connection\":\"close\",\"host\":\"airqualitydata.environnement.brussels\",\"user-agent\":\"awesome fetcher\",\"x-forwarded-for\":\"10.0.1.4\",\"x-real-ip\":\"10.0.1.4\"},\"message\":\"Echo\"}\\n'"
      ]
     },
     "execution_count": 7,
     "metadata": {},
     "output_type": "execute_result"
    }
   ],
   "source": [
    "raw"
   ]
  },
  {
   "cell_type": "code",
   "execution_count": 8,
   "metadata": {},
   "outputs": [
    {
     "data": {
      "text/plain": [
       "bytes"
      ]
     },
     "execution_count": 8,
     "metadata": {},
     "output_type": "execute_result"
    }
   ],
   "source": [
    "type(raw)"
   ]
  },
  {
   "cell_type": "markdown",
   "metadata": {},
   "source": [
    "### Process the Answer"
   ]
  },
  {
   "cell_type": "markdown",
   "metadata": {},
   "source": [
    "#### Status Code\n",
    "\n",
    "When request has been processed, we can check out the status of the answer:"
   ]
  },
  {
   "cell_type": "code",
   "execution_count": 9,
   "metadata": {},
   "outputs": [
    {
     "data": {
      "text/plain": [
       "200"
      ]
     },
     "execution_count": 9,
     "metadata": {},
     "output_type": "execute_result"
    }
   ],
   "source": [
    "ans.status"
   ]
  },
  {
   "cell_type": "markdown",
   "metadata": {},
   "source": [
    "If we get a `2xx` code (see [list][1]), the request succeed and there might have a resource to parse.\n",
    "\n",
    "#### Headers \n",
    "We can check answer headers to learn more about the resource we just got:\n",
    "\n",
    "[1]: https://en.wikipedia.org/wiki/List_of_HTTP_status_codes"
   ]
  },
  {
   "cell_type": "code",
   "execution_count": 10,
   "metadata": {},
   "outputs": [
    {
     "data": {
      "text/plain": [
       "<http.client.HTTPMessage at 0x7f6428035358>"
      ]
     },
     "execution_count": 10,
     "metadata": {},
     "output_type": "execute_result"
    }
   ],
   "source": [
    "ans.headers"
   ]
  },
  {
   "cell_type": "markdown",
   "metadata": {},
   "source": [
    "Answer Headers are collection of key/value pairs, therefore we can natively create a dictionary from the object:"
   ]
  },
  {
   "cell_type": "code",
   "execution_count": 11,
   "metadata": {},
   "outputs": [
    {
     "data": {
      "text/plain": [
       "{'Access-Control-Allow-Headers': 'Content-Type',\n",
       " 'Access-Control-Allow-Methods': 'GET, POST',\n",
       " 'Access-Control-Allow-Origin': '*',\n",
       " 'Cache-Control': 'no-cache',\n",
       " 'Connection': 'close',\n",
       " 'Content-Length': '251',\n",
       " 'Content-MD5': 'Aws7Ueijc0X115cltPdhhQ==',\n",
       " 'Content-SHA1': 'tJEMnD5Whq+GSWkJxpPWTnyoWgw=',\n",
       " 'Content-SHA256': 'cHgoo1blMFJokRcAswGF+sn+BipBVpv2vZ7Fy1pelmQ=',\n",
       " 'Content-Type': 'application/json',\n",
       " 'Content-UUID4': '04249e0ed23a4752ae845490e268918c',\n",
       " 'Date': 'Sun, 04 Feb 2018 18:24:30 GMT',\n",
       " 'ETag': '\"030b3b51e8a37345f5d79725b4f76185\"',\n",
       " 'Expires': 'Sun, 04 Feb 2018 18:32:27 GMT',\n",
       " 'Last-Modified': 'Sun, 04 Feb 2018 18:32:27 GMT',\n",
       " 'Server': 'nginx/1.8.1'}"
      ]
     },
     "execution_count": 11,
     "metadata": {},
     "output_type": "execute_result"
    }
   ],
   "source": [
    "headers = dict(ans.headers)\n",
    "headers"
   ]
  },
  {
   "cell_type": "markdown",
   "metadata": {},
   "source": [
    "#### Check Sums\n",
    "\n",
    "We can check out if digests match (eg. `SHA-256` in `Base64` format):"
   ]
  },
  {
   "cell_type": "code",
   "execution_count": 12,
   "metadata": {},
   "outputs": [
    {
     "data": {
      "text/plain": [
       "'cHgoo1blMFJokRcAswGF+sn+BipBVpv2vZ7Fy1pelmQ='"
      ]
     },
     "execution_count": 12,
     "metadata": {},
     "output_type": "execute_result"
    }
   ],
   "source": [
    "sha256 = base64.b64encode(hashlib.sha256(raw).digest()).decode()\n",
    "sha256"
   ]
  },
  {
   "cell_type": "markdown",
   "metadata": {},
   "source": [
    "Digests match, resource is unaltered:"
   ]
  },
  {
   "cell_type": "code",
   "execution_count": 13,
   "metadata": {},
   "outputs": [
    {
     "data": {
      "text/plain": [
       "True"
      ]
     },
     "execution_count": 13,
     "metadata": {},
     "output_type": "execute_result"
    }
   ],
   "source": [
    "sha256 == headers['Content-SHA256']"
   ]
  },
  {
   "cell_type": "markdown",
   "metadata": {},
   "source": [
    "#### Parse Data \n",
    "\n",
    "We have fetched a JSON file, so we can parse the content:\n",
    "\n",
    " - First we decode `bytes` into `str`;\n",
    " - Second we interpret the `str` using JSON parser, we get a Python dict holding the resource."
   ]
  },
  {
   "cell_type": "code",
   "execution_count": 14,
   "metadata": {},
   "outputs": [
    {
     "data": {
      "text/plain": [
       "{'arguments': {'headers': '', 'request': ''},\n",
       " 'headers': {'accept-encoding': 'identity',\n",
       "  'connection': 'close',\n",
       "  'host': 'airqualitydata.environnement.brussels',\n",
       "  'user-agent': 'awesome fetcher',\n",
       "  'x-forwarded-for': '10.0.1.4',\n",
       "  'x-real-ip': '10.0.1.4'},\n",
       " 'message': 'Echo'}"
      ]
     },
     "execution_count": 14,
     "metadata": {},
     "output_type": "execute_result"
    }
   ],
   "source": [
    "data = json.loads(raw.decode())\n",
    "data"
   ]
  },
  {
   "cell_type": "markdown",
   "metadata": {},
   "source": [
    "In summary, we have:\n",
    "\n",
    " 1. Created and configured a Request object; \n",
    " - Fetched the corresponding resource over the Internet;\n",
    " - Checked out the resource integrity;\n",
    " - Decoded the received bytes and parsed them into the correct format."
   ]
  },
  {
   "cell_type": "markdown",
   "metadata": {},
   "source": [
    "### POST Request"
   ]
  },
  {
   "cell_type": "code",
   "execution_count": 15,
   "metadata": {},
   "outputs": [],
   "source": [
    "struct = {'password': '***', 'username': 'jlandercy'}"
   ]
  },
  {
   "cell_type": "code",
   "execution_count": 19,
   "metadata": {},
   "outputs": [
    {
     "data": {
      "text/plain": [
       "'password=%2A%2A%2A&username=jlandercy'"
      ]
     },
     "execution_count": 19,
     "metadata": {},
     "output_type": "execute_result"
    }
   ],
   "source": [
    "params = parse.urlencode(struct)\n",
    "params"
   ]
  },
  {
   "cell_type": "code",
   "execution_count": 21,
   "metadata": {},
   "outputs": [
    {
     "data": {
      "text/plain": [
       "b'{\"password\": \"***\", \"username\": \"jlandercy\"}'"
      ]
     },
     "execution_count": 21,
     "metadata": {},
     "output_type": "execute_result"
    }
   ],
   "source": [
    "bdata = json.dumps(struct).encode()\n",
    "bdata"
   ]
  },
  {
   "cell_type": "code",
   "execution_count": 32,
   "metadata": {},
   "outputs": [
    {
     "data": {
      "text/plain": [
       "'POST'"
      ]
     },
     "execution_count": 32,
     "metadata": {},
     "output_type": "execute_result"
    }
   ],
   "source": [
    "req = request.Request(uri, bdata)\n",
    "req.add_header('Content-Type', 'application/json')\n",
    "req.add_header('Content-Length', len(bdata))\n",
    "req.get_method()"
   ]
  },
  {
   "cell_type": "code",
   "execution_count": 33,
   "metadata": {},
   "outputs": [
    {
     "data": {
      "text/plain": [
       "{'arguments': {'headers': '', 'request': ''},\n",
       " 'headers': {'accept-encoding': 'identity',\n",
       "  'connection': 'close',\n",
       "  'content-length': '44',\n",
       "  'content-type': 'application/json',\n",
       "  'host': 'airqualitydata.environnement.brussels',\n",
       "  'user-agent': 'Python-urllib/3.5',\n",
       "  'x-forwarded-for': '10.0.1.4',\n",
       "  'x-real-ip': '10.0.1.4'},\n",
       " 'message': 'Echo',\n",
       " 'request': {'password': '***', 'username': 'jlandercy'}}"
      ]
     },
     "execution_count": 33,
     "metadata": {},
     "output_type": "execute_result"
    }
   ],
   "source": [
    "with request.urlopen(req) as rep:\n",
    "    data = json.loads((rep.read().decode()))\n",
    "data"
   ]
  },
  {
   "cell_type": "markdown",
   "metadata": {},
   "source": [
    "## Thrid Party Request\n",
    "\n",
    "http://docs.python-requests.org/en/master/"
   ]
  },
  {
   "cell_type": "code",
   "execution_count": null,
   "metadata": {},
   "outputs": [],
   "source": []
  },
  {
   "cell_type": "code",
   "execution_count": null,
   "metadata": {},
   "outputs": [],
   "source": []
  }
 ],
 "metadata": {
  "kernelspec": {
   "display_name": "Python 3",
   "language": "python",
   "name": "python3"
  },
  "language_info": {
   "codemirror_mode": {
    "name": "ipython",
    "version": 3
   },
   "file_extension": ".py",
   "mimetype": "text/x-python",
   "name": "python",
   "nbconvert_exporter": "python",
   "pygments_lexer": "ipython3",
   "version": "3.7.1"
  }
 },
 "nbformat": 4,
 "nbformat_minor": 2
}
